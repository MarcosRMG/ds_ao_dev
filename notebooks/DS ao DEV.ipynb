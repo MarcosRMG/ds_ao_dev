{
 "cells": [
  {
   "cell_type": "markdown",
   "id": "04cbacae",
   "metadata": {},
   "source": [
    "# Enviroment"
   ]
  },
  {
   "cell_type": "markdown",
   "id": "ad18336f",
   "metadata": {
    "ExecuteTime": {
     "end_time": "2021-10-11T14:55:37.977044Z",
     "start_time": "2021-10-11T14:55:37.975198Z"
    },
    "heading_collapsed": true
   },
   "source": [
    "## Installations"
   ]
  },
  {
   "cell_type": "code",
   "execution_count": 4,
   "id": "ab8664a5",
   "metadata": {
    "ExecuteTime": {
     "end_time": "2021-10-13T13:07:11.601203Z",
     "start_time": "2021-10-13T13:07:10.623196Z"
    },
    "hidden": true
   },
   "outputs": [
    {
     "name": "stdout",
     "output_type": "stream",
     "text": [
      "Requirement already satisfied: bs4 in /home/marcos/Documents/ds_ao_dev/env_ds_ao_dev/lib/python3.8/site-packages (0.0.1)\r\n",
      "Requirement already satisfied: beautifulsoup4 in /home/marcos/Documents/ds_ao_dev/env_ds_ao_dev/lib/python3.8/site-packages (from bs4) (4.10.0)\r\n",
      "Requirement already satisfied: soupsieve>1.2 in /home/marcos/Documents/ds_ao_dev/env_ds_ao_dev/lib/python3.8/site-packages (from beautifulsoup4->bs4) (2.2.1)\r\n"
     ]
    }
   ],
   "source": [
    "#!pip install beautifulsoup4\n",
    "#!pip install pandas\n",
    "#!pip3 install bs4"
   ]
  },
  {
   "cell_type": "markdown",
   "id": "85d84659",
   "metadata": {
    "ExecuteTime": {
     "end_time": "2021-10-11T14:51:30.814886Z",
     "start_time": "2021-10-11T14:51:30.812663Z"
    }
   },
   "source": [
    "## Imports"
   ]
  },
  {
   "cell_type": "code",
   "execution_count": 1,
   "id": "40a9663d",
   "metadata": {
    "ExecuteTime": {
     "end_time": "2021-11-17T12:26:29.843316Z",
     "start_time": "2021-11-17T12:26:29.468098Z"
    }
   },
   "outputs": [],
   "source": [
    "# Data manipulation\n",
    "import pandas as pd\n",
    "import numpy as np\n",
    "import math\n",
    "import re\n",
    "\n",
    "# Screaping\n",
    "from   bs4 import BeautifulSoup\n",
    "import requests\n",
    "\n",
    "# Time\n",
    "from datetime import datetime\n",
    "\n",
    "# Visualization\n",
    "from tabulate import tabulate"
   ]
  },
  {
   "cell_type": "markdown",
   "id": "2dcc5e3d",
   "metadata": {},
   "source": [
    "## Functions"
   ]
  },
  {
   "cell_type": "code",
   "execution_count": 22,
   "id": "1426fb4b",
   "metadata": {
    "ExecuteTime": {
     "end_time": "2021-11-05T11:37:34.739587Z",
     "start_time": "2021-11-05T11:37:34.737006Z"
    }
   },
   "outputs": [],
   "source": [
    "def clean_html(input_html):\n",
    "    '''\n",
    "    Remove spaces and \"/n\" caracters\n",
    "    \n",
    "    :param input_html: BeautifulSoup object to clean\n",
    "    \n",
    "    return New object without /n and spaces\n",
    "    '''\n",
    "    return ' '.join(input_html.split()).replace('> <', '><')"
   ]
  },
  {
   "cell_type": "markdown",
   "id": "10c7d93d",
   "metadata": {},
   "source": [
    "# Web Scraping"
   ]
  },
  {
   "cell_type": "markdown",
   "id": "25e60342",
   "metadata": {},
   "source": [
    "## Beautifull Soup"
   ]
  },
  {
   "cell_type": "markdown",
   "id": "33ccc28e",
   "metadata": {},
   "source": [
    "### Step 1\n",
    "\n",
    "Top page"
   ]
  },
  {
   "cell_type": "code",
   "execution_count": 43,
   "id": "bbc08423",
   "metadata": {
    "ExecuteTime": {
     "end_time": "2021-11-17T13:11:07.637580Z",
     "start_time": "2021-11-17T13:11:07.079296Z"
    }
   },
   "outputs": [],
   "source": [
    "# Request informations\n",
    "url = 'https://www2.hm.com/en_us/men/products/jeans.html'\n",
    "\n",
    "headers = {'User-Agent': 'Mozilla/5.0 (X11; Linux x86_64) AppleWebKit/537.36 (KHTML, like Gecko) Chrome/94.0.4606.81 Safari/537.36'}\n",
    "page = requests.get(url, headers=headers)\n",
    "\n",
    "# BeautifulSoup html page\n",
    "soup = BeautifulSoup(page.text, 'html.parser')\n",
    "\n",
    "# BeautifulSoup html products content\n",
    "products = soup.find('ul', class_=\"products-listing small\")\n",
    "product_list = products.find_all('article', class_='hm-product-item')\n",
    "\n",
    "# product id\n",
    "product_id = [p.get('data-articlecode') for p in product_list]\n",
    "\n",
    "# product category\n",
    "product_category = [p.get('data-category') for p in product_list]\n",
    "\n",
    "# product names\n",
    "products_names = products.find_all('a', class_ = 'link')\n",
    "products_names = [p.get_text() for p in products_names]\n",
    "\n",
    "# product price\n",
    "product_price = products.find_all('span', class_ = 'price regular')\n",
    "product_price = [p.get_text() for p in product_price]\n",
    "\n",
    "# DataFrame with scrapy data\n",
    "data = pd.DataFrame([product_id, products_names, product_category, product_price]).T\n",
    "data.columns = ['product_id', 'name', 'category', 'price']\n",
    "data['scrapy_datetime'] = datetime.now().strftime('%Y-%m-%d %H-%M-%S')"
   ]
  },
  {
   "cell_type": "code",
   "execution_count": 45,
   "id": "3815663d",
   "metadata": {
    "ExecuteTime": {
     "end_time": "2021-11-17T13:12:57.090847Z",
     "start_time": "2021-11-17T13:12:57.085734Z"
    }
   },
   "outputs": [
    {
     "data": {
      "text/html": [
       "<div>\n",
       "<style scoped>\n",
       "    .dataframe tbody tr th:only-of-type {\n",
       "        vertical-align: middle;\n",
       "    }\n",
       "\n",
       "    .dataframe tbody tr th {\n",
       "        vertical-align: top;\n",
       "    }\n",
       "\n",
       "    .dataframe thead th {\n",
       "        text-align: right;\n",
       "    }\n",
       "</style>\n",
       "<table border=\"1\" class=\"dataframe\">\n",
       "  <thead>\n",
       "    <tr style=\"text-align: right;\">\n",
       "      <th></th>\n",
       "      <th>product_id</th>\n",
       "      <th>name</th>\n",
       "      <th>category</th>\n",
       "      <th>price</th>\n",
       "      <th>scrapy_datetime</th>\n",
       "    </tr>\n",
       "  </thead>\n",
       "  <tbody>\n",
       "    <tr>\n",
       "      <th>0</th>\n",
       "      <td>0985197001</td>\n",
       "      <td>Slim Jeans</td>\n",
       "      <td>men_jeans_slim</td>\n",
       "      <td>$ 19.99</td>\n",
       "      <td>2021-11-17 10-11-07</td>\n",
       "    </tr>\n",
       "    <tr>\n",
       "      <th>1</th>\n",
       "      <td>0985159001</td>\n",
       "      <td>Skinny Jeans</td>\n",
       "      <td>men_jeans_skinny</td>\n",
       "      <td>$ 19.99</td>\n",
       "      <td>2021-11-17 10-11-07</td>\n",
       "    </tr>\n",
       "    <tr>\n",
       "      <th>2</th>\n",
       "      <td>0690449051</td>\n",
       "      <td>Skinny Jeans</td>\n",
       "      <td>men_jeans_ripped</td>\n",
       "      <td>$ 39.99</td>\n",
       "      <td>2021-11-17 10-11-07</td>\n",
       "    </tr>\n",
       "    <tr>\n",
       "      <th>3</th>\n",
       "      <td>0690449022</td>\n",
       "      <td>Skinny Jeans</td>\n",
       "      <td>men_jeans_ripped</td>\n",
       "      <td>$ 39.99</td>\n",
       "      <td>2021-11-17 10-11-07</td>\n",
       "    </tr>\n",
       "    <tr>\n",
       "      <th>4</th>\n",
       "      <td>0690449043</td>\n",
       "      <td>Skinny Jeans</td>\n",
       "      <td>men_jeans_ripped</td>\n",
       "      <td>$ 39.99</td>\n",
       "      <td>2021-11-17 10-11-07</td>\n",
       "    </tr>\n",
       "  </tbody>\n",
       "</table>\n",
       "</div>"
      ],
      "text/plain": [
       "   product_id          name          category    price      scrapy_datetime\n",
       "0  0985197001    Slim Jeans    men_jeans_slim  $ 19.99  2021-11-17 10-11-07\n",
       "1  0985159001  Skinny Jeans  men_jeans_skinny  $ 19.99  2021-11-17 10-11-07\n",
       "2  0690449051  Skinny Jeans  men_jeans_ripped  $ 39.99  2021-11-17 10-11-07\n",
       "3  0690449022  Skinny Jeans  men_jeans_ripped  $ 39.99  2021-11-17 10-11-07\n",
       "4  0690449043  Skinny Jeans  men_jeans_ripped  $ 39.99  2021-11-17 10-11-07"
      ]
     },
     "execution_count": 45,
     "metadata": {},
     "output_type": "execute_result"
    }
   ],
   "source": [
    "data.head()"
   ]
  },
  {
   "cell_type": "code",
   "execution_count": 11,
   "id": "46422562",
   "metadata": {
    "ExecuteTime": {
     "end_time": "2021-10-12T12:51:50.725408Z",
     "start_time": "2021-10-12T12:51:50.723030Z"
    }
   },
   "outputs": [],
   "source": [
    "# product color"
   ]
  },
  {
   "cell_type": "code",
   "execution_count": 12,
   "id": "6dc5c534",
   "metadata": {
    "ExecuteTime": {
     "end_time": "2021-10-12T12:51:56.281588Z",
     "start_time": "2021-10-12T12:51:56.279641Z"
    }
   },
   "outputs": [],
   "source": [
    "# product composition"
   ]
  },
  {
   "cell_type": "markdown",
   "id": "82abdcf8",
   "metadata": {
    "ExecuteTime": {
     "end_time": "2021-10-12T13:04:49.696814Z",
     "start_time": "2021-10-12T13:04:49.690981Z"
    }
   },
   "source": [
    "### Step 2\n",
    "\n",
    "Paginations"
   ]
  },
  {
   "cell_type": "code",
   "execution_count": 16,
   "id": "32424837",
   "metadata": {
    "ExecuteTime": {
     "end_time": "2021-11-05T11:35:37.512177Z",
     "start_time": "2021-11-05T11:35:37.172403Z"
    }
   },
   "outputs": [],
   "source": [
    "# Request informations\n",
    "url = 'https://www2.hm.com/en_us/men/products/jeans.html'\n",
    "\n",
    "headers = {'User-Agent': 'Mozilla/5.0 (X11; Linux x86_64) AppleWebKit/537.36 (KHTML, like Gecko) Chrome/94.0.4606.81 Safari/537.36'}\n",
    "page = requests.get(url, headers=headers)\n",
    "\n",
    "# BeautifulSoup html page\n",
    "soup = BeautifulSoup(page.text, 'html.parser')"
   ]
  },
  {
   "cell_type": "code",
   "execution_count": 5,
   "id": "bb204a24",
   "metadata": {
    "ExecuteTime": {
     "end_time": "2021-10-13T13:31:02.638454Z",
     "start_time": "2021-10-13T13:31:02.627138Z"
    }
   },
   "outputs": [
    {
     "data": {
      "text/plain": [
       "87"
      ]
     },
     "execution_count": 5,
     "metadata": {},
     "output_type": "execute_result"
    }
   ],
   "source": [
    "total_items = int(soup.find('h2', class_ = 'load-more-heading').get('data-total'))\n",
    "total_items"
   ]
  },
  {
   "cell_type": "code",
   "execution_count": 6,
   "id": "988a6bde",
   "metadata": {
    "ExecuteTime": {
     "end_time": "2021-10-13T13:31:02.780585Z",
     "start_time": "2021-10-13T13:31:02.774598Z"
    }
   },
   "outputs": [
    {
     "data": {
      "text/plain": [
       "3"
      ]
     },
     "execution_count": 6,
     "metadata": {},
     "output_type": "execute_result"
    }
   ],
   "source": [
    "# How to round to upper number\n",
    "page_number = math.ceil(total_items / 36)\n",
    "page_number"
   ]
  },
  {
   "cell_type": "code",
   "execution_count": 7,
   "id": "d2ab8f46",
   "metadata": {
    "ExecuteTime": {
     "end_time": "2021-10-13T13:49:17.495382Z",
     "start_time": "2021-10-13T13:49:17.492760Z"
    }
   },
   "outputs": [
    {
     "data": {
      "text/plain": [
       "'https://www2.hm.com/en_us/men/products/jeans.html?page-size=108'"
      ]
     },
     "execution_count": 7,
     "metadata": {},
     "output_type": "execute_result"
    }
   ],
   "source": [
    "url_2 = url + '?page-size=' + str(page_number * 36)\n",
    "url_2"
   ]
  },
  {
   "cell_type": "markdown",
   "id": "1f509c55",
   "metadata": {},
   "source": [
    "### Step 3\n",
    "\n",
    "Specific product page (subpage)"
   ]
  },
  {
   "cell_type": "markdown",
   "id": "62bd4bec",
   "metadata": {},
   "source": [
    "#### One Product"
   ]
  },
  {
   "cell_type": "code",
   "execution_count": 17,
   "id": "117a4e63",
   "metadata": {
    "ExecuteTime": {
     "end_time": "2021-11-05T11:35:46.587433Z",
     "start_time": "2021-11-05T11:35:46.179995Z"
    }
   },
   "outputs": [
    {
     "data": {
      "text/html": [
       "<div>\n",
       "<style scoped>\n",
       "    .dataframe tbody tr th:only-of-type {\n",
       "        vertical-align: middle;\n",
       "    }\n",
       "\n",
       "    .dataframe tbody tr th {\n",
       "        vertical-align: top;\n",
       "    }\n",
       "\n",
       "    .dataframe thead th {\n",
       "        text-align: right;\n",
       "    }\n",
       "</style>\n",
       "<table border=\"1\" class=\"dataframe\">\n",
       "  <thead>\n",
       "    <tr style=\"text-align: right;\">\n",
       "      <th></th>\n",
       "      <th>product_code</th>\n",
       "      <th>product_color</th>\n",
       "      <th>color_id</th>\n",
       "      <th>style_id</th>\n",
       "    </tr>\n",
       "  </thead>\n",
       "  <tbody>\n",
       "    <tr>\n",
       "      <th>0</th>\n",
       "      <td>0690449001</td>\n",
       "      <td>Light denim blue/trashed</td>\n",
       "      <td>001</td>\n",
       "      <td>0690449</td>\n",
       "    </tr>\n",
       "    <tr>\n",
       "      <th>1</th>\n",
       "      <td>0690449002</td>\n",
       "      <td>Denim blue</td>\n",
       "      <td>002</td>\n",
       "      <td>0690449</td>\n",
       "    </tr>\n",
       "    <tr>\n",
       "      <th>2</th>\n",
       "      <td>0690449006</td>\n",
       "      <td>Black/washed</td>\n",
       "      <td>006</td>\n",
       "      <td>0690449</td>\n",
       "    </tr>\n",
       "    <tr>\n",
       "      <th>3</th>\n",
       "      <td>0690449007</td>\n",
       "      <td>Light denim blue</td>\n",
       "      <td>007</td>\n",
       "      <td>0690449</td>\n",
       "    </tr>\n",
       "    <tr>\n",
       "      <th>4</th>\n",
       "      <td>0690449009</td>\n",
       "      <td>Black washed out</td>\n",
       "      <td>009</td>\n",
       "      <td>0690449</td>\n",
       "    </tr>\n",
       "  </tbody>\n",
       "</table>\n",
       "</div>"
      ],
      "text/plain": [
       "  product_code             product_color color_id style_id\n",
       "0   0690449001  Light denim blue/trashed      001  0690449\n",
       "1   0690449002                Denim blue      002  0690449\n",
       "2   0690449006              Black/washed      006  0690449\n",
       "3   0690449007          Light denim blue      007  0690449\n",
       "4   0690449009          Black washed out      009  0690449"
      ]
     },
     "execution_count": 17,
     "metadata": {},
     "output_type": "execute_result"
    }
   ],
   "source": [
    "#------------------------------API Request----------------------------\n",
    "url = 'https://www2.hm.com/en_us/productpage.0690449051.html'\n",
    "header = {'User-Agent': 'Mozilla/5.0 (X11; Linux x86_64) AppleWebKit/537.36 (KHTML, like Gecko) Chrome/94.0.4606.81 Safari/537.36'}\n",
    "page = requests.get(url, headers=header).text\n",
    "\n",
    "#------------------------------BeautifulSoup Object--------------------\n",
    "soup = BeautifulSoup(page)\n",
    "\n",
    "#------------------------------Product Color---------------------------\n",
    "\n",
    "product_detail = soup.find_all('a', class_ = 'filter-option miniature')\n",
    "product_color = [p.get('data-color') for p in product_detail]\n",
    "product_code = [p.get('data-articlecode') for p in product_detail]\n",
    "\n",
    "df_color = pd.DataFrame({'product_code': product_code, 'product_color': product_color})\n",
    "df_color['color_id'] = df_color['product_code'].apply(lambda x: x[-3:])\n",
    "df_color['style_id'] = df_color['product_code'].apply(lambda x: x[:-3])\n",
    "df_color.head()"
   ]
  },
  {
   "cell_type": "code",
   "execution_count": 18,
   "id": "62ca45d0",
   "metadata": {
    "ExecuteTime": {
     "end_time": "2021-11-05T11:35:52.827565Z",
     "start_time": "2021-11-05T11:35:52.804685Z"
    }
   },
   "outputs": [
    {
     "data": {
      "text/html": [
       "<div>\n",
       "<style scoped>\n",
       "    .dataframe tbody tr th:only-of-type {\n",
       "        vertical-align: middle;\n",
       "    }\n",
       "\n",
       "    .dataframe tbody tr th {\n",
       "        vertical-align: top;\n",
       "    }\n",
       "\n",
       "    .dataframe thead th {\n",
       "        text-align: right;\n",
       "    }\n",
       "</style>\n",
       "<table border=\"1\" class=\"dataframe\">\n",
       "  <thead>\n",
       "    <tr style=\"text-align: right;\">\n",
       "      <th></th>\n",
       "      <th>fit</th>\n",
       "      <th>composition</th>\n",
       "      <th>product_code</th>\n",
       "      <th>style_id</th>\n",
       "      <th>color_id</th>\n",
       "    </tr>\n",
       "  </thead>\n",
       "  <tbody>\n",
       "    <tr>\n",
       "      <th>1</th>\n",
       "      <td>Skinny fit</td>\n",
       "      <td>Cotton 98%, Spandex 2%</td>\n",
       "      <td>0690449051</td>\n",
       "      <td>0690449</td>\n",
       "      <td>051</td>\n",
       "    </tr>\n",
       "  </tbody>\n",
       "</table>\n",
       "</div>"
      ],
      "text/plain": [
       "          fit             composition product_code style_id color_id\n",
       "1  Skinny fit  Cotton 98%, Spandex 2%   0690449051  0690449      051"
      ]
     },
     "execution_count": 18,
     "metadata": {},
     "output_type": "execute_result"
    }
   ],
   "source": [
    "#------------------------------Product Composition---------------------------\n",
    "product_composition = [list(filter(None, p.get_text().split('\\n'))) for p in soup.find_all('div', class_ = 'pdp-description-list-item')]\n",
    "\n",
    "df_composition = pd.DataFrame(product_composition).T\n",
    "df_composition.columns = df_composition.iloc[0]\n",
    "df_composition.drop(index=0, inplace=True)\n",
    "\n",
    "df_composition = df_composition[['Fit', 'Composition', 'Art. No.']]\n",
    "df_composition.columns = df_composition.columns.str.lower()\n",
    "df_composition.columns = ['fit', 'composition', 'product_code']\n",
    "df_composition.fillna(method='ffill', inplace=True)\n",
    "df_composition['style_id'] = df_composition['product_code'].apply(lambda x: x[:-3])\n",
    "df_composition['color_id'] = df_composition['product_code'].apply(lambda x: x[-3:])\n",
    "df_composition"
   ]
  },
  {
   "cell_type": "code",
   "execution_count": 4,
   "id": "ea21d791",
   "metadata": {
    "ExecuteTime": {
     "end_time": "2021-10-19T11:33:25.125767Z",
     "start_time": "2021-10-19T11:33:25.111772Z"
    }
   },
   "outputs": [
    {
     "data": {
      "text/html": [
       "<div>\n",
       "<style scoped>\n",
       "    .dataframe tbody tr th:only-of-type {\n",
       "        vertical-align: middle;\n",
       "    }\n",
       "\n",
       "    .dataframe tbody tr th {\n",
       "        vertical-align: top;\n",
       "    }\n",
       "\n",
       "    .dataframe thead th {\n",
       "        text-align: right;\n",
       "    }\n",
       "</style>\n",
       "<table border=\"1\" class=\"dataframe\">\n",
       "  <thead>\n",
       "    <tr style=\"text-align: right;\">\n",
       "      <th></th>\n",
       "      <th>product_code</th>\n",
       "      <th>product_color</th>\n",
       "      <th>color_id</th>\n",
       "      <th>style_id</th>\n",
       "      <th>fit</th>\n",
       "      <th>composition</th>\n",
       "    </tr>\n",
       "  </thead>\n",
       "  <tbody>\n",
       "    <tr>\n",
       "      <th>0</th>\n",
       "      <td>0690449001</td>\n",
       "      <td>Light denim blue/trashed</td>\n",
       "      <td>001</td>\n",
       "      <td>0690449</td>\n",
       "      <td>Skinny fit</td>\n",
       "      <td>Cotton 98%, Elastane 2%</td>\n",
       "    </tr>\n",
       "    <tr>\n",
       "      <th>1</th>\n",
       "      <td>0690449002</td>\n",
       "      <td>Denim blue</td>\n",
       "      <td>002</td>\n",
       "      <td>0690449</td>\n",
       "      <td>Skinny fit</td>\n",
       "      <td>Cotton 98%, Elastane 2%</td>\n",
       "    </tr>\n",
       "    <tr>\n",
       "      <th>2</th>\n",
       "      <td>0690449006</td>\n",
       "      <td>Black/washed</td>\n",
       "      <td>006</td>\n",
       "      <td>0690449</td>\n",
       "      <td>Skinny fit</td>\n",
       "      <td>Cotton 98%, Elastane 2%</td>\n",
       "    </tr>\n",
       "    <tr>\n",
       "      <th>3</th>\n",
       "      <td>0690449007</td>\n",
       "      <td>Light denim blue</td>\n",
       "      <td>007</td>\n",
       "      <td>0690449</td>\n",
       "      <td>Skinny fit</td>\n",
       "      <td>Cotton 98%, Elastane 2%</td>\n",
       "    </tr>\n",
       "    <tr>\n",
       "      <th>4</th>\n",
       "      <td>0690449009</td>\n",
       "      <td>Black washed out</td>\n",
       "      <td>009</td>\n",
       "      <td>0690449</td>\n",
       "      <td>Skinny fit</td>\n",
       "      <td>Cotton 98%, Elastane 2%</td>\n",
       "    </tr>\n",
       "    <tr>\n",
       "      <th>5</th>\n",
       "      <td>0690449011</td>\n",
       "      <td>White</td>\n",
       "      <td>011</td>\n",
       "      <td>0690449</td>\n",
       "      <td>Skinny fit</td>\n",
       "      <td>Cotton 98%, Elastane 2%</td>\n",
       "    </tr>\n",
       "    <tr>\n",
       "      <th>6</th>\n",
       "      <td>0690449013</td>\n",
       "      <td>Black/washed</td>\n",
       "      <td>013</td>\n",
       "      <td>0690449</td>\n",
       "      <td>Skinny fit</td>\n",
       "      <td>Cotton 98%, Elastane 2%</td>\n",
       "    </tr>\n",
       "    <tr>\n",
       "      <th>7</th>\n",
       "      <td>0690449021</td>\n",
       "      <td>Dark denim blue/trashed</td>\n",
       "      <td>021</td>\n",
       "      <td>0690449</td>\n",
       "      <td>Skinny fit</td>\n",
       "      <td>Cotton 98%, Elastane 2%</td>\n",
       "    </tr>\n",
       "    <tr>\n",
       "      <th>8</th>\n",
       "      <td>0690449022</td>\n",
       "      <td>Black/trashed</td>\n",
       "      <td>022</td>\n",
       "      <td>0690449</td>\n",
       "      <td>Skinny fit</td>\n",
       "      <td>Cotton 98%, Elastane 2%</td>\n",
       "    </tr>\n",
       "    <tr>\n",
       "      <th>9</th>\n",
       "      <td>0690449024</td>\n",
       "      <td>Dark blue/Trashed</td>\n",
       "      <td>024</td>\n",
       "      <td>0690449</td>\n",
       "      <td>Skinny fit</td>\n",
       "      <td>Cotton 98%, Elastane 2%</td>\n",
       "    </tr>\n",
       "    <tr>\n",
       "      <th>10</th>\n",
       "      <td>0690449028</td>\n",
       "      <td>Dark blue/washed out</td>\n",
       "      <td>028</td>\n",
       "      <td>0690449</td>\n",
       "      <td>Skinny fit</td>\n",
       "      <td>Cotton 98%, Elastane 2%</td>\n",
       "    </tr>\n",
       "    <tr>\n",
       "      <th>11</th>\n",
       "      <td>0690449035</td>\n",
       "      <td>Denim blue/trashed</td>\n",
       "      <td>035</td>\n",
       "      <td>0690449</td>\n",
       "      <td>Skinny fit</td>\n",
       "      <td>Cotton 98%, Elastane 2%</td>\n",
       "    </tr>\n",
       "    <tr>\n",
       "      <th>12</th>\n",
       "      <td>0690449036</td>\n",
       "      <td>Black</td>\n",
       "      <td>036</td>\n",
       "      <td>0690449</td>\n",
       "      <td>Skinny fit</td>\n",
       "      <td>Cotton 98%, Elastane 2%</td>\n",
       "    </tr>\n",
       "    <tr>\n",
       "      <th>13</th>\n",
       "      <td>0690449040</td>\n",
       "      <td>Denim gray</td>\n",
       "      <td>040</td>\n",
       "      <td>0690449</td>\n",
       "      <td>Skinny fit</td>\n",
       "      <td>Cotton 98%, Elastane 2%</td>\n",
       "    </tr>\n",
       "    <tr>\n",
       "      <th>14</th>\n",
       "      <td>0690449043</td>\n",
       "      <td>Light denim blue/trashed</td>\n",
       "      <td>043</td>\n",
       "      <td>0690449</td>\n",
       "      <td>Skinny fit</td>\n",
       "      <td>Cotton 98%, Elastane 2%</td>\n",
       "    </tr>\n",
       "    <tr>\n",
       "      <th>15</th>\n",
       "      <td>0690449046</td>\n",
       "      <td>Light denim gray/Trashed</td>\n",
       "      <td>046</td>\n",
       "      <td>0690449</td>\n",
       "      <td>Skinny fit</td>\n",
       "      <td>Cotton 98%, Elastane 2%</td>\n",
       "    </tr>\n",
       "  </tbody>\n",
       "</table>\n",
       "</div>"
      ],
      "text/plain": [
       "   product_code             product_color color_id style_id         fit  \\\n",
       "0    0690449001  Light denim blue/trashed      001  0690449  Skinny fit   \n",
       "1    0690449002                Denim blue      002  0690449  Skinny fit   \n",
       "2    0690449006              Black/washed      006  0690449  Skinny fit   \n",
       "3    0690449007          Light denim blue      007  0690449  Skinny fit   \n",
       "4    0690449009          Black washed out      009  0690449  Skinny fit   \n",
       "5    0690449011                     White      011  0690449  Skinny fit   \n",
       "6    0690449013              Black/washed      013  0690449  Skinny fit   \n",
       "7    0690449021   Dark denim blue/trashed      021  0690449  Skinny fit   \n",
       "8    0690449022             Black/trashed      022  0690449  Skinny fit   \n",
       "9    0690449024         Dark blue/Trashed      024  0690449  Skinny fit   \n",
       "10   0690449028      Dark blue/washed out      028  0690449  Skinny fit   \n",
       "11   0690449035        Denim blue/trashed      035  0690449  Skinny fit   \n",
       "12   0690449036                     Black      036  0690449  Skinny fit   \n",
       "13   0690449040                Denim gray      040  0690449  Skinny fit   \n",
       "14   0690449043  Light denim blue/trashed      043  0690449  Skinny fit   \n",
       "15   0690449046  Light denim gray/Trashed      046  0690449  Skinny fit   \n",
       "\n",
       "                composition  \n",
       "0   Cotton 98%, Elastane 2%  \n",
       "1   Cotton 98%, Elastane 2%  \n",
       "2   Cotton 98%, Elastane 2%  \n",
       "3   Cotton 98%, Elastane 2%  \n",
       "4   Cotton 98%, Elastane 2%  \n",
       "5   Cotton 98%, Elastane 2%  \n",
       "6   Cotton 98%, Elastane 2%  \n",
       "7   Cotton 98%, Elastane 2%  \n",
       "8   Cotton 98%, Elastane 2%  \n",
       "9   Cotton 98%, Elastane 2%  \n",
       "10  Cotton 98%, Elastane 2%  \n",
       "11  Cotton 98%, Elastane 2%  \n",
       "12  Cotton 98%, Elastane 2%  \n",
       "13  Cotton 98%, Elastane 2%  \n",
       "14  Cotton 98%, Elastane 2%  \n",
       "15  Cotton 98%, Elastane 2%  "
      ]
     },
     "execution_count": 4,
     "metadata": {},
     "output_type": "execute_result"
    }
   ],
   "source": [
    "#------------------------------SKU Product---------------------------\n",
    "df_sku = pd.merge(df_color, df_composition[['style_id', 'fit', 'composition']], how='left', on='style_id')\n",
    "df_sku"
   ]
  },
  {
   "cell_type": "markdown",
   "id": "7ddb0fab",
   "metadata": {},
   "source": [
    "#### All products"
   ]
  },
  {
   "cell_type": "code",
   "execution_count": 66,
   "id": "48e4b31c",
   "metadata": {
    "ExecuteTime": {
     "end_time": "2021-11-17T14:26:28.696404Z",
     "start_time": "2021-11-17T14:25:52.327743Z"
    }
   },
   "outputs": [],
   "source": [
    "#------------------------------API Request----------------------------\n",
    "header = {'User-Agent': 'Mozilla/5.0 (X11; Linux x86_64) AppleWebKit/537.36 (KHTML, like Gecko) Chrome/94.0.4606.81 Safari/537.36'}\n",
    "# URL model = 'https://www2.hm.com/en_us/productpage + product code + .html'\n",
    "\n",
    "df_details = pd.DataFrame()\n",
    "columns_available = list()\n",
    "df_pattern = pd.DataFrame(columns=['Art. No.', 'Composition', 'Fit', 'More sustainable materials', 'Size'])\n",
    "\n",
    "for i in range(len(data)):\n",
    "    # URL composition and request\n",
    "    url = f\"https://www2.hm.com/en_us/productpage.{data.loc[i, 'product_id']}.html\"\n",
    "    page = requests.get(url, headers=header).text\n",
    "    \n",
    "    #------------------------------BeautifulSoup Object--------------------\n",
    "    soup = BeautifulSoup(page)\n",
    "\n",
    "    #------------------------------Product Color---------------------------\n",
    "\n",
    "    product_detail = soup.find_all('a', class_ = 'filter-option miniature')\n",
    "    product_color = [p.get('data-color') for p in product_detail]\n",
    "    product_code = [p.get('data-articlecode') for p in product_detail]\n",
    "\n",
    "    df_color = pd.DataFrame({'product_code': product_code, 'product_color': product_color})\n",
    "    df_color['color_id'] = df_color['product_code'].apply(lambda x: x[-3:])\n",
    "    df_color['style_id'] = df_color['product_code'].apply(lambda x: x[:-3])\n",
    "    \n",
    "    #------------------------------Product Composition---------------------------\n",
    "    ## Get composition information\n",
    "    product_composition = [list(filter(None, p.get_text().split('\\n'))) for p in soup.find_all('div', class_ = 'pdp-description-list-item')]\n",
    "    \n",
    "    ## Composition to DataFrame\n",
    "    df_composition = pd.DataFrame(product_composition).T\n",
    "    df_composition.columns = df_composition.iloc[0]\n",
    "    df_composition.drop(index=0, inplace=True)\n",
    "    \n",
    "    #columns_available = columns_available + df_composition.columns.to_list()\n",
    "    \n",
    "    ## Garantee the patters columns\n",
    "    df_composition = pd.concat([df_pattern, df_composition])\n",
    "    \n",
    "    #df_composition = df_composition[['Fit', 'Composition', 'Art. No.']]\n",
    "    \n",
    "    # Rename columns and fill data below\n",
    "    df_composition.columns = df_composition.columns.str.lower()\n",
    "    df_composition.columns = ['product_code', 'composition', 'fit', 'sustainable_materials', 'size']\n",
    "    df_composition.fillna(method='ffill', inplace=True)\n",
    "    \n",
    "    \n",
    "    # Derivate new features\n",
    "    df_composition['style_id'] = df_composition['product_code'].apply(lambda x: x[:-3])\n",
    "    df_composition['color_id'] = df_composition['product_code'].apply(lambda x: x[-3:])\n",
    "    \n",
    "    \n",
    "    #------------------------------SKU Product---------------------------\n",
    "    df_sku = pd.merge(df_color, df_composition[['style_id', 'fit', 'composition', 'size', 'sustainable_materials']], \n",
    "                      how='left', on='style_id')\n",
    "    \n",
    "    \n",
    "    #------------------------------All products--------------------------\n",
    "    df_details = pd.concat([df_all_products, df_sku], axis=0)\n",
    "    \n",
    "\n",
    "# Join showroom data + details\n",
    "data['style_id'] = data['product_id'].apply(lambda x: x[:-3])\n",
    "data['color_id'] = data['product_id'].apply(lambda x: x[-3:])\n",
    "data_raw = pd.merge(data, df_details[['style_id', 'product_color', 'fit', 'composition', 'size', \n",
    "                                      'sustainable_materials']], on='style_id', how='left')"
   ]
  },
  {
   "cell_type": "code",
   "execution_count": 75,
   "id": "afb6a673",
   "metadata": {
    "ExecuteTime": {
     "end_time": "2021-11-17T14:32:49.010049Z",
     "start_time": "2021-11-17T14:32:49.001803Z"
    }
   },
   "outputs": [],
   "source": [
    "# Save file\n",
    "data_raw.to_csv('../data/products_hnm.csv', index=False)"
   ]
  },
  {
   "cell_type": "markdown",
   "id": "82e419f0",
   "metadata": {},
   "source": [
    "## Exercises\n",
    "\n",
    "### Collect the following information on the page: https://books.toscrape.com\n",
    "\n",
    "- Catalog\n",
    "\n",
    "    - Classics\n",
    "\n",
    "    - Science Fiction\n",
    "\n",
    "    - Humor\n",
    "\n",
    "    - Business\n",
    "\n",
    "- Collect the following information about the books:\n",
    "    \n",
    "    - Name of book\n",
    "  \n",
    "    - Price in pound\n",
    " \n",
    "    - Rating\n",
    " \n",
    "    - Stock information\n",
    " \n",
    "### Deliverable\n",
    "- A plan to all questions:\n",
    " \n",
    "    - Output: The simulation of a table or final graph\n",
    " \n",
    "    - Process: Step sequence organized by logical execution\n",
    " \n",
    "    - Input: The link for data source\n",
    "   \n",
    "- A csv file with all collected information."
   ]
  },
  {
   "cell_type": "markdown",
   "id": "7b2f2597",
   "metadata": {},
   "source": [
    "### Plan"
   ]
  },
  {
   "cell_type": "markdown",
   "id": "2d0d679a",
   "metadata": {},
   "source": [
    "<font size=\"3\"><b>Output</b></font>\n",
    "\n",
    "Columns in the table\n",
    "\n",
    "Catalog | Name of Book | Price | Rating | Stocks Status"
   ]
  },
  {
   "cell_type": "code",
   "execution_count": 37,
   "id": "723c113d",
   "metadata": {
    "ExecuteTime": {
     "end_time": "2021-10-19T13:25:19.199352Z",
     "start_time": "2021-10-19T13:25:19.195811Z"
    },
    "hide_input": true
   },
   "outputs": [
    {
     "name": "stdout",
     "output_type": "stream",
     "text": [
      "catalog          book_name          price      rating  stock_status\n",
      "---------------  -----------------  -------  --------  --------------\n",
      "Cassic           The Secret Garden  £15.08          4  In stock\n",
      "Science Fiction  Mesaerion          £37.59          1  In stock\n"
     ]
    }
   ],
   "source": [
    "tab = [\n",
    "    ['catalog', 'book_name', 'price', 'rating', 'stock_status'],\n",
    "    ['Cassic', 'The Secret Garden', '£15.08', '4', 'In stock'],\n",
    "    ['Science Fiction', 'Mesaerion', '£37.59', '1', 'In stock']\n",
    "]\n",
    "\n",
    "print(tabulate(tab, headers='firstrow'))"
   ]
  },
  {
   "cell_type": "markdown",
   "id": "cc63006e",
   "metadata": {
    "hide_input": false
   },
   "source": [
    "<font size=\"3\"><b>Process</b></font>\n",
    "\n",
    "Step 1: Create a soup object from the book collection page\n",
    "\n",
    "Step 2: Identify book attribute tags for capture\n",
    "\n",
    "Step 3: Get all the information from the book collection\n",
    "\n",
    "Step 4: Repeat process for all book collections\n",
    "\n",
    "Step 5: Create a DataFrame Pandas with all the information from the book collections\n",
    "\n",
    "Step 6: Generate a csv file with the collected information"
   ]
  },
  {
   "cell_type": "markdown",
   "id": "0b5f8b95",
   "metadata": {
    "hide_input": false
   },
   "source": [
    "<font size=\"3\"><b>Input</b></font>\n",
    "\n",
    "<a href=\"https://books.toscrape.com/catalogue/category/books/classics_6/index.html\">Classics</a> \n",
    "\n",
    "<a href=\"https://books.toscrape.com/catalogue/category/books/science-fiction_16/index.html\">Science Fiction</a> \n",
    "\n",
    "<a href=\"https://books.toscrape.com/catalogue/category/books/humor_30/index.html\">Humor</a> \n",
    "\n",
    "<a href=\"https://books.toscrape.com/catalogue/category/books/business_35/index.html\">Business</a> "
   ]
  },
  {
   "cell_type": "markdown",
   "id": "ef35b5b2",
   "metadata": {},
   "source": [
    "#### Step 1 to 3"
   ]
  },
  {
   "cell_type": "markdown",
   "id": "574f808d",
   "metadata": {
    "heading_collapsed": true
   },
   "source": [
    "##### Top page"
   ]
  },
  {
   "cell_type": "code",
   "execution_count": 3,
   "id": "139c775f",
   "metadata": {
    "ExecuteTime": {
     "end_time": "2021-11-02T12:44:08.601297Z",
     "start_time": "2021-11-02T12:44:08.598645Z"
    },
    "hidden": true
   },
   "outputs": [],
   "source": [
    "headers = {'User-Agent': 'Mozilla/5.0 (X11; Linux x86_64) AppleWebKit/537.36 (KHTML, like Gecko) Chrome/94.0.4606.81 Safari/537.36'}"
   ]
  },
  {
   "cell_type": "code",
   "execution_count": 76,
   "id": "b40aab9b",
   "metadata": {
    "ExecuteTime": {
     "end_time": "2021-11-02T13:29:20.990027Z",
     "start_time": "2021-11-02T13:29:19.866714Z"
    },
    "hidden": true
   },
   "outputs": [],
   "source": [
    "# Request information\n",
    "\n",
    "url_classics = 'https://books.toscrape.com/catalogue/category/books/classics_6/index.html'\n",
    "page = requests.get(url_classics, headers=headers)"
   ]
  },
  {
   "cell_type": "code",
   "execution_count": 77,
   "id": "47420f04",
   "metadata": {
    "ExecuteTime": {
     "end_time": "2021-11-02T13:29:21.833772Z",
     "start_time": "2021-11-02T13:29:21.830491Z"
    },
    "hidden": true
   },
   "outputs": [],
   "source": [
    "# Clean html\n",
    "page = clean_html(page.text)"
   ]
  },
  {
   "cell_type": "code",
   "execution_count": 78,
   "id": "0ee67b41",
   "metadata": {
    "ExecuteTime": {
     "end_time": "2021-11-02T13:29:23.172489Z",
     "start_time": "2021-11-02T13:29:23.147650Z"
    },
    "hidden": true
   },
   "outputs": [],
   "source": [
    "# BeautifulSoup object\n",
    "soup = BeautifulSoup(page, 'html.parser')"
   ]
  },
  {
   "cell_type": "code",
   "execution_count": 144,
   "id": "ab365736",
   "metadata": {
    "ExecuteTime": {
     "end_time": "2021-11-02T14:25:32.281675Z",
     "start_time": "2021-11-02T14:25:32.277190Z"
    },
    "hidden": true
   },
   "outputs": [],
   "source": [
    "# Name of collection\n",
    "catalog = soup.find('h1').text"
   ]
  },
  {
   "cell_type": "code",
   "execution_count": 69,
   "id": "8c7edd09",
   "metadata": {
    "ExecuteTime": {
     "end_time": "2021-11-02T13:23:12.734835Z",
     "start_time": "2021-11-02T13:23:12.731349Z"
    },
    "hidden": true
   },
   "outputs": [
    {
     "data": {
      "text/plain": [
       "['The Secret Garden',\n",
       " 'The Metamorphosis',\n",
       " \"The Pilgrim's Progress\",\n",
       " 'The Hound of the ...',\n",
       " 'Little Women (Little Women ...',\n",
       " 'Gone with the Wind',\n",
       " 'Candide',\n",
       " 'Animal Farm',\n",
       " 'Wuthering Heights',\n",
       " 'The Picture of Dorian ...',\n",
       " 'The Complete Stories and ...',\n",
       " 'Beowulf',\n",
       " 'And Then There Were ...',\n",
       " 'The Story of Hong ...',\n",
       " 'The Little Prince',\n",
       " 'Sense and Sensibility',\n",
       " 'Of Mice and Men',\n",
       " 'Emma',\n",
       " \"Alice in Wonderland (Alice's ...\"]"
      ]
     },
     "execution_count": 69,
     "metadata": {},
     "output_type": "execute_result"
    }
   ],
   "source": [
    "# Name of book\n",
    "book_name = soup.find_all('h3')\n",
    "book_name_list = [name.get_text() for name in book_name]\n",
    "book_name_list"
   ]
  },
  {
   "cell_type": "code",
   "execution_count": 70,
   "id": "5c70b690",
   "metadata": {
    "ExecuteTime": {
     "end_time": "2021-11-02T13:23:33.335953Z",
     "start_time": "2021-11-02T13:23:33.326853Z"
    },
    "hidden": true
   },
   "outputs": [
    {
     "data": {
      "text/plain": [
       "['Â£15.08',\n",
       " 'Â£28.58',\n",
       " 'Â£50.26',\n",
       " 'Â£14.82',\n",
       " 'Â£28.07',\n",
       " 'Â£32.49',\n",
       " 'Â£58.63',\n",
       " 'Â£57.22',\n",
       " 'Â£17.73',\n",
       " 'Â£29.70',\n",
       " 'Â£26.78',\n",
       " 'Â£38.35',\n",
       " 'Â£35.01',\n",
       " 'Â£43.19',\n",
       " 'Â£45.42',\n",
       " 'Â£37.46',\n",
       " 'Â£47.11',\n",
       " 'Â£32.93',\n",
       " 'Â£55.53']"
      ]
     },
     "execution_count": 70,
     "metadata": {},
     "output_type": "execute_result"
    }
   ],
   "source": [
    "# Price of book\n",
    "prices = soup.find_all('p', class_ = 'price_color')\n",
    "prices_list = [price.get_text() for price in prices]\n",
    "prices_list"
   ]
  },
  {
   "cell_type": "code",
   "execution_count": 72,
   "id": "29f8c2b3",
   "metadata": {
    "ExecuteTime": {
     "end_time": "2021-11-02T13:24:23.530863Z",
     "start_time": "2021-11-02T13:24:23.521783Z"
    },
    "hidden": true
   },
   "outputs": [
    {
     "data": {
      "text/plain": [
       "[' In stock ',\n",
       " ' In stock ',\n",
       " ' In stock ',\n",
       " ' In stock ',\n",
       " ' In stock ',\n",
       " ' In stock ',\n",
       " ' In stock ',\n",
       " ' In stock ',\n",
       " ' In stock ',\n",
       " ' In stock ',\n",
       " ' In stock ',\n",
       " ' In stock ',\n",
       " ' In stock ',\n",
       " ' In stock ',\n",
       " ' In stock ',\n",
       " ' In stock ',\n",
       " ' In stock ',\n",
       " ' In stock ',\n",
       " ' In stock ']"
      ]
     },
     "execution_count": 72,
     "metadata": {},
     "output_type": "execute_result"
    }
   ],
   "source": [
    "# Stock\n",
    "stock_prod = soup.find_all('p', class_ = 'instock availability')\n",
    "stock_status_list = [stock.get_text() for stock in stock_prod]\n",
    "stock_status_list"
   ]
  },
  {
   "cell_type": "code",
   "execution_count": 121,
   "id": "60b04bb7",
   "metadata": {
    "ExecuteTime": {
     "end_time": "2021-11-02T13:45:07.790817Z",
     "start_time": "2021-11-02T13:45:07.783286Z"
    },
    "hidden": true
   },
   "outputs": [
    {
     "data": {
      "text/plain": [
       "['star-rating', 'One']"
      ]
     },
     "execution_count": 121,
     "metadata": {},
     "output_type": "execute_result"
    }
   ],
   "source": [
    "soup.find_all('p', class_ = True)[3].attrs['class']"
   ]
  },
  {
   "cell_type": "code",
   "execution_count": 129,
   "id": "8159f6f4",
   "metadata": {
    "ExecuteTime": {
     "end_time": "2021-11-02T13:51:08.362340Z",
     "start_time": "2021-11-02T13:51:08.355621Z"
    },
    "hidden": true
   },
   "outputs": [
    {
     "data": {
      "text/plain": [
       "[['star-rating', 'Four'],\n",
       " ['price_color'],\n",
       " ['instock', 'availability'],\n",
       " ['star-rating', 'One'],\n",
       " ['price_color'],\n",
       " ['instock', 'availability'],\n",
       " ['star-rating', 'Two'],\n",
       " ['price_color'],\n",
       " ['instock', 'availability'],\n",
       " ['star-rating', 'Two'],\n",
       " ['price_color'],\n",
       " ['instock', 'availability'],\n",
       " ['star-rating', 'Four'],\n",
       " ['price_color'],\n",
       " ['instock', 'availability'],\n",
       " ['star-rating', 'Three'],\n",
       " ['price_color'],\n",
       " ['instock', 'availability'],\n",
       " ['star-rating', 'Three'],\n",
       " ['price_color'],\n",
       " ['instock', 'availability'],\n",
       " ['star-rating', 'Three'],\n",
       " ['price_color'],\n",
       " ['instock', 'availability'],\n",
       " ['star-rating', 'Three'],\n",
       " ['price_color'],\n",
       " ['instock', 'availability'],\n",
       " ['star-rating', 'Two'],\n",
       " ['price_color'],\n",
       " ['instock', 'availability'],\n",
       " ['star-rating', 'Four'],\n",
       " ['price_color'],\n",
       " ['instock', 'availability'],\n",
       " ['star-rating', 'Two'],\n",
       " ['price_color'],\n",
       " ['instock', 'availability'],\n",
       " ['star-rating', 'Two'],\n",
       " ['price_color'],\n",
       " ['instock', 'availability'],\n",
       " ['star-rating', 'Four'],\n",
       " ['price_color'],\n",
       " ['instock', 'availability'],\n",
       " ['star-rating', 'Two'],\n",
       " ['price_color'],\n",
       " ['instock', 'availability'],\n",
       " ['star-rating', 'One'],\n",
       " ['price_color'],\n",
       " ['instock', 'availability'],\n",
       " ['star-rating', 'Two'],\n",
       " ['price_color'],\n",
       " ['instock', 'availability'],\n",
       " ['star-rating', 'Two'],\n",
       " ['price_color'],\n",
       " ['instock', 'availability'],\n",
       " ['star-rating', 'One'],\n",
       " ['price_color'],\n",
       " ['instock', 'availability']]"
      ]
     },
     "execution_count": 129,
     "metadata": {},
     "output_type": "execute_result"
    }
   ],
   "source": [
    "# Rating\n",
    "#soup.find_all('p', class_ = True)[0].attrs['class'][1]\n",
    "ratings = soup.find_all('p', class_ = True)\n",
    "rating_list = [r.attrs['class'] for r in ratings]\n",
    "rating_list"
   ]
  },
  {
   "cell_type": "code",
   "execution_count": 143,
   "id": "4a70a591",
   "metadata": {
    "ExecuteTime": {
     "end_time": "2021-11-02T13:59:05.309283Z",
     "start_time": "2021-11-02T13:59:05.302450Z"
    },
    "hidden": true
   },
   "outputs": [
    {
     "data": {
      "text/plain": [
       "['Four',\n",
       " 'One',\n",
       " 'Two',\n",
       " 'Two',\n",
       " 'Four',\n",
       " 'Three',\n",
       " 'Three',\n",
       " 'Three',\n",
       " 'Three',\n",
       " 'Two',\n",
       " 'Four',\n",
       " 'Two',\n",
       " 'Two',\n",
       " 'Four',\n",
       " 'Two',\n",
       " 'One',\n",
       " 'Two',\n",
       " 'Two',\n",
       " 'One']"
      ]
     },
     "execution_count": 143,
     "metadata": {},
     "output_type": "execute_result"
    }
   ],
   "source": [
    "rating_list_clean = list()\n",
    "for i in range(0, len(rating_list), 3):\n",
    "    rating_list_clean.append(rating_list[i][1])\n",
    "rating_list_clean"
   ]
  },
  {
   "cell_type": "code",
   "execution_count": 137,
   "id": "52f8eace",
   "metadata": {
    "ExecuteTime": {
     "end_time": "2021-11-02T13:54:44.898663Z",
     "start_time": "2021-11-02T13:54:44.892573Z"
    },
    "hidden": true
   },
   "outputs": [
    {
     "data": {
      "text/plain": [
       "['price_color']"
      ]
     },
     "execution_count": 137,
     "metadata": {},
     "output_type": "execute_result"
    }
   ],
   "source": [
    "rating_list[1]"
   ]
  },
  {
   "cell_type": "code",
   "execution_count": 146,
   "id": "b0143a1c",
   "metadata": {
    "ExecuteTime": {
     "end_time": "2021-11-02T14:27:12.392626Z",
     "start_time": "2021-11-02T14:27:12.377457Z"
    },
    "hidden": true
   },
   "outputs": [
    {
     "data": {
      "text/html": [
       "<div>\n",
       "<style scoped>\n",
       "    .dataframe tbody tr th:only-of-type {\n",
       "        vertical-align: middle;\n",
       "    }\n",
       "\n",
       "    .dataframe tbody tr th {\n",
       "        vertical-align: top;\n",
       "    }\n",
       "\n",
       "    .dataframe thead th {\n",
       "        text-align: right;\n",
       "    }\n",
       "</style>\n",
       "<table border=\"1\" class=\"dataframe\">\n",
       "  <thead>\n",
       "    <tr style=\"text-align: right;\">\n",
       "      <th></th>\n",
       "      <th>catalog</th>\n",
       "      <th>book_name</th>\n",
       "      <th>price</th>\n",
       "      <th>rating</th>\n",
       "      <th>stock_status</th>\n",
       "    </tr>\n",
       "  </thead>\n",
       "  <tbody>\n",
       "    <tr>\n",
       "      <th>0</th>\n",
       "      <td>Classics</td>\n",
       "      <td>The Secret Garden</td>\n",
       "      <td>Â£15.08</td>\n",
       "      <td>Four</td>\n",
       "      <td>In stock</td>\n",
       "    </tr>\n",
       "    <tr>\n",
       "      <th>1</th>\n",
       "      <td>Classics</td>\n",
       "      <td>The Metamorphosis</td>\n",
       "      <td>Â£28.58</td>\n",
       "      <td>One</td>\n",
       "      <td>In stock</td>\n",
       "    </tr>\n",
       "    <tr>\n",
       "      <th>2</th>\n",
       "      <td>Classics</td>\n",
       "      <td>The Pilgrim's Progress</td>\n",
       "      <td>Â£50.26</td>\n",
       "      <td>Two</td>\n",
       "      <td>In stock</td>\n",
       "    </tr>\n",
       "    <tr>\n",
       "      <th>3</th>\n",
       "      <td>Classics</td>\n",
       "      <td>The Hound of the ...</td>\n",
       "      <td>Â£14.82</td>\n",
       "      <td>Two</td>\n",
       "      <td>In stock</td>\n",
       "    </tr>\n",
       "    <tr>\n",
       "      <th>4</th>\n",
       "      <td>Classics</td>\n",
       "      <td>Little Women (Little Women ...</td>\n",
       "      <td>Â£28.07</td>\n",
       "      <td>Four</td>\n",
       "      <td>In stock</td>\n",
       "    </tr>\n",
       "    <tr>\n",
       "      <th>5</th>\n",
       "      <td>Classics</td>\n",
       "      <td>Gone with the Wind</td>\n",
       "      <td>Â£32.49</td>\n",
       "      <td>Three</td>\n",
       "      <td>In stock</td>\n",
       "    </tr>\n",
       "    <tr>\n",
       "      <th>6</th>\n",
       "      <td>Classics</td>\n",
       "      <td>Candide</td>\n",
       "      <td>Â£58.63</td>\n",
       "      <td>Three</td>\n",
       "      <td>In stock</td>\n",
       "    </tr>\n",
       "    <tr>\n",
       "      <th>7</th>\n",
       "      <td>Classics</td>\n",
       "      <td>Animal Farm</td>\n",
       "      <td>Â£57.22</td>\n",
       "      <td>Three</td>\n",
       "      <td>In stock</td>\n",
       "    </tr>\n",
       "    <tr>\n",
       "      <th>8</th>\n",
       "      <td>Classics</td>\n",
       "      <td>Wuthering Heights</td>\n",
       "      <td>Â£17.73</td>\n",
       "      <td>Three</td>\n",
       "      <td>In stock</td>\n",
       "    </tr>\n",
       "    <tr>\n",
       "      <th>9</th>\n",
       "      <td>Classics</td>\n",
       "      <td>The Picture of Dorian ...</td>\n",
       "      <td>Â£29.70</td>\n",
       "      <td>Two</td>\n",
       "      <td>In stock</td>\n",
       "    </tr>\n",
       "    <tr>\n",
       "      <th>10</th>\n",
       "      <td>Classics</td>\n",
       "      <td>The Complete Stories and ...</td>\n",
       "      <td>Â£26.78</td>\n",
       "      <td>Four</td>\n",
       "      <td>In stock</td>\n",
       "    </tr>\n",
       "    <tr>\n",
       "      <th>11</th>\n",
       "      <td>Classics</td>\n",
       "      <td>Beowulf</td>\n",
       "      <td>Â£38.35</td>\n",
       "      <td>Two</td>\n",
       "      <td>In stock</td>\n",
       "    </tr>\n",
       "    <tr>\n",
       "      <th>12</th>\n",
       "      <td>Classics</td>\n",
       "      <td>And Then There Were ...</td>\n",
       "      <td>Â£35.01</td>\n",
       "      <td>Two</td>\n",
       "      <td>In stock</td>\n",
       "    </tr>\n",
       "    <tr>\n",
       "      <th>13</th>\n",
       "      <td>Classics</td>\n",
       "      <td>The Story of Hong ...</td>\n",
       "      <td>Â£43.19</td>\n",
       "      <td>Four</td>\n",
       "      <td>In stock</td>\n",
       "    </tr>\n",
       "    <tr>\n",
       "      <th>14</th>\n",
       "      <td>Classics</td>\n",
       "      <td>The Little Prince</td>\n",
       "      <td>Â£45.42</td>\n",
       "      <td>Two</td>\n",
       "      <td>In stock</td>\n",
       "    </tr>\n",
       "    <tr>\n",
       "      <th>15</th>\n",
       "      <td>Classics</td>\n",
       "      <td>Sense and Sensibility</td>\n",
       "      <td>Â£37.46</td>\n",
       "      <td>One</td>\n",
       "      <td>In stock</td>\n",
       "    </tr>\n",
       "    <tr>\n",
       "      <th>16</th>\n",
       "      <td>Classics</td>\n",
       "      <td>Of Mice and Men</td>\n",
       "      <td>Â£47.11</td>\n",
       "      <td>Two</td>\n",
       "      <td>In stock</td>\n",
       "    </tr>\n",
       "    <tr>\n",
       "      <th>17</th>\n",
       "      <td>Classics</td>\n",
       "      <td>Emma</td>\n",
       "      <td>Â£32.93</td>\n",
       "      <td>Two</td>\n",
       "      <td>In stock</td>\n",
       "    </tr>\n",
       "    <tr>\n",
       "      <th>18</th>\n",
       "      <td>Classics</td>\n",
       "      <td>Alice in Wonderland (Alice's ...</td>\n",
       "      <td>Â£55.53</td>\n",
       "      <td>One</td>\n",
       "      <td>In stock</td>\n",
       "    </tr>\n",
       "  </tbody>\n",
       "</table>\n",
       "</div>"
      ],
      "text/plain": [
       "     catalog                         book_name    price rating stock_status\n",
       "0   Classics                 The Secret Garden  Â£15.08   Four    In stock \n",
       "1   Classics                 The Metamorphosis  Â£28.58    One    In stock \n",
       "2   Classics            The Pilgrim's Progress  Â£50.26    Two    In stock \n",
       "3   Classics              The Hound of the ...  Â£14.82    Two    In stock \n",
       "4   Classics    Little Women (Little Women ...  Â£28.07   Four    In stock \n",
       "5   Classics                Gone with the Wind  Â£32.49  Three    In stock \n",
       "6   Classics                           Candide  Â£58.63  Three    In stock \n",
       "7   Classics                       Animal Farm  Â£57.22  Three    In stock \n",
       "8   Classics                 Wuthering Heights  Â£17.73  Three    In stock \n",
       "9   Classics         The Picture of Dorian ...  Â£29.70    Two    In stock \n",
       "10  Classics      The Complete Stories and ...  Â£26.78   Four    In stock \n",
       "11  Classics                           Beowulf  Â£38.35    Two    In stock \n",
       "12  Classics           And Then There Were ...  Â£35.01    Two    In stock \n",
       "13  Classics             The Story of Hong ...  Â£43.19   Four    In stock \n",
       "14  Classics                 The Little Prince  Â£45.42    Two    In stock \n",
       "15  Classics             Sense and Sensibility  Â£37.46    One    In stock \n",
       "16  Classics                   Of Mice and Men  Â£47.11    Two    In stock \n",
       "17  Classics                              Emma  Â£32.93    Two    In stock \n",
       "18  Classics  Alice in Wonderland (Alice's ...  Â£55.53    One    In stock "
      ]
     },
     "execution_count": 146,
     "metadata": {},
     "output_type": "execute_result"
    }
   ],
   "source": [
    "pd.DataFrame({\n",
    "    'catalog': catalog, \n",
    "    'book_name': book_name_list, \n",
    "    'price': prices_list, \n",
    "    'rating': rating_list_clean, \n",
    "    'stock_status': stock_status_list\n",
    "})"
   ]
  },
  {
   "cell_type": "markdown",
   "id": "5bb9dbdc",
   "metadata": {
    "heading_collapsed": true
   },
   "source": [
    "##### Book Page"
   ]
  },
  {
   "cell_type": "code",
   "execution_count": 178,
   "id": "81b6d0db",
   "metadata": {
    "ExecuteTime": {
     "end_time": "2021-11-02T15:01:41.788898Z",
     "start_time": "2021-11-02T15:01:41.781597Z"
    },
    "hidden": true
   },
   "outputs": [
    {
     "data": {
      "text/plain": [
       "<article class=\"product_pod\"><div class=\"image_container\"><a href=\"../../../the-dirty-little-secrets-of-getting-your-dream-job_994/index.html\"><img alt=\"The Dirty Little Secrets of Getting Your Dream Job\" class=\"thumbnail\" src=\"../../../../media/cache/92/27/92274a95b7c251fea59a2b8a78275ab4.jpg\"/></a></div><p class=\"star-rating Four\"><i class=\"icon-star\"></i><i class=\"icon-star\"></i><i class=\"icon-star\"></i><i class=\"icon-star\"></i><i class=\"icon-star\"></i></p><h3><a href=\"../../../the-dirty-little-secrets-of-getting-your-dream-job_994/index.html\" title=\"The Dirty Little Secrets of Getting Your Dream Job\">The Dirty Little Secrets ...</a></h3><div class=\"product_price\"><p class=\"price_color\">Â£33.34</p><p class=\"instock availability\"><i class=\"icon-ok\"></i> In stock </p><form><button class=\"btn btn-primary btn-block\" data-loading-text=\"Adding...\" type=\"submit\">Add to basket</button></form></div></article>"
      ]
     },
     "execution_count": 178,
     "metadata": {},
     "output_type": "execute_result"
    }
   ],
   "source": [
    "soup.find('article', class_ = 'product_pod')"
   ]
  },
  {
   "cell_type": "markdown",
   "id": "a0eb8195",
   "metadata": {},
   "source": [
    "#### Step 4 to 6"
   ]
  },
  {
   "cell_type": "code",
   "execution_count": 23,
   "id": "e1b3e833",
   "metadata": {
    "ExecuteTime": {
     "end_time": "2021-11-05T11:37:43.051273Z",
     "start_time": "2021-11-05T11:37:39.013240Z"
    }
   },
   "outputs": [],
   "source": [
    "headers = {'User-Agent': 'Mozilla/5.0 (X11; Linux x86_64) AppleWebKit/537.36 (KHTML, like Gecko) Chrome/94.0.4606.81 Safari/537.36'}\n",
    "df_books = pd.DataFrame()\n",
    "html_collections = ['https://books.toscrape.com/catalogue/category/books/classics_6/index.html',\n",
    "                   'https://books.toscrape.com/catalogue/category/books/science-fiction_16/index.html', \n",
    "                    'https://books.toscrape.com/catalogue/category/books/humor_30/index.html',\n",
    "                    'https://books.toscrape.com/catalogue/category/books/business_35/index.html']\n",
    "\n",
    "for html in html_collections:\n",
    "    # Page request\n",
    "    page = requests.get(html, headers=headers)\n",
    "    \n",
    "    # Clean html\n",
    "    page = clean_html(page.text)\n",
    "    \n",
    "    # BeautifulSoup object\n",
    "    soup = BeautifulSoup(page, 'html.parser')\n",
    "    \n",
    "    # Name of collection\n",
    "    catalog = soup.find('h1').text\n",
    "    \n",
    "    # Name of book\n",
    "    book_name = soup.find_all('h3')\n",
    "    book_name_list = [name.get_text() for name in book_name]\n",
    "    \n",
    "    # Price of book\n",
    "    prices = soup.find_all('p', class_ = 'price_color')\n",
    "    prices_list = [price.get_text() for price in prices]\n",
    "    \n",
    "    # Rating\n",
    "    ratings = soup.find_all('p', class_ = True)\n",
    "    rating_list = [r.attrs['class'] for r in ratings]\n",
    "    \n",
    "    # Stock\n",
    "    stock_prod = soup.find_all('p', class_ = 'instock availability')\n",
    "    stock_status_list = [stock.get_text() for stock in stock_prod]\n",
    "    rating_list_clean = list()\n",
    "    for i in range(0, len(rating_list), 3):\n",
    "        rating_list_clean.append(rating_list[i][1])\n",
    "        \n",
    "    df_catalog = pd.DataFrame({'catalog': catalog, \n",
    "                                'book_name': book_name_list, \n",
    "                                'price': prices_list, \n",
    "                                'rating': rating_list_clean, \n",
    "                                'stock_status': stock_status_list})\n",
    "    \n",
    "    df_books = pd.concat([df_books, df_catalog])"
   ]
  },
  {
   "cell_type": "code",
   "execution_count": 150,
   "id": "cfdb350a",
   "metadata": {
    "ExecuteTime": {
     "end_time": "2021-11-02T14:35:39.375873Z",
     "start_time": "2021-11-02T14:35:39.359507Z"
    }
   },
   "outputs": [
    {
     "data": {
      "text/html": [
       "<div>\n",
       "<style scoped>\n",
       "    .dataframe tbody tr th:only-of-type {\n",
       "        vertical-align: middle;\n",
       "    }\n",
       "\n",
       "    .dataframe tbody tr th {\n",
       "        vertical-align: top;\n",
       "    }\n",
       "\n",
       "    .dataframe thead th {\n",
       "        text-align: right;\n",
       "    }\n",
       "</style>\n",
       "<table border=\"1\" class=\"dataframe\">\n",
       "  <thead>\n",
       "    <tr style=\"text-align: right;\">\n",
       "      <th></th>\n",
       "      <th>catalog</th>\n",
       "      <th>book_name</th>\n",
       "      <th>price</th>\n",
       "      <th>rating</th>\n",
       "      <th>stock_status</th>\n",
       "    </tr>\n",
       "  </thead>\n",
       "  <tbody>\n",
       "    <tr>\n",
       "      <th>0</th>\n",
       "      <td>Classics</td>\n",
       "      <td>The Secret Garden</td>\n",
       "      <td>Â£15.08</td>\n",
       "      <td>Four</td>\n",
       "      <td>In stock</td>\n",
       "    </tr>\n",
       "    <tr>\n",
       "      <th>1</th>\n",
       "      <td>Classics</td>\n",
       "      <td>The Metamorphosis</td>\n",
       "      <td>Â£28.58</td>\n",
       "      <td>One</td>\n",
       "      <td>In stock</td>\n",
       "    </tr>\n",
       "    <tr>\n",
       "      <th>2</th>\n",
       "      <td>Classics</td>\n",
       "      <td>The Pilgrim's Progress</td>\n",
       "      <td>Â£50.26</td>\n",
       "      <td>Two</td>\n",
       "      <td>In stock</td>\n",
       "    </tr>\n",
       "    <tr>\n",
       "      <th>3</th>\n",
       "      <td>Classics</td>\n",
       "      <td>The Hound of the ...</td>\n",
       "      <td>Â£14.82</td>\n",
       "      <td>Two</td>\n",
       "      <td>In stock</td>\n",
       "    </tr>\n",
       "    <tr>\n",
       "      <th>4</th>\n",
       "      <td>Classics</td>\n",
       "      <td>Little Women (Little Women ...</td>\n",
       "      <td>Â£28.07</td>\n",
       "      <td>Four</td>\n",
       "      <td>In stock</td>\n",
       "    </tr>\n",
       "    <tr>\n",
       "      <th>5</th>\n",
       "      <td>Classics</td>\n",
       "      <td>Gone with the Wind</td>\n",
       "      <td>Â£32.49</td>\n",
       "      <td>Three</td>\n",
       "      <td>In stock</td>\n",
       "    </tr>\n",
       "    <tr>\n",
       "      <th>6</th>\n",
       "      <td>Classics</td>\n",
       "      <td>Candide</td>\n",
       "      <td>Â£58.63</td>\n",
       "      <td>Three</td>\n",
       "      <td>In stock</td>\n",
       "    </tr>\n",
       "    <tr>\n",
       "      <th>7</th>\n",
       "      <td>Classics</td>\n",
       "      <td>Animal Farm</td>\n",
       "      <td>Â£57.22</td>\n",
       "      <td>Three</td>\n",
       "      <td>In stock</td>\n",
       "    </tr>\n",
       "    <tr>\n",
       "      <th>8</th>\n",
       "      <td>Classics</td>\n",
       "      <td>Wuthering Heights</td>\n",
       "      <td>Â£17.73</td>\n",
       "      <td>Three</td>\n",
       "      <td>In stock</td>\n",
       "    </tr>\n",
       "    <tr>\n",
       "      <th>9</th>\n",
       "      <td>Classics</td>\n",
       "      <td>The Picture of Dorian ...</td>\n",
       "      <td>Â£29.70</td>\n",
       "      <td>Two</td>\n",
       "      <td>In stock</td>\n",
       "    </tr>\n",
       "    <tr>\n",
       "      <th>10</th>\n",
       "      <td>Classics</td>\n",
       "      <td>The Complete Stories and ...</td>\n",
       "      <td>Â£26.78</td>\n",
       "      <td>Four</td>\n",
       "      <td>In stock</td>\n",
       "    </tr>\n",
       "    <tr>\n",
       "      <th>11</th>\n",
       "      <td>Classics</td>\n",
       "      <td>Beowulf</td>\n",
       "      <td>Â£38.35</td>\n",
       "      <td>Two</td>\n",
       "      <td>In stock</td>\n",
       "    </tr>\n",
       "    <tr>\n",
       "      <th>12</th>\n",
       "      <td>Classics</td>\n",
       "      <td>And Then There Were ...</td>\n",
       "      <td>Â£35.01</td>\n",
       "      <td>Two</td>\n",
       "      <td>In stock</td>\n",
       "    </tr>\n",
       "    <tr>\n",
       "      <th>13</th>\n",
       "      <td>Classics</td>\n",
       "      <td>The Story of Hong ...</td>\n",
       "      <td>Â£43.19</td>\n",
       "      <td>Four</td>\n",
       "      <td>In stock</td>\n",
       "    </tr>\n",
       "    <tr>\n",
       "      <th>14</th>\n",
       "      <td>Classics</td>\n",
       "      <td>The Little Prince</td>\n",
       "      <td>Â£45.42</td>\n",
       "      <td>Two</td>\n",
       "      <td>In stock</td>\n",
       "    </tr>\n",
       "    <tr>\n",
       "      <th>15</th>\n",
       "      <td>Classics</td>\n",
       "      <td>Sense and Sensibility</td>\n",
       "      <td>Â£37.46</td>\n",
       "      <td>One</td>\n",
       "      <td>In stock</td>\n",
       "    </tr>\n",
       "    <tr>\n",
       "      <th>16</th>\n",
       "      <td>Classics</td>\n",
       "      <td>Of Mice and Men</td>\n",
       "      <td>Â£47.11</td>\n",
       "      <td>Two</td>\n",
       "      <td>In stock</td>\n",
       "    </tr>\n",
       "    <tr>\n",
       "      <th>17</th>\n",
       "      <td>Classics</td>\n",
       "      <td>Emma</td>\n",
       "      <td>Â£32.93</td>\n",
       "      <td>Two</td>\n",
       "      <td>In stock</td>\n",
       "    </tr>\n",
       "    <tr>\n",
       "      <th>18</th>\n",
       "      <td>Classics</td>\n",
       "      <td>Alice in Wonderland (Alice's ...</td>\n",
       "      <td>Â£55.53</td>\n",
       "      <td>One</td>\n",
       "      <td>In stock</td>\n",
       "    </tr>\n",
       "    <tr>\n",
       "      <th>0</th>\n",
       "      <td>Science Fiction</td>\n",
       "      <td>Mesaerion: The Best Science ...</td>\n",
       "      <td>Â£37.59</td>\n",
       "      <td>One</td>\n",
       "      <td>In stock</td>\n",
       "    </tr>\n",
       "    <tr>\n",
       "      <th>1</th>\n",
       "      <td>Science Fiction</td>\n",
       "      <td>Join</td>\n",
       "      <td>Â£35.67</td>\n",
       "      <td>Five</td>\n",
       "      <td>In stock</td>\n",
       "    </tr>\n",
       "    <tr>\n",
       "      <th>2</th>\n",
       "      <td>Science Fiction</td>\n",
       "      <td>William Shakespeare's Star Wars: ...</td>\n",
       "      <td>Â£43.30</td>\n",
       "      <td>Four</td>\n",
       "      <td>In stock</td>\n",
       "    </tr>\n",
       "    <tr>\n",
       "      <th>3</th>\n",
       "      <td>Science Fiction</td>\n",
       "      <td>The Project</td>\n",
       "      <td>Â£10.65</td>\n",
       "      <td>One</td>\n",
       "      <td>In stock</td>\n",
       "    </tr>\n",
       "    <tr>\n",
       "      <th>4</th>\n",
       "      <td>Science Fiction</td>\n",
       "      <td>Soft Apocalypse</td>\n",
       "      <td>Â£26.12</td>\n",
       "      <td>Two</td>\n",
       "      <td>In stock</td>\n",
       "    </tr>\n",
       "    <tr>\n",
       "      <th>5</th>\n",
       "      <td>Science Fiction</td>\n",
       "      <td>Sleeping Giants (Themis Files ...</td>\n",
       "      <td>Â£48.74</td>\n",
       "      <td>One</td>\n",
       "      <td>In stock</td>\n",
       "    </tr>\n",
       "    <tr>\n",
       "      <th>6</th>\n",
       "      <td>Science Fiction</td>\n",
       "      <td>Arena</td>\n",
       "      <td>Â£21.36</td>\n",
       "      <td>Four</td>\n",
       "      <td>In stock</td>\n",
       "    </tr>\n",
       "    <tr>\n",
       "      <th>7</th>\n",
       "      <td>Science Fiction</td>\n",
       "      <td>Foundation (Foundation (Publication Order) ...</td>\n",
       "      <td>Â£32.42</td>\n",
       "      <td>One</td>\n",
       "      <td>In stock</td>\n",
       "    </tr>\n",
       "    <tr>\n",
       "      <th>8</th>\n",
       "      <td>Science Fiction</td>\n",
       "      <td>The Restaurant at the ...</td>\n",
       "      <td>Â£10.92</td>\n",
       "      <td>One</td>\n",
       "      <td>In stock</td>\n",
       "    </tr>\n",
       "    <tr>\n",
       "      <th>9</th>\n",
       "      <td>Science Fiction</td>\n",
       "      <td>Ready Player One</td>\n",
       "      <td>Â£19.07</td>\n",
       "      <td>Four</td>\n",
       "      <td>In stock</td>\n",
       "    </tr>\n",
       "    <tr>\n",
       "      <th>10</th>\n",
       "      <td>Science Fiction</td>\n",
       "      <td>Life, the Universe and ...</td>\n",
       "      <td>Â£33.26</td>\n",
       "      <td>Two</td>\n",
       "      <td>In stock</td>\n",
       "    </tr>\n",
       "    <tr>\n",
       "      <th>11</th>\n",
       "      <td>Science Fiction</td>\n",
       "      <td>Dune (Dune #1)</td>\n",
       "      <td>Â£54.86</td>\n",
       "      <td>One</td>\n",
       "      <td>In stock</td>\n",
       "    </tr>\n",
       "    <tr>\n",
       "      <th>12</th>\n",
       "      <td>Science Fiction</td>\n",
       "      <td>Do Androids Dream of ...</td>\n",
       "      <td>Â£51.48</td>\n",
       "      <td>One</td>\n",
       "      <td>In stock</td>\n",
       "    </tr>\n",
       "    <tr>\n",
       "      <th>13</th>\n",
       "      <td>Science Fiction</td>\n",
       "      <td>Three Wishes (River of ...</td>\n",
       "      <td>Â£44.18</td>\n",
       "      <td>Two</td>\n",
       "      <td>In stock</td>\n",
       "    </tr>\n",
       "    <tr>\n",
       "      <th>14</th>\n",
       "      <td>Science Fiction</td>\n",
       "      <td>The Last Girl (The ...</td>\n",
       "      <td>Â£36.26</td>\n",
       "      <td>Two</td>\n",
       "      <td>In stock</td>\n",
       "    </tr>\n",
       "    <tr>\n",
       "      <th>15</th>\n",
       "      <td>Science Fiction</td>\n",
       "      <td>Having the Barbarian's Baby ...</td>\n",
       "      <td>Â£34.96</td>\n",
       "      <td>Four</td>\n",
       "      <td>In stock</td>\n",
       "    </tr>\n",
       "    <tr>\n",
       "      <th>0</th>\n",
       "      <td>Humor</td>\n",
       "      <td>The Long Haul (Diary ...</td>\n",
       "      <td>Â£44.07</td>\n",
       "      <td>One</td>\n",
       "      <td>In stock</td>\n",
       "    </tr>\n",
       "    <tr>\n",
       "      <th>1</th>\n",
       "      <td>Humor</td>\n",
       "      <td>Old School (Diary of ...</td>\n",
       "      <td>Â£11.83</td>\n",
       "      <td>Five</td>\n",
       "      <td>In stock</td>\n",
       "    </tr>\n",
       "    <tr>\n",
       "      <th>2</th>\n",
       "      <td>Humor</td>\n",
       "      <td>I Know What I'm ...</td>\n",
       "      <td>Â£25.98</td>\n",
       "      <td>Four</td>\n",
       "      <td>In stock</td>\n",
       "    </tr>\n",
       "    <tr>\n",
       "      <th>3</th>\n",
       "      <td>Humor</td>\n",
       "      <td>Hyperbole and a Half: ...</td>\n",
       "      <td>Â£14.75</td>\n",
       "      <td>Five</td>\n",
       "      <td>In stock</td>\n",
       "    </tr>\n",
       "    <tr>\n",
       "      <th>4</th>\n",
       "      <td>Humor</td>\n",
       "      <td>Dress Your Family in ...</td>\n",
       "      <td>Â£43.68</td>\n",
       "      <td>Three</td>\n",
       "      <td>In stock</td>\n",
       "    </tr>\n",
       "    <tr>\n",
       "      <th>5</th>\n",
       "      <td>Humor</td>\n",
       "      <td>Toddlers Are A**holes: It's ...</td>\n",
       "      <td>Â£25.55</td>\n",
       "      <td>One</td>\n",
       "      <td>In stock</td>\n",
       "    </tr>\n",
       "    <tr>\n",
       "      <th>6</th>\n",
       "      <td>Humor</td>\n",
       "      <td>When You Are Engulfed ...</td>\n",
       "      <td>Â£30.89</td>\n",
       "      <td>Five</td>\n",
       "      <td>In stock</td>\n",
       "    </tr>\n",
       "    <tr>\n",
       "      <th>7</th>\n",
       "      <td>Humor</td>\n",
       "      <td>Naked</td>\n",
       "      <td>Â£31.69</td>\n",
       "      <td>Three</td>\n",
       "      <td>In stock</td>\n",
       "    </tr>\n",
       "    <tr>\n",
       "      <th>8</th>\n",
       "      <td>Humor</td>\n",
       "      <td>Lamb: The Gospel According ...</td>\n",
       "      <td>Â£55.50</td>\n",
       "      <td>Five</td>\n",
       "      <td>In stock</td>\n",
       "    </tr>\n",
       "    <tr>\n",
       "      <th>9</th>\n",
       "      <td>Humor</td>\n",
       "      <td>Holidays on Ice</td>\n",
       "      <td>Â£51.07</td>\n",
       "      <td>Two</td>\n",
       "      <td>In stock</td>\n",
       "    </tr>\n",
       "    <tr>\n",
       "      <th>0</th>\n",
       "      <td>Business</td>\n",
       "      <td>The Dirty Little Secrets ...</td>\n",
       "      <td>Â£33.34</td>\n",
       "      <td>Four</td>\n",
       "      <td>In stock</td>\n",
       "    </tr>\n",
       "    <tr>\n",
       "      <th>1</th>\n",
       "      <td>Business</td>\n",
       "      <td>The Third Wave: An ...</td>\n",
       "      <td>Â£12.61</td>\n",
       "      <td>Five</td>\n",
       "      <td>In stock</td>\n",
       "    </tr>\n",
       "    <tr>\n",
       "      <th>2</th>\n",
       "      <td>Business</td>\n",
       "      <td>The 10% Entrepreneur: Live ...</td>\n",
       "      <td>Â£27.55</td>\n",
       "      <td>Three</td>\n",
       "      <td>In stock</td>\n",
       "    </tr>\n",
       "    <tr>\n",
       "      <th>3</th>\n",
       "      <td>Business</td>\n",
       "      <td>Shoe Dog: A Memoir ...</td>\n",
       "      <td>Â£23.99</td>\n",
       "      <td>Two</td>\n",
       "      <td>In stock</td>\n",
       "    </tr>\n",
       "    <tr>\n",
       "      <th>4</th>\n",
       "      <td>Business</td>\n",
       "      <td>Made to Stick: Why ...</td>\n",
       "      <td>Â£38.85</td>\n",
       "      <td>Five</td>\n",
       "      <td>In stock</td>\n",
       "    </tr>\n",
       "    <tr>\n",
       "      <th>5</th>\n",
       "      <td>Business</td>\n",
       "      <td>Quench Your Own Thirst: ...</td>\n",
       "      <td>Â£43.14</td>\n",
       "      <td>One</td>\n",
       "      <td>In stock</td>\n",
       "    </tr>\n",
       "    <tr>\n",
       "      <th>6</th>\n",
       "      <td>Business</td>\n",
       "      <td>The Art of Startup ...</td>\n",
       "      <td>Â£21.00</td>\n",
       "      <td>Three</td>\n",
       "      <td>In stock</td>\n",
       "    </tr>\n",
       "    <tr>\n",
       "      <th>7</th>\n",
       "      <td>Business</td>\n",
       "      <td>Born for This: How ...</td>\n",
       "      <td>Â£21.59</td>\n",
       "      <td>Five</td>\n",
       "      <td>In stock</td>\n",
       "    </tr>\n",
       "    <tr>\n",
       "      <th>8</th>\n",
       "      <td>Business</td>\n",
       "      <td>The E-Myth Revisited: Why ...</td>\n",
       "      <td>Â£36.91</td>\n",
       "      <td>One</td>\n",
       "      <td>In stock</td>\n",
       "    </tr>\n",
       "    <tr>\n",
       "      <th>9</th>\n",
       "      <td>Business</td>\n",
       "      <td>Rich Dad, Poor Dad</td>\n",
       "      <td>Â£51.74</td>\n",
       "      <td>One</td>\n",
       "      <td>In stock</td>\n",
       "    </tr>\n",
       "    <tr>\n",
       "      <th>10</th>\n",
       "      <td>Business</td>\n",
       "      <td>The Lean Startup: How ...</td>\n",
       "      <td>Â£33.92</td>\n",
       "      <td>Three</td>\n",
       "      <td>In stock</td>\n",
       "    </tr>\n",
       "    <tr>\n",
       "      <th>11</th>\n",
       "      <td>Business</td>\n",
       "      <td>Rework</td>\n",
       "      <td>Â£44.88</td>\n",
       "      <td>Two</td>\n",
       "      <td>In stock</td>\n",
       "    </tr>\n",
       "  </tbody>\n",
       "</table>\n",
       "</div>"
      ],
      "text/plain": [
       "            catalog                                       book_name    price  \\\n",
       "0          Classics                               The Secret Garden  Â£15.08   \n",
       "1          Classics                               The Metamorphosis  Â£28.58   \n",
       "2          Classics                          The Pilgrim's Progress  Â£50.26   \n",
       "3          Classics                            The Hound of the ...  Â£14.82   \n",
       "4          Classics                  Little Women (Little Women ...  Â£28.07   \n",
       "5          Classics                              Gone with the Wind  Â£32.49   \n",
       "6          Classics                                         Candide  Â£58.63   \n",
       "7          Classics                                     Animal Farm  Â£57.22   \n",
       "8          Classics                               Wuthering Heights  Â£17.73   \n",
       "9          Classics                       The Picture of Dorian ...  Â£29.70   \n",
       "10         Classics                    The Complete Stories and ...  Â£26.78   \n",
       "11         Classics                                         Beowulf  Â£38.35   \n",
       "12         Classics                         And Then There Were ...  Â£35.01   \n",
       "13         Classics                           The Story of Hong ...  Â£43.19   \n",
       "14         Classics                               The Little Prince  Â£45.42   \n",
       "15         Classics                           Sense and Sensibility  Â£37.46   \n",
       "16         Classics                                 Of Mice and Men  Â£47.11   \n",
       "17         Classics                                            Emma  Â£32.93   \n",
       "18         Classics                Alice in Wonderland (Alice's ...  Â£55.53   \n",
       "0   Science Fiction                 Mesaerion: The Best Science ...  Â£37.59   \n",
       "1   Science Fiction                                            Join  Â£35.67   \n",
       "2   Science Fiction            William Shakespeare's Star Wars: ...  Â£43.30   \n",
       "3   Science Fiction                                     The Project  Â£10.65   \n",
       "4   Science Fiction                                 Soft Apocalypse  Â£26.12   \n",
       "5   Science Fiction               Sleeping Giants (Themis Files ...  Â£48.74   \n",
       "6   Science Fiction                                           Arena  Â£21.36   \n",
       "7   Science Fiction  Foundation (Foundation (Publication Order) ...  Â£32.42   \n",
       "8   Science Fiction                       The Restaurant at the ...  Â£10.92   \n",
       "9   Science Fiction                                Ready Player One  Â£19.07   \n",
       "10  Science Fiction                      Life, the Universe and ...  Â£33.26   \n",
       "11  Science Fiction                                  Dune (Dune #1)  Â£54.86   \n",
       "12  Science Fiction                        Do Androids Dream of ...  Â£51.48   \n",
       "13  Science Fiction                      Three Wishes (River of ...  Â£44.18   \n",
       "14  Science Fiction                          The Last Girl (The ...  Â£36.26   \n",
       "15  Science Fiction                 Having the Barbarian's Baby ...  Â£34.96   \n",
       "0             Humor                        The Long Haul (Diary ...  Â£44.07   \n",
       "1             Humor                        Old School (Diary of ...  Â£11.83   \n",
       "2             Humor                             I Know What I'm ...  Â£25.98   \n",
       "3             Humor                       Hyperbole and a Half: ...  Â£14.75   \n",
       "4             Humor                        Dress Your Family in ...  Â£43.68   \n",
       "5             Humor                 Toddlers Are A**holes: It's ...  Â£25.55   \n",
       "6             Humor                       When You Are Engulfed ...  Â£30.89   \n",
       "7             Humor                                           Naked  Â£31.69   \n",
       "8             Humor                  Lamb: The Gospel According ...  Â£55.50   \n",
       "9             Humor                                 Holidays on Ice  Â£51.07   \n",
       "0          Business                    The Dirty Little Secrets ...  Â£33.34   \n",
       "1          Business                          The Third Wave: An ...  Â£12.61   \n",
       "2          Business                  The 10% Entrepreneur: Live ...  Â£27.55   \n",
       "3          Business                          Shoe Dog: A Memoir ...  Â£23.99   \n",
       "4          Business                          Made to Stick: Why ...  Â£38.85   \n",
       "5          Business                     Quench Your Own Thirst: ...  Â£43.14   \n",
       "6          Business                          The Art of Startup ...  Â£21.00   \n",
       "7          Business                          Born for This: How ...  Â£21.59   \n",
       "8          Business                   The E-Myth Revisited: Why ...  Â£36.91   \n",
       "9          Business                              Rich Dad, Poor Dad  Â£51.74   \n",
       "10         Business                       The Lean Startup: How ...  Â£33.92   \n",
       "11         Business                                          Rework  Â£44.88   \n",
       "\n",
       "   rating stock_status  \n",
       "0    Four    In stock   \n",
       "1     One    In stock   \n",
       "2     Two    In stock   \n",
       "3     Two    In stock   \n",
       "4    Four    In stock   \n",
       "5   Three    In stock   \n",
       "6   Three    In stock   \n",
       "7   Three    In stock   \n",
       "8   Three    In stock   \n",
       "9     Two    In stock   \n",
       "10   Four    In stock   \n",
       "11    Two    In stock   \n",
       "12    Two    In stock   \n",
       "13   Four    In stock   \n",
       "14    Two    In stock   \n",
       "15    One    In stock   \n",
       "16    Two    In stock   \n",
       "17    Two    In stock   \n",
       "18    One    In stock   \n",
       "0     One    In stock   \n",
       "1    Five    In stock   \n",
       "2    Four    In stock   \n",
       "3     One    In stock   \n",
       "4     Two    In stock   \n",
       "5     One    In stock   \n",
       "6    Four    In stock   \n",
       "7     One    In stock   \n",
       "8     One    In stock   \n",
       "9    Four    In stock   \n",
       "10    Two    In stock   \n",
       "11    One    In stock   \n",
       "12    One    In stock   \n",
       "13    Two    In stock   \n",
       "14    Two    In stock   \n",
       "15   Four    In stock   \n",
       "0     One    In stock   \n",
       "1    Five    In stock   \n",
       "2    Four    In stock   \n",
       "3    Five    In stock   \n",
       "4   Three    In stock   \n",
       "5     One    In stock   \n",
       "6    Five    In stock   \n",
       "7   Three    In stock   \n",
       "8    Five    In stock   \n",
       "9     Two    In stock   \n",
       "0    Four    In stock   \n",
       "1    Five    In stock   \n",
       "2   Three    In stock   \n",
       "3     Two    In stock   \n",
       "4    Five    In stock   \n",
       "5     One    In stock   \n",
       "6   Three    In stock   \n",
       "7    Five    In stock   \n",
       "8     One    In stock   \n",
       "9     One    In stock   \n",
       "10  Three    In stock   \n",
       "11    Two    In stock   "
      ]
     },
     "execution_count": 150,
     "metadata": {},
     "output_type": "execute_result"
    }
   ],
   "source": [
    "df_books"
   ]
  },
  {
   "cell_type": "markdown",
   "id": "19b83665",
   "metadata": {},
   "source": [
    "The top page don't get the book title properly"
   ]
  },
  {
   "cell_type": "markdown",
   "id": "3fa12bf9",
   "metadata": {},
   "source": [
    "# Python Avançado"
   ]
  },
  {
   "cell_type": "markdown",
   "id": "fab33dbe",
   "metadata": {
    "heading_collapsed": true
   },
   "source": [
    "## Lambda"
   ]
  },
  {
   "cell_type": "markdown",
   "id": "3a9ca82a",
   "metadata": {
    "hidden": true
   },
   "source": [
    "Recommended to local an simply function, without replication purpose"
   ]
  },
  {
   "cell_type": "code",
   "execution_count": 2,
   "id": "5cc282ea",
   "metadata": {
    "ExecuteTime": {
     "end_time": "2021-11-05T11:14:19.693213Z",
     "start_time": "2021-11-05T11:14:19.690753Z"
    },
    "hidden": true
   },
   "outputs": [],
   "source": [
    "# Traditional function\n",
    "def calc(a, b):\n",
    "    return a + b"
   ]
  },
  {
   "cell_type": "code",
   "execution_count": 4,
   "id": "0ce6415e",
   "metadata": {
    "ExecuteTime": {
     "end_time": "2021-11-05T11:14:36.544780Z",
     "start_time": "2021-11-05T11:14:36.539153Z"
    },
    "hidden": true
   },
   "outputs": [
    {
     "data": {
      "text/plain": [
       "7"
      ]
     },
     "execution_count": 4,
     "metadata": {},
     "output_type": "execute_result"
    }
   ],
   "source": [
    "calc(2, 5)"
   ]
  },
  {
   "cell_type": "code",
   "execution_count": 5,
   "id": "c0f50865",
   "metadata": {
    "ExecuteTime": {
     "end_time": "2021-11-05T11:15:21.334347Z",
     "start_time": "2021-11-05T11:15:21.331946Z"
    },
    "hidden": true
   },
   "outputs": [],
   "source": [
    "# Lambda\n",
    "cal_ = lambda a, b: a + b"
   ]
  },
  {
   "cell_type": "code",
   "execution_count": 6,
   "id": "79fde475",
   "metadata": {
    "ExecuteTime": {
     "end_time": "2021-11-05T11:15:33.022592Z",
     "start_time": "2021-11-05T11:15:33.019572Z"
    },
    "hidden": true
   },
   "outputs": [
    {
     "data": {
      "text/plain": [
       "7"
      ]
     },
     "execution_count": 6,
     "metadata": {},
     "output_type": "execute_result"
    }
   ],
   "source": [
    "cal_(2, 5)"
   ]
  },
  {
   "cell_type": "markdown",
   "id": "10e2cb1e",
   "metadata": {
    "heading_collapsed": true
   },
   "source": [
    "## Map"
   ]
  },
  {
   "cell_type": "markdown",
   "id": "a3868774",
   "metadata": {
    "hidden": true
   },
   "source": [
    "Call a function to operate over a data struture"
   ]
  },
  {
   "cell_type": "code",
   "execution_count": null,
   "id": "d163ae04",
   "metadata": {
    "hidden": true
   },
   "outputs": [],
   "source": [
    "#map(function, data_structure)"
   ]
  },
  {
   "cell_type": "code",
   "execution_count": 8,
   "id": "e2f64375",
   "metadata": {
    "ExecuteTime": {
     "end_time": "2021-11-05T11:23:37.878429Z",
     "start_time": "2021-11-05T11:23:37.875319Z"
    },
    "hidden": true
   },
   "outputs": [
    {
     "data": {
      "text/plain": [
       "['marcos', 'galvao']"
      ]
     },
     "execution_count": 8,
     "metadata": {},
     "output_type": "execute_result"
    }
   ],
   "source": [
    "upper = ['MARCOS', 'GALVAO']\n",
    "\n",
    "lower = lambda x: x.lower()\n",
    "\n",
    "list(map(lower, upper))"
   ]
  },
  {
   "cell_type": "markdown",
   "id": "9ed8d3ac",
   "metadata": {
    "heading_collapsed": true
   },
   "source": [
    "## Apply"
   ]
  },
  {
   "cell_type": "markdown",
   "id": "e8bb03fd",
   "metadata": {
    "hidden": true
   },
   "source": [
    "Work as same as Map, but specific to Pandas library\n",
    "\n",
    "Map -> General use\n",
    "\n",
    "Apply -> Pandas use"
   ]
  },
  {
   "cell_type": "code",
   "execution_count": 10,
   "id": "70d53601",
   "metadata": {
    "ExecuteTime": {
     "end_time": "2021-11-05T11:28:38.369736Z",
     "start_time": "2021-11-05T11:28:38.367510Z"
    },
    "hidden": true
   },
   "outputs": [],
   "source": [
    "df = pd.DataFrame({\n",
    "    'name': ['MARCOS', 'GALVAO'],\n",
    "    'age': [30, 31]\n",
    "})"
   ]
  },
  {
   "cell_type": "code",
   "execution_count": 12,
   "id": "bcf88334",
   "metadata": {
    "ExecuteTime": {
     "end_time": "2021-11-05T11:29:10.437456Z",
     "start_time": "2021-11-05T11:29:10.434103Z"
    },
    "hidden": true
   },
   "outputs": [
    {
     "data": {
      "text/plain": [
       "0    marcos\n",
       "1    galvao\n",
       "Name: name, dtype: object"
      ]
     },
     "execution_count": 12,
     "metadata": {},
     "output_type": "execute_result"
    }
   ],
   "source": [
    "df['name'].apply(lower)"
   ]
  },
  {
   "cell_type": "markdown",
   "id": "e5294aca",
   "metadata": {
    "ExecuteTime": {
     "end_time": "2021-11-05T11:32:05.207013Z",
     "start_time": "2021-11-05T11:32:05.205026Z"
    },
    "heading_collapsed": true
   },
   "source": [
    "## Lambda, Map e Apply II"
   ]
  },
  {
   "cell_type": "code",
   "execution_count": 25,
   "id": "efcdaa54",
   "metadata": {
    "ExecuteTime": {
     "end_time": "2021-11-05T11:38:03.537919Z",
     "start_time": "2021-11-05T11:38:03.532577Z"
    },
    "hidden": true
   },
   "outputs": [
    {
     "data": {
      "text/html": [
       "<div>\n",
       "<style scoped>\n",
       "    .dataframe tbody tr th:only-of-type {\n",
       "        vertical-align: middle;\n",
       "    }\n",
       "\n",
       "    .dataframe tbody tr th {\n",
       "        vertical-align: top;\n",
       "    }\n",
       "\n",
       "    .dataframe thead th {\n",
       "        text-align: right;\n",
       "    }\n",
       "</style>\n",
       "<table border=\"1\" class=\"dataframe\">\n",
       "  <thead>\n",
       "    <tr style=\"text-align: right;\">\n",
       "      <th></th>\n",
       "      <th>catalog</th>\n",
       "      <th>book_name</th>\n",
       "      <th>price</th>\n",
       "      <th>rating</th>\n",
       "      <th>stock_status</th>\n",
       "    </tr>\n",
       "  </thead>\n",
       "  <tbody>\n",
       "    <tr>\n",
       "      <th>0</th>\n",
       "      <td>Classics</td>\n",
       "      <td>The Secret Garden</td>\n",
       "      <td>Â£15.08</td>\n",
       "      <td>Four</td>\n",
       "      <td>In stock</td>\n",
       "    </tr>\n",
       "    <tr>\n",
       "      <th>1</th>\n",
       "      <td>Classics</td>\n",
       "      <td>The Metamorphosis</td>\n",
       "      <td>Â£28.58</td>\n",
       "      <td>One</td>\n",
       "      <td>In stock</td>\n",
       "    </tr>\n",
       "    <tr>\n",
       "      <th>2</th>\n",
       "      <td>Classics</td>\n",
       "      <td>The Pilgrim's Progress</td>\n",
       "      <td>Â£50.26</td>\n",
       "      <td>Two</td>\n",
       "      <td>In stock</td>\n",
       "    </tr>\n",
       "    <tr>\n",
       "      <th>3</th>\n",
       "      <td>Classics</td>\n",
       "      <td>The Hound of the ...</td>\n",
       "      <td>Â£14.82</td>\n",
       "      <td>Two</td>\n",
       "      <td>In stock</td>\n",
       "    </tr>\n",
       "    <tr>\n",
       "      <th>4</th>\n",
       "      <td>Classics</td>\n",
       "      <td>Little Women (Little Women ...</td>\n",
       "      <td>Â£28.07</td>\n",
       "      <td>Four</td>\n",
       "      <td>In stock</td>\n",
       "    </tr>\n",
       "  </tbody>\n",
       "</table>\n",
       "</div>"
      ],
      "text/plain": [
       "    catalog                       book_name    price rating stock_status\n",
       "0  Classics               The Secret Garden  Â£15.08   Four    In stock \n",
       "1  Classics               The Metamorphosis  Â£28.58    One    In stock \n",
       "2  Classics          The Pilgrim's Progress  Â£50.26    Two    In stock \n",
       "3  Classics            The Hound of the ...  Â£14.82    Two    In stock \n",
       "4  Classics  Little Women (Little Women ...  Â£28.07   Four    In stock "
      ]
     },
     "execution_count": 25,
     "metadata": {},
     "output_type": "execute_result"
    }
   ],
   "source": [
    "df_books.head()"
   ]
  },
  {
   "cell_type": "code",
   "execution_count": 41,
   "id": "27ad13a0",
   "metadata": {
    "ExecuteTime": {
     "end_time": "2021-11-05T12:00:45.454894Z",
     "start_time": "2021-11-05T12:00:45.445543Z"
    },
    "hidden": true
   },
   "outputs": [
    {
     "data": {
      "text/html": [
       "<div>\n",
       "<style scoped>\n",
       "    .dataframe tbody tr th:only-of-type {\n",
       "        vertical-align: middle;\n",
       "    }\n",
       "\n",
       "    .dataframe tbody tr th {\n",
       "        vertical-align: top;\n",
       "    }\n",
       "\n",
       "    .dataframe thead th {\n",
       "        text-align: right;\n",
       "    }\n",
       "</style>\n",
       "<table border=\"1\" class=\"dataframe\">\n",
       "  <thead>\n",
       "    <tr style=\"text-align: right;\">\n",
       "      <th></th>\n",
       "      <th>catalog</th>\n",
       "      <th>book_name</th>\n",
       "      <th>price</th>\n",
       "      <th>rating</th>\n",
       "      <th>stock_status</th>\n",
       "    </tr>\n",
       "  </thead>\n",
       "  <tbody>\n",
       "    <tr>\n",
       "      <th>0</th>\n",
       "      <td>Classics</td>\n",
       "      <td>The Secret Garden</td>\n",
       "      <td>15.08</td>\n",
       "      <td>Four</td>\n",
       "      <td>In stock</td>\n",
       "    </tr>\n",
       "    <tr>\n",
       "      <th>1</th>\n",
       "      <td>Classics</td>\n",
       "      <td>The Metamorphosis</td>\n",
       "      <td>28.58</td>\n",
       "      <td>One</td>\n",
       "      <td>In stock</td>\n",
       "    </tr>\n",
       "    <tr>\n",
       "      <th>2</th>\n",
       "      <td>Classics</td>\n",
       "      <td>The Pilgrim's Progress</td>\n",
       "      <td>50.26</td>\n",
       "      <td>Two</td>\n",
       "      <td>In stock</td>\n",
       "    </tr>\n",
       "    <tr>\n",
       "      <th>3</th>\n",
       "      <td>Classics</td>\n",
       "      <td>The Hound of the ...</td>\n",
       "      <td>14.82</td>\n",
       "      <td>Two</td>\n",
       "      <td>In stock</td>\n",
       "    </tr>\n",
       "    <tr>\n",
       "      <th>4</th>\n",
       "      <td>Classics</td>\n",
       "      <td>Little Women (Little Women ...</td>\n",
       "      <td>28.07</td>\n",
       "      <td>Four</td>\n",
       "      <td>In stock</td>\n",
       "    </tr>\n",
       "  </tbody>\n",
       "</table>\n",
       "</div>"
      ],
      "text/plain": [
       "    catalog                       book_name  price rating stock_status\n",
       "0  Classics               The Secret Garden  15.08   Four    In stock \n",
       "1  Classics               The Metamorphosis  28.58    One    In stock \n",
       "2  Classics          The Pilgrim's Progress  50.26    Two    In stock \n",
       "3  Classics            The Hound of the ...  14.82    Two    In stock \n",
       "4  Classics  Little Women (Little Women ...  28.07   Four    In stock "
      ]
     },
     "execution_count": 41,
     "metadata": {},
     "output_type": "execute_result"
    }
   ],
   "source": [
    "# Remove Â£ from price\n",
    "df_books['price'] = df_books['price'].apply(lambda x: float(x.replace('Â£', '')))\n",
    "df_books.head()"
   ]
  },
  {
   "cell_type": "code",
   "execution_count": 55,
   "id": "5dd8d752",
   "metadata": {
    "ExecuteTime": {
     "end_time": "2021-11-05T12:26:38.119766Z",
     "start_time": "2021-11-05T12:26:38.112872Z"
    },
    "hidden": true
   },
   "outputs": [
    {
     "data": {
      "text/html": [
       "<div>\n",
       "<style scoped>\n",
       "    .dataframe tbody tr th:only-of-type {\n",
       "        vertical-align: middle;\n",
       "    }\n",
       "\n",
       "    .dataframe tbody tr th {\n",
       "        vertical-align: top;\n",
       "    }\n",
       "\n",
       "    .dataframe thead th {\n",
       "        text-align: right;\n",
       "    }\n",
       "</style>\n",
       "<table border=\"1\" class=\"dataframe\">\n",
       "  <thead>\n",
       "    <tr style=\"text-align: right;\">\n",
       "      <th></th>\n",
       "      <th>catalog</th>\n",
       "      <th>book_name</th>\n",
       "      <th>price</th>\n",
       "      <th>rating</th>\n",
       "      <th>stock_status</th>\n",
       "    </tr>\n",
       "  </thead>\n",
       "  <tbody>\n",
       "    <tr>\n",
       "      <th>1</th>\n",
       "      <td>Science Fiction</td>\n",
       "      <td>Join</td>\n",
       "      <td>35.67</td>\n",
       "      <td>Five</td>\n",
       "      <td>In stock</td>\n",
       "    </tr>\n",
       "    <tr>\n",
       "      <th>1</th>\n",
       "      <td>Humor</td>\n",
       "      <td>Old School (Diary of ...</td>\n",
       "      <td>11.83</td>\n",
       "      <td>Five</td>\n",
       "      <td>In stock</td>\n",
       "    </tr>\n",
       "    <tr>\n",
       "      <th>3</th>\n",
       "      <td>Humor</td>\n",
       "      <td>Hyperbole and a Half: ...</td>\n",
       "      <td>14.75</td>\n",
       "      <td>Five</td>\n",
       "      <td>In stock</td>\n",
       "    </tr>\n",
       "    <tr>\n",
       "      <th>6</th>\n",
       "      <td>Humor</td>\n",
       "      <td>When You Are Engulfed ...</td>\n",
       "      <td>30.89</td>\n",
       "      <td>Five</td>\n",
       "      <td>In stock</td>\n",
       "    </tr>\n",
       "    <tr>\n",
       "      <th>8</th>\n",
       "      <td>Humor</td>\n",
       "      <td>Lamb: The Gospel According ...</td>\n",
       "      <td>55.50</td>\n",
       "      <td>Five</td>\n",
       "      <td>In stock</td>\n",
       "    </tr>\n",
       "  </tbody>\n",
       "</table>\n",
       "</div>"
      ],
      "text/plain": [
       "           catalog                       book_name  price rating stock_status\n",
       "1  Science Fiction                            Join  35.67   Five    In stock \n",
       "1            Humor        Old School (Diary of ...  11.83   Five    In stock \n",
       "3            Humor       Hyperbole and a Half: ...  14.75   Five    In stock \n",
       "6            Humor       When You Are Engulfed ...  30.89   Five    In stock \n",
       "8            Humor  Lamb: The Gospel According ...  55.50   Five    In stock "
      ]
     },
     "execution_count": 55,
     "metadata": {},
     "output_type": "execute_result"
    }
   ],
   "source": [
    "df_books[df_books['rating'] == 'Five'].head()"
   ]
  },
  {
   "cell_type": "code",
   "execution_count": 54,
   "id": "f2537b1a",
   "metadata": {
    "ExecuteTime": {
     "end_time": "2021-11-05T12:26:17.578401Z",
     "start_time": "2021-11-05T12:26:17.568294Z"
    },
    "hidden": true
   },
   "outputs": [
    {
     "data": {
      "text/html": [
       "<div>\n",
       "<style scoped>\n",
       "    .dataframe tbody tr th:only-of-type {\n",
       "        vertical-align: middle;\n",
       "    }\n",
       "\n",
       "    .dataframe tbody tr th {\n",
       "        vertical-align: top;\n",
       "    }\n",
       "\n",
       "    .dataframe thead th {\n",
       "        text-align: right;\n",
       "    }\n",
       "</style>\n",
       "<table border=\"1\" class=\"dataframe\">\n",
       "  <thead>\n",
       "    <tr style=\"text-align: right;\">\n",
       "      <th></th>\n",
       "      <th>catalog</th>\n",
       "      <th>book_name</th>\n",
       "      <th>price</th>\n",
       "      <th>rating</th>\n",
       "      <th>stock_status</th>\n",
       "    </tr>\n",
       "  </thead>\n",
       "  <tbody>\n",
       "    <tr>\n",
       "      <th>1</th>\n",
       "      <td>Science Fiction</td>\n",
       "      <td>Join</td>\n",
       "      <td>35.67</td>\n",
       "      <td>Five</td>\n",
       "      <td>In stock</td>\n",
       "    </tr>\n",
       "    <tr>\n",
       "      <th>1</th>\n",
       "      <td>Humor</td>\n",
       "      <td>Old School (Diary of ...</td>\n",
       "      <td>11.83</td>\n",
       "      <td>Five</td>\n",
       "      <td>In stock</td>\n",
       "    </tr>\n",
       "    <tr>\n",
       "      <th>3</th>\n",
       "      <td>Humor</td>\n",
       "      <td>Hyperbole and a Half: ...</td>\n",
       "      <td>14.75</td>\n",
       "      <td>Five</td>\n",
       "      <td>In stock</td>\n",
       "    </tr>\n",
       "    <tr>\n",
       "      <th>6</th>\n",
       "      <td>Humor</td>\n",
       "      <td>When You Are Engulfed ...</td>\n",
       "      <td>30.89</td>\n",
       "      <td>Five</td>\n",
       "      <td>In stock</td>\n",
       "    </tr>\n",
       "    <tr>\n",
       "      <th>8</th>\n",
       "      <td>Humor</td>\n",
       "      <td>Lamb: The Gospel According ...</td>\n",
       "      <td>55.50</td>\n",
       "      <td>Five</td>\n",
       "      <td>In stock</td>\n",
       "    </tr>\n",
       "  </tbody>\n",
       "</table>\n",
       "</div>"
      ],
      "text/plain": [
       "           catalog                       book_name  price rating stock_status\n",
       "1  Science Fiction                            Join  35.67   Five    In stock \n",
       "1            Humor        Old School (Diary of ...  11.83   Five    In stock \n",
       "3            Humor       Hyperbole and a Half: ...  14.75   Five    In stock \n",
       "6            Humor       When You Are Engulfed ...  30.89   Five    In stock \n",
       "8            Humor  Lamb: The Gospel According ...  55.50   Five    In stock "
      ]
     },
     "execution_count": 54,
     "metadata": {},
     "output_type": "execute_result"
    }
   ],
   "source": [
    "# Increse price in 100% if the catalog is business and stock status is in \n",
    " \n",
    "df_books.apply(lambda x:  x['price'] * 2\n",
    "               if (x['catalog'] == 'Business') & (x['rating'] == 'Five') \n",
    "               else x, axis=1).query('rating == \"Five\"').head()"
   ]
  },
  {
   "cell_type": "code",
   "execution_count": 51,
   "id": "8aba7ffb",
   "metadata": {
    "ExecuteTime": {
     "end_time": "2021-11-05T12:25:24.260421Z",
     "start_time": "2021-11-05T12:25:24.256343Z"
    },
    "hidden": true
   },
   "outputs": [
    {
     "data": {
      "text/plain": [
       "0     In stock \n",
       "0     In stock \n",
       "0     In stock \n",
       "0     In stock \n",
       "Name: stock_status, dtype: object"
      ]
     },
     "execution_count": 51,
     "metadata": {},
     "output_type": "execute_result"
    }
   ],
   "source": [
    "df_books['stock_status'][0]"
   ]
  },
  {
   "cell_type": "markdown",
   "id": "5dee4545",
   "metadata": {},
   "source": [
    "## Regex - Regular Expression"
   ]
  },
  {
   "cell_type": "markdown",
   "id": "104bd0dc",
   "metadata": {},
   "source": [
    "<font size=5>**Marcadores de início e fim de linha (^ e $)**</font>\n",
    "\n",
    "\n",
    "**^Python** – Encontra qualquer string que esteja em início de linha e contenham os caracteres “Python”. \n",
    "\n",
    "**Python$** – Encontra qualquer string que esteja em fim de linha e contenham os caracteres “Python”. \n",
    "\n",
    "<br/>\n",
    "<br/>\n",
    "\n",
    "<font size=5>**Marcadores de quantidade (* + ?  e {})**</font>\n",
    " \n",
    "\n",
    "**Pyt*** – Encontra strings com a sequência de caracteres “Py” seguida de zero ou mais ocorrências do caractere “t”.\n",
    "\n",
    "**Pyt+** – Encontra strings com a sequência de caracteres “Py” seguida de uma ou mais ocorrências do caractere “t”.\n",
    "\n",
    "**Pyt?** –  Encontra strings com a sequência de caracteres “Py” seguida de zero ou uma ocorrência do caractere “t”.\n",
    "\n",
    "**Pyt{3}** – Encontra strings com a sequência de caracteres “Py” seguida de exatamente 3 ocorrências do caractere “t”.\n",
    "\n",
    "**Pyt{2, 4}** – Encontra strings com a sequência de caracteres “Py” seguida de 2 a 4 ocorrências do caractere “t”.\n",
    "\n",
    "**Pyt{3,}** – Encontra strings com a sequência de caracteres “Py” seguida de 3 ou mais ocorrências do caractere “t”. \n",
    "\n",
    "**Py(th)*** – Encontra strings com a sequência de caracteres “Py” seguida de zero ou mais ocorrências do da sequência “th”. \n",
    "    \n",
    "<br/>\n",
    "<br/>\n",
    "\n",
    "<font size=5>**Marcador de alternativa ou operador OR ( | )**</font>\n",
    "\n",
    "**Pyt|hon** – Encontra strings com a sequência de caracteres “Pyt” ou strings com a sequência de caracteres “hon”. \n",
    "\n",
    "**Py(t|h)** – Encontra strings com a sequência de caracteres “Py” seguida do caractere “t” ou do caractere “h”. \n",
    "\n",
    "**Py(t|h|o)** – Encontra strings com a sequência de caracteres “Py” seguida do caractere “t” ou do caractere “h” ou do caractere “o”. \n",
    "    \n",
    "<br/>\n",
    "<br/>\n",
    "    \n",
    "<font size=5>**Marcador de definição de Conjuntos ([ ])**</font>\n",
    "\n",
    "**Py[tho]** – Encontra strings com a sequência de caracteres “Py” seguida de um caractere pertencente ao conjunto (t, h, o). \n",
    "\n",
    "**Py[0-9]** – Encontra strings com a sequência de caracteres “Py” seguida de um caractere pertencente ao conjunto de dígitos de 0 a 9. \n",
    "\n",
    "**Py[a-z]** – Encontra strings com a sequência de caracteres “Py” seguida de um caractere pertencente ao conjunto de caracteres alfabéticos de “a” a “z”. \n",
    "\n",
    "<br/>\n",
    "<br/>\n",
    "    \n",
    "<font size=5>**Marcadores de classes de caracteres (\\w, \\d, \\s e .)**</font>\n",
    "    \n",
    "**\\w** – Representa um caractere alfanumérico, incluindo ocorrências maiúsculas e minúsculas das letras e o caractere “_”.\n",
    "\n",
    "**\\d** – Representa um caractere numérico e equivale a definição do conjunto [0-9]\n",
    "\n",
    "**\\s** – Representa um espaço em branco, incluindo tabulações e quebras de linha\n",
    "\n",
    "<br/>\n",
    "<br/>\n",
    "    \n",
    "**.** – Como já mencionado, este caractere é utilizado como coringa e representa qualquer caractere.\n",
    "\n",
    "A utilização de \\W, \\D e \\S serve como negação de suas correspondentes descritas acima. \\W vai encontrar, por exemplo, qualquer caractere que não seja relevante para \\w."
   ]
  },
  {
   "cell_type": "markdown",
   "id": "11e22086",
   "metadata": {},
   "source": [
    "### Match\n",
    "\n",
    "    For begining of a string\n",
    "    \n",
    "    CPF 001.223.344-55\n",
    "    \n",
    "    sequency: number point number point number trace number\n",
    "    padron: 3 numbers 1 point 3 numbers 1 point 3 numbers 1 trace 2 numbers \n",
    "    \n",
    "    Regex mask colect the information based on the string padron"
   ]
  },
  {
   "cell_type": "code",
   "execution_count": 4,
   "id": "6c76ad6a",
   "metadata": {
    "ExecuteTime": {
     "end_time": "2021-11-17T12:32:03.795494Z",
     "start_time": "2021-11-17T12:32:03.788926Z"
    }
   },
   "outputs": [
    {
     "data": {
      "text/plain": [
       "False"
      ]
     },
     "execution_count": 4,
     "metadata": {},
     "output_type": "execute_result"
    }
   ],
   "source": [
    "cpf = '001.223.344-55'\n",
    "rg = '12.420.530-10'\n",
    "cel = '+5522989527342'\n",
    "address = 'Cecilia Chapman 711-2880 Nulla St. Mankato Mississippi 96522 (257) 563-7401'\n",
    "address_2 = 'Calista Wise 7292 Dictum Av. San Antonio MI 47096 (492) 709-6392'\n",
    "\n",
    "mask_cpf = '^\\d{3}\\.\\d{3}\\.\\d{3}\\-\\d{2}$'\n",
    "\n",
    "mask_rg = '^\\d{2}\\.\\d{3}\\.\\d{3}\\-\\d{2}$'\n",
    "\n",
    "mask_cel = '^\\+\\d{13}$'\n",
    "\n",
    "mask_cel_inside = '\\+\\d{13}'\n",
    "\n",
    "text = f'cpf: {cpf}, rg: {rg} and celphone is {cel}'\n",
    "\n",
    "bool(re.match(mask_cel, text))"
   ]
  },
  {
   "cell_type": "markdown",
   "id": "4fb3843b",
   "metadata": {},
   "source": [
    "### Search\n",
    "\n",
    "    Any text position"
   ]
  },
  {
   "cell_type": "code",
   "execution_count": 22,
   "id": "6e60ac31",
   "metadata": {
    "ExecuteTime": {
     "end_time": "2021-11-17T12:53:33.270319Z",
     "start_time": "2021-11-17T12:53:33.267213Z"
    }
   },
   "outputs": [
    {
     "name": "stdout",
     "output_type": "stream",
     "text": [
      "Av. San Antonio MI 47096 (\n"
     ]
    }
   ],
   "source": [
    "# Street\n",
    "\n",
    "mask = '\\w{2}\\..*\\d{5}'\n",
    "mask_2 = '(\\w{2}\\..+)\\s\\('\n",
    "\n",
    "print(re.search(mask_2, address_2).group(0))"
   ]
  },
  {
   "cell_type": "code",
   "execution_count": 21,
   "id": "3d18cc4a",
   "metadata": {
    "ExecuteTime": {
     "end_time": "2021-11-17T12:49:16.439149Z",
     "start_time": "2021-11-17T12:49:16.436796Z"
    }
   },
   "outputs": [
    {
     "name": "stdout",
     "output_type": "stream",
     "text": [
      "Cecilia Chapman\n"
     ]
    }
   ],
   "source": [
    "# Name\n",
    "\n",
    "mask = '^\\w+\\s\\w+'\n",
    "\n",
    "print(re.search(mask, address).group(0))"
   ]
  },
  {
   "cell_type": "markdown",
   "id": "88e2d3b2",
   "metadata": {},
   "source": [
    "## Clean Data with Regex"
   ]
  },
  {
   "cell_type": "code",
   "execution_count": 79,
   "id": "02055540",
   "metadata": {
    "ExecuteTime": {
     "end_time": "2021-11-17T14:40:53.917529Z",
     "start_time": "2021-11-17T14:40:53.904906Z"
    }
   },
   "outputs": [
    {
     "data": {
      "text/html": [
       "<div>\n",
       "<style scoped>\n",
       "    .dataframe tbody tr th:only-of-type {\n",
       "        vertical-align: middle;\n",
       "    }\n",
       "\n",
       "    .dataframe tbody tr th {\n",
       "        vertical-align: top;\n",
       "    }\n",
       "\n",
       "    .dataframe thead th {\n",
       "        text-align: right;\n",
       "    }\n",
       "</style>\n",
       "<table border=\"1\" class=\"dataframe\">\n",
       "  <thead>\n",
       "    <tr style=\"text-align: right;\">\n",
       "      <th></th>\n",
       "      <th>product_id</th>\n",
       "      <th>name</th>\n",
       "      <th>category</th>\n",
       "      <th>price</th>\n",
       "      <th>style_id</th>\n",
       "      <th>color_id</th>\n",
       "      <th>product_color</th>\n",
       "      <th>fit</th>\n",
       "      <th>composition</th>\n",
       "      <th>size</th>\n",
       "      <th>sustainable_materials</th>\n",
       "      <th>scrapy_datetime</th>\n",
       "    </tr>\n",
       "  </thead>\n",
       "  <tbody>\n",
       "    <tr>\n",
       "      <th>0</th>\n",
       "      <td>985197001</td>\n",
       "      <td>Slim Jeans</td>\n",
       "      <td>men_jeans_slim</td>\n",
       "      <td>$ 19.99</td>\n",
       "      <td>985197</td>\n",
       "      <td>1</td>\n",
       "      <td>Midnight blue</td>\n",
       "      <td>Slim fit</td>\n",
       "      <td>Pocket lining: Cotton 100%</td>\n",
       "      <td>The model is 189cm/6'2\" and wears a size 32/32</td>\n",
       "      <td>NaN</td>\n",
       "      <td>2021-11-17 10-11-07</td>\n",
       "    </tr>\n",
       "    <tr>\n",
       "      <th>1</th>\n",
       "      <td>985197001</td>\n",
       "      <td>Slim Jeans</td>\n",
       "      <td>men_jeans_slim</td>\n",
       "      <td>$ 19.99</td>\n",
       "      <td>985197</td>\n",
       "      <td>1</td>\n",
       "      <td>Midnight blue</td>\n",
       "      <td>Slim fit</td>\n",
       "      <td>Shell: Cotton 98%, Spandex 2%</td>\n",
       "      <td>The model is 189cm/6'2\" and wears a size 32/32</td>\n",
       "      <td>NaN</td>\n",
       "      <td>2021-11-17 10-11-07</td>\n",
       "    </tr>\n",
       "    <tr>\n",
       "      <th>2</th>\n",
       "      <td>985197001</td>\n",
       "      <td>Slim Jeans</td>\n",
       "      <td>men_jeans_slim</td>\n",
       "      <td>$ 19.99</td>\n",
       "      <td>985197</td>\n",
       "      <td>1</td>\n",
       "      <td>Denim blue</td>\n",
       "      <td>Slim fit</td>\n",
       "      <td>Pocket lining: Cotton 100%</td>\n",
       "      <td>The model is 189cm/6'2\" and wears a size 32/32</td>\n",
       "      <td>NaN</td>\n",
       "      <td>2021-11-17 10-11-07</td>\n",
       "    </tr>\n",
       "  </tbody>\n",
       "</table>\n",
       "</div>"
      ],
      "text/plain": [
       "   product_id        name        category    price  style_id  color_id  \\\n",
       "0   985197001  Slim Jeans  men_jeans_slim  $ 19.99    985197         1   \n",
       "1   985197001  Slim Jeans  men_jeans_slim  $ 19.99    985197         1   \n",
       "2   985197001  Slim Jeans  men_jeans_slim  $ 19.99    985197         1   \n",
       "\n",
       "   product_color       fit                    composition  \\\n",
       "0  Midnight blue  Slim fit     Pocket lining: Cotton 100%   \n",
       "1  Midnight blue  Slim fit  Shell: Cotton 98%, Spandex 2%   \n",
       "2     Denim blue  Slim fit     Pocket lining: Cotton 100%   \n",
       "\n",
       "                                             size sustainable_materials  \\\n",
       "0  The model is 189cm/6'2\" and wears a size 32/32                   NaN   \n",
       "1  The model is 189cm/6'2\" and wears a size 32/32                   NaN   \n",
       "2  The model is 189cm/6'2\" and wears a size 32/32                   NaN   \n",
       "\n",
       "       scrapy_datetime  \n",
       "0  2021-11-17 10-11-07  \n",
       "1  2021-11-17 10-11-07  \n",
       "2  2021-11-17 10-11-07  "
      ]
     },
     "execution_count": 79,
     "metadata": {},
     "output_type": "execute_result"
    }
   ],
   "source": [
    "data = pd.read_csv('../data/products_hnm.csv')\n",
    "data = data[['product_id', 'name', 'category', 'price',\n",
    "       'style_id', 'color_id', 'product_color', 'fit', 'composition', 'size',\n",
    "       'sustainable_materials', 'scrapy_datetime']]\n",
    "data.head(3)"
   ]
  },
  {
   "cell_type": "code",
   "execution_count": 124,
   "id": "325f4304",
   "metadata": {
    "ExecuteTime": {
     "end_time": "2021-11-17T15:02:11.088062Z",
     "start_time": "2021-11-17T15:02:11.078869Z"
    }
   },
   "outputs": [
    {
     "data": {
      "text/plain": [
       "product_id                 0\n",
       "name                       0\n",
       "category                   0\n",
       "price                      0\n",
       "style_id                   0\n",
       "color_id                   0\n",
       "product_color              0\n",
       "fit                        0\n",
       "composition                0\n",
       "size                     739\n",
       "sustainable_materials    826\n",
       "scrapy_datetime            0\n",
       "dtype: int64"
      ]
     },
     "metadata": {},
     "output_type": "display_data"
    },
    {
     "name": "stdout",
     "output_type": "stream",
     "text": [
      "<class 'pandas.core.frame.DataFrame'>\n",
      "RangeIndex: 1728 entries, 0 to 1727\n",
      "Data columns (total 12 columns):\n",
      " #   Column                 Non-Null Count  Dtype                                 \n",
      "---  ------                 --------------  -----                                 \n",
      " 0   product_id             1728 non-null   int64                                 \n",
      " 1   name                   1728 non-null   object                                \n",
      " 2   category               1728 non-null   object                                \n",
      " 3   price                  1728 non-null   float64                               \n",
      " 4   style_id               1728 non-null   int64                                 \n",
      " 5   color_id               1728 non-null   int64                                 \n",
      " 6   product_color          1728 non-null   object                                \n",
      " 7   fit                    1728 non-null   object                                \n",
      " 8   composition            1728 non-null   object                                \n",
      " 9   size                   989 non-null    object                                \n",
      " 10  sustainable_materials  902 non-null    object                                \n",
      " 11  scrapy_datetime        1728 non-null   datetime64[ns, pytz.FixedOffset(-420)]\n",
      "dtypes: datetime64[ns, pytz.FixedOffset(-420)](1), float64(1), int64(3), object(7)\n",
      "memory usage: 162.1+ KB\n"
     ]
    }
   ],
   "source": [
    "display(data.isna().sum())\n",
    "data.info()"
   ]
  },
  {
   "cell_type": "code",
   "execution_count": 101,
   "id": "33d969b7",
   "metadata": {
    "ExecuteTime": {
     "end_time": "2021-11-17T14:53:37.895658Z",
     "start_time": "2021-11-17T14:53:37.890092Z"
    }
   },
   "outputs": [],
   "source": [
    "# name\n",
    "data['name'] = data['name'].str.lower().str.replace(' ', '_')\n",
    "\n",
    "# price\n",
    "data['price'] = data['price'].apply(lambda x: float(x.replace('$ ', '')))\n",
    "\n",
    "# scrapy_datetime\n",
    "data['scrapy_datetime'] = pd.to_datetime(data['scrapy_datetime'], format='%Y-%m-%d %H:%M:%S')\n",
    "\n",
    "# fit\n",
    "data['fit'] = data['fit'].str.lower().str.replace(' ', '_')\n",
    "\n",
    "# product color\n",
    "data['product_color'] = data['product_color'].apply(lambda x: x.replace(' ', '_').replace('/', '_').lower())"
   ]
  },
  {
   "cell_type": "code",
   "execution_count": 122,
   "id": "842412ce",
   "metadata": {
    "ExecuteTime": {
     "end_time": "2021-11-17T15:01:26.090883Z",
     "start_time": "2021-11-17T15:01:26.082550Z"
    }
   },
   "outputs": [
    {
     "data": {
      "text/html": [
       "<div>\n",
       "<style scoped>\n",
       "    .dataframe tbody tr th:only-of-type {\n",
       "        vertical-align: middle;\n",
       "    }\n",
       "\n",
       "    .dataframe tbody tr th {\n",
       "        vertical-align: top;\n",
       "    }\n",
       "\n",
       "    .dataframe thead th {\n",
       "        text-align: right;\n",
       "    }\n",
       "</style>\n",
       "<table border=\"1\" class=\"dataframe\">\n",
       "  <thead>\n",
       "    <tr style=\"text-align: right;\">\n",
       "      <th></th>\n",
       "      <th>product_id</th>\n",
       "      <th>name</th>\n",
       "      <th>category</th>\n",
       "      <th>price</th>\n",
       "      <th>style_id</th>\n",
       "      <th>color_id</th>\n",
       "      <th>product_color</th>\n",
       "      <th>fit</th>\n",
       "      <th>composition</th>\n",
       "      <th>size</th>\n",
       "      <th>sustainable_materials</th>\n",
       "      <th>scrapy_datetime</th>\n",
       "    </tr>\n",
       "  </thead>\n",
       "  <tbody>\n",
       "    <tr>\n",
       "      <th>0</th>\n",
       "      <td>985197001</td>\n",
       "      <td>slim_jeans</td>\n",
       "      <td>men_jeans_slim</td>\n",
       "      <td>19.99</td>\n",
       "      <td>985197</td>\n",
       "      <td>1</td>\n",
       "      <td>midnight_blue</td>\n",
       "      <td>slim_fit</td>\n",
       "      <td>Pocket lining: Cotton 100%</td>\n",
       "      <td>The model is 189cm/6'2\" and wears a size 32/32</td>\n",
       "      <td>NaN</td>\n",
       "      <td>2021-11-17 10:00:00-07:00</td>\n",
       "    </tr>\n",
       "    <tr>\n",
       "      <th>1</th>\n",
       "      <td>985197001</td>\n",
       "      <td>slim_jeans</td>\n",
       "      <td>men_jeans_slim</td>\n",
       "      <td>19.99</td>\n",
       "      <td>985197</td>\n",
       "      <td>1</td>\n",
       "      <td>midnight_blue</td>\n",
       "      <td>slim_fit</td>\n",
       "      <td>Shell: Cotton 98%, Spandex 2%</td>\n",
       "      <td>The model is 189cm/6'2\" and wears a size 32/32</td>\n",
       "      <td>NaN</td>\n",
       "      <td>2021-11-17 10:00:00-07:00</td>\n",
       "    </tr>\n",
       "    <tr>\n",
       "      <th>2</th>\n",
       "      <td>985197001</td>\n",
       "      <td>slim_jeans</td>\n",
       "      <td>men_jeans_slim</td>\n",
       "      <td>19.99</td>\n",
       "      <td>985197</td>\n",
       "      <td>1</td>\n",
       "      <td>denim_blue</td>\n",
       "      <td>slim_fit</td>\n",
       "      <td>Pocket lining: Cotton 100%</td>\n",
       "      <td>The model is 189cm/6'2\" and wears a size 32/32</td>\n",
       "      <td>NaN</td>\n",
       "      <td>2021-11-17 10:00:00-07:00</td>\n",
       "    </tr>\n",
       "  </tbody>\n",
       "</table>\n",
       "</div>"
      ],
      "text/plain": [
       "   product_id        name        category  price  style_id  color_id  \\\n",
       "0   985197001  slim_jeans  men_jeans_slim  19.99    985197         1   \n",
       "1   985197001  slim_jeans  men_jeans_slim  19.99    985197         1   \n",
       "2   985197001  slim_jeans  men_jeans_slim  19.99    985197         1   \n",
       "\n",
       "   product_color       fit                    composition  \\\n",
       "0  midnight_blue  slim_fit     Pocket lining: Cotton 100%   \n",
       "1  midnight_blue  slim_fit  Shell: Cotton 98%, Spandex 2%   \n",
       "2     denim_blue  slim_fit     Pocket lining: Cotton 100%   \n",
       "\n",
       "                                             size sustainable_materials  \\\n",
       "0  The model is 189cm/6'2\" and wears a size 32/32                   NaN   \n",
       "1  The model is 189cm/6'2\" and wears a size 32/32                   NaN   \n",
       "2  The model is 189cm/6'2\" and wears a size 32/32                   NaN   \n",
       "\n",
       "            scrapy_datetime  \n",
       "0 2021-11-17 10:00:00-07:00  \n",
       "1 2021-11-17 10:00:00-07:00  \n",
       "2 2021-11-17 10:00:00-07:00  "
      ]
     },
     "execution_count": 122,
     "metadata": {},
     "output_type": "execute_result"
    }
   ],
   "source": [
    "data.head(3)"
   ]
  },
  {
   "cell_type": "code",
   "execution_count": 125,
   "id": "0245f106",
   "metadata": {
    "ExecuteTime": {
     "end_time": "2021-11-17T15:03:29.581754Z",
     "start_time": "2021-11-17T15:03:29.578993Z"
    }
   },
   "outputs": [
    {
     "data": {
      "text/plain": [
       "array(['The model is\\xa0189cm/6\\'2\"\\xa0and wears a size\\xa032/32',\n",
       "       'The model is\\xa0182cm/6\\'0\"\\xa0and wears a size\\xa031/32',\n",
       "       'The model is\\xa0187cm/6\\'2\"\\xa0and wears a size\\xa031/32', nan,\n",
       "       'The model is\\xa0187cm/6\\'2\"\\xa0and wears a size\\xa032/32',\n",
       "       'The model is\\xa0184cm/6\\'0\"\\xa0and wears a size\\xa031/32',\n",
       "       'The model is\\xa0187cm/6\\'2\"\\xa0and wears a size\\xa031/30',\n",
       "       'The model is\\xa0188cm/6\\'2\"\\xa0and wears a size\\xa031/32',\n",
       "       'The model is\\xa0186cm/6\\'1\"\\xa0and wears a size\\xa031/32'],\n",
       "      dtype=object)"
      ]
     },
     "execution_count": 125,
     "metadata": {},
     "output_type": "execute_result"
    }
   ],
   "source": [
    "data['size'].unique()"
   ]
  },
  {
   "cell_type": "code",
   "execution_count": null,
   "id": "3895f45f",
   "metadata": {},
   "outputs": [],
   "source": []
  }
 ],
 "metadata": {
  "hide_input": false,
  "kernelspec": {
   "display_name": "env_ds_ao_dev",
   "language": "python",
   "name": "env_ds_ao_dev"
  },
  "language_info": {
   "codemirror_mode": {
    "name": "ipython",
    "version": 3
   },
   "file_extension": ".py",
   "mimetype": "text/x-python",
   "name": "python",
   "nbconvert_exporter": "python",
   "pygments_lexer": "ipython3",
   "version": "3.8.10"
  },
  "toc": {
   "base_numbering": 1,
   "nav_menu": {},
   "number_sections": true,
   "sideBar": true,
   "skip_h1_title": false,
   "title_cell": "Table of Contents",
   "title_sidebar": "Contents",
   "toc_cell": false,
   "toc_position": {
    "height": "578.4px",
    "left": "22px",
    "top": "73.8px",
    "width": "307.2px"
   },
   "toc_section_display": true,
   "toc_window_display": true
  }
 },
 "nbformat": 4,
 "nbformat_minor": 5
}

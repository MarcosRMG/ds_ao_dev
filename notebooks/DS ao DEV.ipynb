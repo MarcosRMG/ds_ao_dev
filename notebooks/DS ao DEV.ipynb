{
 "cells": [
  {
   "cell_type": "markdown",
   "id": "04cbacae",
   "metadata": {},
   "source": [
    "# Enviroment"
   ]
  },
  {
   "cell_type": "markdown",
   "id": "ad18336f",
   "metadata": {
    "ExecuteTime": {
     "end_time": "2021-10-11T14:55:37.977044Z",
     "start_time": "2021-10-11T14:55:37.975198Z"
    },
    "heading_collapsed": true
   },
   "source": [
    "## Installations"
   ]
  },
  {
   "cell_type": "code",
   "execution_count": 4,
   "id": "ab8664a5",
   "metadata": {
    "ExecuteTime": {
     "end_time": "2021-10-13T13:07:11.601203Z",
     "start_time": "2021-10-13T13:07:10.623196Z"
    },
    "hidden": true
   },
   "outputs": [
    {
     "name": "stdout",
     "output_type": "stream",
     "text": [
      "Requirement already satisfied: bs4 in /home/marcos/Documents/ds_ao_dev/env_ds_ao_dev/lib/python3.8/site-packages (0.0.1)\r\n",
      "Requirement already satisfied: beautifulsoup4 in /home/marcos/Documents/ds_ao_dev/env_ds_ao_dev/lib/python3.8/site-packages (from bs4) (4.10.0)\r\n",
      "Requirement already satisfied: soupsieve>1.2 in /home/marcos/Documents/ds_ao_dev/env_ds_ao_dev/lib/python3.8/site-packages (from beautifulsoup4->bs4) (2.2.1)\r\n"
     ]
    }
   ],
   "source": [
    "#!pip install beautifulsoup4\n",
    "#!pip install pandas\n",
    "#!pip3 install bs4"
   ]
  },
  {
   "cell_type": "markdown",
   "id": "85d84659",
   "metadata": {
    "ExecuteTime": {
     "end_time": "2021-10-11T14:51:30.814886Z",
     "start_time": "2021-10-11T14:51:30.812663Z"
    }
   },
   "source": [
    "## Imports"
   ]
  },
  {
   "cell_type": "code",
   "execution_count": 1,
   "id": "40a9663d",
   "metadata": {
    "ExecuteTime": {
     "end_time": "2021-11-23T13:45:35.665339Z",
     "start_time": "2021-11-23T13:45:35.378245Z"
    }
   },
   "outputs": [],
   "source": [
    "# Data manipulation\n",
    "import pandas as pd\n",
    "import numpy as np\n",
    "import math\n",
    "import re\n",
    "\n",
    "# Screaping\n",
    "from   bs4 import BeautifulSoup\n",
    "import requests\n",
    "\n",
    "# Time\n",
    "from datetime import datetime\n",
    "\n",
    "# Visualization\n",
    "from tabulate import tabulate\n",
    "\n",
    "# DataBase\n",
    "import sqlite3\n",
    "from sqlalchemy import create_engine"
   ]
  },
  {
   "cell_type": "markdown",
   "id": "2dcc5e3d",
   "metadata": {
    "heading_collapsed": true
   },
   "source": [
    "## Functions"
   ]
  },
  {
   "cell_type": "markdown",
   "id": "ba254746",
   "metadata": {
    "heading_collapsed": true,
    "hidden": true
   },
   "source": [
    "### BeautifullSoup"
   ]
  },
  {
   "cell_type": "code",
   "execution_count": 3,
   "id": "1426fb4b",
   "metadata": {
    "ExecuteTime": {
     "end_time": "2021-11-20T13:11:45.241938Z",
     "start_time": "2021-11-20T13:11:45.239519Z"
    },
    "hidden": true
   },
   "outputs": [],
   "source": [
    "def clean_html(input_html):\n",
    "    '''\n",
    "    Remove spaces and \"/n\" caracters\n",
    "    \n",
    "    :param input_html: BeautifulSoup object to clean\n",
    "    \n",
    "    return New object without /n and spaces\n",
    "    '''\n",
    "    return ' '.join(input_html.split()).replace('> <', '><')"
   ]
  },
  {
   "cell_type": "markdown",
   "id": "d7859cbd",
   "metadata": {
    "heading_collapsed": true,
    "hidden": true
   },
   "source": [
    "### Database Query"
   ]
  },
  {
   "cell_type": "code",
   "execution_count": 14,
   "id": "f0758899",
   "metadata": {
    "ExecuteTime": {
     "end_time": "2021-11-22T01:40:13.291425Z",
     "start_time": "2021-11-22T01:40:13.288113Z"
    },
    "hidden": true
   },
   "outputs": [],
   "source": [
    "def query_db(query=None, database='hm_db.sqlite'):\n",
    "    '''\n",
    "    --> Do a database query\n",
    "    \n",
    "    :param query: SQL command to be executed\n",
    "    :param database: Database to manipulate\n",
    "    '''\n",
    "    conn = sqlite3.connect(database)\n",
    "    cursor = conn.execute(query)\n",
    "    conn.commit()\n",
    "    conn.close()"
   ]
  },
  {
   "cell_type": "code",
   "execution_count": 53,
   "id": "6b6e0c87",
   "metadata": {
    "ExecuteTime": {
     "end_time": "2021-11-20T13:47:47.255143Z",
     "start_time": "2021-11-20T13:47:47.249878Z"
    },
    "hidden": true
   },
   "outputs": [],
   "source": [
    "def query_visualization_db(query=None, database='hm_db.sqlite'):\n",
    "    '''\n",
    "    --> Do a database query and return an visualization\n",
    "    \n",
    "    :param query: SQL command to be executed\n",
    "    :param database: Database to manipulate\n",
    "    '''\n",
    "    conn = create_engine(f'sqlite:///{database}', echo=False)\n",
    "    display(pd.read_sql(query, conn))\n",
    "    conn.close()"
   ]
  },
  {
   "cell_type": "markdown",
   "id": "10c7d93d",
   "metadata": {},
   "source": [
    "# Web Scraping"
   ]
  },
  {
   "cell_type": "markdown",
   "id": "25e60342",
   "metadata": {},
   "source": [
    "## Beautifull Soup"
   ]
  },
  {
   "cell_type": "markdown",
   "id": "33ccc28e",
   "metadata": {
    "heading_collapsed": true
   },
   "source": [
    "### Step 1\n",
    "\n",
    "Top page"
   ]
  },
  {
   "cell_type": "code",
   "execution_count": 43,
   "id": "bbc08423",
   "metadata": {
    "ExecuteTime": {
     "end_time": "2021-11-17T13:11:07.637580Z",
     "start_time": "2021-11-17T13:11:07.079296Z"
    },
    "hidden": true
   },
   "outputs": [],
   "source": [
    "# Request informations\n",
    "url = 'https://www2.hm.com/en_us/men/products/jeans.html'\n",
    "\n",
    "headers = {'User-Agent': 'Mozilla/5.0 (X11; Linux x86_64) AppleWebKit/537.36 (KHTML, like Gecko) Chrome/94.0.4606.81 Safari/537.36'}\n",
    "page = requests.get(url, headers=headers)\n",
    "\n",
    "# BeautifulSoup html page\n",
    "soup = BeautifulSoup(page.text, 'html.parser')\n",
    "\n",
    "# BeautifulSoup html products content\n",
    "products = soup.find('ul', class_=\"products-listing small\")\n",
    "product_list = products.find_all('article', class_='hm-product-item')\n",
    "\n",
    "# product id\n",
    "product_id = [p.get('data-articlecode') for p in product_list]\n",
    "\n",
    "# product category\n",
    "product_category = [p.get('data-category') for p in product_list]\n",
    "\n",
    "# product names\n",
    "products_names = products.find_all('a', class_ = 'link')\n",
    "products_names = [p.get_text() for p in products_names]\n",
    "\n",
    "# product price\n",
    "product_price = products.find_all('span', class_ = 'price regular')\n",
    "product_price = [p.get_text() for p in product_price]\n",
    "\n",
    "# DataFrame with scrapy data\n",
    "data = pd.DataFrame([product_id, products_names, product_category, product_price]).T\n",
    "data.columns = ['product_id', 'name', 'category', 'price']\n",
    "data['scrapy_datetime'] = datetime.now().strftime('%Y-%m-%d %H-%M-%S')"
   ]
  },
  {
   "cell_type": "code",
   "execution_count": 45,
   "id": "3815663d",
   "metadata": {
    "ExecuteTime": {
     "end_time": "2021-11-17T13:12:57.090847Z",
     "start_time": "2021-11-17T13:12:57.085734Z"
    },
    "hidden": true
   },
   "outputs": [
    {
     "data": {
      "text/html": [
       "<div>\n",
       "<style scoped>\n",
       "    .dataframe tbody tr th:only-of-type {\n",
       "        vertical-align: middle;\n",
       "    }\n",
       "\n",
       "    .dataframe tbody tr th {\n",
       "        vertical-align: top;\n",
       "    }\n",
       "\n",
       "    .dataframe thead th {\n",
       "        text-align: right;\n",
       "    }\n",
       "</style>\n",
       "<table border=\"1\" class=\"dataframe\">\n",
       "  <thead>\n",
       "    <tr style=\"text-align: right;\">\n",
       "      <th></th>\n",
       "      <th>product_id</th>\n",
       "      <th>name</th>\n",
       "      <th>category</th>\n",
       "      <th>price</th>\n",
       "      <th>scrapy_datetime</th>\n",
       "    </tr>\n",
       "  </thead>\n",
       "  <tbody>\n",
       "    <tr>\n",
       "      <th>0</th>\n",
       "      <td>0985197001</td>\n",
       "      <td>Slim Jeans</td>\n",
       "      <td>men_jeans_slim</td>\n",
       "      <td>$ 19.99</td>\n",
       "      <td>2021-11-17 10-11-07</td>\n",
       "    </tr>\n",
       "    <tr>\n",
       "      <th>1</th>\n",
       "      <td>0985159001</td>\n",
       "      <td>Skinny Jeans</td>\n",
       "      <td>men_jeans_skinny</td>\n",
       "      <td>$ 19.99</td>\n",
       "      <td>2021-11-17 10-11-07</td>\n",
       "    </tr>\n",
       "    <tr>\n",
       "      <th>2</th>\n",
       "      <td>0690449051</td>\n",
       "      <td>Skinny Jeans</td>\n",
       "      <td>men_jeans_ripped</td>\n",
       "      <td>$ 39.99</td>\n",
       "      <td>2021-11-17 10-11-07</td>\n",
       "    </tr>\n",
       "    <tr>\n",
       "      <th>3</th>\n",
       "      <td>0690449022</td>\n",
       "      <td>Skinny Jeans</td>\n",
       "      <td>men_jeans_ripped</td>\n",
       "      <td>$ 39.99</td>\n",
       "      <td>2021-11-17 10-11-07</td>\n",
       "    </tr>\n",
       "    <tr>\n",
       "      <th>4</th>\n",
       "      <td>0690449043</td>\n",
       "      <td>Skinny Jeans</td>\n",
       "      <td>men_jeans_ripped</td>\n",
       "      <td>$ 39.99</td>\n",
       "      <td>2021-11-17 10-11-07</td>\n",
       "    </tr>\n",
       "  </tbody>\n",
       "</table>\n",
       "</div>"
      ],
      "text/plain": [
       "   product_id          name          category    price      scrapy_datetime\n",
       "0  0985197001    Slim Jeans    men_jeans_slim  $ 19.99  2021-11-17 10-11-07\n",
       "1  0985159001  Skinny Jeans  men_jeans_skinny  $ 19.99  2021-11-17 10-11-07\n",
       "2  0690449051  Skinny Jeans  men_jeans_ripped  $ 39.99  2021-11-17 10-11-07\n",
       "3  0690449022  Skinny Jeans  men_jeans_ripped  $ 39.99  2021-11-17 10-11-07\n",
       "4  0690449043  Skinny Jeans  men_jeans_ripped  $ 39.99  2021-11-17 10-11-07"
      ]
     },
     "execution_count": 45,
     "metadata": {},
     "output_type": "execute_result"
    }
   ],
   "source": [
    "data.head()"
   ]
  },
  {
   "cell_type": "code",
   "execution_count": 11,
   "id": "46422562",
   "metadata": {
    "ExecuteTime": {
     "end_time": "2021-10-12T12:51:50.725408Z",
     "start_time": "2021-10-12T12:51:50.723030Z"
    },
    "hidden": true
   },
   "outputs": [],
   "source": [
    "# product color"
   ]
  },
  {
   "cell_type": "code",
   "execution_count": 12,
   "id": "6dc5c534",
   "metadata": {
    "ExecuteTime": {
     "end_time": "2021-10-12T12:51:56.281588Z",
     "start_time": "2021-10-12T12:51:56.279641Z"
    },
    "hidden": true
   },
   "outputs": [],
   "source": [
    "# product composition"
   ]
  },
  {
   "cell_type": "markdown",
   "id": "82abdcf8",
   "metadata": {
    "ExecuteTime": {
     "end_time": "2021-10-12T13:04:49.696814Z",
     "start_time": "2021-10-12T13:04:49.690981Z"
    }
   },
   "source": [
    "### Step 2\n",
    "\n",
    "Paginations"
   ]
  },
  {
   "cell_type": "code",
   "execution_count": 12,
   "id": "32424837",
   "metadata": {
    "ExecuteTime": {
     "end_time": "2021-11-23T13:57:45.994617Z",
     "start_time": "2021-11-23T13:57:44.780526Z"
    }
   },
   "outputs": [],
   "source": [
    "# Request informations\n",
    "url = 'https://www2.hm.com/en_us/men/products/jeans.html'\n",
    "\n",
    "headers = {'User-Agent': 'Mozilla/5.0 (X11; Linux x86_64) AppleWebKit/537.36 (KHTML, like Gecko) Chrome/94.0.4606.81 Safari/537.36'}\n",
    "page = requests.get(url, headers=headers)\n",
    "\n",
    "# BeautifulSoup html page\n",
    "soup = BeautifulSoup(page.text, 'html.parser')"
   ]
  },
  {
   "cell_type": "code",
   "execution_count": 13,
   "id": "bb204a24",
   "metadata": {
    "ExecuteTime": {
     "end_time": "2021-11-23T13:57:46.002240Z",
     "start_time": "2021-11-23T13:57:45.995846Z"
    }
   },
   "outputs": [
    {
     "data": {
      "text/plain": [
       "85"
      ]
     },
     "execution_count": 13,
     "metadata": {},
     "output_type": "execute_result"
    }
   ],
   "source": [
    "total_items = int(soup.find('h2', class_ = 'load-more-heading').get('data-total'))\n",
    "total_items"
   ]
  },
  {
   "cell_type": "code",
   "execution_count": 14,
   "id": "988a6bde",
   "metadata": {
    "ExecuteTime": {
     "end_time": "2021-11-23T13:57:49.617271Z",
     "start_time": "2021-11-23T13:57:49.614740Z"
    }
   },
   "outputs": [
    {
     "data": {
      "text/plain": [
       "3"
      ]
     },
     "execution_count": 14,
     "metadata": {},
     "output_type": "execute_result"
    }
   ],
   "source": [
    "# How to round to upper number\n",
    "page_number = math.ceil(total_items / 36)\n",
    "page_number"
   ]
  },
  {
   "cell_type": "code",
   "execution_count": 15,
   "id": "d2ab8f46",
   "metadata": {
    "ExecuteTime": {
     "end_time": "2021-11-23T13:57:51.440557Z",
     "start_time": "2021-11-23T13:57:51.437797Z"
    }
   },
   "outputs": [
    {
     "data": {
      "text/plain": [
       "'https://www2.hm.com/en_us/men/products/jeans.html?page-size=108'"
      ]
     },
     "execution_count": 15,
     "metadata": {},
     "output_type": "execute_result"
    }
   ],
   "source": [
    "url_2 = url + '?page-size=' + str(page_number * 36)\n",
    "url_2"
   ]
  },
  {
   "cell_type": "markdown",
   "id": "1f509c55",
   "metadata": {
    "heading_collapsed": true
   },
   "source": [
    "### Step 3\n",
    "\n",
    "Specific product page (subpage)"
   ]
  },
  {
   "cell_type": "markdown",
   "id": "62bd4bec",
   "metadata": {
    "heading_collapsed": true,
    "hidden": true
   },
   "source": [
    "#### One Product"
   ]
  },
  {
   "cell_type": "code",
   "execution_count": 17,
   "id": "117a4e63",
   "metadata": {
    "ExecuteTime": {
     "end_time": "2021-11-05T11:35:46.587433Z",
     "start_time": "2021-11-05T11:35:46.179995Z"
    },
    "hidden": true
   },
   "outputs": [
    {
     "data": {
      "text/html": [
       "<div>\n",
       "<style scoped>\n",
       "    .dataframe tbody tr th:only-of-type {\n",
       "        vertical-align: middle;\n",
       "    }\n",
       "\n",
       "    .dataframe tbody tr th {\n",
       "        vertical-align: top;\n",
       "    }\n",
       "\n",
       "    .dataframe thead th {\n",
       "        text-align: right;\n",
       "    }\n",
       "</style>\n",
       "<table border=\"1\" class=\"dataframe\">\n",
       "  <thead>\n",
       "    <tr style=\"text-align: right;\">\n",
       "      <th></th>\n",
       "      <th>product_code</th>\n",
       "      <th>product_color</th>\n",
       "      <th>color_id</th>\n",
       "      <th>style_id</th>\n",
       "    </tr>\n",
       "  </thead>\n",
       "  <tbody>\n",
       "    <tr>\n",
       "      <th>0</th>\n",
       "      <td>0690449001</td>\n",
       "      <td>Light denim blue/trashed</td>\n",
       "      <td>001</td>\n",
       "      <td>0690449</td>\n",
       "    </tr>\n",
       "    <tr>\n",
       "      <th>1</th>\n",
       "      <td>0690449002</td>\n",
       "      <td>Denim blue</td>\n",
       "      <td>002</td>\n",
       "      <td>0690449</td>\n",
       "    </tr>\n",
       "    <tr>\n",
       "      <th>2</th>\n",
       "      <td>0690449006</td>\n",
       "      <td>Black/washed</td>\n",
       "      <td>006</td>\n",
       "      <td>0690449</td>\n",
       "    </tr>\n",
       "    <tr>\n",
       "      <th>3</th>\n",
       "      <td>0690449007</td>\n",
       "      <td>Light denim blue</td>\n",
       "      <td>007</td>\n",
       "      <td>0690449</td>\n",
       "    </tr>\n",
       "    <tr>\n",
       "      <th>4</th>\n",
       "      <td>0690449009</td>\n",
       "      <td>Black washed out</td>\n",
       "      <td>009</td>\n",
       "      <td>0690449</td>\n",
       "    </tr>\n",
       "  </tbody>\n",
       "</table>\n",
       "</div>"
      ],
      "text/plain": [
       "  product_code             product_color color_id style_id\n",
       "0   0690449001  Light denim blue/trashed      001  0690449\n",
       "1   0690449002                Denim blue      002  0690449\n",
       "2   0690449006              Black/washed      006  0690449\n",
       "3   0690449007          Light denim blue      007  0690449\n",
       "4   0690449009          Black washed out      009  0690449"
      ]
     },
     "execution_count": 17,
     "metadata": {},
     "output_type": "execute_result"
    }
   ],
   "source": [
    "#------------------------------API Request----------------------------\n",
    "url = 'https://www2.hm.com/en_us/productpage.0690449051.html'\n",
    "header = {'User-Agent': 'Mozilla/5.0 (X11; Linux x86_64) AppleWebKit/537.36 (KHTML, like Gecko) Chrome/94.0.4606.81 Safari/537.36'}\n",
    "page = requests.get(url, headers=header).text\n",
    "\n",
    "#------------------------------BeautifulSoup Object--------------------\n",
    "soup = BeautifulSoup(page)\n",
    "\n",
    "#------------------------------Product Color---------------------------\n",
    "\n",
    "product_detail = soup.find_all('a', class_ = 'filter-option miniature')\n",
    "product_color = [p.get('data-color') for p in product_detail]\n",
    "product_code = [p.get('data-articlecode') for p in product_detail]\n",
    "\n",
    "df_color = pd.DataFrame({'product_code': product_code, 'product_color': product_color})\n",
    "df_color['color_id'] = df_color['product_code'].apply(lambda x: x[-3:])\n",
    "df_color['style_id'] = df_color['product_code'].apply(lambda x: x[:-3])\n",
    "df_color.head()"
   ]
  },
  {
   "cell_type": "code",
   "execution_count": 18,
   "id": "62ca45d0",
   "metadata": {
    "ExecuteTime": {
     "end_time": "2021-11-05T11:35:52.827565Z",
     "start_time": "2021-11-05T11:35:52.804685Z"
    },
    "hidden": true
   },
   "outputs": [
    {
     "data": {
      "text/html": [
       "<div>\n",
       "<style scoped>\n",
       "    .dataframe tbody tr th:only-of-type {\n",
       "        vertical-align: middle;\n",
       "    }\n",
       "\n",
       "    .dataframe tbody tr th {\n",
       "        vertical-align: top;\n",
       "    }\n",
       "\n",
       "    .dataframe thead th {\n",
       "        text-align: right;\n",
       "    }\n",
       "</style>\n",
       "<table border=\"1\" class=\"dataframe\">\n",
       "  <thead>\n",
       "    <tr style=\"text-align: right;\">\n",
       "      <th></th>\n",
       "      <th>fit</th>\n",
       "      <th>composition</th>\n",
       "      <th>product_code</th>\n",
       "      <th>style_id</th>\n",
       "      <th>color_id</th>\n",
       "    </tr>\n",
       "  </thead>\n",
       "  <tbody>\n",
       "    <tr>\n",
       "      <th>1</th>\n",
       "      <td>Skinny fit</td>\n",
       "      <td>Cotton 98%, Spandex 2%</td>\n",
       "      <td>0690449051</td>\n",
       "      <td>0690449</td>\n",
       "      <td>051</td>\n",
       "    </tr>\n",
       "  </tbody>\n",
       "</table>\n",
       "</div>"
      ],
      "text/plain": [
       "          fit             composition product_code style_id color_id\n",
       "1  Skinny fit  Cotton 98%, Spandex 2%   0690449051  0690449      051"
      ]
     },
     "execution_count": 18,
     "metadata": {},
     "output_type": "execute_result"
    }
   ],
   "source": [
    "#------------------------------Product Composition---------------------------\n",
    "product_composition = [list(filter(None, p.get_text().split('\\n'))) for p in soup.find_all('div', class_ = 'pdp-description-list-item')]\n",
    "\n",
    "df_composition = pd.DataFrame(product_composition).T\n",
    "df_composition.columns = df_composition.iloc[0]\n",
    "df_composition.drop(index=0, inplace=True)\n",
    "\n",
    "df_composition = df_composition[['Fit', 'Composition', 'Art. No.']]\n",
    "df_composition.columns = df_composition.columns.str.lower()\n",
    "df_composition.columns = ['fit', 'composition', 'product_code']\n",
    "df_composition.fillna(method='ffill', inplace=True)\n",
    "df_composition['style_id'] = df_composition['product_code'].apply(lambda x: x[:-3])\n",
    "df_composition['color_id'] = df_composition['product_code'].apply(lambda x: x[-3:])\n",
    "df_composition"
   ]
  },
  {
   "cell_type": "code",
   "execution_count": 4,
   "id": "ea21d791",
   "metadata": {
    "ExecuteTime": {
     "end_time": "2021-10-19T11:33:25.125767Z",
     "start_time": "2021-10-19T11:33:25.111772Z"
    },
    "hidden": true
   },
   "outputs": [
    {
     "data": {
      "text/html": [
       "<div>\n",
       "<style scoped>\n",
       "    .dataframe tbody tr th:only-of-type {\n",
       "        vertical-align: middle;\n",
       "    }\n",
       "\n",
       "    .dataframe tbody tr th {\n",
       "        vertical-align: top;\n",
       "    }\n",
       "\n",
       "    .dataframe thead th {\n",
       "        text-align: right;\n",
       "    }\n",
       "</style>\n",
       "<table border=\"1\" class=\"dataframe\">\n",
       "  <thead>\n",
       "    <tr style=\"text-align: right;\">\n",
       "      <th></th>\n",
       "      <th>product_code</th>\n",
       "      <th>product_color</th>\n",
       "      <th>color_id</th>\n",
       "      <th>style_id</th>\n",
       "      <th>fit</th>\n",
       "      <th>composition</th>\n",
       "    </tr>\n",
       "  </thead>\n",
       "  <tbody>\n",
       "    <tr>\n",
       "      <th>0</th>\n",
       "      <td>0690449001</td>\n",
       "      <td>Light denim blue/trashed</td>\n",
       "      <td>001</td>\n",
       "      <td>0690449</td>\n",
       "      <td>Skinny fit</td>\n",
       "      <td>Cotton 98%, Elastane 2%</td>\n",
       "    </tr>\n",
       "    <tr>\n",
       "      <th>1</th>\n",
       "      <td>0690449002</td>\n",
       "      <td>Denim blue</td>\n",
       "      <td>002</td>\n",
       "      <td>0690449</td>\n",
       "      <td>Skinny fit</td>\n",
       "      <td>Cotton 98%, Elastane 2%</td>\n",
       "    </tr>\n",
       "    <tr>\n",
       "      <th>2</th>\n",
       "      <td>0690449006</td>\n",
       "      <td>Black/washed</td>\n",
       "      <td>006</td>\n",
       "      <td>0690449</td>\n",
       "      <td>Skinny fit</td>\n",
       "      <td>Cotton 98%, Elastane 2%</td>\n",
       "    </tr>\n",
       "    <tr>\n",
       "      <th>3</th>\n",
       "      <td>0690449007</td>\n",
       "      <td>Light denim blue</td>\n",
       "      <td>007</td>\n",
       "      <td>0690449</td>\n",
       "      <td>Skinny fit</td>\n",
       "      <td>Cotton 98%, Elastane 2%</td>\n",
       "    </tr>\n",
       "    <tr>\n",
       "      <th>4</th>\n",
       "      <td>0690449009</td>\n",
       "      <td>Black washed out</td>\n",
       "      <td>009</td>\n",
       "      <td>0690449</td>\n",
       "      <td>Skinny fit</td>\n",
       "      <td>Cotton 98%, Elastane 2%</td>\n",
       "    </tr>\n",
       "    <tr>\n",
       "      <th>5</th>\n",
       "      <td>0690449011</td>\n",
       "      <td>White</td>\n",
       "      <td>011</td>\n",
       "      <td>0690449</td>\n",
       "      <td>Skinny fit</td>\n",
       "      <td>Cotton 98%, Elastane 2%</td>\n",
       "    </tr>\n",
       "    <tr>\n",
       "      <th>6</th>\n",
       "      <td>0690449013</td>\n",
       "      <td>Black/washed</td>\n",
       "      <td>013</td>\n",
       "      <td>0690449</td>\n",
       "      <td>Skinny fit</td>\n",
       "      <td>Cotton 98%, Elastane 2%</td>\n",
       "    </tr>\n",
       "    <tr>\n",
       "      <th>7</th>\n",
       "      <td>0690449021</td>\n",
       "      <td>Dark denim blue/trashed</td>\n",
       "      <td>021</td>\n",
       "      <td>0690449</td>\n",
       "      <td>Skinny fit</td>\n",
       "      <td>Cotton 98%, Elastane 2%</td>\n",
       "    </tr>\n",
       "    <tr>\n",
       "      <th>8</th>\n",
       "      <td>0690449022</td>\n",
       "      <td>Black/trashed</td>\n",
       "      <td>022</td>\n",
       "      <td>0690449</td>\n",
       "      <td>Skinny fit</td>\n",
       "      <td>Cotton 98%, Elastane 2%</td>\n",
       "    </tr>\n",
       "    <tr>\n",
       "      <th>9</th>\n",
       "      <td>0690449024</td>\n",
       "      <td>Dark blue/Trashed</td>\n",
       "      <td>024</td>\n",
       "      <td>0690449</td>\n",
       "      <td>Skinny fit</td>\n",
       "      <td>Cotton 98%, Elastane 2%</td>\n",
       "    </tr>\n",
       "    <tr>\n",
       "      <th>10</th>\n",
       "      <td>0690449028</td>\n",
       "      <td>Dark blue/washed out</td>\n",
       "      <td>028</td>\n",
       "      <td>0690449</td>\n",
       "      <td>Skinny fit</td>\n",
       "      <td>Cotton 98%, Elastane 2%</td>\n",
       "    </tr>\n",
       "    <tr>\n",
       "      <th>11</th>\n",
       "      <td>0690449035</td>\n",
       "      <td>Denim blue/trashed</td>\n",
       "      <td>035</td>\n",
       "      <td>0690449</td>\n",
       "      <td>Skinny fit</td>\n",
       "      <td>Cotton 98%, Elastane 2%</td>\n",
       "    </tr>\n",
       "    <tr>\n",
       "      <th>12</th>\n",
       "      <td>0690449036</td>\n",
       "      <td>Black</td>\n",
       "      <td>036</td>\n",
       "      <td>0690449</td>\n",
       "      <td>Skinny fit</td>\n",
       "      <td>Cotton 98%, Elastane 2%</td>\n",
       "    </tr>\n",
       "    <tr>\n",
       "      <th>13</th>\n",
       "      <td>0690449040</td>\n",
       "      <td>Denim gray</td>\n",
       "      <td>040</td>\n",
       "      <td>0690449</td>\n",
       "      <td>Skinny fit</td>\n",
       "      <td>Cotton 98%, Elastane 2%</td>\n",
       "    </tr>\n",
       "    <tr>\n",
       "      <th>14</th>\n",
       "      <td>0690449043</td>\n",
       "      <td>Light denim blue/trashed</td>\n",
       "      <td>043</td>\n",
       "      <td>0690449</td>\n",
       "      <td>Skinny fit</td>\n",
       "      <td>Cotton 98%, Elastane 2%</td>\n",
       "    </tr>\n",
       "    <tr>\n",
       "      <th>15</th>\n",
       "      <td>0690449046</td>\n",
       "      <td>Light denim gray/Trashed</td>\n",
       "      <td>046</td>\n",
       "      <td>0690449</td>\n",
       "      <td>Skinny fit</td>\n",
       "      <td>Cotton 98%, Elastane 2%</td>\n",
       "    </tr>\n",
       "  </tbody>\n",
       "</table>\n",
       "</div>"
      ],
      "text/plain": [
       "   product_code             product_color color_id style_id         fit  \\\n",
       "0    0690449001  Light denim blue/trashed      001  0690449  Skinny fit   \n",
       "1    0690449002                Denim blue      002  0690449  Skinny fit   \n",
       "2    0690449006              Black/washed      006  0690449  Skinny fit   \n",
       "3    0690449007          Light denim blue      007  0690449  Skinny fit   \n",
       "4    0690449009          Black washed out      009  0690449  Skinny fit   \n",
       "5    0690449011                     White      011  0690449  Skinny fit   \n",
       "6    0690449013              Black/washed      013  0690449  Skinny fit   \n",
       "7    0690449021   Dark denim blue/trashed      021  0690449  Skinny fit   \n",
       "8    0690449022             Black/trashed      022  0690449  Skinny fit   \n",
       "9    0690449024         Dark blue/Trashed      024  0690449  Skinny fit   \n",
       "10   0690449028      Dark blue/washed out      028  0690449  Skinny fit   \n",
       "11   0690449035        Denim blue/trashed      035  0690449  Skinny fit   \n",
       "12   0690449036                     Black      036  0690449  Skinny fit   \n",
       "13   0690449040                Denim gray      040  0690449  Skinny fit   \n",
       "14   0690449043  Light denim blue/trashed      043  0690449  Skinny fit   \n",
       "15   0690449046  Light denim gray/Trashed      046  0690449  Skinny fit   \n",
       "\n",
       "                composition  \n",
       "0   Cotton 98%, Elastane 2%  \n",
       "1   Cotton 98%, Elastane 2%  \n",
       "2   Cotton 98%, Elastane 2%  \n",
       "3   Cotton 98%, Elastane 2%  \n",
       "4   Cotton 98%, Elastane 2%  \n",
       "5   Cotton 98%, Elastane 2%  \n",
       "6   Cotton 98%, Elastane 2%  \n",
       "7   Cotton 98%, Elastane 2%  \n",
       "8   Cotton 98%, Elastane 2%  \n",
       "9   Cotton 98%, Elastane 2%  \n",
       "10  Cotton 98%, Elastane 2%  \n",
       "11  Cotton 98%, Elastane 2%  \n",
       "12  Cotton 98%, Elastane 2%  \n",
       "13  Cotton 98%, Elastane 2%  \n",
       "14  Cotton 98%, Elastane 2%  \n",
       "15  Cotton 98%, Elastane 2%  "
      ]
     },
     "execution_count": 4,
     "metadata": {},
     "output_type": "execute_result"
    }
   ],
   "source": [
    "#------------------------------SKU Product---------------------------\n",
    "df_sku = pd.merge(df_color, df_composition[['style_id', 'fit', 'composition']], how='left', on='style_id')\n",
    "df_sku"
   ]
  },
  {
   "cell_type": "markdown",
   "id": "7ddb0fab",
   "metadata": {
    "heading_collapsed": true,
    "hidden": true
   },
   "source": [
    "#### All products"
   ]
  },
  {
   "cell_type": "code",
   "execution_count": 66,
   "id": "48e4b31c",
   "metadata": {
    "ExecuteTime": {
     "end_time": "2021-11-17T14:26:28.696404Z",
     "start_time": "2021-11-17T14:25:52.327743Z"
    },
    "hidden": true
   },
   "outputs": [],
   "source": [
    "#------------------------------API Request----------------------------\n",
    "header = {'User-Agent': 'Mozilla/5.0 (X11; Linux x86_64) AppleWebKit/537.36 (KHTML, like Gecko) Chrome/94.0.4606.81 Safari/537.36'}\n",
    "# URL model = 'https://www2.hm.com/en_us/productpage + product code + .html'\n",
    "\n",
    "df_details = pd.DataFrame()\n",
    "columns_available = list()\n",
    "df_pattern = pd.DataFrame(columns=['Art. No.', 'Composition', 'Fit', 'More sustainable materials', 'Size'])\n",
    "\n",
    "for i in range(len(data)):\n",
    "    # URL composition and request\n",
    "    url = f\"https://www2.hm.com/en_us/productpage.{data.loc[i, 'product_id']}.html\"\n",
    "    page = requests.get(url, headers=header).text\n",
    "    \n",
    "    #------------------------------BeautifulSoup Object--------------------\n",
    "    soup = BeautifulSoup(page)\n",
    "\n",
    "    #------------------------------Product Color---------------------------\n",
    "\n",
    "    product_detail = soup.find_all('a', class_ = 'filter-option miniature')\n",
    "    product_color = [p.get('data-color') for p in product_detail]\n",
    "    product_code = [p.get('data-articlecode') for p in product_detail]\n",
    "\n",
    "    df_color = pd.DataFrame({'product_code': product_code, 'product_color': product_color})\n",
    "    df_color['color_id'] = df_color['product_code'].apply(lambda x: x[-3:])\n",
    "    df_color['style_id'] = df_color['product_code'].apply(lambda x: x[:-3])\n",
    "    \n",
    "    #------------------------------Product Composition---------------------------\n",
    "    ## Get composition information\n",
    "    product_composition = [list(filter(None, p.get_text().split('\\n'))) for p in soup.find_all('div', class_ = 'pdp-description-list-item')]\n",
    "    \n",
    "    ## Composition to DataFrame\n",
    "    df_composition = pd.DataFrame(product_composition).T\n",
    "    df_composition.columns = df_composition.iloc[0]\n",
    "    df_composition.drop(index=0, inplace=True)\n",
    "    \n",
    "    #columns_available = columns_available + df_composition.columns.to_list()\n",
    "    \n",
    "    ## Garantee the patters columns\n",
    "    df_composition = pd.concat([df_pattern, df_composition])\n",
    "    \n",
    "    #df_composition = df_composition[['Fit', 'Composition', 'Art. No.']]\n",
    "    \n",
    "    # Rename columns and fill data below\n",
    "    df_composition.columns = df_composition.columns.str.lower()\n",
    "    df_composition.columns = ['product_code', 'composition', 'fit', 'sustainable_materials', 'size']\n",
    "    df_composition.fillna(method='ffill', inplace=True)\n",
    "    \n",
    "    \n",
    "    # Derivate new features\n",
    "    df_composition['style_id'] = df_composition['product_code'].apply(lambda x: x[:-3])\n",
    "    df_composition['color_id'] = df_composition['product_code'].apply(lambda x: x[-3:])\n",
    "    \n",
    "    \n",
    "    #------------------------------SKU Product---------------------------\n",
    "    df_sku = pd.merge(df_color, df_composition[['style_id', 'fit', 'composition', 'size', 'sustainable_materials']], \n",
    "                      how='left', on='style_id')\n",
    "    \n",
    "    \n",
    "    #------------------------------All products--------------------------\n",
    "    df_details = pd.concat([df_all_products, df_sku], axis=0)\n",
    "    \n",
    "\n",
    "# Join showroom data + details\n",
    "data['style_id'] = data['product_id'].apply(lambda x: x[:-3])\n",
    "data['color_id'] = data['product_id'].apply(lambda x: x[-3:])\n",
    "data_raw = pd.merge(data, df_details[['style_id', 'product_color', 'fit', 'composition', 'size', \n",
    "                                      'sustainable_materials']], on='style_id', how='left')"
   ]
  },
  {
   "cell_type": "code",
   "execution_count": 75,
   "id": "afb6a673",
   "metadata": {
    "ExecuteTime": {
     "end_time": "2021-11-17T14:32:49.010049Z",
     "start_time": "2021-11-17T14:32:49.001803Z"
    },
    "hidden": true
   },
   "outputs": [],
   "source": [
    "# Save file\n",
    "data_raw.to_csv('../data/products_hnm.csv', index=False)"
   ]
  },
  {
   "cell_type": "markdown",
   "id": "82e419f0",
   "metadata": {
    "heading_collapsed": true
   },
   "source": [
    "## Exercises\n",
    "\n",
    "### Collect the following information on the page: https://books.toscrape.com\n",
    "\n",
    "- Catalog\n",
    "\n",
    "    - Classics\n",
    "\n",
    "    - Science Fiction\n",
    "\n",
    "    - Humor\n",
    "\n",
    "    - Business\n",
    "\n",
    "- Collect the following information about the books:\n",
    "    \n",
    "    - Name of book\n",
    "  \n",
    "    - Price in pound\n",
    " \n",
    "    - Rating\n",
    " \n",
    "    - Stock information\n",
    " \n",
    "### Deliverable\n",
    "- A plan to all questions:\n",
    " \n",
    "    - Output: The simulation of a table or final graph\n",
    " \n",
    "    - Process: Step sequence organized by logical execution\n",
    " \n",
    "    - Input: The link for data source\n",
    "   \n",
    "- A csv file with all collected information."
   ]
  },
  {
   "cell_type": "markdown",
   "id": "7b2f2597",
   "metadata": {
    "heading_collapsed": true,
    "hidden": true
   },
   "source": [
    "### Plan"
   ]
  },
  {
   "cell_type": "markdown",
   "id": "2d0d679a",
   "metadata": {
    "hidden": true
   },
   "source": [
    "<font size=\"3\"><b>Output</b></font>\n",
    "\n",
    "Columns in the table\n",
    "\n",
    "Catalog | Name of Book | Price | Rating | Stocks Status"
   ]
  },
  {
   "cell_type": "code",
   "execution_count": 37,
   "id": "723c113d",
   "metadata": {
    "ExecuteTime": {
     "end_time": "2021-10-19T13:25:19.199352Z",
     "start_time": "2021-10-19T13:25:19.195811Z"
    },
    "hidden": true,
    "hide_input": true
   },
   "outputs": [
    {
     "name": "stdout",
     "output_type": "stream",
     "text": [
      "catalog          book_name          price      rating  stock_status\n",
      "---------------  -----------------  -------  --------  --------------\n",
      "Cassic           The Secret Garden  £15.08          4  In stock\n",
      "Science Fiction  Mesaerion          £37.59          1  In stock\n"
     ]
    }
   ],
   "source": [
    "tab = [\n",
    "    ['catalog', 'book_name', 'price', 'rating', 'stock_status'],\n",
    "    ['Cassic', 'The Secret Garden', '£15.08', '4', 'In stock'],\n",
    "    ['Science Fiction', 'Mesaerion', '£37.59', '1', 'In stock']\n",
    "]\n",
    "\n",
    "print(tabulate(tab, headers='firstrow'))"
   ]
  },
  {
   "cell_type": "markdown",
   "id": "cc63006e",
   "metadata": {
    "hidden": true,
    "hide_input": false
   },
   "source": [
    "<font size=\"3\"><b>Process</b></font>\n",
    "\n",
    "Step 1: Create a soup object from the book collection page\n",
    "\n",
    "Step 2: Identify book attribute tags for capture\n",
    "\n",
    "Step 3: Get all the information from the book collection\n",
    "\n",
    "Step 4: Repeat process for all book collections\n",
    "\n",
    "Step 5: Create a DataFrame Pandas with all the information from the book collections\n",
    "\n",
    "Step 6: Generate a csv file with the collected information"
   ]
  },
  {
   "cell_type": "markdown",
   "id": "0b5f8b95",
   "metadata": {
    "hidden": true,
    "hide_input": false
   },
   "source": [
    "<font size=\"3\"><b>Input</b></font>\n",
    "\n",
    "<a href=\"https://books.toscrape.com/catalogue/category/books/classics_6/index.html\">Classics</a> \n",
    "\n",
    "<a href=\"https://books.toscrape.com/catalogue/category/books/science-fiction_16/index.html\">Science Fiction</a> \n",
    "\n",
    "<a href=\"https://books.toscrape.com/catalogue/category/books/humor_30/index.html\">Humor</a> \n",
    "\n",
    "<a href=\"https://books.toscrape.com/catalogue/category/books/business_35/index.html\">Business</a> "
   ]
  },
  {
   "cell_type": "markdown",
   "id": "ef35b5b2",
   "metadata": {
    "heading_collapsed": true,
    "hidden": true
   },
   "source": [
    "#### Step 1 to 3"
   ]
  },
  {
   "cell_type": "markdown",
   "id": "574f808d",
   "metadata": {
    "heading_collapsed": true,
    "hidden": true
   },
   "source": [
    "##### Top page"
   ]
  },
  {
   "cell_type": "code",
   "execution_count": 3,
   "id": "139c775f",
   "metadata": {
    "ExecuteTime": {
     "end_time": "2021-11-02T12:44:08.601297Z",
     "start_time": "2021-11-02T12:44:08.598645Z"
    },
    "hidden": true
   },
   "outputs": [],
   "source": [
    "headers = {'User-Agent': 'Mozilla/5.0 (X11; Linux x86_64) AppleWebKit/537.36 (KHTML, like Gecko) Chrome/94.0.4606.81 Safari/537.36'}"
   ]
  },
  {
   "cell_type": "code",
   "execution_count": 76,
   "id": "b40aab9b",
   "metadata": {
    "ExecuteTime": {
     "end_time": "2021-11-02T13:29:20.990027Z",
     "start_time": "2021-11-02T13:29:19.866714Z"
    },
    "hidden": true
   },
   "outputs": [],
   "source": [
    "# Request information\n",
    "\n",
    "url_classics = 'https://books.toscrape.com/catalogue/category/books/classics_6/index.html'\n",
    "page = requests.get(url_classics, headers=headers)"
   ]
  },
  {
   "cell_type": "code",
   "execution_count": 77,
   "id": "47420f04",
   "metadata": {
    "ExecuteTime": {
     "end_time": "2021-11-02T13:29:21.833772Z",
     "start_time": "2021-11-02T13:29:21.830491Z"
    },
    "hidden": true
   },
   "outputs": [],
   "source": [
    "# Clean html\n",
    "page = clean_html(page.text)"
   ]
  },
  {
   "cell_type": "code",
   "execution_count": 78,
   "id": "0ee67b41",
   "metadata": {
    "ExecuteTime": {
     "end_time": "2021-11-02T13:29:23.172489Z",
     "start_time": "2021-11-02T13:29:23.147650Z"
    },
    "hidden": true
   },
   "outputs": [],
   "source": [
    "# BeautifulSoup object\n",
    "soup = BeautifulSoup(page, 'html.parser')"
   ]
  },
  {
   "cell_type": "code",
   "execution_count": 144,
   "id": "ab365736",
   "metadata": {
    "ExecuteTime": {
     "end_time": "2021-11-02T14:25:32.281675Z",
     "start_time": "2021-11-02T14:25:32.277190Z"
    },
    "hidden": true
   },
   "outputs": [],
   "source": [
    "# Name of collection\n",
    "catalog = soup.find('h1').text"
   ]
  },
  {
   "cell_type": "code",
   "execution_count": 69,
   "id": "8c7edd09",
   "metadata": {
    "ExecuteTime": {
     "end_time": "2021-11-02T13:23:12.734835Z",
     "start_time": "2021-11-02T13:23:12.731349Z"
    },
    "hidden": true
   },
   "outputs": [
    {
     "data": {
      "text/plain": [
       "['The Secret Garden',\n",
       " 'The Metamorphosis',\n",
       " \"The Pilgrim's Progress\",\n",
       " 'The Hound of the ...',\n",
       " 'Little Women (Little Women ...',\n",
       " 'Gone with the Wind',\n",
       " 'Candide',\n",
       " 'Animal Farm',\n",
       " 'Wuthering Heights',\n",
       " 'The Picture of Dorian ...',\n",
       " 'The Complete Stories and ...',\n",
       " 'Beowulf',\n",
       " 'And Then There Were ...',\n",
       " 'The Story of Hong ...',\n",
       " 'The Little Prince',\n",
       " 'Sense and Sensibility',\n",
       " 'Of Mice and Men',\n",
       " 'Emma',\n",
       " \"Alice in Wonderland (Alice's ...\"]"
      ]
     },
     "execution_count": 69,
     "metadata": {},
     "output_type": "execute_result"
    }
   ],
   "source": [
    "# Name of book\n",
    "book_name = soup.find_all('h3')\n",
    "book_name_list = [name.get_text() for name in book_name]\n",
    "book_name_list"
   ]
  },
  {
   "cell_type": "code",
   "execution_count": 70,
   "id": "5c70b690",
   "metadata": {
    "ExecuteTime": {
     "end_time": "2021-11-02T13:23:33.335953Z",
     "start_time": "2021-11-02T13:23:33.326853Z"
    },
    "hidden": true
   },
   "outputs": [
    {
     "data": {
      "text/plain": [
       "['Â£15.08',\n",
       " 'Â£28.58',\n",
       " 'Â£50.26',\n",
       " 'Â£14.82',\n",
       " 'Â£28.07',\n",
       " 'Â£32.49',\n",
       " 'Â£58.63',\n",
       " 'Â£57.22',\n",
       " 'Â£17.73',\n",
       " 'Â£29.70',\n",
       " 'Â£26.78',\n",
       " 'Â£38.35',\n",
       " 'Â£35.01',\n",
       " 'Â£43.19',\n",
       " 'Â£45.42',\n",
       " 'Â£37.46',\n",
       " 'Â£47.11',\n",
       " 'Â£32.93',\n",
       " 'Â£55.53']"
      ]
     },
     "execution_count": 70,
     "metadata": {},
     "output_type": "execute_result"
    }
   ],
   "source": [
    "# Price of book\n",
    "prices = soup.find_all('p', class_ = 'price_color')\n",
    "prices_list = [price.get_text() for price in prices]\n",
    "prices_list"
   ]
  },
  {
   "cell_type": "code",
   "execution_count": 72,
   "id": "29f8c2b3",
   "metadata": {
    "ExecuteTime": {
     "end_time": "2021-11-02T13:24:23.530863Z",
     "start_time": "2021-11-02T13:24:23.521783Z"
    },
    "hidden": true
   },
   "outputs": [
    {
     "data": {
      "text/plain": [
       "[' In stock ',\n",
       " ' In stock ',\n",
       " ' In stock ',\n",
       " ' In stock ',\n",
       " ' In stock ',\n",
       " ' In stock ',\n",
       " ' In stock ',\n",
       " ' In stock ',\n",
       " ' In stock ',\n",
       " ' In stock ',\n",
       " ' In stock ',\n",
       " ' In stock ',\n",
       " ' In stock ',\n",
       " ' In stock ',\n",
       " ' In stock ',\n",
       " ' In stock ',\n",
       " ' In stock ',\n",
       " ' In stock ',\n",
       " ' In stock ']"
      ]
     },
     "execution_count": 72,
     "metadata": {},
     "output_type": "execute_result"
    }
   ],
   "source": [
    "# Stock\n",
    "stock_prod = soup.find_all('p', class_ = 'instock availability')\n",
    "stock_status_list = [stock.get_text() for stock in stock_prod]\n",
    "stock_status_list"
   ]
  },
  {
   "cell_type": "code",
   "execution_count": 121,
   "id": "60b04bb7",
   "metadata": {
    "ExecuteTime": {
     "end_time": "2021-11-02T13:45:07.790817Z",
     "start_time": "2021-11-02T13:45:07.783286Z"
    },
    "hidden": true
   },
   "outputs": [
    {
     "data": {
      "text/plain": [
       "['star-rating', 'One']"
      ]
     },
     "execution_count": 121,
     "metadata": {},
     "output_type": "execute_result"
    }
   ],
   "source": [
    "soup.find_all('p', class_ = True)[3].attrs['class']"
   ]
  },
  {
   "cell_type": "code",
   "execution_count": 129,
   "id": "8159f6f4",
   "metadata": {
    "ExecuteTime": {
     "end_time": "2021-11-02T13:51:08.362340Z",
     "start_time": "2021-11-02T13:51:08.355621Z"
    },
    "hidden": true
   },
   "outputs": [
    {
     "data": {
      "text/plain": [
       "[['star-rating', 'Four'],\n",
       " ['price_color'],\n",
       " ['instock', 'availability'],\n",
       " ['star-rating', 'One'],\n",
       " ['price_color'],\n",
       " ['instock', 'availability'],\n",
       " ['star-rating', 'Two'],\n",
       " ['price_color'],\n",
       " ['instock', 'availability'],\n",
       " ['star-rating', 'Two'],\n",
       " ['price_color'],\n",
       " ['instock', 'availability'],\n",
       " ['star-rating', 'Four'],\n",
       " ['price_color'],\n",
       " ['instock', 'availability'],\n",
       " ['star-rating', 'Three'],\n",
       " ['price_color'],\n",
       " ['instock', 'availability'],\n",
       " ['star-rating', 'Three'],\n",
       " ['price_color'],\n",
       " ['instock', 'availability'],\n",
       " ['star-rating', 'Three'],\n",
       " ['price_color'],\n",
       " ['instock', 'availability'],\n",
       " ['star-rating', 'Three'],\n",
       " ['price_color'],\n",
       " ['instock', 'availability'],\n",
       " ['star-rating', 'Two'],\n",
       " ['price_color'],\n",
       " ['instock', 'availability'],\n",
       " ['star-rating', 'Four'],\n",
       " ['price_color'],\n",
       " ['instock', 'availability'],\n",
       " ['star-rating', 'Two'],\n",
       " ['price_color'],\n",
       " ['instock', 'availability'],\n",
       " ['star-rating', 'Two'],\n",
       " ['price_color'],\n",
       " ['instock', 'availability'],\n",
       " ['star-rating', 'Four'],\n",
       " ['price_color'],\n",
       " ['instock', 'availability'],\n",
       " ['star-rating', 'Two'],\n",
       " ['price_color'],\n",
       " ['instock', 'availability'],\n",
       " ['star-rating', 'One'],\n",
       " ['price_color'],\n",
       " ['instock', 'availability'],\n",
       " ['star-rating', 'Two'],\n",
       " ['price_color'],\n",
       " ['instock', 'availability'],\n",
       " ['star-rating', 'Two'],\n",
       " ['price_color'],\n",
       " ['instock', 'availability'],\n",
       " ['star-rating', 'One'],\n",
       " ['price_color'],\n",
       " ['instock', 'availability']]"
      ]
     },
     "execution_count": 129,
     "metadata": {},
     "output_type": "execute_result"
    }
   ],
   "source": [
    "# Rating\n",
    "#soup.find_all('p', class_ = True)[0].attrs['class'][1]\n",
    "ratings = soup.find_all('p', class_ = True)\n",
    "rating_list = [r.attrs['class'] for r in ratings]\n",
    "rating_list"
   ]
  },
  {
   "cell_type": "code",
   "execution_count": 143,
   "id": "4a70a591",
   "metadata": {
    "ExecuteTime": {
     "end_time": "2021-11-02T13:59:05.309283Z",
     "start_time": "2021-11-02T13:59:05.302450Z"
    },
    "hidden": true
   },
   "outputs": [
    {
     "data": {
      "text/plain": [
       "['Four',\n",
       " 'One',\n",
       " 'Two',\n",
       " 'Two',\n",
       " 'Four',\n",
       " 'Three',\n",
       " 'Three',\n",
       " 'Three',\n",
       " 'Three',\n",
       " 'Two',\n",
       " 'Four',\n",
       " 'Two',\n",
       " 'Two',\n",
       " 'Four',\n",
       " 'Two',\n",
       " 'One',\n",
       " 'Two',\n",
       " 'Two',\n",
       " 'One']"
      ]
     },
     "execution_count": 143,
     "metadata": {},
     "output_type": "execute_result"
    }
   ],
   "source": [
    "rating_list_clean = list()\n",
    "for i in range(0, len(rating_list), 3):\n",
    "    rating_list_clean.append(rating_list[i][1])\n",
    "rating_list_clean"
   ]
  },
  {
   "cell_type": "code",
   "execution_count": 137,
   "id": "52f8eace",
   "metadata": {
    "ExecuteTime": {
     "end_time": "2021-11-02T13:54:44.898663Z",
     "start_time": "2021-11-02T13:54:44.892573Z"
    },
    "hidden": true
   },
   "outputs": [
    {
     "data": {
      "text/plain": [
       "['price_color']"
      ]
     },
     "execution_count": 137,
     "metadata": {},
     "output_type": "execute_result"
    }
   ],
   "source": [
    "rating_list[1]"
   ]
  },
  {
   "cell_type": "code",
   "execution_count": 146,
   "id": "b0143a1c",
   "metadata": {
    "ExecuteTime": {
     "end_time": "2021-11-02T14:27:12.392626Z",
     "start_time": "2021-11-02T14:27:12.377457Z"
    },
    "hidden": true
   },
   "outputs": [
    {
     "data": {
      "text/html": [
       "<div>\n",
       "<style scoped>\n",
       "    .dataframe tbody tr th:only-of-type {\n",
       "        vertical-align: middle;\n",
       "    }\n",
       "\n",
       "    .dataframe tbody tr th {\n",
       "        vertical-align: top;\n",
       "    }\n",
       "\n",
       "    .dataframe thead th {\n",
       "        text-align: right;\n",
       "    }\n",
       "</style>\n",
       "<table border=\"1\" class=\"dataframe\">\n",
       "  <thead>\n",
       "    <tr style=\"text-align: right;\">\n",
       "      <th></th>\n",
       "      <th>catalog</th>\n",
       "      <th>book_name</th>\n",
       "      <th>price</th>\n",
       "      <th>rating</th>\n",
       "      <th>stock_status</th>\n",
       "    </tr>\n",
       "  </thead>\n",
       "  <tbody>\n",
       "    <tr>\n",
       "      <th>0</th>\n",
       "      <td>Classics</td>\n",
       "      <td>The Secret Garden</td>\n",
       "      <td>Â£15.08</td>\n",
       "      <td>Four</td>\n",
       "      <td>In stock</td>\n",
       "    </tr>\n",
       "    <tr>\n",
       "      <th>1</th>\n",
       "      <td>Classics</td>\n",
       "      <td>The Metamorphosis</td>\n",
       "      <td>Â£28.58</td>\n",
       "      <td>One</td>\n",
       "      <td>In stock</td>\n",
       "    </tr>\n",
       "    <tr>\n",
       "      <th>2</th>\n",
       "      <td>Classics</td>\n",
       "      <td>The Pilgrim's Progress</td>\n",
       "      <td>Â£50.26</td>\n",
       "      <td>Two</td>\n",
       "      <td>In stock</td>\n",
       "    </tr>\n",
       "    <tr>\n",
       "      <th>3</th>\n",
       "      <td>Classics</td>\n",
       "      <td>The Hound of the ...</td>\n",
       "      <td>Â£14.82</td>\n",
       "      <td>Two</td>\n",
       "      <td>In stock</td>\n",
       "    </tr>\n",
       "    <tr>\n",
       "      <th>4</th>\n",
       "      <td>Classics</td>\n",
       "      <td>Little Women (Little Women ...</td>\n",
       "      <td>Â£28.07</td>\n",
       "      <td>Four</td>\n",
       "      <td>In stock</td>\n",
       "    </tr>\n",
       "    <tr>\n",
       "      <th>5</th>\n",
       "      <td>Classics</td>\n",
       "      <td>Gone with the Wind</td>\n",
       "      <td>Â£32.49</td>\n",
       "      <td>Three</td>\n",
       "      <td>In stock</td>\n",
       "    </tr>\n",
       "    <tr>\n",
       "      <th>6</th>\n",
       "      <td>Classics</td>\n",
       "      <td>Candide</td>\n",
       "      <td>Â£58.63</td>\n",
       "      <td>Three</td>\n",
       "      <td>In stock</td>\n",
       "    </tr>\n",
       "    <tr>\n",
       "      <th>7</th>\n",
       "      <td>Classics</td>\n",
       "      <td>Animal Farm</td>\n",
       "      <td>Â£57.22</td>\n",
       "      <td>Three</td>\n",
       "      <td>In stock</td>\n",
       "    </tr>\n",
       "    <tr>\n",
       "      <th>8</th>\n",
       "      <td>Classics</td>\n",
       "      <td>Wuthering Heights</td>\n",
       "      <td>Â£17.73</td>\n",
       "      <td>Three</td>\n",
       "      <td>In stock</td>\n",
       "    </tr>\n",
       "    <tr>\n",
       "      <th>9</th>\n",
       "      <td>Classics</td>\n",
       "      <td>The Picture of Dorian ...</td>\n",
       "      <td>Â£29.70</td>\n",
       "      <td>Two</td>\n",
       "      <td>In stock</td>\n",
       "    </tr>\n",
       "    <tr>\n",
       "      <th>10</th>\n",
       "      <td>Classics</td>\n",
       "      <td>The Complete Stories and ...</td>\n",
       "      <td>Â£26.78</td>\n",
       "      <td>Four</td>\n",
       "      <td>In stock</td>\n",
       "    </tr>\n",
       "    <tr>\n",
       "      <th>11</th>\n",
       "      <td>Classics</td>\n",
       "      <td>Beowulf</td>\n",
       "      <td>Â£38.35</td>\n",
       "      <td>Two</td>\n",
       "      <td>In stock</td>\n",
       "    </tr>\n",
       "    <tr>\n",
       "      <th>12</th>\n",
       "      <td>Classics</td>\n",
       "      <td>And Then There Were ...</td>\n",
       "      <td>Â£35.01</td>\n",
       "      <td>Two</td>\n",
       "      <td>In stock</td>\n",
       "    </tr>\n",
       "    <tr>\n",
       "      <th>13</th>\n",
       "      <td>Classics</td>\n",
       "      <td>The Story of Hong ...</td>\n",
       "      <td>Â£43.19</td>\n",
       "      <td>Four</td>\n",
       "      <td>In stock</td>\n",
       "    </tr>\n",
       "    <tr>\n",
       "      <th>14</th>\n",
       "      <td>Classics</td>\n",
       "      <td>The Little Prince</td>\n",
       "      <td>Â£45.42</td>\n",
       "      <td>Two</td>\n",
       "      <td>In stock</td>\n",
       "    </tr>\n",
       "    <tr>\n",
       "      <th>15</th>\n",
       "      <td>Classics</td>\n",
       "      <td>Sense and Sensibility</td>\n",
       "      <td>Â£37.46</td>\n",
       "      <td>One</td>\n",
       "      <td>In stock</td>\n",
       "    </tr>\n",
       "    <tr>\n",
       "      <th>16</th>\n",
       "      <td>Classics</td>\n",
       "      <td>Of Mice and Men</td>\n",
       "      <td>Â£47.11</td>\n",
       "      <td>Two</td>\n",
       "      <td>In stock</td>\n",
       "    </tr>\n",
       "    <tr>\n",
       "      <th>17</th>\n",
       "      <td>Classics</td>\n",
       "      <td>Emma</td>\n",
       "      <td>Â£32.93</td>\n",
       "      <td>Two</td>\n",
       "      <td>In stock</td>\n",
       "    </tr>\n",
       "    <tr>\n",
       "      <th>18</th>\n",
       "      <td>Classics</td>\n",
       "      <td>Alice in Wonderland (Alice's ...</td>\n",
       "      <td>Â£55.53</td>\n",
       "      <td>One</td>\n",
       "      <td>In stock</td>\n",
       "    </tr>\n",
       "  </tbody>\n",
       "</table>\n",
       "</div>"
      ],
      "text/plain": [
       "     catalog                         book_name    price rating stock_status\n",
       "0   Classics                 The Secret Garden  Â£15.08   Four    In stock \n",
       "1   Classics                 The Metamorphosis  Â£28.58    One    In stock \n",
       "2   Classics            The Pilgrim's Progress  Â£50.26    Two    In stock \n",
       "3   Classics              The Hound of the ...  Â£14.82    Two    In stock \n",
       "4   Classics    Little Women (Little Women ...  Â£28.07   Four    In stock \n",
       "5   Classics                Gone with the Wind  Â£32.49  Three    In stock \n",
       "6   Classics                           Candide  Â£58.63  Three    In stock \n",
       "7   Classics                       Animal Farm  Â£57.22  Three    In stock \n",
       "8   Classics                 Wuthering Heights  Â£17.73  Three    In stock \n",
       "9   Classics         The Picture of Dorian ...  Â£29.70    Two    In stock \n",
       "10  Classics      The Complete Stories and ...  Â£26.78   Four    In stock \n",
       "11  Classics                           Beowulf  Â£38.35    Two    In stock \n",
       "12  Classics           And Then There Were ...  Â£35.01    Two    In stock \n",
       "13  Classics             The Story of Hong ...  Â£43.19   Four    In stock \n",
       "14  Classics                 The Little Prince  Â£45.42    Two    In stock \n",
       "15  Classics             Sense and Sensibility  Â£37.46    One    In stock \n",
       "16  Classics                   Of Mice and Men  Â£47.11    Two    In stock \n",
       "17  Classics                              Emma  Â£32.93    Two    In stock \n",
       "18  Classics  Alice in Wonderland (Alice's ...  Â£55.53    One    In stock "
      ]
     },
     "execution_count": 146,
     "metadata": {},
     "output_type": "execute_result"
    }
   ],
   "source": [
    "pd.DataFrame({\n",
    "    'catalog': catalog, \n",
    "    'book_name': book_name_list, \n",
    "    'price': prices_list, \n",
    "    'rating': rating_list_clean, \n",
    "    'stock_status': stock_status_list\n",
    "})"
   ]
  },
  {
   "cell_type": "markdown",
   "id": "5bb9dbdc",
   "metadata": {
    "heading_collapsed": true,
    "hidden": true
   },
   "source": [
    "##### Book Page"
   ]
  },
  {
   "cell_type": "code",
   "execution_count": 178,
   "id": "81b6d0db",
   "metadata": {
    "ExecuteTime": {
     "end_time": "2021-11-02T15:01:41.788898Z",
     "start_time": "2021-11-02T15:01:41.781597Z"
    },
    "hidden": true
   },
   "outputs": [
    {
     "data": {
      "text/plain": [
       "<article class=\"product_pod\"><div class=\"image_container\"><a href=\"../../../the-dirty-little-secrets-of-getting-your-dream-job_994/index.html\"><img alt=\"The Dirty Little Secrets of Getting Your Dream Job\" class=\"thumbnail\" src=\"../../../../media/cache/92/27/92274a95b7c251fea59a2b8a78275ab4.jpg\"/></a></div><p class=\"star-rating Four\"><i class=\"icon-star\"></i><i class=\"icon-star\"></i><i class=\"icon-star\"></i><i class=\"icon-star\"></i><i class=\"icon-star\"></i></p><h3><a href=\"../../../the-dirty-little-secrets-of-getting-your-dream-job_994/index.html\" title=\"The Dirty Little Secrets of Getting Your Dream Job\">The Dirty Little Secrets ...</a></h3><div class=\"product_price\"><p class=\"price_color\">Â£33.34</p><p class=\"instock availability\"><i class=\"icon-ok\"></i> In stock </p><form><button class=\"btn btn-primary btn-block\" data-loading-text=\"Adding...\" type=\"submit\">Add to basket</button></form></div></article>"
      ]
     },
     "execution_count": 178,
     "metadata": {},
     "output_type": "execute_result"
    }
   ],
   "source": [
    "soup.find('article', class_ = 'product_pod')"
   ]
  },
  {
   "cell_type": "markdown",
   "id": "a0eb8195",
   "metadata": {
    "heading_collapsed": true,
    "hidden": true
   },
   "source": [
    "#### Step 4 to 6"
   ]
  },
  {
   "cell_type": "code",
   "execution_count": 4,
   "id": "e1b3e833",
   "metadata": {
    "ExecuteTime": {
     "end_time": "2021-11-20T13:11:53.682772Z",
     "start_time": "2021-11-20T13:11:48.919893Z"
    },
    "hidden": true
   },
   "outputs": [],
   "source": [
    "headers = {'User-Agent': 'Mozilla/5.0 (X11; Linux x86_64) AppleWebKit/537.36 (KHTML, like Gecko) Chrome/94.0.4606.81 Safari/537.36'}\n",
    "df_books = pd.DataFrame()\n",
    "html_collections = ['https://books.toscrape.com/catalogue/category/books/classics_6/index.html',\n",
    "                   'https://books.toscrape.com/catalogue/category/books/science-fiction_16/index.html', \n",
    "                    'https://books.toscrape.com/catalogue/category/books/humor_30/index.html',\n",
    "                    'https://books.toscrape.com/catalogue/category/books/business_35/index.html']\n",
    "\n",
    "for html in html_collections:\n",
    "    # Page request\n",
    "    page = requests.get(html, headers=headers)\n",
    "    \n",
    "    # Clean html\n",
    "    page = clean_html(page.text)\n",
    "    \n",
    "    # BeautifulSoup object\n",
    "    soup = BeautifulSoup(page, 'html.parser')\n",
    "    \n",
    "    # Name of collection\n",
    "    catalog = soup.find('h1').text\n",
    "    \n",
    "    # Name of book\n",
    "    book_name = soup.find_all('h3')\n",
    "    book_name_list = [name.get_text() for name in book_name]\n",
    "    \n",
    "    # Price of book\n",
    "    prices = soup.find_all('p', class_ = 'price_color')\n",
    "    prices_list = [price.get_text() for price in prices]\n",
    "    \n",
    "    # Rating\n",
    "    ratings = soup.find_all('p', class_ = True)\n",
    "    rating_list = [r.attrs['class'] for r in ratings]\n",
    "    \n",
    "    # Stock\n",
    "    stock_prod = soup.find_all('p', class_ = 'instock availability')\n",
    "    stock_status_list = [stock.get_text() for stock in stock_prod]\n",
    "    rating_list_clean = list()\n",
    "    for i in range(0, len(rating_list), 3):\n",
    "        rating_list_clean.append(rating_list[i][1])\n",
    "        \n",
    "    df_catalog = pd.DataFrame({'catalog': catalog, \n",
    "                                'book_name': book_name_list, \n",
    "                                'price': prices_list, \n",
    "                                'rating': rating_list_clean, \n",
    "                                'stock_status': stock_status_list})\n",
    "    \n",
    "    df_books = pd.concat([df_books, df_catalog])"
   ]
  },
  {
   "cell_type": "code",
   "execution_count": 6,
   "id": "cfdb350a",
   "metadata": {
    "ExecuteTime": {
     "end_time": "2021-11-20T13:12:02.761422Z",
     "start_time": "2021-11-20T13:12:02.755915Z"
    },
    "hidden": true
   },
   "outputs": [
    {
     "data": {
      "text/html": [
       "<div>\n",
       "<style scoped>\n",
       "    .dataframe tbody tr th:only-of-type {\n",
       "        vertical-align: middle;\n",
       "    }\n",
       "\n",
       "    .dataframe tbody tr th {\n",
       "        vertical-align: top;\n",
       "    }\n",
       "\n",
       "    .dataframe thead th {\n",
       "        text-align: right;\n",
       "    }\n",
       "</style>\n",
       "<table border=\"1\" class=\"dataframe\">\n",
       "  <thead>\n",
       "    <tr style=\"text-align: right;\">\n",
       "      <th></th>\n",
       "      <th>catalog</th>\n",
       "      <th>book_name</th>\n",
       "      <th>price</th>\n",
       "      <th>rating</th>\n",
       "      <th>stock_status</th>\n",
       "    </tr>\n",
       "  </thead>\n",
       "  <tbody>\n",
       "    <tr>\n",
       "      <th>0</th>\n",
       "      <td>Classics</td>\n",
       "      <td>The Secret Garden</td>\n",
       "      <td>Â£15.08</td>\n",
       "      <td>Four</td>\n",
       "      <td>In stock</td>\n",
       "    </tr>\n",
       "    <tr>\n",
       "      <th>1</th>\n",
       "      <td>Classics</td>\n",
       "      <td>The Metamorphosis</td>\n",
       "      <td>Â£28.58</td>\n",
       "      <td>One</td>\n",
       "      <td>In stock</td>\n",
       "    </tr>\n",
       "    <tr>\n",
       "      <th>2</th>\n",
       "      <td>Classics</td>\n",
       "      <td>The Pilgrim's Progress</td>\n",
       "      <td>Â£50.26</td>\n",
       "      <td>Two</td>\n",
       "      <td>In stock</td>\n",
       "    </tr>\n",
       "    <tr>\n",
       "      <th>3</th>\n",
       "      <td>Classics</td>\n",
       "      <td>The Hound of the ...</td>\n",
       "      <td>Â£14.82</td>\n",
       "      <td>Two</td>\n",
       "      <td>In stock</td>\n",
       "    </tr>\n",
       "    <tr>\n",
       "      <th>4</th>\n",
       "      <td>Classics</td>\n",
       "      <td>Little Women (Little Women ...</td>\n",
       "      <td>Â£28.07</td>\n",
       "      <td>Four</td>\n",
       "      <td>In stock</td>\n",
       "    </tr>\n",
       "  </tbody>\n",
       "</table>\n",
       "</div>"
      ],
      "text/plain": [
       "    catalog                       book_name    price rating stock_status\n",
       "0  Classics               The Secret Garden  Â£15.08   Four    In stock \n",
       "1  Classics               The Metamorphosis  Â£28.58    One    In stock \n",
       "2  Classics          The Pilgrim's Progress  Â£50.26    Two    In stock \n",
       "3  Classics            The Hound of the ...  Â£14.82    Two    In stock \n",
       "4  Classics  Little Women (Little Women ...  Â£28.07   Four    In stock "
      ]
     },
     "execution_count": 6,
     "metadata": {},
     "output_type": "execute_result"
    }
   ],
   "source": [
    "df_books.head()"
   ]
  },
  {
   "cell_type": "code",
   "execution_count": 7,
   "id": "6ddf1c89",
   "metadata": {
    "ExecuteTime": {
     "end_time": "2021-11-20T13:12:38.800608Z",
     "start_time": "2021-11-20T13:12:38.795679Z"
    },
    "hidden": true
   },
   "outputs": [],
   "source": [
    "df_books.to_csv('../data/books.csv', index=False)"
   ]
  },
  {
   "cell_type": "markdown",
   "id": "19b83665",
   "metadata": {
    "hidden": true
   },
   "source": [
    "The top page don't get the book title properly"
   ]
  },
  {
   "cell_type": "markdown",
   "id": "3fa12bf9",
   "metadata": {},
   "source": [
    "# Python Advanced"
   ]
  },
  {
   "cell_type": "markdown",
   "id": "fab33dbe",
   "metadata": {
    "heading_collapsed": true
   },
   "source": [
    "## Lambda"
   ]
  },
  {
   "cell_type": "markdown",
   "id": "3a9ca82a",
   "metadata": {
    "hidden": true
   },
   "source": [
    "Recommended to local an simply function, without replication purpose"
   ]
  },
  {
   "cell_type": "code",
   "execution_count": 2,
   "id": "5cc282ea",
   "metadata": {
    "ExecuteTime": {
     "end_time": "2021-11-05T11:14:19.693213Z",
     "start_time": "2021-11-05T11:14:19.690753Z"
    },
    "hidden": true
   },
   "outputs": [],
   "source": [
    "# Traditional function\n",
    "def calc(a, b):\n",
    "    return a + b"
   ]
  },
  {
   "cell_type": "code",
   "execution_count": 4,
   "id": "0ce6415e",
   "metadata": {
    "ExecuteTime": {
     "end_time": "2021-11-05T11:14:36.544780Z",
     "start_time": "2021-11-05T11:14:36.539153Z"
    },
    "hidden": true
   },
   "outputs": [
    {
     "data": {
      "text/plain": [
       "7"
      ]
     },
     "execution_count": 4,
     "metadata": {},
     "output_type": "execute_result"
    }
   ],
   "source": [
    "calc(2, 5)"
   ]
  },
  {
   "cell_type": "code",
   "execution_count": 5,
   "id": "c0f50865",
   "metadata": {
    "ExecuteTime": {
     "end_time": "2021-11-05T11:15:21.334347Z",
     "start_time": "2021-11-05T11:15:21.331946Z"
    },
    "hidden": true
   },
   "outputs": [],
   "source": [
    "# Lambda\n",
    "cal_ = lambda a, b: a + b"
   ]
  },
  {
   "cell_type": "code",
   "execution_count": 6,
   "id": "79fde475",
   "metadata": {
    "ExecuteTime": {
     "end_time": "2021-11-05T11:15:33.022592Z",
     "start_time": "2021-11-05T11:15:33.019572Z"
    },
    "hidden": true
   },
   "outputs": [
    {
     "data": {
      "text/plain": [
       "7"
      ]
     },
     "execution_count": 6,
     "metadata": {},
     "output_type": "execute_result"
    }
   ],
   "source": [
    "cal_(2, 5)"
   ]
  },
  {
   "cell_type": "markdown",
   "id": "10e2cb1e",
   "metadata": {
    "heading_collapsed": true
   },
   "source": [
    "## Map"
   ]
  },
  {
   "cell_type": "markdown",
   "id": "a3868774",
   "metadata": {
    "hidden": true
   },
   "source": [
    "Call a function to operate over a data struture"
   ]
  },
  {
   "cell_type": "code",
   "execution_count": null,
   "id": "d163ae04",
   "metadata": {
    "hidden": true
   },
   "outputs": [],
   "source": [
    "#map(function, data_structure)"
   ]
  },
  {
   "cell_type": "code",
   "execution_count": 8,
   "id": "e2f64375",
   "metadata": {
    "ExecuteTime": {
     "end_time": "2021-11-05T11:23:37.878429Z",
     "start_time": "2021-11-05T11:23:37.875319Z"
    },
    "hidden": true
   },
   "outputs": [
    {
     "data": {
      "text/plain": [
       "['marcos', 'galvao']"
      ]
     },
     "execution_count": 8,
     "metadata": {},
     "output_type": "execute_result"
    }
   ],
   "source": [
    "upper = ['MARCOS', 'GALVAO']\n",
    "\n",
    "lower = lambda x: x.lower()\n",
    "\n",
    "list(map(lower, upper))"
   ]
  },
  {
   "cell_type": "markdown",
   "id": "9ed8d3ac",
   "metadata": {
    "heading_collapsed": true
   },
   "source": [
    "## Apply"
   ]
  },
  {
   "cell_type": "markdown",
   "id": "e8bb03fd",
   "metadata": {
    "hidden": true
   },
   "source": [
    "Work as same as Map, but specific to Pandas library\n",
    "\n",
    "Map -> General use\n",
    "\n",
    "Apply -> Pandas use"
   ]
  },
  {
   "cell_type": "code",
   "execution_count": 10,
   "id": "70d53601",
   "metadata": {
    "ExecuteTime": {
     "end_time": "2021-11-05T11:28:38.369736Z",
     "start_time": "2021-11-05T11:28:38.367510Z"
    },
    "hidden": true
   },
   "outputs": [],
   "source": [
    "df = pd.DataFrame({\n",
    "    'name': ['MARCOS', 'GALVAO'],\n",
    "    'age': [30, 31]\n",
    "})"
   ]
  },
  {
   "cell_type": "code",
   "execution_count": 12,
   "id": "bcf88334",
   "metadata": {
    "ExecuteTime": {
     "end_time": "2021-11-05T11:29:10.437456Z",
     "start_time": "2021-11-05T11:29:10.434103Z"
    },
    "hidden": true
   },
   "outputs": [
    {
     "data": {
      "text/plain": [
       "0    marcos\n",
       "1    galvao\n",
       "Name: name, dtype: object"
      ]
     },
     "execution_count": 12,
     "metadata": {},
     "output_type": "execute_result"
    }
   ],
   "source": [
    "df['name'].apply(lower)"
   ]
  },
  {
   "cell_type": "markdown",
   "id": "e5294aca",
   "metadata": {
    "ExecuteTime": {
     "end_time": "2021-11-05T11:32:05.207013Z",
     "start_time": "2021-11-05T11:32:05.205026Z"
    },
    "heading_collapsed": true
   },
   "source": [
    "## Lambda, Map e Apply II"
   ]
  },
  {
   "cell_type": "code",
   "execution_count": 25,
   "id": "efcdaa54",
   "metadata": {
    "ExecuteTime": {
     "end_time": "2021-11-05T11:38:03.537919Z",
     "start_time": "2021-11-05T11:38:03.532577Z"
    },
    "hidden": true
   },
   "outputs": [
    {
     "data": {
      "text/html": [
       "<div>\n",
       "<style scoped>\n",
       "    .dataframe tbody tr th:only-of-type {\n",
       "        vertical-align: middle;\n",
       "    }\n",
       "\n",
       "    .dataframe tbody tr th {\n",
       "        vertical-align: top;\n",
       "    }\n",
       "\n",
       "    .dataframe thead th {\n",
       "        text-align: right;\n",
       "    }\n",
       "</style>\n",
       "<table border=\"1\" class=\"dataframe\">\n",
       "  <thead>\n",
       "    <tr style=\"text-align: right;\">\n",
       "      <th></th>\n",
       "      <th>catalog</th>\n",
       "      <th>book_name</th>\n",
       "      <th>price</th>\n",
       "      <th>rating</th>\n",
       "      <th>stock_status</th>\n",
       "    </tr>\n",
       "  </thead>\n",
       "  <tbody>\n",
       "    <tr>\n",
       "      <th>0</th>\n",
       "      <td>Classics</td>\n",
       "      <td>The Secret Garden</td>\n",
       "      <td>Â£15.08</td>\n",
       "      <td>Four</td>\n",
       "      <td>In stock</td>\n",
       "    </tr>\n",
       "    <tr>\n",
       "      <th>1</th>\n",
       "      <td>Classics</td>\n",
       "      <td>The Metamorphosis</td>\n",
       "      <td>Â£28.58</td>\n",
       "      <td>One</td>\n",
       "      <td>In stock</td>\n",
       "    </tr>\n",
       "    <tr>\n",
       "      <th>2</th>\n",
       "      <td>Classics</td>\n",
       "      <td>The Pilgrim's Progress</td>\n",
       "      <td>Â£50.26</td>\n",
       "      <td>Two</td>\n",
       "      <td>In stock</td>\n",
       "    </tr>\n",
       "    <tr>\n",
       "      <th>3</th>\n",
       "      <td>Classics</td>\n",
       "      <td>The Hound of the ...</td>\n",
       "      <td>Â£14.82</td>\n",
       "      <td>Two</td>\n",
       "      <td>In stock</td>\n",
       "    </tr>\n",
       "    <tr>\n",
       "      <th>4</th>\n",
       "      <td>Classics</td>\n",
       "      <td>Little Women (Little Women ...</td>\n",
       "      <td>Â£28.07</td>\n",
       "      <td>Four</td>\n",
       "      <td>In stock</td>\n",
       "    </tr>\n",
       "  </tbody>\n",
       "</table>\n",
       "</div>"
      ],
      "text/plain": [
       "    catalog                       book_name    price rating stock_status\n",
       "0  Classics               The Secret Garden  Â£15.08   Four    In stock \n",
       "1  Classics               The Metamorphosis  Â£28.58    One    In stock \n",
       "2  Classics          The Pilgrim's Progress  Â£50.26    Two    In stock \n",
       "3  Classics            The Hound of the ...  Â£14.82    Two    In stock \n",
       "4  Classics  Little Women (Little Women ...  Â£28.07   Four    In stock "
      ]
     },
     "execution_count": 25,
     "metadata": {},
     "output_type": "execute_result"
    }
   ],
   "source": [
    "df_books.head()"
   ]
  },
  {
   "cell_type": "code",
   "execution_count": 41,
   "id": "27ad13a0",
   "metadata": {
    "ExecuteTime": {
     "end_time": "2021-11-05T12:00:45.454894Z",
     "start_time": "2021-11-05T12:00:45.445543Z"
    },
    "hidden": true
   },
   "outputs": [
    {
     "data": {
      "text/html": [
       "<div>\n",
       "<style scoped>\n",
       "    .dataframe tbody tr th:only-of-type {\n",
       "        vertical-align: middle;\n",
       "    }\n",
       "\n",
       "    .dataframe tbody tr th {\n",
       "        vertical-align: top;\n",
       "    }\n",
       "\n",
       "    .dataframe thead th {\n",
       "        text-align: right;\n",
       "    }\n",
       "</style>\n",
       "<table border=\"1\" class=\"dataframe\">\n",
       "  <thead>\n",
       "    <tr style=\"text-align: right;\">\n",
       "      <th></th>\n",
       "      <th>catalog</th>\n",
       "      <th>book_name</th>\n",
       "      <th>price</th>\n",
       "      <th>rating</th>\n",
       "      <th>stock_status</th>\n",
       "    </tr>\n",
       "  </thead>\n",
       "  <tbody>\n",
       "    <tr>\n",
       "      <th>0</th>\n",
       "      <td>Classics</td>\n",
       "      <td>The Secret Garden</td>\n",
       "      <td>15.08</td>\n",
       "      <td>Four</td>\n",
       "      <td>In stock</td>\n",
       "    </tr>\n",
       "    <tr>\n",
       "      <th>1</th>\n",
       "      <td>Classics</td>\n",
       "      <td>The Metamorphosis</td>\n",
       "      <td>28.58</td>\n",
       "      <td>One</td>\n",
       "      <td>In stock</td>\n",
       "    </tr>\n",
       "    <tr>\n",
       "      <th>2</th>\n",
       "      <td>Classics</td>\n",
       "      <td>The Pilgrim's Progress</td>\n",
       "      <td>50.26</td>\n",
       "      <td>Two</td>\n",
       "      <td>In stock</td>\n",
       "    </tr>\n",
       "    <tr>\n",
       "      <th>3</th>\n",
       "      <td>Classics</td>\n",
       "      <td>The Hound of the ...</td>\n",
       "      <td>14.82</td>\n",
       "      <td>Two</td>\n",
       "      <td>In stock</td>\n",
       "    </tr>\n",
       "    <tr>\n",
       "      <th>4</th>\n",
       "      <td>Classics</td>\n",
       "      <td>Little Women (Little Women ...</td>\n",
       "      <td>28.07</td>\n",
       "      <td>Four</td>\n",
       "      <td>In stock</td>\n",
       "    </tr>\n",
       "  </tbody>\n",
       "</table>\n",
       "</div>"
      ],
      "text/plain": [
       "    catalog                       book_name  price rating stock_status\n",
       "0  Classics               The Secret Garden  15.08   Four    In stock \n",
       "1  Classics               The Metamorphosis  28.58    One    In stock \n",
       "2  Classics          The Pilgrim's Progress  50.26    Two    In stock \n",
       "3  Classics            The Hound of the ...  14.82    Two    In stock \n",
       "4  Classics  Little Women (Little Women ...  28.07   Four    In stock "
      ]
     },
     "execution_count": 41,
     "metadata": {},
     "output_type": "execute_result"
    }
   ],
   "source": [
    "# Remove Â£ from price\n",
    "df_books['price'] = df_books['price'].apply(lambda x: float(x.replace('Â£', '')))\n",
    "df_books.head()"
   ]
  },
  {
   "cell_type": "code",
   "execution_count": 55,
   "id": "5dd8d752",
   "metadata": {
    "ExecuteTime": {
     "end_time": "2021-11-05T12:26:38.119766Z",
     "start_time": "2021-11-05T12:26:38.112872Z"
    },
    "hidden": true
   },
   "outputs": [
    {
     "data": {
      "text/html": [
       "<div>\n",
       "<style scoped>\n",
       "    .dataframe tbody tr th:only-of-type {\n",
       "        vertical-align: middle;\n",
       "    }\n",
       "\n",
       "    .dataframe tbody tr th {\n",
       "        vertical-align: top;\n",
       "    }\n",
       "\n",
       "    .dataframe thead th {\n",
       "        text-align: right;\n",
       "    }\n",
       "</style>\n",
       "<table border=\"1\" class=\"dataframe\">\n",
       "  <thead>\n",
       "    <tr style=\"text-align: right;\">\n",
       "      <th></th>\n",
       "      <th>catalog</th>\n",
       "      <th>book_name</th>\n",
       "      <th>price</th>\n",
       "      <th>rating</th>\n",
       "      <th>stock_status</th>\n",
       "    </tr>\n",
       "  </thead>\n",
       "  <tbody>\n",
       "    <tr>\n",
       "      <th>1</th>\n",
       "      <td>Science Fiction</td>\n",
       "      <td>Join</td>\n",
       "      <td>35.67</td>\n",
       "      <td>Five</td>\n",
       "      <td>In stock</td>\n",
       "    </tr>\n",
       "    <tr>\n",
       "      <th>1</th>\n",
       "      <td>Humor</td>\n",
       "      <td>Old School (Diary of ...</td>\n",
       "      <td>11.83</td>\n",
       "      <td>Five</td>\n",
       "      <td>In stock</td>\n",
       "    </tr>\n",
       "    <tr>\n",
       "      <th>3</th>\n",
       "      <td>Humor</td>\n",
       "      <td>Hyperbole and a Half: ...</td>\n",
       "      <td>14.75</td>\n",
       "      <td>Five</td>\n",
       "      <td>In stock</td>\n",
       "    </tr>\n",
       "    <tr>\n",
       "      <th>6</th>\n",
       "      <td>Humor</td>\n",
       "      <td>When You Are Engulfed ...</td>\n",
       "      <td>30.89</td>\n",
       "      <td>Five</td>\n",
       "      <td>In stock</td>\n",
       "    </tr>\n",
       "    <tr>\n",
       "      <th>8</th>\n",
       "      <td>Humor</td>\n",
       "      <td>Lamb: The Gospel According ...</td>\n",
       "      <td>55.50</td>\n",
       "      <td>Five</td>\n",
       "      <td>In stock</td>\n",
       "    </tr>\n",
       "  </tbody>\n",
       "</table>\n",
       "</div>"
      ],
      "text/plain": [
       "           catalog                       book_name  price rating stock_status\n",
       "1  Science Fiction                            Join  35.67   Five    In stock \n",
       "1            Humor        Old School (Diary of ...  11.83   Five    In stock \n",
       "3            Humor       Hyperbole and a Half: ...  14.75   Five    In stock \n",
       "6            Humor       When You Are Engulfed ...  30.89   Five    In stock \n",
       "8            Humor  Lamb: The Gospel According ...  55.50   Five    In stock "
      ]
     },
     "execution_count": 55,
     "metadata": {},
     "output_type": "execute_result"
    }
   ],
   "source": [
    "df_books[df_books['rating'] == 'Five'].head()"
   ]
  },
  {
   "cell_type": "code",
   "execution_count": 54,
   "id": "f2537b1a",
   "metadata": {
    "ExecuteTime": {
     "end_time": "2021-11-05T12:26:17.578401Z",
     "start_time": "2021-11-05T12:26:17.568294Z"
    },
    "hidden": true
   },
   "outputs": [
    {
     "data": {
      "text/html": [
       "<div>\n",
       "<style scoped>\n",
       "    .dataframe tbody tr th:only-of-type {\n",
       "        vertical-align: middle;\n",
       "    }\n",
       "\n",
       "    .dataframe tbody tr th {\n",
       "        vertical-align: top;\n",
       "    }\n",
       "\n",
       "    .dataframe thead th {\n",
       "        text-align: right;\n",
       "    }\n",
       "</style>\n",
       "<table border=\"1\" class=\"dataframe\">\n",
       "  <thead>\n",
       "    <tr style=\"text-align: right;\">\n",
       "      <th></th>\n",
       "      <th>catalog</th>\n",
       "      <th>book_name</th>\n",
       "      <th>price</th>\n",
       "      <th>rating</th>\n",
       "      <th>stock_status</th>\n",
       "    </tr>\n",
       "  </thead>\n",
       "  <tbody>\n",
       "    <tr>\n",
       "      <th>1</th>\n",
       "      <td>Science Fiction</td>\n",
       "      <td>Join</td>\n",
       "      <td>35.67</td>\n",
       "      <td>Five</td>\n",
       "      <td>In stock</td>\n",
       "    </tr>\n",
       "    <tr>\n",
       "      <th>1</th>\n",
       "      <td>Humor</td>\n",
       "      <td>Old School (Diary of ...</td>\n",
       "      <td>11.83</td>\n",
       "      <td>Five</td>\n",
       "      <td>In stock</td>\n",
       "    </tr>\n",
       "    <tr>\n",
       "      <th>3</th>\n",
       "      <td>Humor</td>\n",
       "      <td>Hyperbole and a Half: ...</td>\n",
       "      <td>14.75</td>\n",
       "      <td>Five</td>\n",
       "      <td>In stock</td>\n",
       "    </tr>\n",
       "    <tr>\n",
       "      <th>6</th>\n",
       "      <td>Humor</td>\n",
       "      <td>When You Are Engulfed ...</td>\n",
       "      <td>30.89</td>\n",
       "      <td>Five</td>\n",
       "      <td>In stock</td>\n",
       "    </tr>\n",
       "    <tr>\n",
       "      <th>8</th>\n",
       "      <td>Humor</td>\n",
       "      <td>Lamb: The Gospel According ...</td>\n",
       "      <td>55.50</td>\n",
       "      <td>Five</td>\n",
       "      <td>In stock</td>\n",
       "    </tr>\n",
       "  </tbody>\n",
       "</table>\n",
       "</div>"
      ],
      "text/plain": [
       "           catalog                       book_name  price rating stock_status\n",
       "1  Science Fiction                            Join  35.67   Five    In stock \n",
       "1            Humor        Old School (Diary of ...  11.83   Five    In stock \n",
       "3            Humor       Hyperbole and a Half: ...  14.75   Five    In stock \n",
       "6            Humor       When You Are Engulfed ...  30.89   Five    In stock \n",
       "8            Humor  Lamb: The Gospel According ...  55.50   Five    In stock "
      ]
     },
     "execution_count": 54,
     "metadata": {},
     "output_type": "execute_result"
    }
   ],
   "source": [
    "# Increse price in 100% if the catalog is business and stock status is in \n",
    " \n",
    "df_books.apply(lambda x:  x['price'] * 2\n",
    "               if (x['catalog'] == 'Business') & (x['rating'] == 'Five') \n",
    "               else x, axis=1).query('rating == \"Five\"').head()"
   ]
  },
  {
   "cell_type": "code",
   "execution_count": 51,
   "id": "8aba7ffb",
   "metadata": {
    "ExecuteTime": {
     "end_time": "2021-11-05T12:25:24.260421Z",
     "start_time": "2021-11-05T12:25:24.256343Z"
    },
    "hidden": true
   },
   "outputs": [
    {
     "data": {
      "text/plain": [
       "0     In stock \n",
       "0     In stock \n",
       "0     In stock \n",
       "0     In stock \n",
       "Name: stock_status, dtype: object"
      ]
     },
     "execution_count": 51,
     "metadata": {},
     "output_type": "execute_result"
    }
   ],
   "source": [
    "df_books['stock_status'][0]"
   ]
  },
  {
   "cell_type": "markdown",
   "id": "5dee4545",
   "metadata": {
    "heading_collapsed": true
   },
   "source": [
    "## Regex - Regular Expression"
   ]
  },
  {
   "cell_type": "markdown",
   "id": "104bd0dc",
   "metadata": {
    "hidden": true
   },
   "source": [
    "<font size=5>**Marcadores de início e fim de linha (^ e $)**</font>\n",
    "\n",
    "\n",
    "**^Python** – Encontra qualquer string que esteja em início de linha e contenham os caracteres “Python”. \n",
    "\n",
    "**Python$** – Encontra qualquer string que esteja em fim de linha e contenham os caracteres “Python”. \n",
    "\n",
    "<br/>\n",
    "<br/>\n",
    "\n",
    "<font size=5>**Marcadores de quantidade (* + ?  e {})**</font>\n",
    " \n",
    "\n",
    "**Pyt*** – Encontra strings com a sequência de caracteres “Py” seguida de zero ou mais ocorrências do caractere “t”.\n",
    "\n",
    "**Pyt+** – Encontra strings com a sequência de caracteres “Py” seguida de uma ou mais ocorrências do caractere “t”.\n",
    "\n",
    "**Pyt?** –  Encontra strings com a sequência de caracteres “Py” seguida de zero ou uma ocorrência do caractere “t”.\n",
    "\n",
    "**Pyt{3}** – Encontra strings com a sequência de caracteres “Py” seguida de exatamente 3 ocorrências do caractere “t”.\n",
    "\n",
    "**Pyt{2, 4}** – Encontra strings com a sequência de caracteres “Py” seguida de 2 a 4 ocorrências do caractere “t”.\n",
    "\n",
    "**Pyt{3,}** – Encontra strings com a sequência de caracteres “Py” seguida de 3 ou mais ocorrências do caractere “t”. \n",
    "\n",
    "**Py(th)*** – Encontra strings com a sequência de caracteres “Py” seguida de zero ou mais ocorrências do da sequência “th”. \n",
    "    \n",
    "<br/>\n",
    "<br/>\n",
    "\n",
    "<font size=5>**Marcador de alternativa ou operador OR ( | )**</font>\n",
    "\n",
    "**Pyt|hon** – Encontra strings com a sequência de caracteres “Pyt” ou strings com a sequência de caracteres “hon”. \n",
    "\n",
    "**Py(t|h)** – Encontra strings com a sequência de caracteres “Py” seguida do caractere “t” ou do caractere “h”. \n",
    "\n",
    "**Py(t|h|o)** – Encontra strings com a sequência de caracteres “Py” seguida do caractere “t” ou do caractere “h” ou do caractere “o”. \n",
    "    \n",
    "<br/>\n",
    "<br/>\n",
    "    \n",
    "<font size=5>**Marcador de definição de Conjuntos ([ ])**</font>\n",
    "\n",
    "**Py[tho]** – Encontra strings com a sequência de caracteres “Py” seguida de um caractere pertencente ao conjunto (t, h, o). \n",
    "\n",
    "**Py[0-9]** – Encontra strings com a sequência de caracteres “Py” seguida de um caractere pertencente ao conjunto de dígitos de 0 a 9. \n",
    "\n",
    "**Py[a-z]** – Encontra strings com a sequência de caracteres “Py” seguida de um caractere pertencente ao conjunto de caracteres alfabéticos de “a” a “z”. \n",
    "\n",
    "<br/>\n",
    "<br/>\n",
    "    \n",
    "<font size=5>**Marcadores de classes de caracteres (\\w, \\d, \\s e .)**</font>\n",
    "    \n",
    "**\\w** – Representa um caractere alfanumérico, incluindo ocorrências maiúsculas e minúsculas das letras e o caractere “_”.\n",
    "\n",
    "**\\d** – Representa um caractere numérico e equivale a definição do conjunto [0-9]\n",
    "\n",
    "**\\s** – Representa um espaço em branco, incluindo tabulações e quebras de linha\n",
    "\n",
    "<br/>\n",
    "<br/>\n",
    "    \n",
    "**.** – Como já mencionado, este caractere é utilizado como coringa e representa qualquer caractere.\n",
    "\n",
    "A utilização de \\W, \\D e \\S serve como negação de suas correspondentes descritas acima. \\W vai encontrar, por exemplo, qualquer caractere que não seja relevante para \\w."
   ]
  },
  {
   "cell_type": "markdown",
   "id": "11e22086",
   "metadata": {
    "heading_collapsed": true,
    "hidden": true
   },
   "source": [
    "### Match\n",
    "\n",
    "    For begining of a string\n",
    "    \n",
    "    CPF 001.223.344-55\n",
    "    \n",
    "    sequency: number point number point number trace number\n",
    "    padron: 3 numbers 1 point 3 numbers 1 point 3 numbers 1 trace 2 numbers \n",
    "    \n",
    "    Regex mask colect the information based on the string padron"
   ]
  },
  {
   "cell_type": "code",
   "execution_count": 4,
   "id": "6c76ad6a",
   "metadata": {
    "ExecuteTime": {
     "end_time": "2021-11-17T12:32:03.795494Z",
     "start_time": "2021-11-17T12:32:03.788926Z"
    },
    "hidden": true
   },
   "outputs": [
    {
     "data": {
      "text/plain": [
       "False"
      ]
     },
     "execution_count": 4,
     "metadata": {},
     "output_type": "execute_result"
    }
   ],
   "source": [
    "cpf = '001.223.344-55'\n",
    "rg = '12.420.530-10'\n",
    "cel = '+5522989527342'\n",
    "address = 'Cecilia Chapman 711-2880 Nulla St. Mankato Mississippi 96522 (257) 563-7401'\n",
    "address_2 = 'Calista Wise 7292 Dictum Av. San Antonio MI 47096 (492) 709-6392'\n",
    "\n",
    "mask_cpf = '^\\d{3}\\.\\d{3}\\.\\d{3}\\-\\d{2}$'\n",
    "\n",
    "mask_rg = '^\\d{2}\\.\\d{3}\\.\\d{3}\\-\\d{2}$'\n",
    "\n",
    "mask_cel = '^\\+\\d{13}$'\n",
    "\n",
    "mask_cel_inside = '\\+\\d{13}'\n",
    "\n",
    "text = f'cpf: {cpf}, rg: {rg} and celphone is {cel}'\n",
    "\n",
    "bool(re.match(mask_cel, text))"
   ]
  },
  {
   "cell_type": "markdown",
   "id": "4fb3843b",
   "metadata": {
    "heading_collapsed": true,
    "hidden": true
   },
   "source": [
    "### Search\n",
    "\n",
    "    Any text position"
   ]
  },
  {
   "cell_type": "code",
   "execution_count": 22,
   "id": "6e60ac31",
   "metadata": {
    "ExecuteTime": {
     "end_time": "2021-11-17T12:53:33.270319Z",
     "start_time": "2021-11-17T12:53:33.267213Z"
    },
    "hidden": true
   },
   "outputs": [
    {
     "name": "stdout",
     "output_type": "stream",
     "text": [
      "Av. San Antonio MI 47096 (\n"
     ]
    }
   ],
   "source": [
    "# Street\n",
    "\n",
    "mask = '\\w{2}\\..*\\d{5}'\n",
    "mask_2 = '(\\w{2}\\..+)\\s\\('\n",
    "\n",
    "print(re.search(mask_2, address_2).group(0))"
   ]
  },
  {
   "cell_type": "code",
   "execution_count": 21,
   "id": "3d18cc4a",
   "metadata": {
    "ExecuteTime": {
     "end_time": "2021-11-17T12:49:16.439149Z",
     "start_time": "2021-11-17T12:49:16.436796Z"
    },
    "hidden": true
   },
   "outputs": [
    {
     "name": "stdout",
     "output_type": "stream",
     "text": [
      "Cecilia Chapman\n"
     ]
    }
   ],
   "source": [
    "# Name\n",
    "\n",
    "mask = '^\\w+\\s\\w+'\n",
    "\n",
    "print(re.search(mask, address).group(0))"
   ]
  },
  {
   "cell_type": "markdown",
   "id": "88e2d3b2",
   "metadata": {},
   "source": [
    "## Clean Data with Regex"
   ]
  },
  {
   "cell_type": "code",
   "execution_count": 195,
   "id": "02055540",
   "metadata": {
    "ExecuteTime": {
     "end_time": "2021-11-18T15:00:11.478999Z",
     "start_time": "2021-11-18T15:00:11.470300Z"
    }
   },
   "outputs": [],
   "source": [
    "data = pd.read_csv('../data/products_hnm.csv')\n",
    "data = data[['product_id', 'name', 'category', 'price',\n",
    "       'style_id', 'color_id', 'product_color', 'fit', 'composition', 'size',\n",
    "       'sustainable_materials', 'scrapy_datetime']]"
   ]
  },
  {
   "cell_type": "code",
   "execution_count": 196,
   "id": "33d969b7",
   "metadata": {
    "ExecuteTime": {
     "end_time": "2021-11-18T15:00:11.844632Z",
     "start_time": "2021-11-18T15:00:11.821345Z"
    }
   },
   "outputs": [],
   "source": [
    "# name\n",
    "data['name'] = data['name'].str.lower().str.replace(' ', '_')\n",
    "\n",
    "# price\n",
    "data['price'] = data['price'].apply(lambda x: float(x.replace('$ ', '')))\n",
    "\n",
    "# scrapy_datetime\n",
    "data['scrapy_datetime'] = pd.to_datetime(data['scrapy_datetime'])\n",
    "\n",
    "# fit\n",
    "data['fit'] = data['fit'].str.lower().str.replace(' ', '_')\n",
    "\n",
    "# product color\n",
    "data['product_color'] = data['product_color'].apply(lambda x: x.replace(' ', '_').replace('/', '_').lower())\n",
    "\n",
    "# size number\n",
    "data['size_number'] = data['size'].apply(lambda x: re.search('(\\d{3})cm', x).group(1) if pd.notnull(x) else x)\n",
    "\n",
    "# size model\n",
    "data['size_model'] = data['size'].apply(lambda x: re.search('\\d{2}/\\d{2}', x).group(0) if pd.notnull(x) else x)\n",
    "\n",
    "# drop columns\n",
    "data.drop(columns=['size', 'sustainable_materials'], inplace=True)\n",
    "\n",
    "# Ignore composition equal to Pocket lining, Shell and Pocket\n",
    "data = data[~data['composition'].str.contains('Pocket lining', na=False)]\n",
    "data = data[~data['composition'].str.contains('Shell', na=False)]\n",
    "data = data[~data['composition'].str.contains('Pocket', na=False)]\n",
    "data = data[~data['composition'].str.contains('Lining', na=False)]\n",
    "\n",
    "# drop duplicates\n",
    "data.drop_duplicates(inplace=True)\n",
    "\n",
    "# Reset index\n",
    "data.reset_index(drop=True, inplace=True)"
   ]
  },
  {
   "cell_type": "code",
   "execution_count": 197,
   "id": "d1b85f7b",
   "metadata": {
    "ExecuteTime": {
     "end_time": "2021-11-18T15:00:12.214850Z",
     "start_time": "2021-11-18T15:00:12.193135Z"
    }
   },
   "outputs": [],
   "source": [
    "# Decomposing the column composition\n",
    "df_ref = pd.DataFrame(index=np.arange(len(data)), columns=['cotton'])\n",
    "\n",
    "df_composition = data['composition'].str.split(',', expand=True).reset_index(drop=True)\n",
    "df_composition = df_composition.apply(lambda x: x.str.strip())\n",
    "\n",
    "# cotton\n",
    "df_ref['cotton'] = df_composition[0]\n",
    "\n",
    "# # spandex\n",
    "df_ref['spandex'] = pd.Series(df_composition[df_composition[1].str.contains('Spandex', na=True)][1], name='spandex')\n",
    "spandex_2 = pd.Series(df_composition[df_composition[2].str.contains('Spandex', na=True)][2], name='spandex_2')\n",
    "\n",
    "# Assign spandex_2 with combine first\n",
    "df_ref['spandex'] = df_ref['spandex'].combine_first(spandex_2)\n",
    "# assigning values of spandex_2 in spandex\n",
    "#for i in range(len(df_ref)):\n",
    "#    if pd.isnull(df_ref['spandex'][i]) and pd.notnull(df_ref['spandex_2'][i]):\n",
    "#        df_ref['spandex'][i] = df_ref['spandex_2'][i]\n",
    "\n",
    "#elasterell-p\n",
    "df_elasterell = pd.Series(df_composition[df_composition[1].str.contains('Elasterell-P', na=True)][1], name='elasterell-p')\n",
    "df_ref = pd.concat([df_ref, df_elasterell], axis=1)\n",
    "\n",
    "#polyester\n",
    "df_polyester = pd.Series(df_composition[df_composition[1].str.contains('Polyester', na=True)][1], name='polyester')\n",
    "df_ref = pd.concat([df_ref, df_polyester], axis=1)\n",
    "\n",
    "#Join with new composition columns\n",
    "data.reset_index(drop=True, inplace=True)\n",
    "data = pd.concat([data, df_ref], axis=1)\n",
    "\n",
    "#Composition with only numbers\n",
    "data['cotton'] = data['cotton'].apply(lambda x: float(re.search('\\d+', x).group(0)) / 100 if pd.notnull(x) else x)\n",
    "data['spandex'] = data['spandex'].apply(lambda x: float(re.search('\\d+', x).group(0)) / 100 if pd.notnull(x) else x)\n",
    "data['elasterell-p'] = data['elasterell-p'].apply(lambda x: float(re.search('\\d+', x).group(0)) / 100 if pd.notnull(x) else x)\n",
    "data['polyester'] = data['polyester'].apply(lambda x: float(re.search('\\d+', x).group(0)) / 100 if pd.notnull(x) else x)\n",
    "\n",
    "#Drop original composition column\n",
    "data.drop(columns='composition', inplace=True)\n",
    "\n",
    "# Drop duplicates\n",
    "data.drop_duplicates(inplace=True)"
   ]
  },
  {
   "cell_type": "code",
   "execution_count": 206,
   "id": "6eec46b1",
   "metadata": {
    "ExecuteTime": {
     "end_time": "2021-11-18T15:03:39.600631Z",
     "start_time": "2021-11-18T15:03:39.589780Z"
    }
   },
   "outputs": [],
   "source": [
    "# Store file\n",
    "data.to_csv('../data/clened.csv', index=False)"
   ]
  },
  {
   "cell_type": "markdown",
   "id": "8952abcf",
   "metadata": {
    "heading_collapsed": true
   },
   "source": [
    "# Data Base"
   ]
  },
  {
   "cell_type": "markdown",
   "id": "9c510426",
   "metadata": {
    "hidden": true
   },
   "source": [
    "**SELECT** - Extract data from database\n",
    "\n",
    "**UPDATE** - Update a data from a database\n",
    "\n",
    "**DELETE** - Delete data from a database table, table structure remains\n",
    "\n",
    "**INSERT INTO** - New record to database\n",
    "\n",
    "**CREATE DATABASE** - Create new database\n",
    "\n",
    "**ALTER DATABASE** - Modify a database\n",
    "\n",
    "**CREATE TABLE** - Create a table\n",
    "\n",
    "**ALTER TABLE** - Modify a table\n",
    "\n",
    "**DROP TABLE** - Delete a table and the estrucuture\n",
    "\n",
    "**CREATE INDEX** - Create and index (search key)\n",
    "\n",
    "**DROP INDEX** - Delete and index"
   ]
  },
  {
   "cell_type": "markdown",
   "id": "c732161b",
   "metadata": {
    "heading_collapsed": true,
    "hidden": true
   },
   "source": [
    "## Data Storage"
   ]
  },
  {
   "cell_type": "markdown",
   "id": "523656fd",
   "metadata": {
    "heading_collapsed": true,
    "hidden": true
   },
   "source": [
    "### Database Creation"
   ]
  },
  {
   "cell_type": "code",
   "execution_count": 2,
   "id": "16f49612",
   "metadata": {
    "ExecuteTime": {
     "end_time": "2021-11-19T14:01:29.850039Z",
     "start_time": "2021-11-19T14:01:29.841630Z"
    },
    "hidden": true
   },
   "outputs": [],
   "source": [
    "# Read data in csv format\n",
    "data = pd.read_csv('../data/clened.csv')"
   ]
  },
  {
   "cell_type": "code",
   "execution_count": 11,
   "id": "ca8bb0f0",
   "metadata": {
    "ExecuteTime": {
     "end_time": "2021-11-19T14:16:19.136175Z",
     "start_time": "2021-11-19T14:16:19.132446Z"
    },
    "hidden": true
   },
   "outputs": [],
   "source": [
    "query_showroom_table = '''\n",
    "    CREATE TABLE products (\n",
    "    'product_id'     INTEGER, \n",
    "    'name'           TEXT,\n",
    "    'category'       TEXT,\n",
    "    'price'          REAL,\n",
    "    'style_id'       INTEGER,\n",
    "    'color_id'       INTEGER, \n",
    "    'product_color'  TEXT, \n",
    "    'fit'            TEXT,\n",
    "    'scrapy_datetime'TEXT, \n",
    "    'size_number'    REAL,\n",
    "    'size_model'     TEXT,\n",
    "    'cotton'         REAL,\n",
    "    'spandex'        REAL,\n",
    "    'elasterell-p'   REAL,\n",
    "    'polyester'      REAL\n",
    "    )\n",
    "'''"
   ]
  },
  {
   "cell_type": "code",
   "execution_count": 45,
   "id": "473b1e34",
   "metadata": {
    "ExecuteTime": {
     "end_time": "2021-11-19T15:00:01.105832Z",
     "start_time": "2021-11-19T15:00:01.100488Z"
    },
    "hidden": true
   },
   "outputs": [
    {
     "ename": "OperationalError",
     "evalue": "table products already exists",
     "output_type": "error",
     "traceback": [
      "\u001b[0;31m---------------------------------------------------------------------------\u001b[0m",
      "\u001b[0;31mOperationalError\u001b[0m                          Traceback (most recent call last)",
      "\u001b[0;32m/tmp/ipykernel_12350/1424692936.py\u001b[0m in \u001b[0;36m<module>\u001b[0;34m\u001b[0m\n\u001b[1;32m      3\u001b[0m \u001b[0mconn\u001b[0m \u001b[0;34m=\u001b[0m \u001b[0msqlite3\u001b[0m\u001b[0;34m.\u001b[0m\u001b[0mconnect\u001b[0m\u001b[0;34m(\u001b[0m\u001b[0;34m'hm_db.sqlite'\u001b[0m\u001b[0;34m)\u001b[0m\u001b[0;34m\u001b[0m\u001b[0;34m\u001b[0m\u001b[0m\n\u001b[1;32m      4\u001b[0m \u001b[0;34m\u001b[0m\u001b[0m\n\u001b[0;32m----> 5\u001b[0;31m \u001b[0mcursor\u001b[0m \u001b[0;34m=\u001b[0m \u001b[0mconn\u001b[0m\u001b[0;34m.\u001b[0m\u001b[0mexecute\u001b[0m\u001b[0;34m(\u001b[0m\u001b[0mquery_showroom_table\u001b[0m\u001b[0;34m)\u001b[0m\u001b[0;34m\u001b[0m\u001b[0;34m\u001b[0m\u001b[0m\n\u001b[0m\u001b[1;32m      6\u001b[0m \u001b[0mconn\u001b[0m\u001b[0;34m.\u001b[0m\u001b[0mcommit\u001b[0m\u001b[0;34m(\u001b[0m\u001b[0;34m)\u001b[0m\u001b[0;34m\u001b[0m\u001b[0;34m\u001b[0m\u001b[0m\n",
      "\u001b[0;31mOperationalError\u001b[0m: table products already exists"
     ]
    }
   ],
   "source": [
    "# Connect to database\n",
    "# create database and table\n",
    "conn = sqlite3.connect('hm_db.sqlite')\n",
    "\n",
    "cursor = conn.execute(query_showroom_table)\n",
    "conn.commit()"
   ]
  },
  {
   "cell_type": "code",
   "execution_count": 16,
   "id": "e57c06c8",
   "metadata": {
    "ExecuteTime": {
     "end_time": "2021-11-19T14:22:40.182278Z",
     "start_time": "2021-11-19T14:22:40.175762Z"
    },
    "hidden": true
   },
   "outputs": [],
   "source": [
    "# Engine connection\n",
    "conn = create_engine('sqlite:///hm_db.sqlite', echo=False)"
   ]
  },
  {
   "cell_type": "code",
   "execution_count": 46,
   "id": "04321951",
   "metadata": {
    "ExecuteTime": {
     "end_time": "2021-11-19T15:00:04.270097Z",
     "start_time": "2021-11-19T15:00:04.258487Z"
    },
    "hidden": true
   },
   "outputs": [],
   "source": [
    "# Insert data to table\n",
    "data.to_sql(name='products', con=conn, if_exists='append', index=False)"
   ]
  },
  {
   "cell_type": "markdown",
   "id": "971d4699",
   "metadata": {
    "heading_collapsed": true,
    "hidden": true
   },
   "source": [
    "### Database querys"
   ]
  },
  {
   "cell_type": "code",
   "execution_count": 47,
   "id": "e567736d",
   "metadata": {
    "ExecuteTime": {
     "end_time": "2021-11-19T15:00:19.237503Z",
     "start_time": "2021-11-19T15:00:19.226542Z"
    },
    "hidden": true
   },
   "outputs": [
    {
     "data": {
      "text/html": [
       "<div>\n",
       "<style scoped>\n",
       "    .dataframe tbody tr th:only-of-type {\n",
       "        vertical-align: middle;\n",
       "    }\n",
       "\n",
       "    .dataframe tbody tr th {\n",
       "        vertical-align: top;\n",
       "    }\n",
       "\n",
       "    .dataframe thead th {\n",
       "        text-align: right;\n",
       "    }\n",
       "</style>\n",
       "<table border=\"1\" class=\"dataframe\">\n",
       "  <thead>\n",
       "    <tr style=\"text-align: right;\">\n",
       "      <th></th>\n",
       "      <th>product_id</th>\n",
       "      <th>name</th>\n",
       "      <th>category</th>\n",
       "      <th>price</th>\n",
       "      <th>style_id</th>\n",
       "      <th>color_id</th>\n",
       "      <th>product_color</th>\n",
       "      <th>fit</th>\n",
       "      <th>scrapy_datetime</th>\n",
       "      <th>size_number</th>\n",
       "      <th>size_model</th>\n",
       "      <th>cotton</th>\n",
       "      <th>spandex</th>\n",
       "      <th>elasterell-p</th>\n",
       "      <th>polyester</th>\n",
       "    </tr>\n",
       "  </thead>\n",
       "  <tbody>\n",
       "    <tr>\n",
       "      <th>0</th>\n",
       "      <td>690449051</td>\n",
       "      <td>skinny_jeans</td>\n",
       "      <td>men_jeans_ripped</td>\n",
       "      <td>39.99</td>\n",
       "      <td>690449</td>\n",
       "      <td>51</td>\n",
       "      <td>light_denim_blue_trashed</td>\n",
       "      <td>skinny_fit</td>\n",
       "      <td>2021-11-17 10:00:00-07:00</td>\n",
       "      <td>NaN</td>\n",
       "      <td>None</td>\n",
       "      <td>0.98</td>\n",
       "      <td>0.02</td>\n",
       "      <td>NaN</td>\n",
       "      <td>NaN</td>\n",
       "    </tr>\n",
       "    <tr>\n",
       "      <th>1</th>\n",
       "      <td>690449051</td>\n",
       "      <td>skinny_jeans</td>\n",
       "      <td>men_jeans_ripped</td>\n",
       "      <td>39.99</td>\n",
       "      <td>690449</td>\n",
       "      <td>51</td>\n",
       "      <td>denim_blue</td>\n",
       "      <td>skinny_fit</td>\n",
       "      <td>2021-11-17 10:00:00-07:00</td>\n",
       "      <td>NaN</td>\n",
       "      <td>None</td>\n",
       "      <td>0.98</td>\n",
       "      <td>0.02</td>\n",
       "      <td>NaN</td>\n",
       "      <td>NaN</td>\n",
       "    </tr>\n",
       "    <tr>\n",
       "      <th>2</th>\n",
       "      <td>690449051</td>\n",
       "      <td>skinny_jeans</td>\n",
       "      <td>men_jeans_ripped</td>\n",
       "      <td>39.99</td>\n",
       "      <td>690449</td>\n",
       "      <td>51</td>\n",
       "      <td>black_washed</td>\n",
       "      <td>skinny_fit</td>\n",
       "      <td>2021-11-17 10:00:00-07:00</td>\n",
       "      <td>NaN</td>\n",
       "      <td>None</td>\n",
       "      <td>0.98</td>\n",
       "      <td>0.02</td>\n",
       "      <td>NaN</td>\n",
       "      <td>NaN</td>\n",
       "    </tr>\n",
       "    <tr>\n",
       "      <th>3</th>\n",
       "      <td>690449051</td>\n",
       "      <td>skinny_jeans</td>\n",
       "      <td>men_jeans_ripped</td>\n",
       "      <td>39.99</td>\n",
       "      <td>690449</td>\n",
       "      <td>51</td>\n",
       "      <td>light_denim_blue</td>\n",
       "      <td>skinny_fit</td>\n",
       "      <td>2021-11-17 10:00:00-07:00</td>\n",
       "      <td>NaN</td>\n",
       "      <td>None</td>\n",
       "      <td>0.98</td>\n",
       "      <td>0.02</td>\n",
       "      <td>NaN</td>\n",
       "      <td>NaN</td>\n",
       "    </tr>\n",
       "    <tr>\n",
       "      <th>4</th>\n",
       "      <td>690449051</td>\n",
       "      <td>skinny_jeans</td>\n",
       "      <td>men_jeans_ripped</td>\n",
       "      <td>39.99</td>\n",
       "      <td>690449</td>\n",
       "      <td>51</td>\n",
       "      <td>black_washed_out</td>\n",
       "      <td>skinny_fit</td>\n",
       "      <td>2021-11-17 10:00:00-07:00</td>\n",
       "      <td>NaN</td>\n",
       "      <td>None</td>\n",
       "      <td>0.98</td>\n",
       "      <td>0.02</td>\n",
       "      <td>NaN</td>\n",
       "      <td>NaN</td>\n",
       "    </tr>\n",
       "  </tbody>\n",
       "</table>\n",
       "</div>"
      ],
      "text/plain": [
       "   product_id          name          category  price  style_id  color_id  \\\n",
       "0   690449051  skinny_jeans  men_jeans_ripped  39.99    690449        51   \n",
       "1   690449051  skinny_jeans  men_jeans_ripped  39.99    690449        51   \n",
       "2   690449051  skinny_jeans  men_jeans_ripped  39.99    690449        51   \n",
       "3   690449051  skinny_jeans  men_jeans_ripped  39.99    690449        51   \n",
       "4   690449051  skinny_jeans  men_jeans_ripped  39.99    690449        51   \n",
       "\n",
       "              product_color         fit            scrapy_datetime  \\\n",
       "0  light_denim_blue_trashed  skinny_fit  2021-11-17 10:00:00-07:00   \n",
       "1                denim_blue  skinny_fit  2021-11-17 10:00:00-07:00   \n",
       "2              black_washed  skinny_fit  2021-11-17 10:00:00-07:00   \n",
       "3          light_denim_blue  skinny_fit  2021-11-17 10:00:00-07:00   \n",
       "4          black_washed_out  skinny_fit  2021-11-17 10:00:00-07:00   \n",
       "\n",
       "   size_number size_model  cotton  spandex  elasterell-p  polyester  \n",
       "0          NaN       None    0.98     0.02           NaN        NaN  \n",
       "1          NaN       None    0.98     0.02           NaN        NaN  \n",
       "2          NaN       None    0.98     0.02           NaN        NaN  \n",
       "3          NaN       None    0.98     0.02           NaN        NaN  \n",
       "4          NaN       None    0.98     0.02           NaN        NaN  "
      ]
     },
     "execution_count": 47,
     "metadata": {},
     "output_type": "execute_result"
    }
   ],
   "source": [
    "# command = '''\n",
    "#     UPDATE products\n",
    "#     SET category = 'tshirt'\n",
    "#     WHERE product_id = 690449051\n",
    "# '''\n",
    "\n",
    "# command = '''\n",
    "#     DROP TABLE products\n",
    "# '''\n",
    "\n",
    "# query_db(command)\n",
    "\n",
    "query = '''\n",
    "    SELECT * FROM products\n",
    "'''\n",
    "\n",
    "df = pd.read_sql(query, conn)\n",
    "df.head()"
   ]
  },
  {
   "cell_type": "markdown",
   "id": "3890c417",
   "metadata": {
    "heading_collapsed": true,
    "hidden": true
   },
   "source": [
    "## Excercises"
   ]
  },
  {
   "cell_type": "markdown",
   "id": "e4e73f8d",
   "metadata": {
    "heading_collapsed": true,
    "hidden": true
   },
   "source": [
    "### Create a table"
   ]
  },
  {
   "cell_type": "markdown",
   "id": "f5a6db19",
   "metadata": {
    "heading_collapsed": true,
    "hidden": true
   },
   "source": [
    "#### Clean data"
   ]
  },
  {
   "cell_type": "code",
   "execution_count": 10,
   "id": "d815908a",
   "metadata": {
    "ExecuteTime": {
     "end_time": "2021-11-20T13:14:53.606895Z",
     "start_time": "2021-11-20T13:14:53.600811Z"
    },
    "hidden": true
   },
   "outputs": [
    {
     "data": {
      "text/html": [
       "<div>\n",
       "<style scoped>\n",
       "    .dataframe tbody tr th:only-of-type {\n",
       "        vertical-align: middle;\n",
       "    }\n",
       "\n",
       "    .dataframe tbody tr th {\n",
       "        vertical-align: top;\n",
       "    }\n",
       "\n",
       "    .dataframe thead th {\n",
       "        text-align: right;\n",
       "    }\n",
       "</style>\n",
       "<table border=\"1\" class=\"dataframe\">\n",
       "  <thead>\n",
       "    <tr style=\"text-align: right;\">\n",
       "      <th></th>\n",
       "      <th>catalog</th>\n",
       "      <th>book_name</th>\n",
       "      <th>price</th>\n",
       "      <th>rating</th>\n",
       "      <th>stock_status</th>\n",
       "    </tr>\n",
       "  </thead>\n",
       "  <tbody>\n",
       "    <tr>\n",
       "      <th>0</th>\n",
       "      <td>Classics</td>\n",
       "      <td>The Secret Garden</td>\n",
       "      <td>Â£15.08</td>\n",
       "      <td>Four</td>\n",
       "      <td>In stock</td>\n",
       "    </tr>\n",
       "    <tr>\n",
       "      <th>1</th>\n",
       "      <td>Classics</td>\n",
       "      <td>The Metamorphosis</td>\n",
       "      <td>Â£28.58</td>\n",
       "      <td>One</td>\n",
       "      <td>In stock</td>\n",
       "    </tr>\n",
       "    <tr>\n",
       "      <th>2</th>\n",
       "      <td>Classics</td>\n",
       "      <td>The Pilgrim's Progress</td>\n",
       "      <td>Â£50.26</td>\n",
       "      <td>Two</td>\n",
       "      <td>In stock</td>\n",
       "    </tr>\n",
       "    <tr>\n",
       "      <th>3</th>\n",
       "      <td>Classics</td>\n",
       "      <td>The Hound of the ...</td>\n",
       "      <td>Â£14.82</td>\n",
       "      <td>Two</td>\n",
       "      <td>In stock</td>\n",
       "    </tr>\n",
       "    <tr>\n",
       "      <th>4</th>\n",
       "      <td>Classics</td>\n",
       "      <td>Little Women (Little Women ...</td>\n",
       "      <td>Â£28.07</td>\n",
       "      <td>Four</td>\n",
       "      <td>In stock</td>\n",
       "    </tr>\n",
       "  </tbody>\n",
       "</table>\n",
       "</div>"
      ],
      "text/plain": [
       "    catalog                       book_name    price rating stock_status\n",
       "0  Classics               The Secret Garden  Â£15.08   Four    In stock \n",
       "1  Classics               The Metamorphosis  Â£28.58    One    In stock \n",
       "2  Classics          The Pilgrim's Progress  Â£50.26    Two    In stock \n",
       "3  Classics            The Hound of the ...  Â£14.82    Two    In stock \n",
       "4  Classics  Little Women (Little Women ...  Â£28.07   Four    In stock "
      ]
     },
     "execution_count": 10,
     "metadata": {},
     "output_type": "execute_result"
    }
   ],
   "source": [
    "# Data\n",
    "book = pd.read_csv('../data/books.csv')\n",
    "book.head()"
   ]
  },
  {
   "cell_type": "code",
   "execution_count": 20,
   "id": "60b08193",
   "metadata": {
    "ExecuteTime": {
     "end_time": "2021-11-20T13:19:23.946223Z",
     "start_time": "2021-11-20T13:19:23.939872Z"
    },
    "hidden": true
   },
   "outputs": [],
   "source": [
    "# Remove currency symbol\n",
    "book['price'] = book['price'].apply(lambda x: float(re.search('\\d+.+', x).group(0)))"
   ]
  },
  {
   "cell_type": "code",
   "execution_count": 25,
   "id": "17959c8b",
   "metadata": {
    "ExecuteTime": {
     "end_time": "2021-11-20T13:24:06.212066Z",
     "start_time": "2021-11-20T13:24:06.209253Z"
    },
    "hidden": true
   },
   "outputs": [],
   "source": [
    "# Map rating\n",
    "book['rating'] = book['rating'].apply(lambda x: 1 if x == 'One' else \n",
    "                                                2 if x == 'Two' else \n",
    "                                                3 if x == 'Three' else \n",
    "                                                4 if x == 'Four' else 5)"
   ]
  },
  {
   "cell_type": "code",
   "execution_count": 28,
   "id": "4654f8a9",
   "metadata": {
    "ExecuteTime": {
     "end_time": "2021-11-20T13:25:49.350905Z",
     "start_time": "2021-11-20T13:25:49.348505Z"
    },
    "hidden": true
   },
   "outputs": [],
   "source": [
    "# Binary stock status\n",
    "book['stock_status'] = book['stock_status'].apply(lambda x: 1 if x == ' In stock ' else 0)"
   ]
  },
  {
   "cell_type": "code",
   "execution_count": 30,
   "id": "d7de2dc2",
   "metadata": {
    "ExecuteTime": {
     "end_time": "2021-11-20T13:26:31.656093Z",
     "start_time": "2021-11-20T13:26:31.653213Z"
    },
    "hidden": true
   },
   "outputs": [
    {
     "data": {
      "text/plain": [
       "array(['Classics', 'Science Fiction', 'Humor', 'Business'], dtype=object)"
      ]
     },
     "execution_count": 30,
     "metadata": {},
     "output_type": "execute_result"
    }
   ],
   "source": [
    "book['catalog'].unique()"
   ]
  },
  {
   "cell_type": "code",
   "execution_count": 31,
   "id": "96abd931",
   "metadata": {
    "ExecuteTime": {
     "end_time": "2021-11-20T13:27:01.233109Z",
     "start_time": "2021-11-20T13:27:01.224344Z"
    },
    "hidden": true
   },
   "outputs": [
    {
     "name": "stdout",
     "output_type": "stream",
     "text": [
      "<class 'pandas.core.frame.DataFrame'>\n",
      "RangeIndex: 57 entries, 0 to 56\n",
      "Data columns (total 5 columns):\n",
      " #   Column        Non-Null Count  Dtype  \n",
      "---  ------        --------------  -----  \n",
      " 0   catalog       57 non-null     object \n",
      " 1   book_name     57 non-null     object \n",
      " 2   price         57 non-null     float64\n",
      " 3   rating        57 non-null     int64  \n",
      " 4   stock_status  57 non-null     int64  \n",
      "dtypes: float64(1), int64(2), object(2)\n",
      "memory usage: 2.4+ KB\n"
     ]
    }
   ],
   "source": [
    "book.info()"
   ]
  },
  {
   "cell_type": "code",
   "execution_count": 35,
   "id": "10920384",
   "metadata": {
    "ExecuteTime": {
     "end_time": "2021-11-20T13:28:27.748279Z",
     "start_time": "2021-11-20T13:28:27.743676Z"
    },
    "hidden": true
   },
   "outputs": [
    {
     "data": {
      "text/plain": [
       "0"
      ]
     },
     "execution_count": 35,
     "metadata": {},
     "output_type": "execute_result"
    }
   ],
   "source": [
    "book.duplicated().sum()"
   ]
  },
  {
   "cell_type": "code",
   "execution_count": 36,
   "id": "2eb617ef",
   "metadata": {
    "ExecuteTime": {
     "end_time": "2021-11-20T13:29:02.678954Z",
     "start_time": "2021-11-20T13:29:02.674921Z"
    },
    "hidden": true
   },
   "outputs": [
    {
     "data": {
      "text/plain": [
       "catalog         0\n",
       "book_name       0\n",
       "price           0\n",
       "rating          0\n",
       "stock_status    0\n",
       "dtype: int64"
      ]
     },
     "execution_count": 36,
     "metadata": {},
     "output_type": "execute_result"
    }
   ],
   "source": [
    "book.isna().sum()"
   ]
  },
  {
   "cell_type": "code",
   "execution_count": 37,
   "id": "43525bcc",
   "metadata": {
    "ExecuteTime": {
     "end_time": "2021-11-20T13:31:16.173065Z",
     "start_time": "2021-11-20T13:31:16.169751Z"
    },
    "hidden": true
   },
   "outputs": [
    {
     "data": {
      "text/plain": [
       "Index(['catalog', 'book_name', 'price', 'rating', 'stock_status'], dtype='object')"
      ]
     },
     "execution_count": 37,
     "metadata": {},
     "output_type": "execute_result"
    }
   ],
   "source": [
    "book.columns"
   ]
  },
  {
   "cell_type": "code",
   "execution_count": 29,
   "id": "fbba12b6",
   "metadata": {
    "ExecuteTime": {
     "end_time": "2021-11-20T13:26:07.069895Z",
     "start_time": "2021-11-20T13:26:07.064195Z"
    },
    "hidden": true
   },
   "outputs": [
    {
     "data": {
      "text/html": [
       "<div>\n",
       "<style scoped>\n",
       "    .dataframe tbody tr th:only-of-type {\n",
       "        vertical-align: middle;\n",
       "    }\n",
       "\n",
       "    .dataframe tbody tr th {\n",
       "        vertical-align: top;\n",
       "    }\n",
       "\n",
       "    .dataframe thead th {\n",
       "        text-align: right;\n",
       "    }\n",
       "</style>\n",
       "<table border=\"1\" class=\"dataframe\">\n",
       "  <thead>\n",
       "    <tr style=\"text-align: right;\">\n",
       "      <th></th>\n",
       "      <th>catalog</th>\n",
       "      <th>book_name</th>\n",
       "      <th>price</th>\n",
       "      <th>rating</th>\n",
       "      <th>stock_status</th>\n",
       "    </tr>\n",
       "  </thead>\n",
       "  <tbody>\n",
       "    <tr>\n",
       "      <th>0</th>\n",
       "      <td>Classics</td>\n",
       "      <td>The Secret Garden</td>\n",
       "      <td>15.08</td>\n",
       "      <td>4</td>\n",
       "      <td>1</td>\n",
       "    </tr>\n",
       "    <tr>\n",
       "      <th>1</th>\n",
       "      <td>Classics</td>\n",
       "      <td>The Metamorphosis</td>\n",
       "      <td>28.58</td>\n",
       "      <td>1</td>\n",
       "      <td>1</td>\n",
       "    </tr>\n",
       "    <tr>\n",
       "      <th>2</th>\n",
       "      <td>Classics</td>\n",
       "      <td>The Pilgrim's Progress</td>\n",
       "      <td>50.26</td>\n",
       "      <td>2</td>\n",
       "      <td>1</td>\n",
       "    </tr>\n",
       "    <tr>\n",
       "      <th>3</th>\n",
       "      <td>Classics</td>\n",
       "      <td>The Hound of the ...</td>\n",
       "      <td>14.82</td>\n",
       "      <td>2</td>\n",
       "      <td>1</td>\n",
       "    </tr>\n",
       "    <tr>\n",
       "      <th>4</th>\n",
       "      <td>Classics</td>\n",
       "      <td>Little Women (Little Women ...</td>\n",
       "      <td>28.07</td>\n",
       "      <td>4</td>\n",
       "      <td>1</td>\n",
       "    </tr>\n",
       "  </tbody>\n",
       "</table>\n",
       "</div>"
      ],
      "text/plain": [
       "    catalog                       book_name  price  rating  stock_status\n",
       "0  Classics               The Secret Garden  15.08       4             1\n",
       "1  Classics               The Metamorphosis  28.58       1             1\n",
       "2  Classics          The Pilgrim's Progress  50.26       2             1\n",
       "3  Classics            The Hound of the ...  14.82       2             1\n",
       "4  Classics  Little Women (Little Women ...  28.07       4             1"
      ]
     },
     "execution_count": 29,
     "metadata": {},
     "output_type": "execute_result"
    }
   ],
   "source": [
    "book.head()"
   ]
  },
  {
   "cell_type": "markdown",
   "id": "47edd5d0",
   "metadata": {
    "heading_collapsed": true,
    "hidden": true
   },
   "source": [
    "#### Table"
   ]
  },
  {
   "cell_type": "code",
   "execution_count": 40,
   "id": "7fab6737",
   "metadata": {
    "ExecuteTime": {
     "end_time": "2021-11-20T13:33:24.659436Z",
     "start_time": "2021-11-20T13:33:24.657684Z"
    },
    "hidden": true
   },
   "outputs": [],
   "source": [
    "table = '''\n",
    "    CREATE TABLE books (\n",
    "    catalog      TEXT, \n",
    "    book_name    TEXT, \n",
    "    price        REAL, \n",
    "    rating       INTERGER, \n",
    "    stock_status INTERGER\n",
    "    )\n",
    "'''"
   ]
  },
  {
   "cell_type": "code",
   "execution_count": 41,
   "id": "f81685ac",
   "metadata": {
    "ExecuteTime": {
     "end_time": "2021-11-20T13:34:18.966454Z",
     "start_time": "2021-11-20T13:34:18.940547Z"
    },
    "hidden": true
   },
   "outputs": [],
   "source": [
    "# Connect and create a database\n",
    "query_db(table, 'book_db.sqlite')"
   ]
  },
  {
   "cell_type": "code",
   "execution_count": 44,
   "id": "2455ba07",
   "metadata": {
    "ExecuteTime": {
     "end_time": "2021-11-20T13:35:52.618233Z",
     "start_time": "2021-11-20T13:35:52.615751Z"
    },
    "hidden": true
   },
   "outputs": [],
   "source": [
    "# Crate an engine\n",
    "conn = create_engine('sqlite:///book_db.sqlite', echo=False)"
   ]
  },
  {
   "cell_type": "markdown",
   "id": "a7d69c5e",
   "metadata": {
    "heading_collapsed": true,
    "hidden": true
   },
   "source": [
    "### Insert data"
   ]
  },
  {
   "cell_type": "code",
   "execution_count": 46,
   "id": "3b837d5d",
   "metadata": {
    "ExecuteTime": {
     "end_time": "2021-11-20T13:37:57.278801Z",
     "start_time": "2021-11-20T13:37:57.263716Z"
    },
    "hidden": true
   },
   "outputs": [],
   "source": [
    "# Insert data\n",
    "book.to_sql(name='books', con=conn, index=False, if_exists='append')"
   ]
  },
  {
   "cell_type": "markdown",
   "id": "e1c7aa38",
   "metadata": {
    "heading_collapsed": true,
    "hidden": true
   },
   "source": [
    "### Query Data"
   ]
  },
  {
   "cell_type": "code",
   "execution_count": 57,
   "id": "8a0dd1fa",
   "metadata": {
    "ExecuteTime": {
     "end_time": "2021-11-20T13:52:40.287474Z",
     "start_time": "2021-11-20T13:52:40.277668Z"
    },
    "hidden": true
   },
   "outputs": [
    {
     "data": {
      "text/html": [
       "<div>\n",
       "<style scoped>\n",
       "    .dataframe tbody tr th:only-of-type {\n",
       "        vertical-align: middle;\n",
       "    }\n",
       "\n",
       "    .dataframe tbody tr th {\n",
       "        vertical-align: top;\n",
       "    }\n",
       "\n",
       "    .dataframe thead th {\n",
       "        text-align: right;\n",
       "    }\n",
       "</style>\n",
       "<table border=\"1\" class=\"dataframe\">\n",
       "  <thead>\n",
       "    <tr style=\"text-align: right;\">\n",
       "      <th></th>\n",
       "      <th>catalog</th>\n",
       "      <th>book_name</th>\n",
       "      <th>price</th>\n",
       "      <th>rating</th>\n",
       "      <th>stock_status</th>\n",
       "    </tr>\n",
       "  </thead>\n",
       "  <tbody>\n",
       "    <tr>\n",
       "      <th>0</th>\n",
       "      <td>Classics</td>\n",
       "      <td>The Secret Garden</td>\n",
       "      <td>15.08</td>\n",
       "      <td>4</td>\n",
       "      <td>1</td>\n",
       "    </tr>\n",
       "    <tr>\n",
       "      <th>1</th>\n",
       "      <td>Classics</td>\n",
       "      <td>The Metamorphosis</td>\n",
       "      <td>28.58</td>\n",
       "      <td>1</td>\n",
       "      <td>1</td>\n",
       "    </tr>\n",
       "    <tr>\n",
       "      <th>2</th>\n",
       "      <td>Classics</td>\n",
       "      <td>The Pilgrim's Progress</td>\n",
       "      <td>50.26</td>\n",
       "      <td>2</td>\n",
       "      <td>1</td>\n",
       "    </tr>\n",
       "    <tr>\n",
       "      <th>3</th>\n",
       "      <td>Classics</td>\n",
       "      <td>The Hound of the ...</td>\n",
       "      <td>14.82</td>\n",
       "      <td>2</td>\n",
       "      <td>1</td>\n",
       "    </tr>\n",
       "    <tr>\n",
       "      <th>4</th>\n",
       "      <td>Classics</td>\n",
       "      <td>Little Women (Little Women ...</td>\n",
       "      <td>28.07</td>\n",
       "      <td>4</td>\n",
       "      <td>1</td>\n",
       "    </tr>\n",
       "    <tr>\n",
       "      <th>5</th>\n",
       "      <td>Classics</td>\n",
       "      <td>Gone with the Wind</td>\n",
       "      <td>32.49</td>\n",
       "      <td>3</td>\n",
       "      <td>1</td>\n",
       "    </tr>\n",
       "    <tr>\n",
       "      <th>6</th>\n",
       "      <td>Classics</td>\n",
       "      <td>Candide</td>\n",
       "      <td>58.63</td>\n",
       "      <td>3</td>\n",
       "      <td>1</td>\n",
       "    </tr>\n",
       "    <tr>\n",
       "      <th>7</th>\n",
       "      <td>Classics</td>\n",
       "      <td>Animal Farm</td>\n",
       "      <td>57.22</td>\n",
       "      <td>3</td>\n",
       "      <td>1</td>\n",
       "    </tr>\n",
       "    <tr>\n",
       "      <th>8</th>\n",
       "      <td>Classics</td>\n",
       "      <td>Wuthering Heights</td>\n",
       "      <td>17.73</td>\n",
       "      <td>3</td>\n",
       "      <td>1</td>\n",
       "    </tr>\n",
       "    <tr>\n",
       "      <th>9</th>\n",
       "      <td>Classics</td>\n",
       "      <td>The Picture of Dorian ...</td>\n",
       "      <td>29.70</td>\n",
       "      <td>2</td>\n",
       "      <td>1</td>\n",
       "    </tr>\n",
       "    <tr>\n",
       "      <th>10</th>\n",
       "      <td>Classics</td>\n",
       "      <td>The Complete Stories and ...</td>\n",
       "      <td>26.78</td>\n",
       "      <td>4</td>\n",
       "      <td>1</td>\n",
       "    </tr>\n",
       "    <tr>\n",
       "      <th>11</th>\n",
       "      <td>Classics</td>\n",
       "      <td>Beowulf</td>\n",
       "      <td>38.35</td>\n",
       "      <td>2</td>\n",
       "      <td>1</td>\n",
       "    </tr>\n",
       "    <tr>\n",
       "      <th>12</th>\n",
       "      <td>Classics</td>\n",
       "      <td>And Then There Were ...</td>\n",
       "      <td>35.01</td>\n",
       "      <td>2</td>\n",
       "      <td>1</td>\n",
       "    </tr>\n",
       "    <tr>\n",
       "      <th>13</th>\n",
       "      <td>Classics</td>\n",
       "      <td>The Story of Hong ...</td>\n",
       "      <td>43.19</td>\n",
       "      <td>4</td>\n",
       "      <td>1</td>\n",
       "    </tr>\n",
       "    <tr>\n",
       "      <th>14</th>\n",
       "      <td>Classics</td>\n",
       "      <td>The Little Prince</td>\n",
       "      <td>45.42</td>\n",
       "      <td>2</td>\n",
       "      <td>1</td>\n",
       "    </tr>\n",
       "    <tr>\n",
       "      <th>15</th>\n",
       "      <td>Classics</td>\n",
       "      <td>Sense and Sensibility</td>\n",
       "      <td>37.46</td>\n",
       "      <td>1</td>\n",
       "      <td>1</td>\n",
       "    </tr>\n",
       "    <tr>\n",
       "      <th>16</th>\n",
       "      <td>Classics</td>\n",
       "      <td>Of Mice and Men</td>\n",
       "      <td>47.11</td>\n",
       "      <td>2</td>\n",
       "      <td>1</td>\n",
       "    </tr>\n",
       "    <tr>\n",
       "      <th>17</th>\n",
       "      <td>Classics</td>\n",
       "      <td>Emma</td>\n",
       "      <td>32.93</td>\n",
       "      <td>2</td>\n",
       "      <td>1</td>\n",
       "    </tr>\n",
       "    <tr>\n",
       "      <th>18</th>\n",
       "      <td>Classics</td>\n",
       "      <td>Alice in Wonderland (Alice's ...</td>\n",
       "      <td>55.53</td>\n",
       "      <td>1</td>\n",
       "      <td>1</td>\n",
       "    </tr>\n",
       "  </tbody>\n",
       "</table>\n",
       "</div>"
      ],
      "text/plain": [
       "     catalog                         book_name  price  rating  stock_status\n",
       "0   Classics                 The Secret Garden  15.08       4             1\n",
       "1   Classics                 The Metamorphosis  28.58       1             1\n",
       "2   Classics            The Pilgrim's Progress  50.26       2             1\n",
       "3   Classics              The Hound of the ...  14.82       2             1\n",
       "4   Classics    Little Women (Little Women ...  28.07       4             1\n",
       "5   Classics                Gone with the Wind  32.49       3             1\n",
       "6   Classics                           Candide  58.63       3             1\n",
       "7   Classics                       Animal Farm  57.22       3             1\n",
       "8   Classics                 Wuthering Heights  17.73       3             1\n",
       "9   Classics         The Picture of Dorian ...  29.70       2             1\n",
       "10  Classics      The Complete Stories and ...  26.78       4             1\n",
       "11  Classics                           Beowulf  38.35       2             1\n",
       "12  Classics           And Then There Were ...  35.01       2             1\n",
       "13  Classics             The Story of Hong ...  43.19       4             1\n",
       "14  Classics                 The Little Prince  45.42       2             1\n",
       "15  Classics             Sense and Sensibility  37.46       1             1\n",
       "16  Classics                   Of Mice and Men  47.11       2             1\n",
       "17  Classics                              Emma  32.93       2             1\n",
       "18  Classics  Alice in Wonderland (Alice's ...  55.53       1             1"
      ]
     },
     "execution_count": 57,
     "metadata": {},
     "output_type": "execute_result"
    }
   ],
   "source": [
    "query = '''\n",
    "    SELECT *\n",
    "    FROM books\n",
    "    WHERE catalog = 'Classics'\n",
    "'''\n",
    "pd.read_sql(query, conn)"
   ]
  },
  {
   "cell_type": "code",
   "execution_count": 58,
   "id": "12013760",
   "metadata": {
    "ExecuteTime": {
     "end_time": "2021-11-20T13:54:11.680253Z",
     "start_time": "2021-11-20T13:54:11.667807Z"
    },
    "hidden": true
   },
   "outputs": [
    {
     "data": {
      "text/html": [
       "<div>\n",
       "<style scoped>\n",
       "    .dataframe tbody tr th:only-of-type {\n",
       "        vertical-align: middle;\n",
       "    }\n",
       "\n",
       "    .dataframe tbody tr th {\n",
       "        vertical-align: top;\n",
       "    }\n",
       "\n",
       "    .dataframe thead th {\n",
       "        text-align: right;\n",
       "    }\n",
       "</style>\n",
       "<table border=\"1\" class=\"dataframe\">\n",
       "  <thead>\n",
       "    <tr style=\"text-align: right;\">\n",
       "      <th></th>\n",
       "      <th>catalog</th>\n",
       "      <th>book_name</th>\n",
       "      <th>price</th>\n",
       "      <th>rating</th>\n",
       "      <th>stock_status</th>\n",
       "    </tr>\n",
       "  </thead>\n",
       "  <tbody>\n",
       "    <tr>\n",
       "      <th>0</th>\n",
       "      <td>Classics</td>\n",
       "      <td>The Pilgrim's Progress</td>\n",
       "      <td>50.26</td>\n",
       "      <td>2</td>\n",
       "      <td>1</td>\n",
       "    </tr>\n",
       "    <tr>\n",
       "      <th>1</th>\n",
       "      <td>Classics</td>\n",
       "      <td>Candide</td>\n",
       "      <td>58.63</td>\n",
       "      <td>3</td>\n",
       "      <td>1</td>\n",
       "    </tr>\n",
       "    <tr>\n",
       "      <th>2</th>\n",
       "      <td>Classics</td>\n",
       "      <td>Animal Farm</td>\n",
       "      <td>57.22</td>\n",
       "      <td>3</td>\n",
       "      <td>1</td>\n",
       "    </tr>\n",
       "    <tr>\n",
       "      <th>3</th>\n",
       "      <td>Classics</td>\n",
       "      <td>Alice in Wonderland (Alice's ...</td>\n",
       "      <td>55.53</td>\n",
       "      <td>1</td>\n",
       "      <td>1</td>\n",
       "    </tr>\n",
       "    <tr>\n",
       "      <th>4</th>\n",
       "      <td>Science Fiction</td>\n",
       "      <td>Dune (Dune #1)</td>\n",
       "      <td>54.86</td>\n",
       "      <td>1</td>\n",
       "      <td>1</td>\n",
       "    </tr>\n",
       "    <tr>\n",
       "      <th>5</th>\n",
       "      <td>Science Fiction</td>\n",
       "      <td>Do Androids Dream of ...</td>\n",
       "      <td>51.48</td>\n",
       "      <td>1</td>\n",
       "      <td>1</td>\n",
       "    </tr>\n",
       "    <tr>\n",
       "      <th>6</th>\n",
       "      <td>Humor</td>\n",
       "      <td>Lamb: The Gospel According ...</td>\n",
       "      <td>55.50</td>\n",
       "      <td>5</td>\n",
       "      <td>1</td>\n",
       "    </tr>\n",
       "    <tr>\n",
       "      <th>7</th>\n",
       "      <td>Humor</td>\n",
       "      <td>Holidays on Ice</td>\n",
       "      <td>51.07</td>\n",
       "      <td>2</td>\n",
       "      <td>1</td>\n",
       "    </tr>\n",
       "    <tr>\n",
       "      <th>8</th>\n",
       "      <td>Business</td>\n",
       "      <td>Rich Dad, Poor Dad</td>\n",
       "      <td>51.74</td>\n",
       "      <td>1</td>\n",
       "      <td>1</td>\n",
       "    </tr>\n",
       "  </tbody>\n",
       "</table>\n",
       "</div>"
      ],
      "text/plain": [
       "           catalog                         book_name  price  rating  \\\n",
       "0         Classics            The Pilgrim's Progress  50.26       2   \n",
       "1         Classics                           Candide  58.63       3   \n",
       "2         Classics                       Animal Farm  57.22       3   \n",
       "3         Classics  Alice in Wonderland (Alice's ...  55.53       1   \n",
       "4  Science Fiction                    Dune (Dune #1)  54.86       1   \n",
       "5  Science Fiction          Do Androids Dream of ...  51.48       1   \n",
       "6            Humor    Lamb: The Gospel According ...  55.50       5   \n",
       "7            Humor                   Holidays on Ice  51.07       2   \n",
       "8         Business                Rich Dad, Poor Dad  51.74       1   \n",
       "\n",
       "   stock_status  \n",
       "0             1  \n",
       "1             1  \n",
       "2             1  \n",
       "3             1  \n",
       "4             1  \n",
       "5             1  \n",
       "6             1  \n",
       "7             1  \n",
       "8             1  "
      ]
     },
     "execution_count": 58,
     "metadata": {},
     "output_type": "execute_result"
    }
   ],
   "source": [
    "query = '''\n",
    "    SELECT *\n",
    "    FROM books\n",
    "    WHERE price > 50\n",
    "'''\n",
    "pd.read_sql(query, conn)"
   ]
  },
  {
   "cell_type": "code",
   "execution_count": 60,
   "id": "04323e65",
   "metadata": {
    "ExecuteTime": {
     "end_time": "2021-11-20T13:56:18.079653Z",
     "start_time": "2021-11-20T13:56:18.073194Z"
    },
    "hidden": true
   },
   "outputs": [
    {
     "data": {
      "text/html": [
       "<div>\n",
       "<style scoped>\n",
       "    .dataframe tbody tr th:only-of-type {\n",
       "        vertical-align: middle;\n",
       "    }\n",
       "\n",
       "    .dataframe tbody tr th {\n",
       "        vertical-align: top;\n",
       "    }\n",
       "\n",
       "    .dataframe thead th {\n",
       "        text-align: right;\n",
       "    }\n",
       "</style>\n",
       "<table border=\"1\" class=\"dataframe\">\n",
       "  <thead>\n",
       "    <tr style=\"text-align: right;\">\n",
       "      <th></th>\n",
       "      <th>catalog</th>\n",
       "      <th>book_name</th>\n",
       "      <th>price</th>\n",
       "      <th>rating</th>\n",
       "      <th>stock_status</th>\n",
       "    </tr>\n",
       "  </thead>\n",
       "  <tbody>\n",
       "    <tr>\n",
       "      <th>0</th>\n",
       "      <td>Humor</td>\n",
       "      <td>Lamb: The Gospel According ...</td>\n",
       "      <td>55.5</td>\n",
       "      <td>5</td>\n",
       "      <td>1</td>\n",
       "    </tr>\n",
       "  </tbody>\n",
       "</table>\n",
       "</div>"
      ],
      "text/plain": [
       "  catalog                       book_name  price  rating  stock_status\n",
       "0   Humor  Lamb: The Gospel According ...   55.5       5             1"
      ]
     },
     "execution_count": 60,
     "metadata": {},
     "output_type": "execute_result"
    }
   ],
   "source": [
    "query = '''\n",
    "    SELECT *\n",
    "    FROM books\n",
    "    WHERE price > 50 AND rating = 5\n",
    "'''\n",
    "pd.read_sql(query, conn)"
   ]
  },
  {
   "cell_type": "code",
   "execution_count": 66,
   "id": "2cb356f3",
   "metadata": {
    "ExecuteTime": {
     "end_time": "2021-11-20T13:58:38.661642Z",
     "start_time": "2021-11-20T13:58:38.654477Z"
    },
    "hidden": true
   },
   "outputs": [
    {
     "data": {
      "text/html": [
       "<div>\n",
       "<style scoped>\n",
       "    .dataframe tbody tr th:only-of-type {\n",
       "        vertical-align: middle;\n",
       "    }\n",
       "\n",
       "    .dataframe tbody tr th {\n",
       "        vertical-align: top;\n",
       "    }\n",
       "\n",
       "    .dataframe thead th {\n",
       "        text-align: right;\n",
       "    }\n",
       "</style>\n",
       "<table border=\"1\" class=\"dataframe\">\n",
       "  <thead>\n",
       "    <tr style=\"text-align: right;\">\n",
       "      <th></th>\n",
       "      <th>catalog</th>\n",
       "      <th>book_name</th>\n",
       "      <th>price</th>\n",
       "      <th>rating</th>\n",
       "      <th>stock_status</th>\n",
       "    </tr>\n",
       "  </thead>\n",
       "  <tbody>\n",
       "    <tr>\n",
       "      <th>0</th>\n",
       "      <td>Business</td>\n",
       "      <td>The Dirty Little Secrets ...</td>\n",
       "      <td>33.34</td>\n",
       "      <td>4</td>\n",
       "      <td>1</td>\n",
       "    </tr>\n",
       "    <tr>\n",
       "      <th>1</th>\n",
       "      <td>Business</td>\n",
       "      <td>Made to Stick: Why ...</td>\n",
       "      <td>38.85</td>\n",
       "      <td>5</td>\n",
       "      <td>1</td>\n",
       "    </tr>\n",
       "    <tr>\n",
       "      <th>2</th>\n",
       "      <td>Business</td>\n",
       "      <td>The Lean Startup: How ...</td>\n",
       "      <td>33.92</td>\n",
       "      <td>3</td>\n",
       "      <td>1</td>\n",
       "    </tr>\n",
       "  </tbody>\n",
       "</table>\n",
       "</div>"
      ],
      "text/plain": [
       "    catalog                     book_name  price  rating  stock_status\n",
       "0  Business  The Dirty Little Secrets ...  33.34       4             1\n",
       "1  Business        Made to Stick: Why ...  38.85       5             1\n",
       "2  Business     The Lean Startup: How ...  33.92       3             1"
      ]
     },
     "execution_count": 66,
     "metadata": {},
     "output_type": "execute_result"
    }
   ],
   "source": [
    "query = '''\n",
    "    SELECT *\n",
    "    FROM books\n",
    "    WHERE catalog = 'Business' AND price > 30 AND rating >= 3\n",
    "'''\n",
    "pd.read_sql(query, conn)"
   ]
  },
  {
   "cell_type": "markdown",
   "id": "15b95373",
   "metadata": {
    "heading_collapsed": true,
    "hidden": true
   },
   "source": [
    "#### Descriptive Statistics\n",
    "\n",
    "    count\n",
    "    mean\n",
    "    median\n",
    "    standar deviation\n",
    "    min\n",
    "    max"
   ]
  },
  {
   "cell_type": "code",
   "execution_count": 73,
   "id": "777412d7",
   "metadata": {
    "ExecuteTime": {
     "end_time": "2021-11-20T14:15:07.569987Z",
     "start_time": "2021-11-20T14:15:07.564914Z"
    },
    "hidden": true
   },
   "outputs": [
    {
     "data": {
      "text/html": [
       "<div>\n",
       "<style scoped>\n",
       "    .dataframe tbody tr th:only-of-type {\n",
       "        vertical-align: middle;\n",
       "    }\n",
       "\n",
       "    .dataframe tbody tr th {\n",
       "        vertical-align: top;\n",
       "    }\n",
       "\n",
       "    .dataframe thead th {\n",
       "        text-align: right;\n",
       "    }\n",
       "</style>\n",
       "<table border=\"1\" class=\"dataframe\">\n",
       "  <thead>\n",
       "    <tr style=\"text-align: right;\">\n",
       "      <th></th>\n",
       "      <th>Average Price</th>\n",
       "    </tr>\n",
       "  </thead>\n",
       "  <tbody>\n",
       "    <tr>\n",
       "      <th>0</th>\n",
       "      <td>34.0</td>\n",
       "    </tr>\n",
       "  </tbody>\n",
       "</table>\n",
       "</div>"
      ],
      "text/plain": [
       "   Average Price\n",
       "0           34.0"
      ]
     },
     "execution_count": 73,
     "metadata": {},
     "output_type": "execute_result"
    }
   ],
   "source": [
    "pd.read_sql('''\n",
    "    SELECT ROUND(AVG(price)) AS 'Average Price'\n",
    "    FROM books\n",
    "''', conn)"
   ]
  },
  {
   "cell_type": "code",
   "execution_count": 76,
   "id": "9864d030",
   "metadata": {
    "ExecuteTime": {
     "end_time": "2021-11-20T14:16:53.427217Z",
     "start_time": "2021-11-20T14:16:53.415604Z"
    },
    "hidden": true
   },
   "outputs": [
    {
     "data": {
      "text/html": [
       "<div>\n",
       "<style scoped>\n",
       "    .dataframe tbody tr th:only-of-type {\n",
       "        vertical-align: middle;\n",
       "    }\n",
       "\n",
       "    .dataframe tbody tr th {\n",
       "        vertical-align: top;\n",
       "    }\n",
       "\n",
       "    .dataframe thead th {\n",
       "        text-align: right;\n",
       "    }\n",
       "</style>\n",
       "<table border=\"1\" class=\"dataframe\">\n",
       "  <thead>\n",
       "    <tr style=\"text-align: right;\">\n",
       "      <th></th>\n",
       "      <th>Business Average Price</th>\n",
       "    </tr>\n",
       "  </thead>\n",
       "  <tbody>\n",
       "    <tr>\n",
       "      <th>0</th>\n",
       "      <td>32.0</td>\n",
       "    </tr>\n",
       "  </tbody>\n",
       "</table>\n",
       "</div>"
      ],
      "text/plain": [
       "   Business Average Price\n",
       "0                    32.0"
      ]
     },
     "execution_count": 76,
     "metadata": {},
     "output_type": "execute_result"
    }
   ],
   "source": [
    "pd.read_sql('''\n",
    "    SELECT ROUND(AVG(price)) AS 'Business Average Price'\n",
    "    FROM books\n",
    "    WHERE catalog = 'Business'\n",
    "''', conn)"
   ]
  },
  {
   "cell_type": "code",
   "execution_count": 78,
   "id": "82c892ba",
   "metadata": {
    "ExecuteTime": {
     "end_time": "2021-11-20T14:18:24.212589Z",
     "start_time": "2021-11-20T14:18:24.207176Z"
    },
    "hidden": true
   },
   "outputs": [
    {
     "data": {
      "text/html": [
       "<div>\n",
       "<style scoped>\n",
       "    .dataframe tbody tr th:only-of-type {\n",
       "        vertical-align: middle;\n",
       "    }\n",
       "\n",
       "    .dataframe tbody tr th {\n",
       "        vertical-align: top;\n",
       "    }\n",
       "\n",
       "    .dataframe thead th {\n",
       "        text-align: right;\n",
       "    }\n",
       "</style>\n",
       "<table border=\"1\" class=\"dataframe\">\n",
       "  <thead>\n",
       "    <tr style=\"text-align: right;\">\n",
       "      <th></th>\n",
       "      <th>Min Price</th>\n",
       "    </tr>\n",
       "  </thead>\n",
       "  <tbody>\n",
       "    <tr>\n",
       "      <th>0</th>\n",
       "      <td>10.65</td>\n",
       "    </tr>\n",
       "  </tbody>\n",
       "</table>\n",
       "</div>"
      ],
      "text/plain": [
       "   Min Price\n",
       "0      10.65"
      ]
     },
     "execution_count": 78,
     "metadata": {},
     "output_type": "execute_result"
    }
   ],
   "source": [
    "pd.read_sql('''\n",
    "    SELECT MIN(price) AS 'Min Price'\n",
    "    FROM books\n",
    "''', conn)"
   ]
  },
  {
   "cell_type": "code",
   "execution_count": 79,
   "id": "3fead2d4",
   "metadata": {
    "ExecuteTime": {
     "end_time": "2021-11-20T14:18:47.837508Z",
     "start_time": "2021-11-20T14:18:47.830821Z"
    },
    "hidden": true
   },
   "outputs": [
    {
     "data": {
      "text/html": [
       "<div>\n",
       "<style scoped>\n",
       "    .dataframe tbody tr th:only-of-type {\n",
       "        vertical-align: middle;\n",
       "    }\n",
       "\n",
       "    .dataframe tbody tr th {\n",
       "        vertical-align: top;\n",
       "    }\n",
       "\n",
       "    .dataframe thead th {\n",
       "        text-align: right;\n",
       "    }\n",
       "</style>\n",
       "<table border=\"1\" class=\"dataframe\">\n",
       "  <thead>\n",
       "    <tr style=\"text-align: right;\">\n",
       "      <th></th>\n",
       "      <th>Max Price</th>\n",
       "    </tr>\n",
       "  </thead>\n",
       "  <tbody>\n",
       "    <tr>\n",
       "      <th>0</th>\n",
       "      <td>58.63</td>\n",
       "    </tr>\n",
       "  </tbody>\n",
       "</table>\n",
       "</div>"
      ],
      "text/plain": [
       "   Max Price\n",
       "0      58.63"
      ]
     },
     "execution_count": 79,
     "metadata": {},
     "output_type": "execute_result"
    }
   ],
   "source": [
    "pd.read_sql('''\n",
    "    SELECT MAX(price) AS 'Max Price'\n",
    "    FROM books\n",
    "''', conn)"
   ]
  },
  {
   "cell_type": "code",
   "execution_count": 80,
   "id": "8bc3dbbe",
   "metadata": {
    "ExecuteTime": {
     "end_time": "2021-11-20T14:19:20.544145Z",
     "start_time": "2021-11-20T14:19:20.538931Z"
    },
    "hidden": true
   },
   "outputs": [
    {
     "data": {
      "text/html": [
       "<div>\n",
       "<style scoped>\n",
       "    .dataframe tbody tr th:only-of-type {\n",
       "        vertical-align: middle;\n",
       "    }\n",
       "\n",
       "    .dataframe tbody tr th {\n",
       "        vertical-align: top;\n",
       "    }\n",
       "\n",
       "    .dataframe thead th {\n",
       "        text-align: right;\n",
       "    }\n",
       "</style>\n",
       "<table border=\"1\" class=\"dataframe\">\n",
       "  <thead>\n",
       "    <tr style=\"text-align: right;\">\n",
       "      <th></th>\n",
       "      <th>Range Price</th>\n",
       "    </tr>\n",
       "  </thead>\n",
       "  <tbody>\n",
       "    <tr>\n",
       "      <th>0</th>\n",
       "      <td>47.98</td>\n",
       "    </tr>\n",
       "  </tbody>\n",
       "</table>\n",
       "</div>"
      ],
      "text/plain": [
       "   Range Price\n",
       "0        47.98"
      ]
     },
     "execution_count": 80,
     "metadata": {},
     "output_type": "execute_result"
    }
   ],
   "source": [
    "pd.read_sql('''\n",
    "    SELECT MAX(price) - MIN(price) AS 'Range Price'\n",
    "    FROM books\n",
    "''', conn)"
   ]
  },
  {
   "cell_type": "code",
   "execution_count": 82,
   "id": "c4b41c1d",
   "metadata": {
    "ExecuteTime": {
     "end_time": "2021-11-20T14:22:06.522032Z",
     "start_time": "2021-11-20T14:22:06.516776Z"
    },
    "hidden": true
   },
   "outputs": [
    {
     "data": {
      "text/html": [
       "<div>\n",
       "<style scoped>\n",
       "    .dataframe tbody tr th:only-of-type {\n",
       "        vertical-align: middle;\n",
       "    }\n",
       "\n",
       "    .dataframe tbody tr th {\n",
       "        vertical-align: top;\n",
       "    }\n",
       "\n",
       "    .dataframe thead th {\n",
       "        text-align: right;\n",
       "    }\n",
       "</style>\n",
       "<table border=\"1\" class=\"dataframe\">\n",
       "  <thead>\n",
       "    <tr style=\"text-align: right;\">\n",
       "      <th></th>\n",
       "      <th>Number of books</th>\n",
       "    </tr>\n",
       "  </thead>\n",
       "  <tbody>\n",
       "    <tr>\n",
       "      <th>0</th>\n",
       "      <td>57</td>\n",
       "    </tr>\n",
       "  </tbody>\n",
       "</table>\n",
       "</div>"
      ],
      "text/plain": [
       "   Number of books\n",
       "0               57"
      ]
     },
     "execution_count": 82,
     "metadata": {},
     "output_type": "execute_result"
    }
   ],
   "source": [
    "pd.read_sql('''\n",
    "    SELECT COUNT(catalog) 'Number of books'\n",
    "    FROM books\n",
    "''', conn)"
   ]
  },
  {
   "cell_type": "code",
   "execution_count": 87,
   "id": "f464c098",
   "metadata": {
    "ExecuteTime": {
     "end_time": "2021-11-20T14:24:44.477690Z",
     "start_time": "2021-11-20T14:24:44.472839Z"
    },
    "hidden": true
   },
   "outputs": [
    {
     "data": {
      "text/html": [
       "<div>\n",
       "<style scoped>\n",
       "    .dataframe tbody tr th:only-of-type {\n",
       "        vertical-align: middle;\n",
       "    }\n",
       "\n",
       "    .dataframe tbody tr th {\n",
       "        vertical-align: top;\n",
       "    }\n",
       "\n",
       "    .dataframe thead th {\n",
       "        text-align: right;\n",
       "    }\n",
       "</style>\n",
       "<table border=\"1\" class=\"dataframe\">\n",
       "  <thead>\n",
       "    <tr style=\"text-align: right;\">\n",
       "      <th></th>\n",
       "      <th>Catalogs</th>\n",
       "    </tr>\n",
       "  </thead>\n",
       "  <tbody>\n",
       "    <tr>\n",
       "      <th>0</th>\n",
       "      <td>Classics</td>\n",
       "    </tr>\n",
       "    <tr>\n",
       "      <th>1</th>\n",
       "      <td>Science Fiction</td>\n",
       "    </tr>\n",
       "    <tr>\n",
       "      <th>2</th>\n",
       "      <td>Humor</td>\n",
       "    </tr>\n",
       "    <tr>\n",
       "      <th>3</th>\n",
       "      <td>Business</td>\n",
       "    </tr>\n",
       "  </tbody>\n",
       "</table>\n",
       "</div>"
      ],
      "text/plain": [
       "          Catalogs\n",
       "0         Classics\n",
       "1  Science Fiction\n",
       "2            Humor\n",
       "3         Business"
      ]
     },
     "execution_count": 87,
     "metadata": {},
     "output_type": "execute_result"
    }
   ],
   "source": [
    "pd.read_sql('''\n",
    "    SELECT DISTINCT(catalog) 'Catalogs'\n",
    "    FROM books\n",
    "''', conn)"
   ]
  },
  {
   "cell_type": "code",
   "execution_count": 97,
   "id": "d2fd00e2",
   "metadata": {
    "ExecuteTime": {
     "end_time": "2021-11-20T14:38:31.133903Z",
     "start_time": "2021-11-20T14:38:31.128136Z"
    },
    "hidden": true
   },
   "outputs": [
    {
     "data": {
      "text/html": [
       "<div>\n",
       "<style scoped>\n",
       "    .dataframe tbody tr th:only-of-type {\n",
       "        vertical-align: middle;\n",
       "    }\n",
       "\n",
       "    .dataframe tbody tr th {\n",
       "        vertical-align: top;\n",
       "    }\n",
       "\n",
       "    .dataframe thead th {\n",
       "        text-align: right;\n",
       "    }\n",
       "</style>\n",
       "<table border=\"1\" class=\"dataframe\">\n",
       "  <thead>\n",
       "    <tr style=\"text-align: right;\">\n",
       "      <th></th>\n",
       "      <th>Median Price</th>\n",
       "    </tr>\n",
       "  </thead>\n",
       "  <tbody>\n",
       "    <tr>\n",
       "      <th>0</th>\n",
       "      <td>33.92</td>\n",
       "    </tr>\n",
       "  </tbody>\n",
       "</table>\n",
       "</div>"
      ],
      "text/plain": [
       "   Median Price\n",
       "0         33.92"
      ]
     },
     "execution_count": 97,
     "metadata": {},
     "output_type": "execute_result"
    }
   ],
   "source": [
    "pd.read_sql('''\n",
    "    SELECT price as 'Median Price'\n",
    "    FROM books \n",
    "    ORDER BY price \n",
    "    LIMIT 1 \n",
    "    OFFSET (SELECT COUNT(*) FROM books) / 2\n",
    "''', conn)"
   ]
  },
  {
   "cell_type": "code",
   "execution_count": 108,
   "id": "55887f1a",
   "metadata": {
    "ExecuteTime": {
     "end_time": "2021-11-20T14:55:16.588961Z",
     "start_time": "2021-11-20T14:55:16.569866Z"
    },
    "hidden": true
   },
   "outputs": [
    {
     "ename": "OperationalError",
     "evalue": "(sqlite3.OperationalError) near \"(\": syntax error\n[SQL: \n    SELECT \n        price\n        COUNT(*) as count\n    FROM books\n    GROUP BY price\n    ORDER BY COUNT(*) DESC\n    LIMIT 1\n    ]\n(Background on this error at: https://sqlalche.me/e/14/e3q8)",
     "output_type": "error",
     "traceback": [
      "\u001b[0;31m---------------------------------------------------------------------------\u001b[0m",
      "\u001b[0;31mOperationalError\u001b[0m                          Traceback (most recent call last)",
      "\u001b[0;32m~/Documents/ds_ao_dev/env_ds_ao_dev/lib/python3.8/site-packages/sqlalchemy/engine/base.py\u001b[0m in \u001b[0;36m_execute_context\u001b[0;34m(self, dialect, constructor, statement, parameters, execution_options, *args, **kw)\u001b[0m\n\u001b[1;32m   1801\u001b[0m                 \u001b[0;32mif\u001b[0m \u001b[0;32mnot\u001b[0m \u001b[0mevt_handled\u001b[0m\u001b[0;34m:\u001b[0m\u001b[0;34m\u001b[0m\u001b[0;34m\u001b[0m\u001b[0m\n\u001b[0;32m-> 1802\u001b[0;31m                     self.dialect.do_execute(\n\u001b[0m\u001b[1;32m   1803\u001b[0m                         \u001b[0mcursor\u001b[0m\u001b[0;34m,\u001b[0m \u001b[0mstatement\u001b[0m\u001b[0;34m,\u001b[0m \u001b[0mparameters\u001b[0m\u001b[0;34m,\u001b[0m \u001b[0mcontext\u001b[0m\u001b[0;34m\u001b[0m\u001b[0;34m\u001b[0m\u001b[0m\n",
      "\u001b[0;32m~/Documents/ds_ao_dev/env_ds_ao_dev/lib/python3.8/site-packages/sqlalchemy/engine/default.py\u001b[0m in \u001b[0;36mdo_execute\u001b[0;34m(self, cursor, statement, parameters, context)\u001b[0m\n\u001b[1;32m    718\u001b[0m     \u001b[0;32mdef\u001b[0m \u001b[0mdo_execute\u001b[0m\u001b[0;34m(\u001b[0m\u001b[0mself\u001b[0m\u001b[0;34m,\u001b[0m \u001b[0mcursor\u001b[0m\u001b[0;34m,\u001b[0m \u001b[0mstatement\u001b[0m\u001b[0;34m,\u001b[0m \u001b[0mparameters\u001b[0m\u001b[0;34m,\u001b[0m \u001b[0mcontext\u001b[0m\u001b[0;34m=\u001b[0m\u001b[0;32mNone\u001b[0m\u001b[0;34m)\u001b[0m\u001b[0;34m:\u001b[0m\u001b[0;34m\u001b[0m\u001b[0;34m\u001b[0m\u001b[0m\n\u001b[0;32m--> 719\u001b[0;31m         \u001b[0mcursor\u001b[0m\u001b[0;34m.\u001b[0m\u001b[0mexecute\u001b[0m\u001b[0;34m(\u001b[0m\u001b[0mstatement\u001b[0m\u001b[0;34m,\u001b[0m \u001b[0mparameters\u001b[0m\u001b[0;34m)\u001b[0m\u001b[0;34m\u001b[0m\u001b[0;34m\u001b[0m\u001b[0m\n\u001b[0m\u001b[1;32m    720\u001b[0m \u001b[0;34m\u001b[0m\u001b[0m\n",
      "\u001b[0;31mOperationalError\u001b[0m: near \"(\": syntax error",
      "\nThe above exception was the direct cause of the following exception:\n",
      "\u001b[0;31mOperationalError\u001b[0m                          Traceback (most recent call last)",
      "\u001b[0;32m/tmp/ipykernel_7934/1732353052.py\u001b[0m in \u001b[0;36m<module>\u001b[0;34m\u001b[0m\n\u001b[0;32m----> 1\u001b[0;31m pd.read_sql('''\n\u001b[0m\u001b[1;32m      2\u001b[0m     \u001b[0mSELECT\u001b[0m\u001b[0;34m\u001b[0m\u001b[0;34m\u001b[0m\u001b[0m\n\u001b[1;32m      3\u001b[0m         \u001b[0mprice\u001b[0m\u001b[0;34m\u001b[0m\u001b[0;34m\u001b[0m\u001b[0m\n\u001b[1;32m      4\u001b[0m         \u001b[0mCOUNT\u001b[0m\u001b[0;34m(\u001b[0m\u001b[0;34m*\u001b[0m\u001b[0;34m)\u001b[0m \u001b[0;32mas\u001b[0m \u001b[0mcount\u001b[0m\u001b[0;34m\u001b[0m\u001b[0;34m\u001b[0m\u001b[0m\n\u001b[1;32m      5\u001b[0m     \u001b[0mFROM\u001b[0m \u001b[0mbooks\u001b[0m\u001b[0;34m\u001b[0m\u001b[0;34m\u001b[0m\u001b[0m\n",
      "\u001b[0;32m~/Documents/ds_ao_dev/env_ds_ao_dev/lib/python3.8/site-packages/pandas/io/sql.py\u001b[0m in \u001b[0;36mread_sql\u001b[0;34m(sql, con, index_col, coerce_float, params, parse_dates, columns, chunksize)\u001b[0m\n\u001b[1;32m    626\u001b[0m         )\n\u001b[1;32m    627\u001b[0m     \u001b[0;32melse\u001b[0m\u001b[0;34m:\u001b[0m\u001b[0;34m\u001b[0m\u001b[0;34m\u001b[0m\u001b[0m\n\u001b[0;32m--> 628\u001b[0;31m         return pandas_sql.read_query(\n\u001b[0m\u001b[1;32m    629\u001b[0m             \u001b[0msql\u001b[0m\u001b[0;34m,\u001b[0m\u001b[0;34m\u001b[0m\u001b[0;34m\u001b[0m\u001b[0m\n\u001b[1;32m    630\u001b[0m             \u001b[0mindex_col\u001b[0m\u001b[0;34m=\u001b[0m\u001b[0mindex_col\u001b[0m\u001b[0;34m,\u001b[0m\u001b[0;34m\u001b[0m\u001b[0;34m\u001b[0m\u001b[0m\n",
      "\u001b[0;32m~/Documents/ds_ao_dev/env_ds_ao_dev/lib/python3.8/site-packages/pandas/io/sql.py\u001b[0m in \u001b[0;36mread_query\u001b[0;34m(self, sql, index_col, coerce_float, parse_dates, params, chunksize, dtype)\u001b[0m\n\u001b[1;32m   1577\u001b[0m         \u001b[0margs\u001b[0m \u001b[0;34m=\u001b[0m \u001b[0m_convert_params\u001b[0m\u001b[0;34m(\u001b[0m\u001b[0msql\u001b[0m\u001b[0;34m,\u001b[0m \u001b[0mparams\u001b[0m\u001b[0;34m)\u001b[0m\u001b[0;34m\u001b[0m\u001b[0;34m\u001b[0m\u001b[0m\n\u001b[1;32m   1578\u001b[0m \u001b[0;34m\u001b[0m\u001b[0m\n\u001b[0;32m-> 1579\u001b[0;31m         \u001b[0mresult\u001b[0m \u001b[0;34m=\u001b[0m \u001b[0mself\u001b[0m\u001b[0;34m.\u001b[0m\u001b[0mexecute\u001b[0m\u001b[0;34m(\u001b[0m\u001b[0;34m*\u001b[0m\u001b[0margs\u001b[0m\u001b[0;34m)\u001b[0m\u001b[0;34m\u001b[0m\u001b[0;34m\u001b[0m\u001b[0m\n\u001b[0m\u001b[1;32m   1580\u001b[0m         \u001b[0mcolumns\u001b[0m \u001b[0;34m=\u001b[0m \u001b[0mresult\u001b[0m\u001b[0;34m.\u001b[0m\u001b[0mkeys\u001b[0m\u001b[0;34m(\u001b[0m\u001b[0;34m)\u001b[0m\u001b[0;34m\u001b[0m\u001b[0;34m\u001b[0m\u001b[0m\n\u001b[1;32m   1581\u001b[0m \u001b[0;34m\u001b[0m\u001b[0m\n",
      "\u001b[0;32m~/Documents/ds_ao_dev/env_ds_ao_dev/lib/python3.8/site-packages/pandas/io/sql.py\u001b[0m in \u001b[0;36mexecute\u001b[0;34m(self, *args, **kwargs)\u001b[0m\n\u001b[1;32m   1422\u001b[0m     \u001b[0;32mdef\u001b[0m \u001b[0mexecute\u001b[0m\u001b[0;34m(\u001b[0m\u001b[0mself\u001b[0m\u001b[0;34m,\u001b[0m \u001b[0;34m*\u001b[0m\u001b[0margs\u001b[0m\u001b[0;34m,\u001b[0m \u001b[0;34m**\u001b[0m\u001b[0mkwargs\u001b[0m\u001b[0;34m)\u001b[0m\u001b[0;34m:\u001b[0m\u001b[0;34m\u001b[0m\u001b[0;34m\u001b[0m\u001b[0m\n\u001b[1;32m   1423\u001b[0m         \u001b[0;34m\"\"\"Simple passthrough to SQLAlchemy connectable\"\"\"\u001b[0m\u001b[0;34m\u001b[0m\u001b[0;34m\u001b[0m\u001b[0m\n\u001b[0;32m-> 1424\u001b[0;31m         \u001b[0;32mreturn\u001b[0m \u001b[0mself\u001b[0m\u001b[0;34m.\u001b[0m\u001b[0mconnectable\u001b[0m\u001b[0;34m.\u001b[0m\u001b[0mexecution_options\u001b[0m\u001b[0;34m(\u001b[0m\u001b[0;34m)\u001b[0m\u001b[0;34m.\u001b[0m\u001b[0mexecute\u001b[0m\u001b[0;34m(\u001b[0m\u001b[0;34m*\u001b[0m\u001b[0margs\u001b[0m\u001b[0;34m,\u001b[0m \u001b[0;34m**\u001b[0m\u001b[0mkwargs\u001b[0m\u001b[0;34m)\u001b[0m\u001b[0;34m\u001b[0m\u001b[0;34m\u001b[0m\u001b[0m\n\u001b[0m\u001b[1;32m   1425\u001b[0m \u001b[0;34m\u001b[0m\u001b[0m\n\u001b[1;32m   1426\u001b[0m     def read_table(\n",
      "\u001b[0;32m<string>\u001b[0m in \u001b[0;36mexecute\u001b[0;34m(self, statement, *multiparams, **params)\u001b[0m\n",
      "\u001b[0;32m~/Documents/ds_ao_dev/env_ds_ao_dev/lib/python3.8/site-packages/sqlalchemy/util/deprecations.py\u001b[0m in \u001b[0;36mwarned\u001b[0;34m(fn, *args, **kwargs)\u001b[0m\n\u001b[1;32m    399\u001b[0m         \u001b[0;32mif\u001b[0m \u001b[0;32mnot\u001b[0m \u001b[0mskip_warning\u001b[0m\u001b[0;34m:\u001b[0m\u001b[0;34m\u001b[0m\u001b[0;34m\u001b[0m\u001b[0m\n\u001b[1;32m    400\u001b[0m             \u001b[0m_warn_with_version\u001b[0m\u001b[0;34m(\u001b[0m\u001b[0mmessage\u001b[0m\u001b[0;34m,\u001b[0m \u001b[0mversion\u001b[0m\u001b[0;34m,\u001b[0m \u001b[0mwtype\u001b[0m\u001b[0;34m,\u001b[0m \u001b[0mstacklevel\u001b[0m\u001b[0;34m=\u001b[0m\u001b[0;36m3\u001b[0m\u001b[0;34m)\u001b[0m\u001b[0;34m\u001b[0m\u001b[0;34m\u001b[0m\u001b[0m\n\u001b[0;32m--> 401\u001b[0;31m         \u001b[0;32mreturn\u001b[0m \u001b[0mfn\u001b[0m\u001b[0;34m(\u001b[0m\u001b[0;34m*\u001b[0m\u001b[0margs\u001b[0m\u001b[0;34m,\u001b[0m \u001b[0;34m**\u001b[0m\u001b[0mkwargs\u001b[0m\u001b[0;34m)\u001b[0m\u001b[0;34m\u001b[0m\u001b[0;34m\u001b[0m\u001b[0m\n\u001b[0m\u001b[1;32m    402\u001b[0m \u001b[0;34m\u001b[0m\u001b[0m\n\u001b[1;32m    403\u001b[0m     \u001b[0mdoc\u001b[0m \u001b[0;34m=\u001b[0m \u001b[0mfunc\u001b[0m\u001b[0;34m.\u001b[0m\u001b[0m__doc__\u001b[0m \u001b[0;32mis\u001b[0m \u001b[0;32mnot\u001b[0m \u001b[0;32mNone\u001b[0m \u001b[0;32mand\u001b[0m \u001b[0mfunc\u001b[0m\u001b[0;34m.\u001b[0m\u001b[0m__doc__\u001b[0m \u001b[0;32mor\u001b[0m \u001b[0;34m\"\"\u001b[0m\u001b[0;34m\u001b[0m\u001b[0;34m\u001b[0m\u001b[0m\n",
      "\u001b[0;32m~/Documents/ds_ao_dev/env_ds_ao_dev/lib/python3.8/site-packages/sqlalchemy/engine/base.py\u001b[0m in \u001b[0;36mexecute\u001b[0;34m(self, statement, *multiparams, **params)\u001b[0m\n\u001b[1;32m   3137\u001b[0m         \"\"\"\n\u001b[1;32m   3138\u001b[0m         \u001b[0mconnection\u001b[0m \u001b[0;34m=\u001b[0m \u001b[0mself\u001b[0m\u001b[0;34m.\u001b[0m\u001b[0mconnect\u001b[0m\u001b[0;34m(\u001b[0m\u001b[0mclose_with_result\u001b[0m\u001b[0;34m=\u001b[0m\u001b[0;32mTrue\u001b[0m\u001b[0;34m)\u001b[0m\u001b[0;34m\u001b[0m\u001b[0;34m\u001b[0m\u001b[0m\n\u001b[0;32m-> 3139\u001b[0;31m         \u001b[0;32mreturn\u001b[0m \u001b[0mconnection\u001b[0m\u001b[0;34m.\u001b[0m\u001b[0mexecute\u001b[0m\u001b[0;34m(\u001b[0m\u001b[0mstatement\u001b[0m\u001b[0;34m,\u001b[0m \u001b[0;34m*\u001b[0m\u001b[0mmultiparams\u001b[0m\u001b[0;34m,\u001b[0m \u001b[0;34m**\u001b[0m\u001b[0mparams\u001b[0m\u001b[0;34m)\u001b[0m\u001b[0;34m\u001b[0m\u001b[0;34m\u001b[0m\u001b[0m\n\u001b[0m\u001b[1;32m   3140\u001b[0m \u001b[0;34m\u001b[0m\u001b[0m\n\u001b[1;32m   3141\u001b[0m     @util.deprecated_20(\n",
      "\u001b[0;32m~/Documents/ds_ao_dev/env_ds_ao_dev/lib/python3.8/site-packages/sqlalchemy/engine/base.py\u001b[0m in \u001b[0;36mexecute\u001b[0;34m(self, statement, *multiparams, **params)\u001b[0m\n\u001b[1;32m   1272\u001b[0m             )\n\u001b[1;32m   1273\u001b[0m \u001b[0;34m\u001b[0m\u001b[0m\n\u001b[0;32m-> 1274\u001b[0;31m             return self._exec_driver_sql(\n\u001b[0m\u001b[1;32m   1275\u001b[0m                 \u001b[0mstatement\u001b[0m\u001b[0;34m,\u001b[0m\u001b[0;34m\u001b[0m\u001b[0;34m\u001b[0m\u001b[0m\n\u001b[1;32m   1276\u001b[0m                 \u001b[0mmultiparams\u001b[0m\u001b[0;34m,\u001b[0m\u001b[0;34m\u001b[0m\u001b[0;34m\u001b[0m\u001b[0m\n",
      "\u001b[0;32m~/Documents/ds_ao_dev/env_ds_ao_dev/lib/python3.8/site-packages/sqlalchemy/engine/base.py\u001b[0m in \u001b[0;36m_exec_driver_sql\u001b[0;34m(self, statement, multiparams, params, execution_options, future)\u001b[0m\n\u001b[1;32m   1576\u001b[0m \u001b[0;34m\u001b[0m\u001b[0m\n\u001b[1;32m   1577\u001b[0m         \u001b[0mdialect\u001b[0m \u001b[0;34m=\u001b[0m \u001b[0mself\u001b[0m\u001b[0;34m.\u001b[0m\u001b[0mdialect\u001b[0m\u001b[0;34m\u001b[0m\u001b[0;34m\u001b[0m\u001b[0m\n\u001b[0;32m-> 1578\u001b[0;31m         ret = self._execute_context(\n\u001b[0m\u001b[1;32m   1579\u001b[0m             \u001b[0mdialect\u001b[0m\u001b[0;34m,\u001b[0m\u001b[0;34m\u001b[0m\u001b[0;34m\u001b[0m\u001b[0m\n\u001b[1;32m   1580\u001b[0m             \u001b[0mdialect\u001b[0m\u001b[0;34m.\u001b[0m\u001b[0mexecution_ctx_cls\u001b[0m\u001b[0;34m.\u001b[0m\u001b[0m_init_statement\u001b[0m\u001b[0;34m,\u001b[0m\u001b[0;34m\u001b[0m\u001b[0;34m\u001b[0m\u001b[0m\n",
      "\u001b[0;32m~/Documents/ds_ao_dev/env_ds_ao_dev/lib/python3.8/site-packages/sqlalchemy/engine/base.py\u001b[0m in \u001b[0;36m_execute_context\u001b[0;34m(self, dialect, constructor, statement, parameters, execution_options, *args, **kw)\u001b[0m\n\u001b[1;32m   1843\u001b[0m \u001b[0;34m\u001b[0m\u001b[0m\n\u001b[1;32m   1844\u001b[0m         \u001b[0;32mexcept\u001b[0m \u001b[0mBaseException\u001b[0m \u001b[0;32mas\u001b[0m \u001b[0me\u001b[0m\u001b[0;34m:\u001b[0m\u001b[0;34m\u001b[0m\u001b[0;34m\u001b[0m\u001b[0m\n\u001b[0;32m-> 1845\u001b[0;31m             self._handle_dbapi_exception(\n\u001b[0m\u001b[1;32m   1846\u001b[0m                 \u001b[0me\u001b[0m\u001b[0;34m,\u001b[0m \u001b[0mstatement\u001b[0m\u001b[0;34m,\u001b[0m \u001b[0mparameters\u001b[0m\u001b[0;34m,\u001b[0m \u001b[0mcursor\u001b[0m\u001b[0;34m,\u001b[0m \u001b[0mcontext\u001b[0m\u001b[0;34m\u001b[0m\u001b[0;34m\u001b[0m\u001b[0m\n\u001b[1;32m   1847\u001b[0m             )\n",
      "\u001b[0;32m~/Documents/ds_ao_dev/env_ds_ao_dev/lib/python3.8/site-packages/sqlalchemy/engine/base.py\u001b[0m in \u001b[0;36m_handle_dbapi_exception\u001b[0;34m(self, e, statement, parameters, cursor, context)\u001b[0m\n\u001b[1;32m   2024\u001b[0m                 \u001b[0mutil\u001b[0m\u001b[0;34m.\u001b[0m\u001b[0mraise_\u001b[0m\u001b[0;34m(\u001b[0m\u001b[0mnewraise\u001b[0m\u001b[0;34m,\u001b[0m \u001b[0mwith_traceback\u001b[0m\u001b[0;34m=\u001b[0m\u001b[0mexc_info\u001b[0m\u001b[0;34m[\u001b[0m\u001b[0;36m2\u001b[0m\u001b[0;34m]\u001b[0m\u001b[0;34m,\u001b[0m \u001b[0mfrom_\u001b[0m\u001b[0;34m=\u001b[0m\u001b[0me\u001b[0m\u001b[0;34m)\u001b[0m\u001b[0;34m\u001b[0m\u001b[0;34m\u001b[0m\u001b[0m\n\u001b[1;32m   2025\u001b[0m             \u001b[0;32melif\u001b[0m \u001b[0mshould_wrap\u001b[0m\u001b[0;34m:\u001b[0m\u001b[0;34m\u001b[0m\u001b[0;34m\u001b[0m\u001b[0m\n\u001b[0;32m-> 2026\u001b[0;31m                 util.raise_(\n\u001b[0m\u001b[1;32m   2027\u001b[0m                     \u001b[0msqlalchemy_exception\u001b[0m\u001b[0;34m,\u001b[0m \u001b[0mwith_traceback\u001b[0m\u001b[0;34m=\u001b[0m\u001b[0mexc_info\u001b[0m\u001b[0;34m[\u001b[0m\u001b[0;36m2\u001b[0m\u001b[0;34m]\u001b[0m\u001b[0;34m,\u001b[0m \u001b[0mfrom_\u001b[0m\u001b[0;34m=\u001b[0m\u001b[0me\u001b[0m\u001b[0;34m\u001b[0m\u001b[0;34m\u001b[0m\u001b[0m\n\u001b[1;32m   2028\u001b[0m                 )\n",
      "\u001b[0;32m~/Documents/ds_ao_dev/env_ds_ao_dev/lib/python3.8/site-packages/sqlalchemy/util/compat.py\u001b[0m in \u001b[0;36mraise_\u001b[0;34m(***failed resolving arguments***)\u001b[0m\n\u001b[1;32m    205\u001b[0m \u001b[0;34m\u001b[0m\u001b[0m\n\u001b[1;32m    206\u001b[0m         \u001b[0;32mtry\u001b[0m\u001b[0;34m:\u001b[0m\u001b[0;34m\u001b[0m\u001b[0;34m\u001b[0m\u001b[0m\n\u001b[0;32m--> 207\u001b[0;31m             \u001b[0;32mraise\u001b[0m \u001b[0mexception\u001b[0m\u001b[0;34m\u001b[0m\u001b[0;34m\u001b[0m\u001b[0m\n\u001b[0m\u001b[1;32m    208\u001b[0m         \u001b[0;32mfinally\u001b[0m\u001b[0;34m:\u001b[0m\u001b[0;34m\u001b[0m\u001b[0;34m\u001b[0m\u001b[0m\n\u001b[1;32m    209\u001b[0m             \u001b[0;31m# credit to\u001b[0m\u001b[0;34m\u001b[0m\u001b[0;34m\u001b[0m\u001b[0;34m\u001b[0m\u001b[0m\n",
      "\u001b[0;32m~/Documents/ds_ao_dev/env_ds_ao_dev/lib/python3.8/site-packages/sqlalchemy/engine/base.py\u001b[0m in \u001b[0;36m_execute_context\u001b[0;34m(self, dialect, constructor, statement, parameters, execution_options, *args, **kw)\u001b[0m\n\u001b[1;32m   1800\u001b[0m                             \u001b[0;32mbreak\u001b[0m\u001b[0;34m\u001b[0m\u001b[0;34m\u001b[0m\u001b[0m\n\u001b[1;32m   1801\u001b[0m                 \u001b[0;32mif\u001b[0m \u001b[0;32mnot\u001b[0m \u001b[0mevt_handled\u001b[0m\u001b[0;34m:\u001b[0m\u001b[0;34m\u001b[0m\u001b[0;34m\u001b[0m\u001b[0m\n\u001b[0;32m-> 1802\u001b[0;31m                     self.dialect.do_execute(\n\u001b[0m\u001b[1;32m   1803\u001b[0m                         \u001b[0mcursor\u001b[0m\u001b[0;34m,\u001b[0m \u001b[0mstatement\u001b[0m\u001b[0;34m,\u001b[0m \u001b[0mparameters\u001b[0m\u001b[0;34m,\u001b[0m \u001b[0mcontext\u001b[0m\u001b[0;34m\u001b[0m\u001b[0;34m\u001b[0m\u001b[0m\n\u001b[1;32m   1804\u001b[0m                     )\n",
      "\u001b[0;32m~/Documents/ds_ao_dev/env_ds_ao_dev/lib/python3.8/site-packages/sqlalchemy/engine/default.py\u001b[0m in \u001b[0;36mdo_execute\u001b[0;34m(self, cursor, statement, parameters, context)\u001b[0m\n\u001b[1;32m    717\u001b[0m \u001b[0;34m\u001b[0m\u001b[0m\n\u001b[1;32m    718\u001b[0m     \u001b[0;32mdef\u001b[0m \u001b[0mdo_execute\u001b[0m\u001b[0;34m(\u001b[0m\u001b[0mself\u001b[0m\u001b[0;34m,\u001b[0m \u001b[0mcursor\u001b[0m\u001b[0;34m,\u001b[0m \u001b[0mstatement\u001b[0m\u001b[0;34m,\u001b[0m \u001b[0mparameters\u001b[0m\u001b[0;34m,\u001b[0m \u001b[0mcontext\u001b[0m\u001b[0;34m=\u001b[0m\u001b[0;32mNone\u001b[0m\u001b[0;34m)\u001b[0m\u001b[0;34m:\u001b[0m\u001b[0;34m\u001b[0m\u001b[0;34m\u001b[0m\u001b[0m\n\u001b[0;32m--> 719\u001b[0;31m         \u001b[0mcursor\u001b[0m\u001b[0;34m.\u001b[0m\u001b[0mexecute\u001b[0m\u001b[0;34m(\u001b[0m\u001b[0mstatement\u001b[0m\u001b[0;34m,\u001b[0m \u001b[0mparameters\u001b[0m\u001b[0;34m)\u001b[0m\u001b[0;34m\u001b[0m\u001b[0;34m\u001b[0m\u001b[0m\n\u001b[0m\u001b[1;32m    720\u001b[0m \u001b[0;34m\u001b[0m\u001b[0m\n\u001b[1;32m    721\u001b[0m     \u001b[0;32mdef\u001b[0m \u001b[0mdo_execute_no_params\u001b[0m\u001b[0;34m(\u001b[0m\u001b[0mself\u001b[0m\u001b[0;34m,\u001b[0m \u001b[0mcursor\u001b[0m\u001b[0;34m,\u001b[0m \u001b[0mstatement\u001b[0m\u001b[0;34m,\u001b[0m \u001b[0mcontext\u001b[0m\u001b[0;34m=\u001b[0m\u001b[0;32mNone\u001b[0m\u001b[0;34m)\u001b[0m\u001b[0;34m:\u001b[0m\u001b[0;34m\u001b[0m\u001b[0;34m\u001b[0m\u001b[0m\n",
      "\u001b[0;31mOperationalError\u001b[0m: (sqlite3.OperationalError) near \"(\": syntax error\n[SQL: \n    SELECT \n        price\n        COUNT(*) as count\n    FROM books\n    GROUP BY price\n    ORDER BY COUNT(*) DESC\n    LIMIT 1\n    ]\n(Background on this error at: https://sqlalche.me/e/14/e3q8)"
     ]
    }
   ],
   "source": [
    "pd.read_sql('''\n",
    "    SELECT price COUNT(*) as count\n",
    "    FROM books\n",
    "    GROUP BY price\n",
    "    ORDER BY COUNT(*) DESC\n",
    "    LIMIT 1\n",
    "    ''', conn)"
   ]
  },
  {
   "cell_type": "markdown",
   "id": "2534479f",
   "metadata": {
    "heading_collapsed": true
   },
   "source": [
    "# SQL"
   ]
  },
  {
   "cell_type": "markdown",
   "id": "81131a25",
   "metadata": {
    "heading_collapsed": true,
    "hidden": true
   },
   "source": [
    "## Connect database"
   ]
  },
  {
   "cell_type": "code",
   "execution_count": 6,
   "id": "bb64fc11",
   "metadata": {
    "ExecuteTime": {
     "end_time": "2021-11-22T01:29:35.060829Z",
     "start_time": "2021-11-22T01:29:35.054293Z"
    },
    "hidden": true
   },
   "outputs": [],
   "source": [
    "db = create_engine('sqlite:///../data/olist_db.sqlite', echo=False)\n",
    "conn = db.connect()"
   ]
  },
  {
   "cell_type": "markdown",
   "id": "e87e1e60",
   "metadata": {
    "heading_collapsed": true,
    "hidden": true
   },
   "source": [
    "## Insert data"
   ]
  },
  {
   "cell_type": "code",
   "execution_count": 10,
   "id": "37124388",
   "metadata": {
    "ExecuteTime": {
     "end_time": "2021-11-22T01:31:19.489245Z",
     "start_time": "2021-11-22T01:31:19.377459Z"
    },
    "hidden": true
   },
   "outputs": [
    {
     "name": "stdout",
     "output_type": "stream",
     "text": [
      "total 123248\r\n",
      "-rw-rw-r-- 1 marcos marcos  9033957 out  1 19:08 olist_customers_dataset.csv\r\n",
      "-rw-rw-r-- 1 marcos marcos 61273883 out  1 19:08 olist_geolocation_dataset.csv\r\n",
      "-rw-rw-r-- 1 marcos marcos 15438671 out  1 19:08 olist_order_items_dataset.csv\r\n",
      "-rw-rw-r-- 1 marcos marcos  5777138 out  1 19:08 olist_order_payments_dataset.csv\r\n",
      "-rw-rw-r-- 1 marcos marcos 14451670 out  1 19:08 olist_order_reviews_dataset.csv\r\n",
      "-rw-rw-r-- 1 marcos marcos 17654914 out  1 19:08 olist_orders_dataset.csv\r\n",
      "-rw-rw-r-- 1 marcos marcos  2379446 out  1 19:08 olist_products_dataset.csv\r\n",
      "-rw-rw-r-- 1 marcos marcos   174703 out  1 19:08 olist_sellers_dataset.csv\r\n",
      "-rw-rw-r-- 1 marcos marcos     2613 out  1 19:08 product_category_name_translation.csv\r\n"
     ]
    }
   ],
   "source": [
    "ls -l ../data/olist"
   ]
  },
  {
   "cell_type": "code",
   "execution_count": 53,
   "id": "e3cfb111",
   "metadata": {
    "ExecuteTime": {
     "end_time": "2021-11-22T02:30:42.030890Z",
     "start_time": "2021-11-22T02:30:40.859063Z"
    },
    "hidden": true
   },
   "outputs": [],
   "source": [
    "df_customers = pd.read_csv('../data/olist/olist_customers_dataset.csv')\n",
    "df_geo = pd.read_csv('../data/olist/olist_geolocation_dataset.csv')\n",
    "df_order_items = pd.read_csv('../data/olist/olist_order_items_dataset.csv')\n",
    "df_payments = pd.read_csv('../data/olist/olist_order_payments_dataset.csv')\n",
    "df_reviews = pd.read_csv('../data/olist/olist_order_reviews_dataset.csv')\n",
    "df_orders = pd.read_csv('../data/olist/olist_orders_dataset.csv')\n",
    "df_products = pd.read_csv('../data/olist/olist_products_dataset.csv')\n",
    "df_sellers = pd.read_csv('../data/olist/olist_sellers_dataset.csv')\n",
    "df_product_category = pd.read_csv('../data/olist/product_category_name_translation.csv')"
   ]
  },
  {
   "cell_type": "code",
   "execution_count": 54,
   "id": "266edece",
   "metadata": {
    "ExecuteTime": {
     "end_time": "2021-11-22T02:30:58.211610Z",
     "start_time": "2021-11-22T02:30:58.208273Z"
    },
    "hidden": true
   },
   "outputs": [
    {
     "data": {
      "text/plain": [
       "product_category_name            object\n",
       "product_category_name_english    object\n",
       "dtype: object"
      ]
     },
     "execution_count": 54,
     "metadata": {},
     "output_type": "execute_result"
    }
   ],
   "source": [
    "df_product_category.dtypes"
   ]
  },
  {
   "cell_type": "markdown",
   "id": "05de9211",
   "metadata": {
    "heading_collapsed": true,
    "hidden": true
   },
   "source": [
    "### Schema"
   ]
  },
  {
   "cell_type": "code",
   "execution_count": 31,
   "id": "c933e57e",
   "metadata": {
    "ExecuteTime": {
     "end_time": "2021-11-22T02:04:26.979207Z",
     "start_time": "2021-11-22T02:04:26.932018Z"
    },
    "hidden": true
   },
   "outputs": [],
   "source": [
    "customers_table = '''\n",
    "    CREATE TABLE customers (\n",
    "      customer_id                TEXT,                \n",
    "      customer_unique_id         TEXT, \n",
    "      customer_zip_code_prefix   INTERGER,\n",
    "      customer_city              TEXT, \n",
    "      customer_state             TEXT\n",
    "    )\n",
    "'''\n",
    "\n",
    "geo_table = '''\n",
    "     CREATE TABLE geolocation (\n",
    "       geolocation_zip_code_prefix INTERGER, \n",
    "       geolocation_lat             REAL, \n",
    "       geolocation_lng             REAL,\n",
    "       geolocation_city            TEXT, \n",
    "       geolocation_state           TEXT\n",
    "     )\n",
    "'''\n",
    "\n",
    "order_items_table = '''\n",
    "    CREATE TABLE order_items (\n",
    "        order_id               TEXT, \n",
    "        order_item_id          INTERGER, \n",
    "        product_id             TEXT, \n",
    "        seller_id              TEXT,\n",
    "        shipping_limit_date    TEXT,  \n",
    "        price                  REAL, \n",
    "        freight_value          REAL\n",
    "    )\n",
    "'''\n",
    "\n",
    "payments_table = '''\n",
    "    CREATE TABLE payments (\n",
    "        order_id                TEXT, \n",
    "        payment_sequential      INTERGER, \n",
    "        payment_type            TEXT,\n",
    "        payment_installments    INTERGER, \n",
    "        payment_value           REAL\n",
    "    )\n",
    "'''\n",
    "\n",
    "reviews_table = '''\n",
    "    CREATE TABLE reviews (\n",
    "        review_id                 TEXT, \n",
    "        order_id,                 TEXT\n",
    "        review_score              INTERGER, \n",
    "        review_comment_title      TEXT,\n",
    "        review_comment_message    TEXT, \n",
    "        review_creation_date      TEXT,\n",
    "        review_answer_timestamp   TEXT\n",
    "    )\n",
    "'''\n",
    "\n",
    "orders_table = '''\n",
    "    CREATE TABLE orders (\n",
    "        order_id                        TEXT, \n",
    "        customer_id                     TEXT, \n",
    "        order_status                    TEXT, \n",
    "        order_purchase_timestamp        TEXT,\n",
    "        order_approved_at               TEXT, \n",
    "        order_delivered_carrier_date    TEXT,\n",
    "        order_delivered_customer_date   TEXT, \n",
    "        order_estimated_delivery_date   TEXT\n",
    "    )\n",
    "'''\n",
    "\n",
    "products_table = '''\n",
    "    CREATE TABLE products (\n",
    "        product_id                   TEXT, \n",
    "        product_category_name        TEXT, \n",
    "        product_name_lenght          REAL,\n",
    "        product_description_lenght   REAL, \n",
    "        product_photos_qty           REAL, \n",
    "        product_weight_g             REAL,\n",
    "        product_length_cm            REAL, \n",
    "        product_height_cm            REAL, \n",
    "        product_width_cm             REAL\n",
    "    )\n",
    "'''\n",
    "\n",
    "sellers_table = '''\n",
    "    CREATE TABLE sellers (\n",
    "        seller_id                  TEXT, \n",
    "        seller_zip_code_prefix     INTERGER, \n",
    "        seller_city                TEXT, \n",
    "        seller_state               TEXT\n",
    "    )\n",
    "'''\n",
    "\n",
    "product_category_table = '''\n",
    "    CREATE TABLE product_category (\n",
    "        product_category_name            TEXT\n",
    "        product_category_name_english    TEXT\n",
    "    )\n",
    "'''\n",
    "\n",
    "query_db(query=customers_table, database='olist_db.sqlite')\n",
    "query_db(query=geo_table, database='olist_db.sqlite')\n",
    "query_db(query=order_items_table, database='olist_db.sqlite')\n",
    "query_db(query=payments_table, database='olist_db.sqlite')\n",
    "query_db(query=reviews_table, database='olist_db.sqlite')\n",
    "query_db(query=orders_table, database='olist_db.sqlite')\n",
    "query_db(query=products_table, database='olist_db.sqlite')\n",
    "query_db(query=sellers_table, database='olist_db.sqlite')\n",
    "query_db(query=product_category_table, database='olist_db.sqlite')"
   ]
  },
  {
   "cell_type": "markdown",
   "id": "62d216d3",
   "metadata": {
    "heading_collapsed": true,
    "hidden": true
   },
   "source": [
    "### Insertion"
   ]
  },
  {
   "cell_type": "code",
   "execution_count": 32,
   "id": "baec8a8f",
   "metadata": {
    "ExecuteTime": {
     "end_time": "2021-11-22T02:08:55.802325Z",
     "start_time": "2021-11-22T02:08:49.451690Z"
    },
    "hidden": true
   },
   "outputs": [],
   "source": [
    "df_customers.to_sql(name='customers', con=conn, if_exists='append', index=False)\n",
    "df_geo.to_sql(name='geolocation', con=conn, if_exists='append', index=False) \n",
    "df_order_items.to_sql(name='order_items', con=conn, if_exists='append', index=False)\n",
    "df_payments.to_sql(name='payments', con=conn, if_exists='append', index=False)\n",
    "df_reviews.to_sql(name='reviews', con=conn, if_exists='append', index=False) \n",
    "df_orders.to_sql(name='orders', con=conn, if_exists='append', index=False) \n",
    "df_products.to_sql(name='products', con=conn, if_exists='append', index=False) \n",
    "df_sellers.to_sql(name='sellers', con=conn, if_exists='append', index=False) "
   ]
  },
  {
   "cell_type": "markdown",
   "id": "71ae6059",
   "metadata": {
    "heading_collapsed": true,
    "hidden": true
   },
   "source": [
    "## Check"
   ]
  },
  {
   "cell_type": "code",
   "execution_count": 52,
   "id": "73d0064d",
   "metadata": {
    "ExecuteTime": {
     "end_time": "2021-11-22T02:23:43.095120Z",
     "start_time": "2021-11-22T02:23:43.089675Z"
    },
    "hidden": true
   },
   "outputs": [
    {
     "data": {
      "text/html": [
       "<div>\n",
       "<style scoped>\n",
       "    .dataframe tbody tr th:only-of-type {\n",
       "        vertical-align: middle;\n",
       "    }\n",
       "\n",
       "    .dataframe tbody tr th {\n",
       "        vertical-align: top;\n",
       "    }\n",
       "\n",
       "    .dataframe thead th {\n",
       "        text-align: right;\n",
       "    }\n",
       "</style>\n",
       "<table border=\"1\" class=\"dataframe\">\n",
       "  <thead>\n",
       "    <tr style=\"text-align: right;\">\n",
       "      <th></th>\n",
       "      <th>name</th>\n",
       "    </tr>\n",
       "  </thead>\n",
       "  <tbody>\n",
       "    <tr>\n",
       "      <th>0</th>\n",
       "      <td>customers</td>\n",
       "    </tr>\n",
       "    <tr>\n",
       "      <th>1</th>\n",
       "      <td>geolocation</td>\n",
       "    </tr>\n",
       "    <tr>\n",
       "      <th>2</th>\n",
       "      <td>order_items</td>\n",
       "    </tr>\n",
       "    <tr>\n",
       "      <th>3</th>\n",
       "      <td>payments</td>\n",
       "    </tr>\n",
       "    <tr>\n",
       "      <th>4</th>\n",
       "      <td>reviews</td>\n",
       "    </tr>\n",
       "    <tr>\n",
       "      <th>5</th>\n",
       "      <td>orders</td>\n",
       "    </tr>\n",
       "    <tr>\n",
       "      <th>6</th>\n",
       "      <td>products</td>\n",
       "    </tr>\n",
       "    <tr>\n",
       "      <th>7</th>\n",
       "      <td>sellers</td>\n",
       "    </tr>\n",
       "  </tbody>\n",
       "</table>\n",
       "</div>"
      ],
      "text/plain": [
       "          name\n",
       "0    customers\n",
       "1  geolocation\n",
       "2  order_items\n",
       "3     payments\n",
       "4      reviews\n",
       "5       orders\n",
       "6     products\n",
       "7      sellers"
      ]
     },
     "execution_count": 52,
     "metadata": {},
     "output_type": "execute_result"
    }
   ],
   "source": [
    "pd.read_sql('SELECT name FROM sqlite_master WHERE type = \"table\"', con=conn)"
   ]
  },
  {
   "cell_type": "code",
   "execution_count": 38,
   "id": "c123a14a",
   "metadata": {
    "ExecuteTime": {
     "end_time": "2021-11-22T02:11:33.018402Z",
     "start_time": "2021-11-22T02:11:33.012094Z"
    },
    "hidden": true
   },
   "outputs": [
    {
     "data": {
      "text/html": [
       "<div>\n",
       "<style scoped>\n",
       "    .dataframe tbody tr th:only-of-type {\n",
       "        vertical-align: middle;\n",
       "    }\n",
       "\n",
       "    .dataframe tbody tr th {\n",
       "        vertical-align: top;\n",
       "    }\n",
       "\n",
       "    .dataframe thead th {\n",
       "        text-align: right;\n",
       "    }\n",
       "</style>\n",
       "<table border=\"1\" class=\"dataframe\">\n",
       "  <thead>\n",
       "    <tr style=\"text-align: right;\">\n",
       "      <th></th>\n",
       "      <th>customer_id</th>\n",
       "      <th>customer_unique_id</th>\n",
       "      <th>customer_zip_code_prefix</th>\n",
       "      <th>customer_city</th>\n",
       "      <th>customer_state</th>\n",
       "    </tr>\n",
       "  </thead>\n",
       "  <tbody>\n",
       "    <tr>\n",
       "      <th>0</th>\n",
       "      <td>06b8999e2fba1a1fbc88172c00ba8bc7</td>\n",
       "      <td>861eff4711a542e4b93843c6dd7febb0</td>\n",
       "      <td>14409</td>\n",
       "      <td>franca</td>\n",
       "      <td>SP</td>\n",
       "    </tr>\n",
       "    <tr>\n",
       "      <th>1</th>\n",
       "      <td>18955e83d337fd6b2def6b18a428ac77</td>\n",
       "      <td>290c77bc529b7ac935b93aa66c333dc3</td>\n",
       "      <td>9790</td>\n",
       "      <td>sao bernardo do campo</td>\n",
       "      <td>SP</td>\n",
       "    </tr>\n",
       "    <tr>\n",
       "      <th>2</th>\n",
       "      <td>4e7b3e00288586ebd08712fdd0374a03</td>\n",
       "      <td>060e732b5b29e8181a18229c7b0b2b5e</td>\n",
       "      <td>1151</td>\n",
       "      <td>sao paulo</td>\n",
       "      <td>SP</td>\n",
       "    </tr>\n",
       "  </tbody>\n",
       "</table>\n",
       "</div>"
      ],
      "text/plain": [
       "                        customer_id                customer_unique_id  \\\n",
       "0  06b8999e2fba1a1fbc88172c00ba8bc7  861eff4711a542e4b93843c6dd7febb0   \n",
       "1  18955e83d337fd6b2def6b18a428ac77  290c77bc529b7ac935b93aa66c333dc3   \n",
       "2  4e7b3e00288586ebd08712fdd0374a03  060e732b5b29e8181a18229c7b0b2b5e   \n",
       "\n",
       "   customer_zip_code_prefix          customer_city customer_state  \n",
       "0                     14409                 franca             SP  \n",
       "1                      9790  sao bernardo do campo             SP  \n",
       "2                      1151              sao paulo             SP  "
      ]
     },
     "execution_count": 38,
     "metadata": {},
     "output_type": "execute_result"
    }
   ],
   "source": [
    "pd.read_sql('SELECT * FROM customers LIMIT 3', con=conn)"
   ]
  },
  {
   "cell_type": "code",
   "execution_count": 39,
   "id": "5eb8ee56",
   "metadata": {
    "ExecuteTime": {
     "end_time": "2021-11-22T02:12:06.134012Z",
     "start_time": "2021-11-22T02:12:06.125357Z"
    },
    "hidden": true
   },
   "outputs": [
    {
     "data": {
      "text/html": [
       "<div>\n",
       "<style scoped>\n",
       "    .dataframe tbody tr th:only-of-type {\n",
       "        vertical-align: middle;\n",
       "    }\n",
       "\n",
       "    .dataframe tbody tr th {\n",
       "        vertical-align: top;\n",
       "    }\n",
       "\n",
       "    .dataframe thead th {\n",
       "        text-align: right;\n",
       "    }\n",
       "</style>\n",
       "<table border=\"1\" class=\"dataframe\">\n",
       "  <thead>\n",
       "    <tr style=\"text-align: right;\">\n",
       "      <th></th>\n",
       "      <th>geolocation_zip_code_prefix</th>\n",
       "      <th>geolocation_lat</th>\n",
       "      <th>geolocation_lng</th>\n",
       "      <th>geolocation_city</th>\n",
       "      <th>geolocation_state</th>\n",
       "    </tr>\n",
       "  </thead>\n",
       "  <tbody>\n",
       "    <tr>\n",
       "      <th>0</th>\n",
       "      <td>1037</td>\n",
       "      <td>-23.545621</td>\n",
       "      <td>-46.639292</td>\n",
       "      <td>sao paulo</td>\n",
       "      <td>SP</td>\n",
       "    </tr>\n",
       "    <tr>\n",
       "      <th>1</th>\n",
       "      <td>1046</td>\n",
       "      <td>-23.546081</td>\n",
       "      <td>-46.644820</td>\n",
       "      <td>sao paulo</td>\n",
       "      <td>SP</td>\n",
       "    </tr>\n",
       "    <tr>\n",
       "      <th>2</th>\n",
       "      <td>1046</td>\n",
       "      <td>-23.546129</td>\n",
       "      <td>-46.642951</td>\n",
       "      <td>sao paulo</td>\n",
       "      <td>SP</td>\n",
       "    </tr>\n",
       "  </tbody>\n",
       "</table>\n",
       "</div>"
      ],
      "text/plain": [
       "   geolocation_zip_code_prefix  geolocation_lat  geolocation_lng  \\\n",
       "0                         1037       -23.545621       -46.639292   \n",
       "1                         1046       -23.546081       -46.644820   \n",
       "2                         1046       -23.546129       -46.642951   \n",
       "\n",
       "  geolocation_city geolocation_state  \n",
       "0        sao paulo                SP  \n",
       "1        sao paulo                SP  \n",
       "2        sao paulo                SP  "
      ]
     },
     "execution_count": 39,
     "metadata": {},
     "output_type": "execute_result"
    }
   ],
   "source": [
    "pd.read_sql('SELECT * FROM geolocation LIMIT 3', con=conn)"
   ]
  },
  {
   "cell_type": "code",
   "execution_count": 40,
   "id": "46842227",
   "metadata": {
    "ExecuteTime": {
     "end_time": "2021-11-22T02:12:19.936690Z",
     "start_time": "2021-11-22T02:12:19.925412Z"
    },
    "hidden": true
   },
   "outputs": [
    {
     "data": {
      "text/html": [
       "<div>\n",
       "<style scoped>\n",
       "    .dataframe tbody tr th:only-of-type {\n",
       "        vertical-align: middle;\n",
       "    }\n",
       "\n",
       "    .dataframe tbody tr th {\n",
       "        vertical-align: top;\n",
       "    }\n",
       "\n",
       "    .dataframe thead th {\n",
       "        text-align: right;\n",
       "    }\n",
       "</style>\n",
       "<table border=\"1\" class=\"dataframe\">\n",
       "  <thead>\n",
       "    <tr style=\"text-align: right;\">\n",
       "      <th></th>\n",
       "      <th>order_id</th>\n",
       "      <th>order_item_id</th>\n",
       "      <th>product_id</th>\n",
       "      <th>seller_id</th>\n",
       "      <th>shipping_limit_date</th>\n",
       "      <th>price</th>\n",
       "      <th>freight_value</th>\n",
       "    </tr>\n",
       "  </thead>\n",
       "  <tbody>\n",
       "    <tr>\n",
       "      <th>0</th>\n",
       "      <td>00010242fe8c5a6d1ba2dd792cb16214</td>\n",
       "      <td>1</td>\n",
       "      <td>4244733e06e7ecb4970a6e2683c13e61</td>\n",
       "      <td>48436dade18ac8b2bce089ec2a041202</td>\n",
       "      <td>2017-09-19 09:45:35</td>\n",
       "      <td>58.9</td>\n",
       "      <td>13.29</td>\n",
       "    </tr>\n",
       "    <tr>\n",
       "      <th>1</th>\n",
       "      <td>00018f77f2f0320c557190d7a144bdd3</td>\n",
       "      <td>1</td>\n",
       "      <td>e5f2d52b802189ee658865ca93d83a8f</td>\n",
       "      <td>dd7ddc04e1b6c2c614352b383efe2d36</td>\n",
       "      <td>2017-05-03 11:05:13</td>\n",
       "      <td>239.9</td>\n",
       "      <td>19.93</td>\n",
       "    </tr>\n",
       "    <tr>\n",
       "      <th>2</th>\n",
       "      <td>000229ec398224ef6ca0657da4fc703e</td>\n",
       "      <td>1</td>\n",
       "      <td>c777355d18b72b67abbeef9df44fd0fd</td>\n",
       "      <td>5b51032eddd242adc84c38acab88f23d</td>\n",
       "      <td>2018-01-18 14:48:30</td>\n",
       "      <td>199.0</td>\n",
       "      <td>17.87</td>\n",
       "    </tr>\n",
       "  </tbody>\n",
       "</table>\n",
       "</div>"
      ],
      "text/plain": [
       "                           order_id  order_item_id  \\\n",
       "0  00010242fe8c5a6d1ba2dd792cb16214              1   \n",
       "1  00018f77f2f0320c557190d7a144bdd3              1   \n",
       "2  000229ec398224ef6ca0657da4fc703e              1   \n",
       "\n",
       "                         product_id                         seller_id  \\\n",
       "0  4244733e06e7ecb4970a6e2683c13e61  48436dade18ac8b2bce089ec2a041202   \n",
       "1  e5f2d52b802189ee658865ca93d83a8f  dd7ddc04e1b6c2c614352b383efe2d36   \n",
       "2  c777355d18b72b67abbeef9df44fd0fd  5b51032eddd242adc84c38acab88f23d   \n",
       "\n",
       "   shipping_limit_date  price  freight_value  \n",
       "0  2017-09-19 09:45:35   58.9          13.29  \n",
       "1  2017-05-03 11:05:13  239.9          19.93  \n",
       "2  2018-01-18 14:48:30  199.0          17.87  "
      ]
     },
     "execution_count": 40,
     "metadata": {},
     "output_type": "execute_result"
    }
   ],
   "source": [
    "pd.read_sql('SELECT * FROM order_items LIMIT 3', con=conn)"
   ]
  },
  {
   "cell_type": "code",
   "execution_count": 41,
   "id": "75a8572f",
   "metadata": {
    "ExecuteTime": {
     "end_time": "2021-11-22T02:12:45.859886Z",
     "start_time": "2021-11-22T02:12:45.853416Z"
    },
    "hidden": true
   },
   "outputs": [
    {
     "data": {
      "text/html": [
       "<div>\n",
       "<style scoped>\n",
       "    .dataframe tbody tr th:only-of-type {\n",
       "        vertical-align: middle;\n",
       "    }\n",
       "\n",
       "    .dataframe tbody tr th {\n",
       "        vertical-align: top;\n",
       "    }\n",
       "\n",
       "    .dataframe thead th {\n",
       "        text-align: right;\n",
       "    }\n",
       "</style>\n",
       "<table border=\"1\" class=\"dataframe\">\n",
       "  <thead>\n",
       "    <tr style=\"text-align: right;\">\n",
       "      <th></th>\n",
       "      <th>order_id</th>\n",
       "      <th>payment_sequential</th>\n",
       "      <th>payment_type</th>\n",
       "      <th>payment_installments</th>\n",
       "      <th>payment_value</th>\n",
       "    </tr>\n",
       "  </thead>\n",
       "  <tbody>\n",
       "    <tr>\n",
       "      <th>0</th>\n",
       "      <td>b81ef226f3fe1789b1e8b2acac839d17</td>\n",
       "      <td>1</td>\n",
       "      <td>credit_card</td>\n",
       "      <td>8</td>\n",
       "      <td>99.33</td>\n",
       "    </tr>\n",
       "    <tr>\n",
       "      <th>1</th>\n",
       "      <td>a9810da82917af2d9aefd1278f1dcfa0</td>\n",
       "      <td>1</td>\n",
       "      <td>credit_card</td>\n",
       "      <td>1</td>\n",
       "      <td>24.39</td>\n",
       "    </tr>\n",
       "    <tr>\n",
       "      <th>2</th>\n",
       "      <td>25e8ea4e93396b6fa0d3dd708e76c1bd</td>\n",
       "      <td>1</td>\n",
       "      <td>credit_card</td>\n",
       "      <td>1</td>\n",
       "      <td>65.71</td>\n",
       "    </tr>\n",
       "  </tbody>\n",
       "</table>\n",
       "</div>"
      ],
      "text/plain": [
       "                           order_id  payment_sequential payment_type  \\\n",
       "0  b81ef226f3fe1789b1e8b2acac839d17                   1  credit_card   \n",
       "1  a9810da82917af2d9aefd1278f1dcfa0                   1  credit_card   \n",
       "2  25e8ea4e93396b6fa0d3dd708e76c1bd                   1  credit_card   \n",
       "\n",
       "   payment_installments  payment_value  \n",
       "0                     8          99.33  \n",
       "1                     1          24.39  \n",
       "2                     1          65.71  "
      ]
     },
     "execution_count": 41,
     "metadata": {},
     "output_type": "execute_result"
    }
   ],
   "source": [
    "pd.read_sql('SELECT * FROM payments LIMIT 3', con=conn)"
   ]
  },
  {
   "cell_type": "code",
   "execution_count": 42,
   "id": "5929eff0",
   "metadata": {
    "ExecuteTime": {
     "end_time": "2021-11-22T02:13:00.289120Z",
     "start_time": "2021-11-22T02:13:00.281968Z"
    },
    "hidden": true
   },
   "outputs": [
    {
     "data": {
      "text/html": [
       "<div>\n",
       "<style scoped>\n",
       "    .dataframe tbody tr th:only-of-type {\n",
       "        vertical-align: middle;\n",
       "    }\n",
       "\n",
       "    .dataframe tbody tr th {\n",
       "        vertical-align: top;\n",
       "    }\n",
       "\n",
       "    .dataframe thead th {\n",
       "        text-align: right;\n",
       "    }\n",
       "</style>\n",
       "<table border=\"1\" class=\"dataframe\">\n",
       "  <thead>\n",
       "    <tr style=\"text-align: right;\">\n",
       "      <th></th>\n",
       "      <th>review_id</th>\n",
       "      <th>order_id</th>\n",
       "      <th>review_score</th>\n",
       "      <th>review_comment_title</th>\n",
       "      <th>review_comment_message</th>\n",
       "      <th>review_creation_date</th>\n",
       "      <th>review_answer_timestamp</th>\n",
       "    </tr>\n",
       "  </thead>\n",
       "  <tbody>\n",
       "    <tr>\n",
       "      <th>0</th>\n",
       "      <td>7bc2406110b926393aa56f80a40eba40</td>\n",
       "      <td>73fc7af87114b39712e6da79b0a377eb</td>\n",
       "      <td>4</td>\n",
       "      <td>None</td>\n",
       "      <td>None</td>\n",
       "      <td>2018-01-18 00:00:00</td>\n",
       "      <td>2018-01-18 21:46:59</td>\n",
       "    </tr>\n",
       "    <tr>\n",
       "      <th>1</th>\n",
       "      <td>80e641a11e56f04c1ad469d5645fdfde</td>\n",
       "      <td>a548910a1c6147796b98fdf73dbeba33</td>\n",
       "      <td>5</td>\n",
       "      <td>None</td>\n",
       "      <td>None</td>\n",
       "      <td>2018-03-10 00:00:00</td>\n",
       "      <td>2018-03-11 03:05:13</td>\n",
       "    </tr>\n",
       "    <tr>\n",
       "      <th>2</th>\n",
       "      <td>228ce5500dc1d8e020d8d1322874b6f0</td>\n",
       "      <td>f9e4b658b201a9f2ecdecbb34bed034b</td>\n",
       "      <td>5</td>\n",
       "      <td>None</td>\n",
       "      <td>None</td>\n",
       "      <td>2018-02-17 00:00:00</td>\n",
       "      <td>2018-02-18 14:36:24</td>\n",
       "    </tr>\n",
       "  </tbody>\n",
       "</table>\n",
       "</div>"
      ],
      "text/plain": [
       "                          review_id                          order_id  \\\n",
       "0  7bc2406110b926393aa56f80a40eba40  73fc7af87114b39712e6da79b0a377eb   \n",
       "1  80e641a11e56f04c1ad469d5645fdfde  a548910a1c6147796b98fdf73dbeba33   \n",
       "2  228ce5500dc1d8e020d8d1322874b6f0  f9e4b658b201a9f2ecdecbb34bed034b   \n",
       "\n",
       "   review_score review_comment_title review_comment_message  \\\n",
       "0             4                 None                   None   \n",
       "1             5                 None                   None   \n",
       "2             5                 None                   None   \n",
       "\n",
       "  review_creation_date review_answer_timestamp  \n",
       "0  2018-01-18 00:00:00     2018-01-18 21:46:59  \n",
       "1  2018-03-10 00:00:00     2018-03-11 03:05:13  \n",
       "2  2018-02-17 00:00:00     2018-02-18 14:36:24  "
      ]
     },
     "execution_count": 42,
     "metadata": {},
     "output_type": "execute_result"
    }
   ],
   "source": [
    "pd.read_sql('SELECT * FROM reviews LIMIT 3', con=conn)"
   ]
  },
  {
   "cell_type": "code",
   "execution_count": 43,
   "id": "bd44740e",
   "metadata": {
    "ExecuteTime": {
     "end_time": "2021-11-22T02:13:16.214166Z",
     "start_time": "2021-11-22T02:13:16.206797Z"
    },
    "hidden": true
   },
   "outputs": [
    {
     "data": {
      "text/html": [
       "<div>\n",
       "<style scoped>\n",
       "    .dataframe tbody tr th:only-of-type {\n",
       "        vertical-align: middle;\n",
       "    }\n",
       "\n",
       "    .dataframe tbody tr th {\n",
       "        vertical-align: top;\n",
       "    }\n",
       "\n",
       "    .dataframe thead th {\n",
       "        text-align: right;\n",
       "    }\n",
       "</style>\n",
       "<table border=\"1\" class=\"dataframe\">\n",
       "  <thead>\n",
       "    <tr style=\"text-align: right;\">\n",
       "      <th></th>\n",
       "      <th>order_id</th>\n",
       "      <th>customer_id</th>\n",
       "      <th>order_status</th>\n",
       "      <th>order_purchase_timestamp</th>\n",
       "      <th>order_approved_at</th>\n",
       "      <th>order_delivered_carrier_date</th>\n",
       "      <th>order_delivered_customer_date</th>\n",
       "      <th>order_estimated_delivery_date</th>\n",
       "    </tr>\n",
       "  </thead>\n",
       "  <tbody>\n",
       "    <tr>\n",
       "      <th>0</th>\n",
       "      <td>e481f51cbdc54678b7cc49136f2d6af7</td>\n",
       "      <td>9ef432eb6251297304e76186b10a928d</td>\n",
       "      <td>delivered</td>\n",
       "      <td>2017-10-02 10:56:33</td>\n",
       "      <td>2017-10-02 11:07:15</td>\n",
       "      <td>2017-10-04 19:55:00</td>\n",
       "      <td>2017-10-10 21:25:13</td>\n",
       "      <td>2017-10-18 00:00:00</td>\n",
       "    </tr>\n",
       "    <tr>\n",
       "      <th>1</th>\n",
       "      <td>53cdb2fc8bc7dce0b6741e2150273451</td>\n",
       "      <td>b0830fb4747a6c6d20dea0b8c802d7ef</td>\n",
       "      <td>delivered</td>\n",
       "      <td>2018-07-24 20:41:37</td>\n",
       "      <td>2018-07-26 03:24:27</td>\n",
       "      <td>2018-07-26 14:31:00</td>\n",
       "      <td>2018-08-07 15:27:45</td>\n",
       "      <td>2018-08-13 00:00:00</td>\n",
       "    </tr>\n",
       "    <tr>\n",
       "      <th>2</th>\n",
       "      <td>47770eb9100c2d0c44946d9cf07ec65d</td>\n",
       "      <td>41ce2a54c0b03bf3443c3d931a367089</td>\n",
       "      <td>delivered</td>\n",
       "      <td>2018-08-08 08:38:49</td>\n",
       "      <td>2018-08-08 08:55:23</td>\n",
       "      <td>2018-08-08 13:50:00</td>\n",
       "      <td>2018-08-17 18:06:29</td>\n",
       "      <td>2018-09-04 00:00:00</td>\n",
       "    </tr>\n",
       "  </tbody>\n",
       "</table>\n",
       "</div>"
      ],
      "text/plain": [
       "                           order_id                       customer_id  \\\n",
       "0  e481f51cbdc54678b7cc49136f2d6af7  9ef432eb6251297304e76186b10a928d   \n",
       "1  53cdb2fc8bc7dce0b6741e2150273451  b0830fb4747a6c6d20dea0b8c802d7ef   \n",
       "2  47770eb9100c2d0c44946d9cf07ec65d  41ce2a54c0b03bf3443c3d931a367089   \n",
       "\n",
       "  order_status order_purchase_timestamp    order_approved_at  \\\n",
       "0    delivered      2017-10-02 10:56:33  2017-10-02 11:07:15   \n",
       "1    delivered      2018-07-24 20:41:37  2018-07-26 03:24:27   \n",
       "2    delivered      2018-08-08 08:38:49  2018-08-08 08:55:23   \n",
       "\n",
       "  order_delivered_carrier_date order_delivered_customer_date  \\\n",
       "0          2017-10-04 19:55:00           2017-10-10 21:25:13   \n",
       "1          2018-07-26 14:31:00           2018-08-07 15:27:45   \n",
       "2          2018-08-08 13:50:00           2018-08-17 18:06:29   \n",
       "\n",
       "  order_estimated_delivery_date  \n",
       "0           2017-10-18 00:00:00  \n",
       "1           2018-08-13 00:00:00  \n",
       "2           2018-09-04 00:00:00  "
      ]
     },
     "execution_count": 43,
     "metadata": {},
     "output_type": "execute_result"
    }
   ],
   "source": [
    "pd.read_sql('SELECT * FROM orders LIMIT 3', con=conn)"
   ]
  },
  {
   "cell_type": "code",
   "execution_count": 44,
   "id": "2d06ae93",
   "metadata": {
    "ExecuteTime": {
     "end_time": "2021-11-22T02:13:30.919341Z",
     "start_time": "2021-11-22T02:13:30.911254Z"
    },
    "hidden": true
   },
   "outputs": [
    {
     "data": {
      "text/html": [
       "<div>\n",
       "<style scoped>\n",
       "    .dataframe tbody tr th:only-of-type {\n",
       "        vertical-align: middle;\n",
       "    }\n",
       "\n",
       "    .dataframe tbody tr th {\n",
       "        vertical-align: top;\n",
       "    }\n",
       "\n",
       "    .dataframe thead th {\n",
       "        text-align: right;\n",
       "    }\n",
       "</style>\n",
       "<table border=\"1\" class=\"dataframe\">\n",
       "  <thead>\n",
       "    <tr style=\"text-align: right;\">\n",
       "      <th></th>\n",
       "      <th>product_id</th>\n",
       "      <th>product_category_name</th>\n",
       "      <th>product_name_lenght</th>\n",
       "      <th>product_description_lenght</th>\n",
       "      <th>product_photos_qty</th>\n",
       "      <th>product_weight_g</th>\n",
       "      <th>product_length_cm</th>\n",
       "      <th>product_height_cm</th>\n",
       "      <th>product_width_cm</th>\n",
       "    </tr>\n",
       "  </thead>\n",
       "  <tbody>\n",
       "    <tr>\n",
       "      <th>0</th>\n",
       "      <td>1e9e8ef04dbcff4541ed26657ea517e5</td>\n",
       "      <td>perfumaria</td>\n",
       "      <td>40.0</td>\n",
       "      <td>287.0</td>\n",
       "      <td>1.0</td>\n",
       "      <td>225.0</td>\n",
       "      <td>16.0</td>\n",
       "      <td>10.0</td>\n",
       "      <td>14.0</td>\n",
       "    </tr>\n",
       "    <tr>\n",
       "      <th>1</th>\n",
       "      <td>3aa071139cb16b67ca9e5dea641aaa2f</td>\n",
       "      <td>artes</td>\n",
       "      <td>44.0</td>\n",
       "      <td>276.0</td>\n",
       "      <td>1.0</td>\n",
       "      <td>1000.0</td>\n",
       "      <td>30.0</td>\n",
       "      <td>18.0</td>\n",
       "      <td>20.0</td>\n",
       "    </tr>\n",
       "    <tr>\n",
       "      <th>2</th>\n",
       "      <td>96bd76ec8810374ed1b65e291975717f</td>\n",
       "      <td>esporte_lazer</td>\n",
       "      <td>46.0</td>\n",
       "      <td>250.0</td>\n",
       "      <td>1.0</td>\n",
       "      <td>154.0</td>\n",
       "      <td>18.0</td>\n",
       "      <td>9.0</td>\n",
       "      <td>15.0</td>\n",
       "    </tr>\n",
       "  </tbody>\n",
       "</table>\n",
       "</div>"
      ],
      "text/plain": [
       "                         product_id product_category_name  \\\n",
       "0  1e9e8ef04dbcff4541ed26657ea517e5            perfumaria   \n",
       "1  3aa071139cb16b67ca9e5dea641aaa2f                 artes   \n",
       "2  96bd76ec8810374ed1b65e291975717f         esporte_lazer   \n",
       "\n",
       "   product_name_lenght  product_description_lenght  product_photos_qty  \\\n",
       "0                 40.0                       287.0                 1.0   \n",
       "1                 44.0                       276.0                 1.0   \n",
       "2                 46.0                       250.0                 1.0   \n",
       "\n",
       "   product_weight_g  product_length_cm  product_height_cm  product_width_cm  \n",
       "0             225.0               16.0               10.0              14.0  \n",
       "1            1000.0               30.0               18.0              20.0  \n",
       "2             154.0               18.0                9.0              15.0  "
      ]
     },
     "execution_count": 44,
     "metadata": {},
     "output_type": "execute_result"
    }
   ],
   "source": [
    "pd.read_sql('SELECT * FROM products LIMIT 3', con=conn)"
   ]
  },
  {
   "cell_type": "code",
   "execution_count": 50,
   "id": "584e31f8",
   "metadata": {
    "ExecuteTime": {
     "end_time": "2021-11-22T02:18:19.346603Z",
     "start_time": "2021-11-22T02:18:19.334141Z"
    },
    "hidden": true
   },
   "outputs": [
    {
     "data": {
      "text/html": [
       "<div>\n",
       "<style scoped>\n",
       "    .dataframe tbody tr th:only-of-type {\n",
       "        vertical-align: middle;\n",
       "    }\n",
       "\n",
       "    .dataframe tbody tr th {\n",
       "        vertical-align: top;\n",
       "    }\n",
       "\n",
       "    .dataframe thead th {\n",
       "        text-align: right;\n",
       "    }\n",
       "</style>\n",
       "<table border=\"1\" class=\"dataframe\">\n",
       "  <thead>\n",
       "    <tr style=\"text-align: right;\">\n",
       "      <th></th>\n",
       "      <th>seller_id</th>\n",
       "      <th>seller_zip_code_prefix</th>\n",
       "      <th>seller_city</th>\n",
       "      <th>seller_state</th>\n",
       "    </tr>\n",
       "  </thead>\n",
       "  <tbody>\n",
       "    <tr>\n",
       "      <th>0</th>\n",
       "      <td>3442f8959a84dea7ee197c632cb2df15</td>\n",
       "      <td>13023</td>\n",
       "      <td>campinas</td>\n",
       "      <td>SP</td>\n",
       "    </tr>\n",
       "    <tr>\n",
       "      <th>1</th>\n",
       "      <td>d1b65fc7debc3361ea86b5f14c68d2e2</td>\n",
       "      <td>13844</td>\n",
       "      <td>mogi guacu</td>\n",
       "      <td>SP</td>\n",
       "    </tr>\n",
       "    <tr>\n",
       "      <th>2</th>\n",
       "      <td>ce3ad9de960102d0677a81f5d0bb7b2d</td>\n",
       "      <td>20031</td>\n",
       "      <td>rio de janeiro</td>\n",
       "      <td>RJ</td>\n",
       "    </tr>\n",
       "  </tbody>\n",
       "</table>\n",
       "</div>"
      ],
      "text/plain": [
       "                          seller_id  seller_zip_code_prefix     seller_city  \\\n",
       "0  3442f8959a84dea7ee197c632cb2df15                   13023        campinas   \n",
       "1  d1b65fc7debc3361ea86b5f14c68d2e2                   13844      mogi guacu   \n",
       "2  ce3ad9de960102d0677a81f5d0bb7b2d                   20031  rio de janeiro   \n",
       "\n",
       "  seller_state  \n",
       "0           SP  \n",
       "1           SP  \n",
       "2           RJ  "
      ]
     },
     "execution_count": 50,
     "metadata": {},
     "output_type": "execute_result"
    }
   ],
   "source": [
    "pd.read_sql('SELECT * FROM sellers LIMIT 3', con=conn)"
   ]
  },
  {
   "cell_type": "markdown",
   "id": "f3e527fe",
   "metadata": {
    "heading_collapsed": true,
    "hidden": true
   },
   "source": [
    "## Business Problems"
   ]
  },
  {
   "cell_type": "code",
   "execution_count": 2,
   "id": "5cd05cf5",
   "metadata": {
    "ExecuteTime": {
     "end_time": "2021-11-23T12:35:59.328541Z",
     "start_time": "2021-11-23T12:35:59.316587Z"
    },
    "hidden": true
   },
   "outputs": [],
   "source": [
    "# Database conection\n",
    "db = create_engine('sqlite:///../data/olist_db.sqlite', echo=False)\n",
    "conn = db.connect()"
   ]
  },
  {
   "cell_type": "markdown",
   "id": "63135845",
   "metadata": {
    "heading_collapsed": true,
    "hidden": true
   },
   "source": [
    "### How many orders has made by payment?"
   ]
  },
  {
   "cell_type": "code",
   "execution_count": 4,
   "id": "64912163",
   "metadata": {
    "ExecuteTime": {
     "end_time": "2021-11-22T19:06:35.227847Z",
     "start_time": "2021-11-22T19:06:34.961264Z"
    },
    "hidden": true
   },
   "outputs": [
    {
     "data": {
      "text/html": [
       "<div>\n",
       "<style scoped>\n",
       "    .dataframe tbody tr th:only-of-type {\n",
       "        vertical-align: middle;\n",
       "    }\n",
       "\n",
       "    .dataframe tbody tr th {\n",
       "        vertical-align: top;\n",
       "    }\n",
       "\n",
       "    .dataframe thead th {\n",
       "        text-align: right;\n",
       "    }\n",
       "</style>\n",
       "<table border=\"1\" class=\"dataframe\">\n",
       "  <thead>\n",
       "    <tr style=\"text-align: right;\">\n",
       "      <th></th>\n",
       "      <th>payment_type</th>\n",
       "      <th>order_num</th>\n",
       "    </tr>\n",
       "  </thead>\n",
       "  <tbody>\n",
       "    <tr>\n",
       "      <th>0</th>\n",
       "      <td>credit_card</td>\n",
       "      <td>76795</td>\n",
       "    </tr>\n",
       "    <tr>\n",
       "      <th>1</th>\n",
       "      <td>boleto</td>\n",
       "      <td>19784</td>\n",
       "    </tr>\n",
       "    <tr>\n",
       "      <th>2</th>\n",
       "      <td>voucher</td>\n",
       "      <td>5775</td>\n",
       "    </tr>\n",
       "    <tr>\n",
       "      <th>3</th>\n",
       "      <td>debit_card</td>\n",
       "      <td>1529</td>\n",
       "    </tr>\n",
       "    <tr>\n",
       "      <th>4</th>\n",
       "      <td>not_defined</td>\n",
       "      <td>3</td>\n",
       "    </tr>\n",
       "  </tbody>\n",
       "</table>\n",
       "</div>"
      ],
      "text/plain": [
       "  payment_type  order_num\n",
       "0  credit_card      76795\n",
       "1       boleto      19784\n",
       "2      voucher       5775\n",
       "3   debit_card       1529\n",
       "4  not_defined          3"
      ]
     },
     "execution_count": 4,
     "metadata": {},
     "output_type": "execute_result"
    }
   ],
   "source": [
    "query = '''\n",
    "    select\n",
    "        p.payment_type, \n",
    "        count(o.order_id) as order_num\n",
    "from orders o inner join payments p on (o.order_id = p.order_id)\n",
    "group by p.payment_type\n",
    "order by order_num desc;\n",
    "'''\n",
    "pd.read_sql(query, conn)"
   ]
  },
  {
   "cell_type": "markdown",
   "id": "726df514",
   "metadata": {
    "heading_collapsed": true,
    "hidden": true
   },
   "source": [
    "### What are the maximum and minimum of installments made in payments?"
   ]
  },
  {
   "cell_type": "code",
   "execution_count": 5,
   "id": "c24a3245",
   "metadata": {
    "ExecuteTime": {
     "end_time": "2021-11-22T19:10:56.552130Z",
     "start_time": "2021-11-22T19:10:56.539777Z"
    },
    "hidden": true
   },
   "outputs": [
    {
     "data": {
      "text/html": [
       "<div>\n",
       "<style scoped>\n",
       "    .dataframe tbody tr th:only-of-type {\n",
       "        vertical-align: middle;\n",
       "    }\n",
       "\n",
       "    .dataframe tbody tr th {\n",
       "        vertical-align: top;\n",
       "    }\n",
       "\n",
       "    .dataframe thead th {\n",
       "        text-align: right;\n",
       "    }\n",
       "</style>\n",
       "<table border=\"1\" class=\"dataframe\">\n",
       "  <thead>\n",
       "    <tr style=\"text-align: right;\">\n",
       "      <th></th>\n",
       "      <th>max_installments</th>\n",
       "      <th>min_installments</th>\n",
       "    </tr>\n",
       "  </thead>\n",
       "  <tbody>\n",
       "    <tr>\n",
       "      <th>0</th>\n",
       "      <td>24</td>\n",
       "      <td>0</td>\n",
       "    </tr>\n",
       "  </tbody>\n",
       "</table>\n",
       "</div>"
      ],
      "text/plain": [
       "   max_installments  min_installments\n",
       "0                24                 0"
      ]
     },
     "execution_count": 5,
     "metadata": {},
     "output_type": "execute_result"
    }
   ],
   "source": [
    "query = '''\n",
    "    select \n",
    "        max(p.payment_installments) as max_installments,\n",
    "        min(p.payment_installments) as min_installments\n",
    "from payments p\n",
    "'''\n",
    "pd.read_sql(query, conn)"
   ]
  },
  {
   "cell_type": "markdown",
   "id": "495ad648",
   "metadata": {
    "heading_collapsed": true,
    "hidden": true
   },
   "source": [
    "### What are the top 10 orders payments?"
   ]
  },
  {
   "cell_type": "code",
   "execution_count": 6,
   "id": "0c5df015",
   "metadata": {
    "ExecuteTime": {
     "end_time": "2021-11-22T19:13:49.471700Z",
     "start_time": "2021-11-22T19:13:49.459082Z"
    },
    "hidden": true
   },
   "outputs": [
    {
     "data": {
      "text/html": [
       "<div>\n",
       "<style scoped>\n",
       "    .dataframe tbody tr th:only-of-type {\n",
       "        vertical-align: middle;\n",
       "    }\n",
       "\n",
       "    .dataframe tbody tr th {\n",
       "        vertical-align: top;\n",
       "    }\n",
       "\n",
       "    .dataframe thead th {\n",
       "        text-align: right;\n",
       "    }\n",
       "</style>\n",
       "<table border=\"1\" class=\"dataframe\">\n",
       "  <thead>\n",
       "    <tr style=\"text-align: right;\">\n",
       "      <th></th>\n",
       "      <th>payment_value</th>\n",
       "    </tr>\n",
       "  </thead>\n",
       "  <tbody>\n",
       "    <tr>\n",
       "      <th>0</th>\n",
       "      <td>13664.08</td>\n",
       "    </tr>\n",
       "    <tr>\n",
       "      <th>1</th>\n",
       "      <td>7274.88</td>\n",
       "    </tr>\n",
       "    <tr>\n",
       "      <th>2</th>\n",
       "      <td>6929.31</td>\n",
       "    </tr>\n",
       "    <tr>\n",
       "      <th>3</th>\n",
       "      <td>6922.21</td>\n",
       "    </tr>\n",
       "    <tr>\n",
       "      <th>4</th>\n",
       "      <td>6726.66</td>\n",
       "    </tr>\n",
       "    <tr>\n",
       "      <th>5</th>\n",
       "      <td>6081.54</td>\n",
       "    </tr>\n",
       "    <tr>\n",
       "      <th>6</th>\n",
       "      <td>4950.34</td>\n",
       "    </tr>\n",
       "    <tr>\n",
       "      <th>7</th>\n",
       "      <td>4809.44</td>\n",
       "    </tr>\n",
       "    <tr>\n",
       "      <th>8</th>\n",
       "      <td>4764.34</td>\n",
       "    </tr>\n",
       "    <tr>\n",
       "      <th>9</th>\n",
       "      <td>4681.78</td>\n",
       "    </tr>\n",
       "  </tbody>\n",
       "</table>\n",
       "</div>"
      ],
      "text/plain": [
       "   payment_value\n",
       "0       13664.08\n",
       "1        7274.88\n",
       "2        6929.31\n",
       "3        6922.21\n",
       "4        6726.66\n",
       "5        6081.54\n",
       "6        4950.34\n",
       "7        4809.44\n",
       "8        4764.34\n",
       "9        4681.78"
      ]
     },
     "execution_count": 6,
     "metadata": {},
     "output_type": "execute_result"
    }
   ],
   "source": [
    "query = '''\n",
    "    select \n",
    "        p.payment_value \n",
    "    from payments p \n",
    "    order by p.payment_value desc\n",
    "    limit 10;\n",
    "'''\n",
    "pd.read_sql(query, conn)"
   ]
  },
  {
   "cell_type": "markdown",
   "id": "fd304f45",
   "metadata": {
    "ExecuteTime": {
     "end_time": "2021-11-22T19:14:46.474560Z",
     "start_time": "2021-11-22T19:14:46.472781Z"
    },
    "heading_collapsed": true,
    "hidden": true
   },
   "source": [
    "### What are the bottom 10 orders payments?"
   ]
  },
  {
   "cell_type": "code",
   "execution_count": 8,
   "id": "0a03384d",
   "metadata": {
    "ExecuteTime": {
     "end_time": "2021-11-22T19:16:43.610704Z",
     "start_time": "2021-11-22T19:16:43.594518Z"
    },
    "hidden": true
   },
   "outputs": [
    {
     "data": {
      "text/html": [
       "<div>\n",
       "<style scoped>\n",
       "    .dataframe tbody tr th:only-of-type {\n",
       "        vertical-align: middle;\n",
       "    }\n",
       "\n",
       "    .dataframe tbody tr th {\n",
       "        vertical-align: top;\n",
       "    }\n",
       "\n",
       "    .dataframe thead th {\n",
       "        text-align: right;\n",
       "    }\n",
       "</style>\n",
       "<table border=\"1\" class=\"dataframe\">\n",
       "  <thead>\n",
       "    <tr style=\"text-align: right;\">\n",
       "      <th></th>\n",
       "      <th>payment_value</th>\n",
       "    </tr>\n",
       "  </thead>\n",
       "  <tbody>\n",
       "    <tr>\n",
       "      <th>0</th>\n",
       "      <td>0.00</td>\n",
       "    </tr>\n",
       "    <tr>\n",
       "      <th>1</th>\n",
       "      <td>0.00</td>\n",
       "    </tr>\n",
       "    <tr>\n",
       "      <th>2</th>\n",
       "      <td>0.00</td>\n",
       "    </tr>\n",
       "    <tr>\n",
       "      <th>3</th>\n",
       "      <td>0.00</td>\n",
       "    </tr>\n",
       "    <tr>\n",
       "      <th>4</th>\n",
       "      <td>0.00</td>\n",
       "    </tr>\n",
       "    <tr>\n",
       "      <th>5</th>\n",
       "      <td>0.00</td>\n",
       "    </tr>\n",
       "    <tr>\n",
       "      <th>6</th>\n",
       "      <td>0.00</td>\n",
       "    </tr>\n",
       "    <tr>\n",
       "      <th>7</th>\n",
       "      <td>0.00</td>\n",
       "    </tr>\n",
       "    <tr>\n",
       "      <th>8</th>\n",
       "      <td>0.00</td>\n",
       "    </tr>\n",
       "    <tr>\n",
       "      <th>9</th>\n",
       "      <td>0.01</td>\n",
       "    </tr>\n",
       "  </tbody>\n",
       "</table>\n",
       "</div>"
      ],
      "text/plain": [
       "   payment_value\n",
       "0           0.00\n",
       "1           0.00\n",
       "2           0.00\n",
       "3           0.00\n",
       "4           0.00\n",
       "5           0.00\n",
       "6           0.00\n",
       "7           0.00\n",
       "8           0.00\n",
       "9           0.01"
      ]
     },
     "execution_count": 8,
     "metadata": {},
     "output_type": "execute_result"
    }
   ],
   "source": [
    "query = '''\n",
    "    select \n",
    "        p.payment_value \n",
    "    from payments p \n",
    "    order by p.payment_value asc\n",
    "    limit 10;\n",
    "'''\n",
    "pd.read_sql(query, conn)"
   ]
  },
  {
   "cell_type": "markdown",
   "id": "1756e9e0",
   "metadata": {
    "heading_collapsed": true,
    "hidden": true
   },
   "source": [
    "### What are the average of payments by payment type?"
   ]
  },
  {
   "cell_type": "code",
   "execution_count": 9,
   "id": "7e83eebe",
   "metadata": {
    "ExecuteTime": {
     "end_time": "2021-11-22T19:20:47.382479Z",
     "start_time": "2021-11-22T19:20:47.348078Z"
    },
    "hidden": true
   },
   "outputs": [
    {
     "data": {
      "text/html": [
       "<div>\n",
       "<style scoped>\n",
       "    .dataframe tbody tr th:only-of-type {\n",
       "        vertical-align: middle;\n",
       "    }\n",
       "\n",
       "    .dataframe tbody tr th {\n",
       "        vertical-align: top;\n",
       "    }\n",
       "\n",
       "    .dataframe thead th {\n",
       "        text-align: right;\n",
       "    }\n",
       "</style>\n",
       "<table border=\"1\" class=\"dataframe\">\n",
       "  <thead>\n",
       "    <tr style=\"text-align: right;\">\n",
       "      <th></th>\n",
       "      <th>payment_type</th>\n",
       "      <th>average</th>\n",
       "    </tr>\n",
       "  </thead>\n",
       "  <tbody>\n",
       "    <tr>\n",
       "      <th>0</th>\n",
       "      <td>credit_card</td>\n",
       "      <td>163.319021</td>\n",
       "    </tr>\n",
       "    <tr>\n",
       "      <th>1</th>\n",
       "      <td>boleto</td>\n",
       "      <td>145.034435</td>\n",
       "    </tr>\n",
       "    <tr>\n",
       "      <th>2</th>\n",
       "      <td>debit_card</td>\n",
       "      <td>142.570170</td>\n",
       "    </tr>\n",
       "    <tr>\n",
       "      <th>3</th>\n",
       "      <td>voucher</td>\n",
       "      <td>65.703354</td>\n",
       "    </tr>\n",
       "    <tr>\n",
       "      <th>4</th>\n",
       "      <td>not_defined</td>\n",
       "      <td>0.000000</td>\n",
       "    </tr>\n",
       "  </tbody>\n",
       "</table>\n",
       "</div>"
      ],
      "text/plain": [
       "  payment_type     average\n",
       "0  credit_card  163.319021\n",
       "1       boleto  145.034435\n",
       "2   debit_card  142.570170\n",
       "3      voucher   65.703354\n",
       "4  not_defined    0.000000"
      ]
     },
     "execution_count": 9,
     "metadata": {},
     "output_type": "execute_result"
    }
   ],
   "source": [
    "query = '''\n",
    "select \n",
    "    p.payment_type,\n",
    "    avg(payment_value) as average \n",
    "from payments p\n",
    "group by p.payment_type\n",
    "order by average desc;\n",
    "'''\n",
    "pd.read_sql(query, conn)"
   ]
  },
  {
   "cell_type": "markdown",
   "id": "ee7d2d18",
   "metadata": {
    "heading_collapsed": true,
    "hidden": true
   },
   "source": [
    "### What are the top 5 customers where boleto was payment type?"
   ]
  },
  {
   "cell_type": "code",
   "execution_count": 10,
   "id": "be7a0616",
   "metadata": {
    "ExecuteTime": {
     "end_time": "2021-11-22T19:29:20.037995Z",
     "start_time": "2021-11-22T19:29:19.683914Z"
    },
    "hidden": true
   },
   "outputs": [
    {
     "data": {
      "text/html": [
       "<div>\n",
       "<style scoped>\n",
       "    .dataframe tbody tr th:only-of-type {\n",
       "        vertical-align: middle;\n",
       "    }\n",
       "\n",
       "    .dataframe tbody tr th {\n",
       "        vertical-align: top;\n",
       "    }\n",
       "\n",
       "    .dataframe thead th {\n",
       "        text-align: right;\n",
       "    }\n",
       "</style>\n",
       "<table border=\"1\" class=\"dataframe\">\n",
       "  <thead>\n",
       "    <tr style=\"text-align: right;\">\n",
       "      <th></th>\n",
       "      <th>customer_id</th>\n",
       "      <th>payment_value</th>\n",
       "      <th>payment_type</th>\n",
       "    </tr>\n",
       "  </thead>\n",
       "  <tbody>\n",
       "    <tr>\n",
       "      <th>0</th>\n",
       "      <td>ec5b2ba62e574342386871631fafd3fc</td>\n",
       "      <td>7274.88</td>\n",
       "      <td>boleto</td>\n",
       "    </tr>\n",
       "    <tr>\n",
       "      <th>1</th>\n",
       "      <td>f48d464a0baaea338cb25f816991ab1f</td>\n",
       "      <td>6922.21</td>\n",
       "      <td>boleto</td>\n",
       "    </tr>\n",
       "    <tr>\n",
       "      <th>2</th>\n",
       "      <td>3fd6777bbce08a352fddd04e4a7cc8f6</td>\n",
       "      <td>6726.66</td>\n",
       "      <td>boleto</td>\n",
       "    </tr>\n",
       "    <tr>\n",
       "      <th>3</th>\n",
       "      <td>05455dfa7cd02f13d132aa7a6a9729c6</td>\n",
       "      <td>6081.54</td>\n",
       "      <td>boleto</td>\n",
       "    </tr>\n",
       "    <tr>\n",
       "      <th>4</th>\n",
       "      <td>31e83c01fce824d0ff786fcd48dad009</td>\n",
       "      <td>3979.55</td>\n",
       "      <td>boleto</td>\n",
       "    </tr>\n",
       "  </tbody>\n",
       "</table>\n",
       "</div>"
      ],
      "text/plain": [
       "                        customer_id  payment_value payment_type\n",
       "0  ec5b2ba62e574342386871631fafd3fc        7274.88       boleto\n",
       "1  f48d464a0baaea338cb25f816991ab1f        6922.21       boleto\n",
       "2  3fd6777bbce08a352fddd04e4a7cc8f6        6726.66       boleto\n",
       "3  05455dfa7cd02f13d132aa7a6a9729c6        6081.54       boleto\n",
       "4  31e83c01fce824d0ff786fcd48dad009        3979.55       boleto"
      ]
     },
     "execution_count": 10,
     "metadata": {},
     "output_type": "execute_result"
    }
   ],
   "source": [
    "query = '''\n",
    "select \n",
    "    c.customer_id,\n",
    "    p.payment_value,\n",
    "    p.payment_type \n",
    "from orders o inner join payments p  on (o.order_id = p.order_id)\n",
    "              inner join customers c on (o.customer_id = c.customer_id)\n",
    "where p.payment_type = 'boleto'\n",
    "order by p.payment_value desc\n",
    "limit 5;\n",
    "'''\n",
    "pd.read_sql(query, conn)"
   ]
  },
  {
   "cell_type": "markdown",
   "id": "8cd8cb7c",
   "metadata": {
    "heading_collapsed": true,
    "hidden": true
   },
   "source": [
    "### What are the top 5 customers where credit card was payment type?"
   ]
  },
  {
   "cell_type": "code",
   "execution_count": 11,
   "id": "d967df83",
   "metadata": {
    "ExecuteTime": {
     "end_time": "2021-11-22T19:30:47.153878Z",
     "start_time": "2021-11-22T19:30:46.707789Z"
    },
    "hidden": true
   },
   "outputs": [
    {
     "data": {
      "text/html": [
       "<div>\n",
       "<style scoped>\n",
       "    .dataframe tbody tr th:only-of-type {\n",
       "        vertical-align: middle;\n",
       "    }\n",
       "\n",
       "    .dataframe tbody tr th {\n",
       "        vertical-align: top;\n",
       "    }\n",
       "\n",
       "    .dataframe thead th {\n",
       "        text-align: right;\n",
       "    }\n",
       "</style>\n",
       "<table border=\"1\" class=\"dataframe\">\n",
       "  <thead>\n",
       "    <tr style=\"text-align: right;\">\n",
       "      <th></th>\n",
       "      <th>customer_id</th>\n",
       "      <th>payment_value</th>\n",
       "      <th>payment_type</th>\n",
       "    </tr>\n",
       "  </thead>\n",
       "  <tbody>\n",
       "    <tr>\n",
       "      <th>0</th>\n",
       "      <td>1617b1357756262bfa56ab541c47bc16</td>\n",
       "      <td>13664.08</td>\n",
       "      <td>credit_card</td>\n",
       "    </tr>\n",
       "    <tr>\n",
       "      <th>1</th>\n",
       "      <td>c6e2731c5b391845f6800c97401a43a9</td>\n",
       "      <td>6929.31</td>\n",
       "      <td>credit_card</td>\n",
       "    </tr>\n",
       "    <tr>\n",
       "      <th>2</th>\n",
       "      <td>df55c14d1476a9a3467f131269c2477f</td>\n",
       "      <td>4950.34</td>\n",
       "      <td>credit_card</td>\n",
       "    </tr>\n",
       "    <tr>\n",
       "      <th>3</th>\n",
       "      <td>e0a2412720e9ea4f26c1ac985f6a7358</td>\n",
       "      <td>4809.44</td>\n",
       "      <td>credit_card</td>\n",
       "    </tr>\n",
       "    <tr>\n",
       "      <th>4</th>\n",
       "      <td>24bbf5fd2f2e1b359ee7de94defc4a15</td>\n",
       "      <td>4764.34</td>\n",
       "      <td>credit_card</td>\n",
       "    </tr>\n",
       "  </tbody>\n",
       "</table>\n",
       "</div>"
      ],
      "text/plain": [
       "                        customer_id  payment_value payment_type\n",
       "0  1617b1357756262bfa56ab541c47bc16       13664.08  credit_card\n",
       "1  c6e2731c5b391845f6800c97401a43a9        6929.31  credit_card\n",
       "2  df55c14d1476a9a3467f131269c2477f        4950.34  credit_card\n",
       "3  e0a2412720e9ea4f26c1ac985f6a7358        4809.44  credit_card\n",
       "4  24bbf5fd2f2e1b359ee7de94defc4a15        4764.34  credit_card"
      ]
     },
     "execution_count": 11,
     "metadata": {},
     "output_type": "execute_result"
    }
   ],
   "source": [
    "query = '''\n",
    "select \n",
    "    c.customer_id,\n",
    "    p.payment_value,\n",
    "    p.payment_type \n",
    "from orders o inner join payments p  on (o.order_id = p.order_id)\n",
    "              inner join customers c on (o.customer_id = c.customer_id)\n",
    "where p.payment_type = 'credit_card'\n",
    "order by p.payment_value desc\n",
    "limit 5;\n",
    "'''\n",
    "pd.read_sql(query, conn)"
   ]
  },
  {
   "cell_type": "markdown",
   "id": "08ab91dd",
   "metadata": {
    "heading_collapsed": true,
    "hidden": true
   },
   "source": [
    "### What are the top 10 expensive products?"
   ]
  },
  {
   "cell_type": "code",
   "execution_count": 12,
   "id": "f22d704e",
   "metadata": {
    "ExecuteTime": {
     "end_time": "2021-11-22T19:35:28.859845Z",
     "start_time": "2021-11-22T19:35:28.742970Z"
    },
    "hidden": true
   },
   "outputs": [
    {
     "data": {
      "text/html": [
       "<div>\n",
       "<style scoped>\n",
       "    .dataframe tbody tr th:only-of-type {\n",
       "        vertical-align: middle;\n",
       "    }\n",
       "\n",
       "    .dataframe tbody tr th {\n",
       "        vertical-align: top;\n",
       "    }\n",
       "\n",
       "    .dataframe thead th {\n",
       "        text-align: right;\n",
       "    }\n",
       "</style>\n",
       "<table border=\"1\" class=\"dataframe\">\n",
       "  <thead>\n",
       "    <tr style=\"text-align: right;\">\n",
       "      <th></th>\n",
       "      <th>product_id</th>\n",
       "      <th>product_category_name</th>\n",
       "      <th>price</th>\n",
       "    </tr>\n",
       "  </thead>\n",
       "  <tbody>\n",
       "    <tr>\n",
       "      <th>0</th>\n",
       "      <td>489ae2aa008f021502940f251d4cce7f</td>\n",
       "      <td>utilidades_domesticas</td>\n",
       "      <td>6735.00</td>\n",
       "    </tr>\n",
       "    <tr>\n",
       "      <th>1</th>\n",
       "      <td>69c590f7ffc7bf8db97190b6cb6ed62e</td>\n",
       "      <td>pcs</td>\n",
       "      <td>6729.00</td>\n",
       "    </tr>\n",
       "    <tr>\n",
       "      <th>2</th>\n",
       "      <td>1bdf5e6731585cf01aa8169c7028d6ad</td>\n",
       "      <td>artes</td>\n",
       "      <td>6499.00</td>\n",
       "    </tr>\n",
       "    <tr>\n",
       "      <th>3</th>\n",
       "      <td>a6492cc69376c469ab6f61d8f44de961</td>\n",
       "      <td>eletroportateis</td>\n",
       "      <td>4799.00</td>\n",
       "    </tr>\n",
       "    <tr>\n",
       "      <th>4</th>\n",
       "      <td>c3ed642d592594bb648ff4a04cee2747</td>\n",
       "      <td>eletroportateis</td>\n",
       "      <td>4690.00</td>\n",
       "    </tr>\n",
       "    <tr>\n",
       "      <th>5</th>\n",
       "      <td>259037a6a41845e455183f89c5035f18</td>\n",
       "      <td>pcs</td>\n",
       "      <td>4590.00</td>\n",
       "    </tr>\n",
       "    <tr>\n",
       "      <th>6</th>\n",
       "      <td>a1beef8f3992dbd4cd8726796aa69c53</td>\n",
       "      <td>instrumentos_musicais</td>\n",
       "      <td>4399.87</td>\n",
       "    </tr>\n",
       "    <tr>\n",
       "      <th>7</th>\n",
       "      <td>6cdf8fc1d741c76586d8b6b15e9eef30</td>\n",
       "      <td>consoles_games</td>\n",
       "      <td>4099.99</td>\n",
       "    </tr>\n",
       "    <tr>\n",
       "      <th>8</th>\n",
       "      <td>dd113cb02b2af9c8e5787e8f1f0722f6</td>\n",
       "      <td>esporte_lazer</td>\n",
       "      <td>4059.00</td>\n",
       "    </tr>\n",
       "    <tr>\n",
       "      <th>9</th>\n",
       "      <td>6902c1962dd19d540807d0ab8fade5c6</td>\n",
       "      <td>relogios_presentes</td>\n",
       "      <td>3999.90</td>\n",
       "    </tr>\n",
       "  </tbody>\n",
       "</table>\n",
       "</div>"
      ],
      "text/plain": [
       "                         product_id  product_category_name    price\n",
       "0  489ae2aa008f021502940f251d4cce7f  utilidades_domesticas  6735.00\n",
       "1  69c590f7ffc7bf8db97190b6cb6ed62e                    pcs  6729.00\n",
       "2  1bdf5e6731585cf01aa8169c7028d6ad                  artes  6499.00\n",
       "3  a6492cc69376c469ab6f61d8f44de961        eletroportateis  4799.00\n",
       "4  c3ed642d592594bb648ff4a04cee2747        eletroportateis  4690.00\n",
       "5  259037a6a41845e455183f89c5035f18                    pcs  4590.00\n",
       "6  a1beef8f3992dbd4cd8726796aa69c53  instrumentos_musicais  4399.87\n",
       "7  6cdf8fc1d741c76586d8b6b15e9eef30         consoles_games  4099.99\n",
       "8  dd113cb02b2af9c8e5787e8f1f0722f6          esporte_lazer  4059.00\n",
       "9  6902c1962dd19d540807d0ab8fade5c6     relogios_presentes  3999.90"
      ]
     },
     "execution_count": 12,
     "metadata": {},
     "output_type": "execute_result"
    }
   ],
   "source": [
    "query = '''\n",
    "select\n",
    "    p.product_id,\n",
    "    p.product_category_name,\n",
    "    oi.price \n",
    "from order_items oi inner join products p on (oi.product_id = p.product_id)\n",
    "order by oi.price desc\n",
    "limit 10;\n",
    "'''\n",
    "pd.read_sql(query, conn)"
   ]
  },
  {
   "cell_type": "markdown",
   "id": "a97fea04",
   "metadata": {
    "heading_collapsed": true,
    "hidden": true
   },
   "source": [
    "### What are the bottom 10 cheap products?"
   ]
  },
  {
   "cell_type": "code",
   "execution_count": 13,
   "id": "b4388507",
   "metadata": {
    "ExecuteTime": {
     "end_time": "2021-11-22T19:37:29.967096Z",
     "start_time": "2021-11-22T19:37:29.857464Z"
    },
    "hidden": true
   },
   "outputs": [
    {
     "data": {
      "text/html": [
       "<div>\n",
       "<style scoped>\n",
       "    .dataframe tbody tr th:only-of-type {\n",
       "        vertical-align: middle;\n",
       "    }\n",
       "\n",
       "    .dataframe tbody tr th {\n",
       "        vertical-align: top;\n",
       "    }\n",
       "\n",
       "    .dataframe thead th {\n",
       "        text-align: right;\n",
       "    }\n",
       "</style>\n",
       "<table border=\"1\" class=\"dataframe\">\n",
       "  <thead>\n",
       "    <tr style=\"text-align: right;\">\n",
       "      <th></th>\n",
       "      <th>product_id</th>\n",
       "      <th>product_category_name</th>\n",
       "      <th>price</th>\n",
       "    </tr>\n",
       "  </thead>\n",
       "  <tbody>\n",
       "    <tr>\n",
       "      <th>0</th>\n",
       "      <td>8a3254bee785a526d548a81a9bc3c9be</td>\n",
       "      <td>construcao_ferramentas_construcao</td>\n",
       "      <td>0.85</td>\n",
       "    </tr>\n",
       "    <tr>\n",
       "      <th>1</th>\n",
       "      <td>8a3254bee785a526d548a81a9bc3c9be</td>\n",
       "      <td>construcao_ferramentas_construcao</td>\n",
       "      <td>0.85</td>\n",
       "    </tr>\n",
       "    <tr>\n",
       "      <th>2</th>\n",
       "      <td>8a3254bee785a526d548a81a9bc3c9be</td>\n",
       "      <td>construcao_ferramentas_construcao</td>\n",
       "      <td>0.85</td>\n",
       "    </tr>\n",
       "    <tr>\n",
       "      <th>3</th>\n",
       "      <td>270516a3f41dc035aa87d220228f844c</td>\n",
       "      <td>beleza_saude</td>\n",
       "      <td>1.20</td>\n",
       "    </tr>\n",
       "    <tr>\n",
       "      <th>4</th>\n",
       "      <td>05b515fdc76e888aada3c6d66c201dff</td>\n",
       "      <td>beleza_saude</td>\n",
       "      <td>1.20</td>\n",
       "    </tr>\n",
       "    <tr>\n",
       "      <th>5</th>\n",
       "      <td>05b515fdc76e888aada3c6d66c201dff</td>\n",
       "      <td>beleza_saude</td>\n",
       "      <td>1.20</td>\n",
       "    </tr>\n",
       "    <tr>\n",
       "      <th>6</th>\n",
       "      <td>05b515fdc76e888aada3c6d66c201dff</td>\n",
       "      <td>beleza_saude</td>\n",
       "      <td>1.20</td>\n",
       "    </tr>\n",
       "    <tr>\n",
       "      <th>7</th>\n",
       "      <td>05b515fdc76e888aada3c6d66c201dff</td>\n",
       "      <td>beleza_saude</td>\n",
       "      <td>1.20</td>\n",
       "    </tr>\n",
       "    <tr>\n",
       "      <th>8</th>\n",
       "      <td>05b515fdc76e888aada3c6d66c201dff</td>\n",
       "      <td>beleza_saude</td>\n",
       "      <td>1.20</td>\n",
       "    </tr>\n",
       "    <tr>\n",
       "      <th>9</th>\n",
       "      <td>05b515fdc76e888aada3c6d66c201dff</td>\n",
       "      <td>beleza_saude</td>\n",
       "      <td>1.20</td>\n",
       "    </tr>\n",
       "  </tbody>\n",
       "</table>\n",
       "</div>"
      ],
      "text/plain": [
       "                         product_id              product_category_name  price\n",
       "0  8a3254bee785a526d548a81a9bc3c9be  construcao_ferramentas_construcao   0.85\n",
       "1  8a3254bee785a526d548a81a9bc3c9be  construcao_ferramentas_construcao   0.85\n",
       "2  8a3254bee785a526d548a81a9bc3c9be  construcao_ferramentas_construcao   0.85\n",
       "3  270516a3f41dc035aa87d220228f844c                       beleza_saude   1.20\n",
       "4  05b515fdc76e888aada3c6d66c201dff                       beleza_saude   1.20\n",
       "5  05b515fdc76e888aada3c6d66c201dff                       beleza_saude   1.20\n",
       "6  05b515fdc76e888aada3c6d66c201dff                       beleza_saude   1.20\n",
       "7  05b515fdc76e888aada3c6d66c201dff                       beleza_saude   1.20\n",
       "8  05b515fdc76e888aada3c6d66c201dff                       beleza_saude   1.20\n",
       "9  05b515fdc76e888aada3c6d66c201dff                       beleza_saude   1.20"
      ]
     },
     "execution_count": 13,
     "metadata": {},
     "output_type": "execute_result"
    }
   ],
   "source": [
    "query = '''\n",
    "select\n",
    "    p.product_id,\n",
    "    p.product_category_name,\n",
    "    oi.price \n",
    "from order_items oi inner join products p on (oi.product_id = p.product_id)\n",
    "order by oi.price asc\n",
    "limit 10;\n",
    "'''\n",
    "pd.read_sql(query, conn)"
   ]
  },
  {
   "cell_type": "markdown",
   "id": "f0740f83",
   "metadata": {
    "heading_collapsed": true,
    "hidden": true
   },
   "source": [
    "### What are the 10 most purchased product categories?"
   ]
  },
  {
   "cell_type": "code",
   "execution_count": 14,
   "id": "201d1be0",
   "metadata": {
    "ExecuteTime": {
     "end_time": "2021-11-22T19:45:34.740827Z",
     "start_time": "2021-11-22T19:45:34.594336Z"
    },
    "hidden": true
   },
   "outputs": [
    {
     "data": {
      "text/html": [
       "<div>\n",
       "<style scoped>\n",
       "    .dataframe tbody tr th:only-of-type {\n",
       "        vertical-align: middle;\n",
       "    }\n",
       "\n",
       "    .dataframe tbody tr th {\n",
       "        vertical-align: top;\n",
       "    }\n",
       "\n",
       "    .dataframe thead th {\n",
       "        text-align: right;\n",
       "    }\n",
       "</style>\n",
       "<table border=\"1\" class=\"dataframe\">\n",
       "  <thead>\n",
       "    <tr style=\"text-align: right;\">\n",
       "      <th></th>\n",
       "      <th>product_category_name</th>\n",
       "      <th>purchases</th>\n",
       "    </tr>\n",
       "  </thead>\n",
       "  <tbody>\n",
       "    <tr>\n",
       "      <th>0</th>\n",
       "      <td>cama_mesa_banho</td>\n",
       "      <td>11115</td>\n",
       "    </tr>\n",
       "    <tr>\n",
       "      <th>1</th>\n",
       "      <td>beleza_saude</td>\n",
       "      <td>9670</td>\n",
       "    </tr>\n",
       "    <tr>\n",
       "      <th>2</th>\n",
       "      <td>esporte_lazer</td>\n",
       "      <td>8641</td>\n",
       "    </tr>\n",
       "    <tr>\n",
       "      <th>3</th>\n",
       "      <td>moveis_decoracao</td>\n",
       "      <td>8334</td>\n",
       "    </tr>\n",
       "    <tr>\n",
       "      <th>4</th>\n",
       "      <td>informatica_acessorios</td>\n",
       "      <td>7827</td>\n",
       "    </tr>\n",
       "    <tr>\n",
       "      <th>5</th>\n",
       "      <td>utilidades_domesticas</td>\n",
       "      <td>6964</td>\n",
       "    </tr>\n",
       "    <tr>\n",
       "      <th>6</th>\n",
       "      <td>relogios_presentes</td>\n",
       "      <td>5991</td>\n",
       "    </tr>\n",
       "    <tr>\n",
       "      <th>7</th>\n",
       "      <td>telefonia</td>\n",
       "      <td>4545</td>\n",
       "    </tr>\n",
       "    <tr>\n",
       "      <th>8</th>\n",
       "      <td>ferramentas_jardim</td>\n",
       "      <td>4347</td>\n",
       "    </tr>\n",
       "    <tr>\n",
       "      <th>9</th>\n",
       "      <td>automotivo</td>\n",
       "      <td>4235</td>\n",
       "    </tr>\n",
       "  </tbody>\n",
       "</table>\n",
       "</div>"
      ],
      "text/plain": [
       "    product_category_name  purchases\n",
       "0         cama_mesa_banho      11115\n",
       "1            beleza_saude       9670\n",
       "2           esporte_lazer       8641\n",
       "3        moveis_decoracao       8334\n",
       "4  informatica_acessorios       7827\n",
       "5   utilidades_domesticas       6964\n",
       "6      relogios_presentes       5991\n",
       "7               telefonia       4545\n",
       "8      ferramentas_jardim       4347\n",
       "9              automotivo       4235"
      ]
     },
     "execution_count": 14,
     "metadata": {},
     "output_type": "execute_result"
    }
   ],
   "source": [
    "query = '''\n",
    "select\n",
    "    p.product_category_name,\n",
    "    count(oi.order_id) as purchases\n",
    "from order_items oi inner join products p on (oi.product_id = p.product_id)\n",
    "group by p.product_category_name\n",
    "order by purchases desc\n",
    "limit 10;\n",
    "'''\n",
    "pd.read_sql(query, conn)"
   ]
  },
  {
   "cell_type": "markdown",
   "id": "537b9f49",
   "metadata": {
    "heading_collapsed": true,
    "hidden": true
   },
   "source": [
    "### What are the top 5 reviewed products?"
   ]
  },
  {
   "cell_type": "code",
   "execution_count": 15,
   "id": "4ddc844c",
   "metadata": {
    "ExecuteTime": {
     "end_time": "2021-11-22T19:55:57.354013Z",
     "start_time": "2021-11-22T19:55:56.732566Z"
    },
    "hidden": true
   },
   "outputs": [
    {
     "data": {
      "text/html": [
       "<div>\n",
       "<style scoped>\n",
       "    .dataframe tbody tr th:only-of-type {\n",
       "        vertical-align: middle;\n",
       "    }\n",
       "\n",
       "    .dataframe tbody tr th {\n",
       "        vertical-align: top;\n",
       "    }\n",
       "\n",
       "    .dataframe thead th {\n",
       "        text-align: right;\n",
       "    }\n",
       "</style>\n",
       "<table border=\"1\" class=\"dataframe\">\n",
       "  <thead>\n",
       "    <tr style=\"text-align: right;\">\n",
       "      <th></th>\n",
       "      <th>product_id</th>\n",
       "      <th>num_reviews</th>\n",
       "    </tr>\n",
       "  </thead>\n",
       "  <tbody>\n",
       "    <tr>\n",
       "      <th>0</th>\n",
       "      <td>aca2eb7d00ea1a7b8ebd4e68314663af</td>\n",
       "      <td>524</td>\n",
       "    </tr>\n",
       "    <tr>\n",
       "      <th>1</th>\n",
       "      <td>422879e10f46682990de24d770e7f83d</td>\n",
       "      <td>486</td>\n",
       "    </tr>\n",
       "    <tr>\n",
       "      <th>2</th>\n",
       "      <td>99a4788cb24856965c36a24e339b6058</td>\n",
       "      <td>482</td>\n",
       "    </tr>\n",
       "    <tr>\n",
       "      <th>3</th>\n",
       "      <td>389d119b48cf3043d311335e499d9c6b</td>\n",
       "      <td>391</td>\n",
       "    </tr>\n",
       "    <tr>\n",
       "      <th>4</th>\n",
       "      <td>368c6c730842d78016ad823897a372db</td>\n",
       "      <td>388</td>\n",
       "    </tr>\n",
       "  </tbody>\n",
       "</table>\n",
       "</div>"
      ],
      "text/plain": [
       "                         product_id  num_reviews\n",
       "0  aca2eb7d00ea1a7b8ebd4e68314663af          524\n",
       "1  422879e10f46682990de24d770e7f83d          486\n",
       "2  99a4788cb24856965c36a24e339b6058          482\n",
       "3  389d119b48cf3043d311335e499d9c6b          391\n",
       "4  368c6c730842d78016ad823897a372db          388"
      ]
     },
     "execution_count": 15,
     "metadata": {},
     "output_type": "execute_result"
    }
   ],
   "source": [
    "q = '''\n",
    "select\n",
    "    p.product_id, \n",
    "    count(r.review_id) as num_reviews\n",
    "from orders o inner join reviews r       on (o.order_id = r.order_id)\n",
    "              inner join order_items oi  on (o.order_id = oi.order_id)\n",
    "              inner join products p      on (oi.product_id = p.product_id)\n",
    "group by p.product_id \n",
    "order by num_reviews desc\n",
    "limit 5;\n",
    "'''\n",
    "pd.read_sql(q, conn)"
   ]
  },
  {
   "cell_type": "markdown",
   "id": "d570223a",
   "metadata": {
    "heading_collapsed": true,
    "hidden": true
   },
   "source": [
    "### What are the top 10 products without reviews?"
   ]
  },
  {
   "cell_type": "code",
   "execution_count": 18,
   "id": "be8ac89a",
   "metadata": {
    "ExecuteTime": {
     "end_time": "2021-11-22T19:58:20.923338Z",
     "start_time": "2021-11-22T19:58:20.322702Z"
    },
    "hidden": true
   },
   "outputs": [
    {
     "data": {
      "text/html": [
       "<div>\n",
       "<style scoped>\n",
       "    .dataframe tbody tr th:only-of-type {\n",
       "        vertical-align: middle;\n",
       "    }\n",
       "\n",
       "    .dataframe tbody tr th {\n",
       "        vertical-align: top;\n",
       "    }\n",
       "\n",
       "    .dataframe thead th {\n",
       "        text-align: right;\n",
       "    }\n",
       "</style>\n",
       "<table border=\"1\" class=\"dataframe\">\n",
       "  <thead>\n",
       "    <tr style=\"text-align: right;\">\n",
       "      <th></th>\n",
       "      <th>product_id</th>\n",
       "      <th>num_reviews</th>\n",
       "    </tr>\n",
       "  </thead>\n",
       "  <tbody>\n",
       "    <tr>\n",
       "      <th>0</th>\n",
       "      <td>01ea398598302b06869909ac5bfa5bcf</td>\n",
       "      <td>0</td>\n",
       "    </tr>\n",
       "    <tr>\n",
       "      <th>1</th>\n",
       "      <td>027e1564c58eb02f39089b2b1f28d5e0</td>\n",
       "      <td>0</td>\n",
       "    </tr>\n",
       "    <tr>\n",
       "      <th>2</th>\n",
       "      <td>04be6baed9b1c67197a4b2dd2f5b637c</td>\n",
       "      <td>0</td>\n",
       "    </tr>\n",
       "    <tr>\n",
       "      <th>3</th>\n",
       "      <td>0617fc134ca8e00687023ad84d2358cc</td>\n",
       "      <td>0</td>\n",
       "    </tr>\n",
       "    <tr>\n",
       "      <th>4</th>\n",
       "      <td>09d16c9d49e1616a733d22e77507d91d</td>\n",
       "      <td>0</td>\n",
       "    </tr>\n",
       "    <tr>\n",
       "      <th>5</th>\n",
       "      <td>0d16d327b79bf9a0ccc7a4fa02ff7a83</td>\n",
       "      <td>0</td>\n",
       "    </tr>\n",
       "    <tr>\n",
       "      <th>6</th>\n",
       "      <td>0dda66cf50e9782e3b4499568095bba2</td>\n",
       "      <td>0</td>\n",
       "    </tr>\n",
       "    <tr>\n",
       "      <th>7</th>\n",
       "      <td>1003992d2a8d1e7f870643148854ddc7</td>\n",
       "      <td>0</td>\n",
       "    </tr>\n",
       "    <tr>\n",
       "      <th>8</th>\n",
       "      <td>12109f7ebba06bbaeb6448c770cb716e</td>\n",
       "      <td>0</td>\n",
       "    </tr>\n",
       "    <tr>\n",
       "      <th>9</th>\n",
       "      <td>1349d35861565f14ad2d162ef37ddc34</td>\n",
       "      <td>0</td>\n",
       "    </tr>\n",
       "  </tbody>\n",
       "</table>\n",
       "</div>"
      ],
      "text/plain": [
       "                         product_id  num_reviews\n",
       "0  01ea398598302b06869909ac5bfa5bcf            0\n",
       "1  027e1564c58eb02f39089b2b1f28d5e0            0\n",
       "2  04be6baed9b1c67197a4b2dd2f5b637c            0\n",
       "3  0617fc134ca8e00687023ad84d2358cc            0\n",
       "4  09d16c9d49e1616a733d22e77507d91d            0\n",
       "5  0d16d327b79bf9a0ccc7a4fa02ff7a83            0\n",
       "6  0dda66cf50e9782e3b4499568095bba2            0\n",
       "7  1003992d2a8d1e7f870643148854ddc7            0\n",
       "8  12109f7ebba06bbaeb6448c770cb716e            0\n",
       "9  1349d35861565f14ad2d162ef37ddc34            0"
      ]
     },
     "execution_count": 18,
     "metadata": {},
     "output_type": "execute_result"
    }
   ],
   "source": [
    "q = '''\n",
    "select\n",
    "    p.product_id, \n",
    "    count(r.review_id) as num_reviews\n",
    "from orders o left join reviews r       on (o.order_id = r.order_id)\n",
    "              inner join order_items oi  on (o.order_id = oi.order_id)\n",
    "              inner join products p      on (oi.product_id = p.product_id)\n",
    "group by p.product_id \n",
    "order by num_reviews asc\n",
    "limit 10;\n",
    "'''\n",
    "pd.read_sql(q, conn)"
   ]
  },
  {
   "cell_type": "markdown",
   "id": "b1567ef7",
   "metadata": {
    "ExecuteTime": {
     "end_time": "2021-11-22T19:59:18.456995Z",
     "start_time": "2021-11-22T19:59:18.455334Z"
    },
    "heading_collapsed": true,
    "hidden": true
   },
   "source": [
    "### What are the top 10 customers whiche made more orders?"
   ]
  },
  {
   "cell_type": "code",
   "execution_count": 20,
   "id": "4786fe10",
   "metadata": {
    "ExecuteTime": {
     "end_time": "2021-11-22T20:04:17.994434Z",
     "start_time": "2021-11-22T20:04:17.654460Z"
    },
    "hidden": true
   },
   "outputs": [
    {
     "data": {
      "text/html": [
       "<div>\n",
       "<style scoped>\n",
       "    .dataframe tbody tr th:only-of-type {\n",
       "        vertical-align: middle;\n",
       "    }\n",
       "\n",
       "    .dataframe tbody tr th {\n",
       "        vertical-align: top;\n",
       "    }\n",
       "\n",
       "    .dataframe thead th {\n",
       "        text-align: right;\n",
       "    }\n",
       "</style>\n",
       "<table border=\"1\" class=\"dataframe\">\n",
       "  <thead>\n",
       "    <tr style=\"text-align: right;\">\n",
       "      <th></th>\n",
       "      <th>customer_unique_id</th>\n",
       "      <th>num_orders</th>\n",
       "    </tr>\n",
       "  </thead>\n",
       "  <tbody>\n",
       "    <tr>\n",
       "      <th>0</th>\n",
       "      <td>8d50f5eadf50201ccdcedfb9e2ac8455</td>\n",
       "      <td>17</td>\n",
       "    </tr>\n",
       "    <tr>\n",
       "      <th>1</th>\n",
       "      <td>3e43e6105506432c953e165fb2acf44c</td>\n",
       "      <td>9</td>\n",
       "    </tr>\n",
       "    <tr>\n",
       "      <th>2</th>\n",
       "      <td>ca77025e7201e3b30c44b472ff346268</td>\n",
       "      <td>7</td>\n",
       "    </tr>\n",
       "    <tr>\n",
       "      <th>3</th>\n",
       "      <td>6469f99c1f9dfae7733b25662e7f1782</td>\n",
       "      <td>7</td>\n",
       "    </tr>\n",
       "    <tr>\n",
       "      <th>4</th>\n",
       "      <td>1b6c7548a2a1f9037c1fd3ddfed95f33</td>\n",
       "      <td>7</td>\n",
       "    </tr>\n",
       "    <tr>\n",
       "      <th>5</th>\n",
       "      <td>f0e310a6839dce9de1638e0fe5ab282a</td>\n",
       "      <td>6</td>\n",
       "    </tr>\n",
       "    <tr>\n",
       "      <th>6</th>\n",
       "      <td>de34b16117594161a6a89c50b289d35a</td>\n",
       "      <td>6</td>\n",
       "    </tr>\n",
       "    <tr>\n",
       "      <th>7</th>\n",
       "      <td>dc813062e0fc23409cd255f7f53c7074</td>\n",
       "      <td>6</td>\n",
       "    </tr>\n",
       "    <tr>\n",
       "      <th>8</th>\n",
       "      <td>63cfc61cee11cbe306bff5857d00bfe4</td>\n",
       "      <td>6</td>\n",
       "    </tr>\n",
       "    <tr>\n",
       "      <th>9</th>\n",
       "      <td>47c1a3033b8b77b3ab6e109eb4d5fdf3</td>\n",
       "      <td>6</td>\n",
       "    </tr>\n",
       "  </tbody>\n",
       "</table>\n",
       "</div>"
      ],
      "text/plain": [
       "                 customer_unique_id  num_orders\n",
       "0  8d50f5eadf50201ccdcedfb9e2ac8455          17\n",
       "1  3e43e6105506432c953e165fb2acf44c           9\n",
       "2  ca77025e7201e3b30c44b472ff346268           7\n",
       "3  6469f99c1f9dfae7733b25662e7f1782           7\n",
       "4  1b6c7548a2a1f9037c1fd3ddfed95f33           7\n",
       "5  f0e310a6839dce9de1638e0fe5ab282a           6\n",
       "6  de34b16117594161a6a89c50b289d35a           6\n",
       "7  dc813062e0fc23409cd255f7f53c7074           6\n",
       "8  63cfc61cee11cbe306bff5857d00bfe4           6\n",
       "9  47c1a3033b8b77b3ab6e109eb4d5fdf3           6"
      ]
     },
     "execution_count": 20,
     "metadata": {},
     "output_type": "execute_result"
    }
   ],
   "source": [
    "q = '''\n",
    "select\n",
    "    c.customer_unique_id,\n",
    "    count(o.order_id) as num_orders \n",
    "from customers c inner join orders o on (c.customer_id = o.customer_id)\n",
    "group by c.customer_unique_id \n",
    "order by num_orders desc\n",
    "limit 10;\n",
    "'''\n",
    "pd.read_sql(q, conn)"
   ]
  },
  {
   "cell_type": "markdown",
   "id": "b116fc35",
   "metadata": {
    "ExecuteTime": {
     "end_time": "2021-11-22T19:59:18.456995Z",
     "start_time": "2021-11-22T19:59:18.455334Z"
    },
    "heading_collapsed": true,
    "hidden": true
   },
   "source": [
    "### What are the 10 customers who placed the fewest orders?"
   ]
  },
  {
   "cell_type": "code",
   "execution_count": 21,
   "id": "d159e227",
   "metadata": {
    "ExecuteTime": {
     "end_time": "2021-11-22T20:06:19.378031Z",
     "start_time": "2021-11-22T20:06:19.049428Z"
    },
    "hidden": true
   },
   "outputs": [
    {
     "data": {
      "text/html": [
       "<div>\n",
       "<style scoped>\n",
       "    .dataframe tbody tr th:only-of-type {\n",
       "        vertical-align: middle;\n",
       "    }\n",
       "\n",
       "    .dataframe tbody tr th {\n",
       "        vertical-align: top;\n",
       "    }\n",
       "\n",
       "    .dataframe thead th {\n",
       "        text-align: right;\n",
       "    }\n",
       "</style>\n",
       "<table border=\"1\" class=\"dataframe\">\n",
       "  <thead>\n",
       "    <tr style=\"text-align: right;\">\n",
       "      <th></th>\n",
       "      <th>customer_unique_id</th>\n",
       "      <th>num_orders</th>\n",
       "    </tr>\n",
       "  </thead>\n",
       "  <tbody>\n",
       "    <tr>\n",
       "      <th>0</th>\n",
       "      <td>0000366f3b9a7992bf8c76cfdf3221e2</td>\n",
       "      <td>1</td>\n",
       "    </tr>\n",
       "    <tr>\n",
       "      <th>1</th>\n",
       "      <td>0000b849f77a49e4a4ce2b2a4ca5be3f</td>\n",
       "      <td>1</td>\n",
       "    </tr>\n",
       "    <tr>\n",
       "      <th>2</th>\n",
       "      <td>0000f46a3911fa3c0805444483337064</td>\n",
       "      <td>1</td>\n",
       "    </tr>\n",
       "    <tr>\n",
       "      <th>3</th>\n",
       "      <td>0000f6ccb0745a6a4b88665a16c9f078</td>\n",
       "      <td>1</td>\n",
       "    </tr>\n",
       "    <tr>\n",
       "      <th>4</th>\n",
       "      <td>0004aac84e0df4da2b147fca70cf8255</td>\n",
       "      <td>1</td>\n",
       "    </tr>\n",
       "    <tr>\n",
       "      <th>5</th>\n",
       "      <td>0004bd2a26a76fe21f786e4fbd80607f</td>\n",
       "      <td>1</td>\n",
       "    </tr>\n",
       "    <tr>\n",
       "      <th>6</th>\n",
       "      <td>00050ab1314c0e55a6ca13cf7181fecf</td>\n",
       "      <td>1</td>\n",
       "    </tr>\n",
       "    <tr>\n",
       "      <th>7</th>\n",
       "      <td>00053a61a98854899e70ed204dd4bafe</td>\n",
       "      <td>1</td>\n",
       "    </tr>\n",
       "    <tr>\n",
       "      <th>8</th>\n",
       "      <td>0005e1862207bf6ccc02e4228effd9a0</td>\n",
       "      <td>1</td>\n",
       "    </tr>\n",
       "    <tr>\n",
       "      <th>9</th>\n",
       "      <td>0005ef4cd20d2893f0d9fbd94d3c0d97</td>\n",
       "      <td>1</td>\n",
       "    </tr>\n",
       "  </tbody>\n",
       "</table>\n",
       "</div>"
      ],
      "text/plain": [
       "                 customer_unique_id  num_orders\n",
       "0  0000366f3b9a7992bf8c76cfdf3221e2           1\n",
       "1  0000b849f77a49e4a4ce2b2a4ca5be3f           1\n",
       "2  0000f46a3911fa3c0805444483337064           1\n",
       "3  0000f6ccb0745a6a4b88665a16c9f078           1\n",
       "4  0004aac84e0df4da2b147fca70cf8255           1\n",
       "5  0004bd2a26a76fe21f786e4fbd80607f           1\n",
       "6  00050ab1314c0e55a6ca13cf7181fecf           1\n",
       "7  00053a61a98854899e70ed204dd4bafe           1\n",
       "8  0005e1862207bf6ccc02e4228effd9a0           1\n",
       "9  0005ef4cd20d2893f0d9fbd94d3c0d97           1"
      ]
     },
     "execution_count": 21,
     "metadata": {},
     "output_type": "execute_result"
    }
   ],
   "source": [
    "q = '''\n",
    "select\n",
    "    c.customer_unique_id,\n",
    "    count(o.order_id) as num_orders \n",
    "from customers c inner join orders o on (c.customer_id = o.customer_id)\n",
    "group by c.customer_unique_id \n",
    "order by num_orders asc\n",
    "limit 10;\n",
    "'''\n",
    "pd.read_sql(q, conn)"
   ]
  },
  {
   "cell_type": "markdown",
   "id": "eb8f7c2b",
   "metadata": {
    "heading_collapsed": true,
    "hidden": true
   },
   "source": [
    "### Which sellers exist in database?"
   ]
  },
  {
   "cell_type": "code",
   "execution_count": 22,
   "id": "49f740aa",
   "metadata": {
    "ExecuteTime": {
     "end_time": "2021-11-22T20:08:28.588060Z",
     "start_time": "2021-11-22T20:08:28.577580Z"
    },
    "hidden": true
   },
   "outputs": [
    {
     "data": {
      "text/html": [
       "<div>\n",
       "<style scoped>\n",
       "    .dataframe tbody tr th:only-of-type {\n",
       "        vertical-align: middle;\n",
       "    }\n",
       "\n",
       "    .dataframe tbody tr th {\n",
       "        vertical-align: top;\n",
       "    }\n",
       "\n",
       "    .dataframe thead th {\n",
       "        text-align: right;\n",
       "    }\n",
       "</style>\n",
       "<table border=\"1\" class=\"dataframe\">\n",
       "  <thead>\n",
       "    <tr style=\"text-align: right;\">\n",
       "      <th></th>\n",
       "      <th>seller_id</th>\n",
       "    </tr>\n",
       "  </thead>\n",
       "  <tbody>\n",
       "    <tr>\n",
       "      <th>0</th>\n",
       "      <td>3442f8959a84dea7ee197c632cb2df15</td>\n",
       "    </tr>\n",
       "    <tr>\n",
       "      <th>1</th>\n",
       "      <td>d1b65fc7debc3361ea86b5f14c68d2e2</td>\n",
       "    </tr>\n",
       "    <tr>\n",
       "      <th>2</th>\n",
       "      <td>ce3ad9de960102d0677a81f5d0bb7b2d</td>\n",
       "    </tr>\n",
       "    <tr>\n",
       "      <th>3</th>\n",
       "      <td>c0f3eea2e14555b6faeea3dd58c1b1c3</td>\n",
       "    </tr>\n",
       "    <tr>\n",
       "      <th>4</th>\n",
       "      <td>51a04a8a6bdcb23deccc82b0b80742cf</td>\n",
       "    </tr>\n",
       "    <tr>\n",
       "      <th>...</th>\n",
       "      <td>...</td>\n",
       "    </tr>\n",
       "    <tr>\n",
       "      <th>3090</th>\n",
       "      <td>98dddbc4601dd4443ca174359b237166</td>\n",
       "    </tr>\n",
       "    <tr>\n",
       "      <th>3091</th>\n",
       "      <td>f8201cab383e484733266d1906e2fdfa</td>\n",
       "    </tr>\n",
       "    <tr>\n",
       "      <th>3092</th>\n",
       "      <td>74871d19219c7d518d0090283e03c137</td>\n",
       "    </tr>\n",
       "    <tr>\n",
       "      <th>3093</th>\n",
       "      <td>e603cf3fec55f8697c9059638d6c8eb5</td>\n",
       "    </tr>\n",
       "    <tr>\n",
       "      <th>3094</th>\n",
       "      <td>9e25199f6ef7e7c347120ff175652c3b</td>\n",
       "    </tr>\n",
       "  </tbody>\n",
       "</table>\n",
       "<p>3095 rows × 1 columns</p>\n",
       "</div>"
      ],
      "text/plain": [
       "                             seller_id\n",
       "0     3442f8959a84dea7ee197c632cb2df15\n",
       "1     d1b65fc7debc3361ea86b5f14c68d2e2\n",
       "2     ce3ad9de960102d0677a81f5d0bb7b2d\n",
       "3     c0f3eea2e14555b6faeea3dd58c1b1c3\n",
       "4     51a04a8a6bdcb23deccc82b0b80742cf\n",
       "...                                ...\n",
       "3090  98dddbc4601dd4443ca174359b237166\n",
       "3091  f8201cab383e484733266d1906e2fdfa\n",
       "3092  74871d19219c7d518d0090283e03c137\n",
       "3093  e603cf3fec55f8697c9059638d6c8eb5\n",
       "3094  9e25199f6ef7e7c347120ff175652c3b\n",
       "\n",
       "[3095 rows x 1 columns]"
      ]
     },
     "execution_count": 22,
     "metadata": {},
     "output_type": "execute_result"
    }
   ],
   "source": [
    "q = '''\n",
    "select\n",
    "    distinct(s.seller_id)\n",
    "from sellers s;\n",
    "'''\n",
    "pd.read_sql(q, conn)"
   ]
  },
  {
   "cell_type": "markdown",
   "id": "90c2f303",
   "metadata": {
    "heading_collapsed": true,
    "hidden": true
   },
   "source": [
    "### What are the distribution of sellers by state?"
   ]
  },
  {
   "cell_type": "code",
   "execution_count": 23,
   "id": "97668115",
   "metadata": {
    "ExecuteTime": {
     "end_time": "2021-11-22T20:12:07.358529Z",
     "start_time": "2021-11-22T20:12:07.349821Z"
    },
    "hidden": true
   },
   "outputs": [
    {
     "data": {
      "text/html": [
       "<div>\n",
       "<style scoped>\n",
       "    .dataframe tbody tr th:only-of-type {\n",
       "        vertical-align: middle;\n",
       "    }\n",
       "\n",
       "    .dataframe tbody tr th {\n",
       "        vertical-align: top;\n",
       "    }\n",
       "\n",
       "    .dataframe thead th {\n",
       "        text-align: right;\n",
       "    }\n",
       "</style>\n",
       "<table border=\"1\" class=\"dataframe\">\n",
       "  <thead>\n",
       "    <tr style=\"text-align: right;\">\n",
       "      <th></th>\n",
       "      <th>seller_state</th>\n",
       "      <th>num_seller</th>\n",
       "    </tr>\n",
       "  </thead>\n",
       "  <tbody>\n",
       "    <tr>\n",
       "      <th>0</th>\n",
       "      <td>SP</td>\n",
       "      <td>1849</td>\n",
       "    </tr>\n",
       "    <tr>\n",
       "      <th>1</th>\n",
       "      <td>PR</td>\n",
       "      <td>349</td>\n",
       "    </tr>\n",
       "    <tr>\n",
       "      <th>2</th>\n",
       "      <td>MG</td>\n",
       "      <td>244</td>\n",
       "    </tr>\n",
       "    <tr>\n",
       "      <th>3</th>\n",
       "      <td>SC</td>\n",
       "      <td>190</td>\n",
       "    </tr>\n",
       "    <tr>\n",
       "      <th>4</th>\n",
       "      <td>RJ</td>\n",
       "      <td>171</td>\n",
       "    </tr>\n",
       "    <tr>\n",
       "      <th>5</th>\n",
       "      <td>RS</td>\n",
       "      <td>129</td>\n",
       "    </tr>\n",
       "    <tr>\n",
       "      <th>6</th>\n",
       "      <td>GO</td>\n",
       "      <td>40</td>\n",
       "    </tr>\n",
       "    <tr>\n",
       "      <th>7</th>\n",
       "      <td>DF</td>\n",
       "      <td>30</td>\n",
       "    </tr>\n",
       "    <tr>\n",
       "      <th>8</th>\n",
       "      <td>ES</td>\n",
       "      <td>23</td>\n",
       "    </tr>\n",
       "    <tr>\n",
       "      <th>9</th>\n",
       "      <td>BA</td>\n",
       "      <td>19</td>\n",
       "    </tr>\n",
       "    <tr>\n",
       "      <th>10</th>\n",
       "      <td>CE</td>\n",
       "      <td>13</td>\n",
       "    </tr>\n",
       "    <tr>\n",
       "      <th>11</th>\n",
       "      <td>PE</td>\n",
       "      <td>9</td>\n",
       "    </tr>\n",
       "    <tr>\n",
       "      <th>12</th>\n",
       "      <td>PB</td>\n",
       "      <td>6</td>\n",
       "    </tr>\n",
       "    <tr>\n",
       "      <th>13</th>\n",
       "      <td>RN</td>\n",
       "      <td>5</td>\n",
       "    </tr>\n",
       "    <tr>\n",
       "      <th>14</th>\n",
       "      <td>MS</td>\n",
       "      <td>5</td>\n",
       "    </tr>\n",
       "    <tr>\n",
       "      <th>15</th>\n",
       "      <td>MT</td>\n",
       "      <td>4</td>\n",
       "    </tr>\n",
       "    <tr>\n",
       "      <th>16</th>\n",
       "      <td>SE</td>\n",
       "      <td>2</td>\n",
       "    </tr>\n",
       "    <tr>\n",
       "      <th>17</th>\n",
       "      <td>RO</td>\n",
       "      <td>2</td>\n",
       "    </tr>\n",
       "    <tr>\n",
       "      <th>18</th>\n",
       "      <td>PI</td>\n",
       "      <td>1</td>\n",
       "    </tr>\n",
       "    <tr>\n",
       "      <th>19</th>\n",
       "      <td>PA</td>\n",
       "      <td>1</td>\n",
       "    </tr>\n",
       "    <tr>\n",
       "      <th>20</th>\n",
       "      <td>MA</td>\n",
       "      <td>1</td>\n",
       "    </tr>\n",
       "    <tr>\n",
       "      <th>21</th>\n",
       "      <td>AM</td>\n",
       "      <td>1</td>\n",
       "    </tr>\n",
       "    <tr>\n",
       "      <th>22</th>\n",
       "      <td>AC</td>\n",
       "      <td>1</td>\n",
       "    </tr>\n",
       "  </tbody>\n",
       "</table>\n",
       "</div>"
      ],
      "text/plain": [
       "   seller_state  num_seller\n",
       "0            SP        1849\n",
       "1            PR         349\n",
       "2            MG         244\n",
       "3            SC         190\n",
       "4            RJ         171\n",
       "5            RS         129\n",
       "6            GO          40\n",
       "7            DF          30\n",
       "8            ES          23\n",
       "9            BA          19\n",
       "10           CE          13\n",
       "11           PE           9\n",
       "12           PB           6\n",
       "13           RN           5\n",
       "14           MS           5\n",
       "15           MT           4\n",
       "16           SE           2\n",
       "17           RO           2\n",
       "18           PI           1\n",
       "19           PA           1\n",
       "20           MA           1\n",
       "21           AM           1\n",
       "22           AC           1"
      ]
     },
     "execution_count": 23,
     "metadata": {},
     "output_type": "execute_result"
    }
   ],
   "source": [
    "q = '''\n",
    "select\n",
    "    s.seller_state, \n",
    "    count(distinct(seller_id)) as num_seller\n",
    "from sellers s\n",
    "group by s.seller_state \n",
    "order by num_seller desc;\n",
    "'''\n",
    "pd.read_sql(q, conn)"
   ]
  },
  {
   "cell_type": "markdown",
   "id": "8cf0444f",
   "metadata": {
    "heading_collapsed": true,
    "hidden": true
   },
   "source": [
    "### What are the distribution of customers by state?"
   ]
  },
  {
   "cell_type": "code",
   "execution_count": 24,
   "id": "9d6f2a5e",
   "metadata": {
    "ExecuteTime": {
     "end_time": "2021-11-22T20:15:52.770671Z",
     "start_time": "2021-11-22T20:15:52.687566Z"
    },
    "hidden": true
   },
   "outputs": [
    {
     "data": {
      "text/html": [
       "<div>\n",
       "<style scoped>\n",
       "    .dataframe tbody tr th:only-of-type {\n",
       "        vertical-align: middle;\n",
       "    }\n",
       "\n",
       "    .dataframe tbody tr th {\n",
       "        vertical-align: top;\n",
       "    }\n",
       "\n",
       "    .dataframe thead th {\n",
       "        text-align: right;\n",
       "    }\n",
       "</style>\n",
       "<table border=\"1\" class=\"dataframe\">\n",
       "  <thead>\n",
       "    <tr style=\"text-align: right;\">\n",
       "      <th></th>\n",
       "      <th>customer_state</th>\n",
       "      <th>num_customers</th>\n",
       "    </tr>\n",
       "  </thead>\n",
       "  <tbody>\n",
       "    <tr>\n",
       "      <th>0</th>\n",
       "      <td>SP</td>\n",
       "      <td>40302</td>\n",
       "    </tr>\n",
       "    <tr>\n",
       "      <th>1</th>\n",
       "      <td>RJ</td>\n",
       "      <td>12384</td>\n",
       "    </tr>\n",
       "    <tr>\n",
       "      <th>2</th>\n",
       "      <td>MG</td>\n",
       "      <td>11259</td>\n",
       "    </tr>\n",
       "    <tr>\n",
       "      <th>3</th>\n",
       "      <td>RS</td>\n",
       "      <td>5277</td>\n",
       "    </tr>\n",
       "    <tr>\n",
       "      <th>4</th>\n",
       "      <td>PR</td>\n",
       "      <td>4882</td>\n",
       "    </tr>\n",
       "    <tr>\n",
       "      <th>5</th>\n",
       "      <td>SC</td>\n",
       "      <td>3534</td>\n",
       "    </tr>\n",
       "    <tr>\n",
       "      <th>6</th>\n",
       "      <td>BA</td>\n",
       "      <td>3277</td>\n",
       "    </tr>\n",
       "    <tr>\n",
       "      <th>7</th>\n",
       "      <td>DF</td>\n",
       "      <td>2075</td>\n",
       "    </tr>\n",
       "    <tr>\n",
       "      <th>8</th>\n",
       "      <td>ES</td>\n",
       "      <td>1964</td>\n",
       "    </tr>\n",
       "    <tr>\n",
       "      <th>9</th>\n",
       "      <td>GO</td>\n",
       "      <td>1952</td>\n",
       "    </tr>\n",
       "    <tr>\n",
       "      <th>10</th>\n",
       "      <td>PE</td>\n",
       "      <td>1609</td>\n",
       "    </tr>\n",
       "    <tr>\n",
       "      <th>11</th>\n",
       "      <td>CE</td>\n",
       "      <td>1313</td>\n",
       "    </tr>\n",
       "    <tr>\n",
       "      <th>12</th>\n",
       "      <td>PA</td>\n",
       "      <td>949</td>\n",
       "    </tr>\n",
       "    <tr>\n",
       "      <th>13</th>\n",
       "      <td>MT</td>\n",
       "      <td>876</td>\n",
       "    </tr>\n",
       "    <tr>\n",
       "      <th>14</th>\n",
       "      <td>MA</td>\n",
       "      <td>726</td>\n",
       "    </tr>\n",
       "    <tr>\n",
       "      <th>15</th>\n",
       "      <td>MS</td>\n",
       "      <td>694</td>\n",
       "    </tr>\n",
       "    <tr>\n",
       "      <th>16</th>\n",
       "      <td>PB</td>\n",
       "      <td>519</td>\n",
       "    </tr>\n",
       "    <tr>\n",
       "      <th>17</th>\n",
       "      <td>PI</td>\n",
       "      <td>482</td>\n",
       "    </tr>\n",
       "    <tr>\n",
       "      <th>18</th>\n",
       "      <td>RN</td>\n",
       "      <td>474</td>\n",
       "    </tr>\n",
       "    <tr>\n",
       "      <th>19</th>\n",
       "      <td>AL</td>\n",
       "      <td>401</td>\n",
       "    </tr>\n",
       "    <tr>\n",
       "      <th>20</th>\n",
       "      <td>SE</td>\n",
       "      <td>342</td>\n",
       "    </tr>\n",
       "    <tr>\n",
       "      <th>21</th>\n",
       "      <td>TO</td>\n",
       "      <td>273</td>\n",
       "    </tr>\n",
       "    <tr>\n",
       "      <th>22</th>\n",
       "      <td>RO</td>\n",
       "      <td>240</td>\n",
       "    </tr>\n",
       "    <tr>\n",
       "      <th>23</th>\n",
       "      <td>AM</td>\n",
       "      <td>143</td>\n",
       "    </tr>\n",
       "    <tr>\n",
       "      <th>24</th>\n",
       "      <td>AC</td>\n",
       "      <td>77</td>\n",
       "    </tr>\n",
       "    <tr>\n",
       "      <th>25</th>\n",
       "      <td>AP</td>\n",
       "      <td>67</td>\n",
       "    </tr>\n",
       "    <tr>\n",
       "      <th>26</th>\n",
       "      <td>RR</td>\n",
       "      <td>45</td>\n",
       "    </tr>\n",
       "  </tbody>\n",
       "</table>\n",
       "</div>"
      ],
      "text/plain": [
       "   customer_state  num_customers\n",
       "0              SP          40302\n",
       "1              RJ          12384\n",
       "2              MG          11259\n",
       "3              RS           5277\n",
       "4              PR           4882\n",
       "5              SC           3534\n",
       "6              BA           3277\n",
       "7              DF           2075\n",
       "8              ES           1964\n",
       "9              GO           1952\n",
       "10             PE           1609\n",
       "11             CE           1313\n",
       "12             PA            949\n",
       "13             MT            876\n",
       "14             MA            726\n",
       "15             MS            694\n",
       "16             PB            519\n",
       "17             PI            482\n",
       "18             RN            474\n",
       "19             AL            401\n",
       "20             SE            342\n",
       "21             TO            273\n",
       "22             RO            240\n",
       "23             AM            143\n",
       "24             AC             77\n",
       "25             AP             67\n",
       "26             RR             45"
      ]
     },
     "execution_count": 24,
     "metadata": {},
     "output_type": "execute_result"
    }
   ],
   "source": [
    "q = '''\n",
    "select\n",
    "    c.customer_state, \n",
    "    count(distinct(c.customer_unique_id)) as num_customers\n",
    "from customers c \n",
    "group by c.customer_state \n",
    "order by num_customers desc;\n",
    "'''\n",
    "pd.read_sql(q, conn)"
   ]
  },
  {
   "cell_type": "markdown",
   "id": "474f48b2",
   "metadata": {
    "heading_collapsed": true,
    "hidden": true
   },
   "source": [
    "### Which are the top 10 sellers that reciev payments by boleto? "
   ]
  },
  {
   "cell_type": "code",
   "execution_count": 26,
   "id": "4b61af5a",
   "metadata": {
    "ExecuteTime": {
     "end_time": "2021-11-22T20:24:20.100342Z",
     "start_time": "2021-11-22T20:24:19.853365Z"
    },
    "hidden": true
   },
   "outputs": [
    {
     "data": {
      "text/html": [
       "<div>\n",
       "<style scoped>\n",
       "    .dataframe tbody tr th:only-of-type {\n",
       "        vertical-align: middle;\n",
       "    }\n",
       "\n",
       "    .dataframe tbody tr th {\n",
       "        vertical-align: top;\n",
       "    }\n",
       "\n",
       "    .dataframe thead th {\n",
       "        text-align: right;\n",
       "    }\n",
       "</style>\n",
       "<table border=\"1\" class=\"dataframe\">\n",
       "  <thead>\n",
       "    <tr style=\"text-align: right;\">\n",
       "      <th></th>\n",
       "      <th>seller_id</th>\n",
       "      <th>total_received</th>\n",
       "    </tr>\n",
       "  </thead>\n",
       "  <tbody>\n",
       "    <tr>\n",
       "      <th>0</th>\n",
       "      <td>7c67e1448b00f6e969d365cea6b010ab</td>\n",
       "      <td>129955.0</td>\n",
       "    </tr>\n",
       "    <tr>\n",
       "      <th>1</th>\n",
       "      <td>25c5c91f63607446a97b143d2d535d31</td>\n",
       "      <td>111314.0</td>\n",
       "    </tr>\n",
       "    <tr>\n",
       "      <th>2</th>\n",
       "      <td>1f50f920176fa81dab994f9023523100</td>\n",
       "      <td>104037.0</td>\n",
       "    </tr>\n",
       "    <tr>\n",
       "      <th>3</th>\n",
       "      <td>955fee9216a65b617aa5c0531780ce60</td>\n",
       "      <td>64572.0</td>\n",
       "    </tr>\n",
       "    <tr>\n",
       "      <th>4</th>\n",
       "      <td>1025f0e2d44d7041d6cf58b6550e0bfa</td>\n",
       "      <td>59484.0</td>\n",
       "    </tr>\n",
       "    <tr>\n",
       "      <th>5</th>\n",
       "      <td>8e6d7754bc7e0f22c96d255ebda59eba</td>\n",
       "      <td>51362.0</td>\n",
       "    </tr>\n",
       "    <tr>\n",
       "      <th>6</th>\n",
       "      <td>da8622b14eb17ae2831f4ac5b9dab84a</td>\n",
       "      <td>44865.0</td>\n",
       "    </tr>\n",
       "    <tr>\n",
       "      <th>7</th>\n",
       "      <td>4a3ca9315b744ce9f8e9374361493884</td>\n",
       "      <td>44809.0</td>\n",
       "    </tr>\n",
       "    <tr>\n",
       "      <th>8</th>\n",
       "      <td>634964b17796e64304cadf1ad3050fb7</td>\n",
       "      <td>44238.0</td>\n",
       "    </tr>\n",
       "    <tr>\n",
       "      <th>9</th>\n",
       "      <td>f08a5b9dd6767129688d001acafc21e5</td>\n",
       "      <td>43061.0</td>\n",
       "    </tr>\n",
       "  </tbody>\n",
       "</table>\n",
       "</div>"
      ],
      "text/plain": [
       "                          seller_id  total_received\n",
       "0  7c67e1448b00f6e969d365cea6b010ab        129955.0\n",
       "1  25c5c91f63607446a97b143d2d535d31        111314.0\n",
       "2  1f50f920176fa81dab994f9023523100        104037.0\n",
       "3  955fee9216a65b617aa5c0531780ce60         64572.0\n",
       "4  1025f0e2d44d7041d6cf58b6550e0bfa         59484.0\n",
       "5  8e6d7754bc7e0f22c96d255ebda59eba         51362.0\n",
       "6  da8622b14eb17ae2831f4ac5b9dab84a         44865.0\n",
       "7  4a3ca9315b744ce9f8e9374361493884         44809.0\n",
       "8  634964b17796e64304cadf1ad3050fb7         44238.0\n",
       "9  f08a5b9dd6767129688d001acafc21e5         43061.0"
      ]
     },
     "execution_count": 26,
     "metadata": {},
     "output_type": "execute_result"
    }
   ],
   "source": [
    "q = '''\n",
    "select\n",
    "    s.seller_id,\n",
    "    round(sum(p.payment_value)) as total_received\n",
    "from orders o inner join order_items oi on (o.order_id = oi.order_id)\n",
    "              inner join payments p     on (o.order_id = p.order_id)\n",
    "              inner join sellers s      on (oi.seller_id = s.seller_id)\n",
    "where p.payment_type = 'boleto'\n",
    "group by s.seller_id \n",
    "order by total_received desc\n",
    "limit 10;\n",
    "'''\n",
    "pd.read_sql(q, conn)"
   ]
  },
  {
   "cell_type": "markdown",
   "id": "d9bc0c5a",
   "metadata": {
    "ExecuteTime": {
     "end_time": "2021-11-22T20:25:28.747328Z",
     "start_time": "2021-11-22T20:25:28.745327Z"
    },
    "heading_collapsed": true,
    "hidden": true
   },
   "source": [
    "### Which are the 10 worst sellers by orders number?"
   ]
  },
  {
   "cell_type": "code",
   "execution_count": 28,
   "id": "dceade8f",
   "metadata": {
    "ExecuteTime": {
     "end_time": "2021-11-22T20:29:22.411326Z",
     "start_time": "2021-11-22T20:29:22.151036Z"
    },
    "hidden": true
   },
   "outputs": [
    {
     "data": {
      "text/html": [
       "<div>\n",
       "<style scoped>\n",
       "    .dataframe tbody tr th:only-of-type {\n",
       "        vertical-align: middle;\n",
       "    }\n",
       "\n",
       "    .dataframe tbody tr th {\n",
       "        vertical-align: top;\n",
       "    }\n",
       "\n",
       "    .dataframe thead th {\n",
       "        text-align: right;\n",
       "    }\n",
       "</style>\n",
       "<table border=\"1\" class=\"dataframe\">\n",
       "  <thead>\n",
       "    <tr style=\"text-align: right;\">\n",
       "      <th></th>\n",
       "      <th>seller_id</th>\n",
       "      <th>order_num</th>\n",
       "    </tr>\n",
       "  </thead>\n",
       "  <tbody>\n",
       "    <tr>\n",
       "      <th>0</th>\n",
       "      <td>001e6ad469a905060d959994f1b41e4f</td>\n",
       "      <td>1</td>\n",
       "    </tr>\n",
       "    <tr>\n",
       "      <th>1</th>\n",
       "      <td>003554e2dce176b5555353e4f3555ac8</td>\n",
       "      <td>1</td>\n",
       "    </tr>\n",
       "    <tr>\n",
       "      <th>2</th>\n",
       "      <td>00ab3eff1b5192e5f1a63bcecfee11c8</td>\n",
       "      <td>1</td>\n",
       "    </tr>\n",
       "    <tr>\n",
       "      <th>3</th>\n",
       "      <td>00d8b143d12632bad99c0ad66ad52825</td>\n",
       "      <td>1</td>\n",
       "    </tr>\n",
       "    <tr>\n",
       "      <th>4</th>\n",
       "      <td>04ee0ec01589969663ba5967c0e0bdc0</td>\n",
       "      <td>1</td>\n",
       "    </tr>\n",
       "    <tr>\n",
       "      <th>5</th>\n",
       "      <td>05a48cc8859962767935ab9087417fbb</td>\n",
       "      <td>1</td>\n",
       "    </tr>\n",
       "    <tr>\n",
       "      <th>6</th>\n",
       "      <td>05ca864204d09595ae591b93ea9cf93d</td>\n",
       "      <td>1</td>\n",
       "    </tr>\n",
       "    <tr>\n",
       "      <th>7</th>\n",
       "      <td>07a9bc7f61396b658ddf3ac534efe44c</td>\n",
       "      <td>1</td>\n",
       "    </tr>\n",
       "    <tr>\n",
       "      <th>8</th>\n",
       "      <td>08d1c9478fb0d7d7fcac9c0da4e82fc7</td>\n",
       "      <td>1</td>\n",
       "    </tr>\n",
       "    <tr>\n",
       "      <th>9</th>\n",
       "      <td>0a198e95d32b1be2da9424c962a6ebfa</td>\n",
       "      <td>1</td>\n",
       "    </tr>\n",
       "  </tbody>\n",
       "</table>\n",
       "</div>"
      ],
      "text/plain": [
       "                          seller_id  order_num\n",
       "0  001e6ad469a905060d959994f1b41e4f          1\n",
       "1  003554e2dce176b5555353e4f3555ac8          1\n",
       "2  00ab3eff1b5192e5f1a63bcecfee11c8          1\n",
       "3  00d8b143d12632bad99c0ad66ad52825          1\n",
       "4  04ee0ec01589969663ba5967c0e0bdc0          1\n",
       "5  05a48cc8859962767935ab9087417fbb          1\n",
       "6  05ca864204d09595ae591b93ea9cf93d          1\n",
       "7  07a9bc7f61396b658ddf3ac534efe44c          1\n",
       "8  08d1c9478fb0d7d7fcac9c0da4e82fc7          1\n",
       "9  0a198e95d32b1be2da9424c962a6ebfa          1"
      ]
     },
     "execution_count": 28,
     "metadata": {},
     "output_type": "execute_result"
    }
   ],
   "source": [
    "q = '''\n",
    "select\n",
    "    s.seller_id,\n",
    "    count(o.order_id) as order_num \n",
    "from orders o inner join order_items oi on (o.order_id = oi.order_id)\n",
    "              inner join sellers s      on (oi.seller_id = s.seller_id)\n",
    "group by s.seller_id \n",
    "order by order_num asc\n",
    "limit 10;\n",
    "'''\n",
    "pd.read_sql(q, conn)"
   ]
  },
  {
   "cell_type": "markdown",
   "id": "cb3007af",
   "metadata": {
    "ExecuteTime": {
     "end_time": "2021-11-22T20:25:28.747328Z",
     "start_time": "2021-11-22T20:25:28.745327Z"
    },
    "heading_collapsed": true,
    "hidden": true
   },
   "source": [
    "### How many products are purchased in average by orders?"
   ]
  },
  {
   "cell_type": "code",
   "execution_count": 3,
   "id": "4d12e0b8",
   "metadata": {
    "ExecuteTime": {
     "end_time": "2021-11-23T12:36:05.381357Z",
     "start_time": "2021-11-23T12:36:05.324648Z"
    },
    "hidden": true
   },
   "outputs": [
    {
     "data": {
      "text/html": [
       "<div>\n",
       "<style scoped>\n",
       "    .dataframe tbody tr th:only-of-type {\n",
       "        vertical-align: middle;\n",
       "    }\n",
       "\n",
       "    .dataframe tbody tr th {\n",
       "        vertical-align: top;\n",
       "    }\n",
       "\n",
       "    .dataframe thead th {\n",
       "        text-align: right;\n",
       "    }\n",
       "</style>\n",
       "<table border=\"1\" class=\"dataframe\">\n",
       "  <thead>\n",
       "    <tr style=\"text-align: right;\">\n",
       "      <th></th>\n",
       "      <th>avg_item</th>\n",
       "    </tr>\n",
       "  </thead>\n",
       "  <tbody>\n",
       "    <tr>\n",
       "      <th>0</th>\n",
       "      <td>1.0</td>\n",
       "    </tr>\n",
       "  </tbody>\n",
       "</table>\n",
       "</div>"
      ],
      "text/plain": [
       "   avg_item\n",
       "0       1.0"
      ]
     },
     "execution_count": 3,
     "metadata": {},
     "output_type": "execute_result"
    }
   ],
   "source": [
    "q = '''\n",
    "with avg_order_items as (\n",
    "select \n",
    "    avg(order_item_id) as avg_item\n",
    "from order_items oi \n",
    "group by oi.order_id\n",
    ")\n",
    "\n",
    "select \n",
    "    round(avg(avg_item)) as avg_item\n",
    "from avg_order_items;\n",
    "'''\n",
    "pd.read_sql(q, conn)"
   ]
  },
  {
   "cell_type": "markdown",
   "id": "aaf6e032",
   "metadata": {},
   "source": [
    "# ETL Design"
   ]
  },
  {
   "cell_type": "markdown",
   "id": "a4313bd4",
   "metadata": {},
   "source": [
    "## Collect Data"
   ]
  },
  {
   "cell_type": "code",
   "execution_count": 43,
   "id": "8fe9698d",
   "metadata": {
    "ExecuteTime": {
     "end_time": "2021-11-23T14:56:29.218284Z",
     "start_time": "2021-11-23T14:56:29.212390Z"
    }
   },
   "outputs": [],
   "source": [
    "# URL full products\n",
    "\n",
    "# Request informations\n",
    "url = 'https://www2.hm.com/en_us/men/products/jeans.html'\n",
    "\n",
    "total_items = int(soup.find('h2', class_ = 'load-more-heading').get('data-total'))\n",
    "\n",
    "# How to round to upper number\n",
    "page_number = math.ceil(total_items / 36)\n",
    "\n",
    "# Final URL\n",
    "url = url + '?page-size=' + str(page_number * 36)"
   ]
  },
  {
   "cell_type": "code",
   "execution_count": 42,
   "id": "d79fd5d7",
   "metadata": {
    "ExecuteTime": {
     "end_time": "2021-11-23T14:56:06.922068Z",
     "start_time": "2021-11-23T14:56:05.665895Z"
    },
    "code_folding": []
   },
   "outputs": [],
   "source": [
    "headers = {'User-Agent': 'Mozilla/5.0 (X11; Linux x86_64) AppleWebKit/537.36 (KHTML, like Gecko) Chrome/94.0.4606.81 Safari/537.36'}\n",
    "page = requests.get(url, headers=headers)\n",
    "\n",
    "# BeautifulSoup html page\n",
    "soup = BeautifulSoup(page.text, 'html.parser')\n",
    "\n",
    "# BeautifulSoup html products content\n",
    "products = soup.find('ul', class_=\"products-listing small\")\n",
    "product_list = products.find_all('article', class_='hm-product-item')\n",
    "\n",
    "# product id\n",
    "product_id = [p.get('data-articlecode') for p in product_list]\n",
    "\n",
    "# product category\n",
    "product_category = [p.get('data-category') for p in product_list]\n",
    "\n",
    "# product names\n",
    "products_names = products.find_all('a', class_ = 'link')\n",
    "products_names = [p.get_text() for p in products_names]\n",
    "\n",
    "# product price\n",
    "product_price = products.find_all('span', class_ = 'price regular')\n",
    "product_price = [p.get_text() for p in product_price]\n",
    "\n",
    "# DataFrame with scrapy data\n",
    "data = pd.DataFrame([product_id, products_names, product_category, product_price]).T\n",
    "data.columns = ['product_id', 'name', 'category', 'price']\n",
    "data['scrapy_datetime'] = datetime.now().strftime('%Y-%m-%d %H-%M-%S')"
   ]
  },
  {
   "cell_type": "code",
   "execution_count": 46,
   "id": "847290fd",
   "metadata": {
    "ExecuteTime": {
     "end_time": "2021-11-23T15:10:52.393871Z",
     "start_time": "2021-11-23T15:10:51.852594Z"
    }
   },
   "outputs": [
    {
     "name": "stdout",
     "output_type": "stream",
     "text": [
      "[]\n"
     ]
    }
   ],
   "source": [
    "#------------------------------API Request----------------------------\n",
    "# URL model = 'https://www2.hm.com/en_us/productpage + product code + .html'\n",
    "\n",
    "df_details = pd.DataFrame()\n",
    "columns_available = list()\n",
    "df_pattern = pd.DataFrame(columns=['Art. No.', 'Composition', 'Fit', 'More sustainable materials', 'Size'])\n",
    "\n",
    "for i in range(len(data)):\n",
    "    # URL composition and request\n",
    "    #url = f\"https://www2.hm.com/en_us/productpage.{data.loc[i, 'product_id']}.html\"\n",
    "    url = (f\"https://www2.hm.com/en_us/productpage.{'0985197001'}.html\")\n",
    "    page = requests.get(url, headers=header).text\n",
    "    \n",
    "    #------------------------------BeautifulSoup Object--------------------\n",
    "    soup = BeautifulSoup(page)\n",
    "    \n",
    "    print(soup.find_all('div', class_ = 'ProductAttributesList-module--descriptionListItem__3vUL2'))\n",
    "    break\n",
    "    #------------------------------Product Color---------------------------\n",
    "\n",
    "    product_detail = soup.find_all('a', class_ = 'filter-option miniature') + soup.find_all('a', class_ = 'filter-option miniature active')\n",
    "    product_color = [p.get('data-color') for p in product_detail]\n",
    "    product_code = [p.get('data-articlecode') for p in product_detail]\n",
    "\n",
    "    df_color = pd.DataFrame({'product_code': product_code, 'product_color': product_color})\n",
    "    df_color['color_id'] = df_color['product_code'].apply(lambda x: x[-3:])\n",
    "    df_color['style_id'] = df_color['product_code'].apply(lambda x: x[:-3])\n",
    "    \n",
    "    \n",
    "    #------------------------------Product Composition---------------------------\n",
    "    ## Get composition information\n",
    "    product_composition = [list(filter(None, p.get_text().split('\\n'))) for p in soup.find_all('div', class_ = 'pdp-description-list-item')]\n",
    "    \n",
    "    ## Composition to DataFrame\n",
    "    df_composition = pd.DataFrame(product_composition).T\n",
    "    df_composition.columns = df_composition.iloc[0]\n",
    "    df_composition.drop(index=0, inplace=True)\n",
    "    \n",
    "    #columns_available = columns_available + df_composition.columns.to_list()\n",
    "    \n",
    "    ## Garantee the patters columns\n",
    "    df_composition = pd.concat([df_pattern, df_composition])\n",
    "    \n",
    "    #df_composition = df_composition[['Fit', 'Composition', 'Art. No.']]\n",
    "    \n",
    "    # Rename columns and fill data below\n",
    "    df_composition.columns = df_composition.columns.str.lower()\n",
    "    df_composition.columns = ['product_code', 'composition', 'fit', 'sustainable_materials', 'size']\n",
    "    df_composition.fillna(method='ffill', inplace=True)\n",
    "    \n",
    "    # Remove shell and pocket lining description\n",
    "    df_composition['composition'] = df_composition['composition'].str.replace('Pocket lining: ', '')\n",
    "    df_composition['composition'] = df_composition['composition'].str.replace('Shell: ', '')\n",
    "    df_composition['composition'] = df_composition['composition'].str.replace('Pocket: ', '')\n",
    "    df_composition['composition'] = df_composition['composition'].str.replace('Lining: ', '')\n",
    "    \n",
    "    # Derivate new features\n",
    "    #df_composition['style_id'] = df_composition['product_code'].apply(lambda x: x[:-3])\n",
    "    #df_composition['color_id'] = df_composition['product_code'].apply(lambda x: x[-3:])\n",
    "    \n",
    "\n",
    "    #------------------------------SKU Product---------------------------\n",
    "    df_sku = pd.merge(df_color, df_composition[['product_code', 'fit', 'composition', 'size']], \n",
    "                      how='left', on='product_code')\n",
    "    \n",
    "    display(df_sku)\n",
    "    break\n",
    "    \n",
    "#     #------------------------------All products--------------------------\n",
    "#     df_details = pd.concat([df_details, df_sku], axis=0)\n",
    "    \n",
    "\n",
    "# # Join showroom data + details\n",
    "# data['style_id'] = data['product_id'].apply(lambda x: x[:-3])\n",
    "# data['color_id'] = data['product_id'].apply(lambda x: x[-3:])\n",
    "# data_raw = pd.merge(data, df_details[['style_id', 'product_color', 'fit', 'composition', 'size', \n",
    "#                                       'sustainable_materials']], on='style_id', how='left')"
   ]
  },
  {
   "cell_type": "code",
   "execution_count": 37,
   "id": "71ff2b7d",
   "metadata": {
    "ExecuteTime": {
     "end_time": "2021-11-23T14:44:58.139065Z",
     "start_time": "2021-11-23T14:44:58.133171Z"
    }
   },
   "outputs": [
    {
     "data": {
      "text/html": [
       "<div>\n",
       "<style scoped>\n",
       "    .dataframe tbody tr th:only-of-type {\n",
       "        vertical-align: middle;\n",
       "    }\n",
       "\n",
       "    .dataframe tbody tr th {\n",
       "        vertical-align: top;\n",
       "    }\n",
       "\n",
       "    .dataframe thead th {\n",
       "        text-align: right;\n",
       "    }\n",
       "</style>\n",
       "<table border=\"1\" class=\"dataframe\">\n",
       "  <thead>\n",
       "    <tr style=\"text-align: right;\">\n",
       "      <th></th>\n",
       "      <th>product_code</th>\n",
       "      <th>composition</th>\n",
       "      <th>fit</th>\n",
       "      <th>sustainable_materials</th>\n",
       "      <th>size</th>\n",
       "      <th>style_id</th>\n",
       "      <th>color_id</th>\n",
       "    </tr>\n",
       "  </thead>\n",
       "  <tbody>\n",
       "    <tr>\n",
       "      <th>1</th>\n",
       "      <td>0985197001</td>\n",
       "      <td>Cotton 100%</td>\n",
       "      <td>Slim fit</td>\n",
       "      <td>NaN</td>\n",
       "      <td>The model is 189cm/6'2\" and wears a size 32/32</td>\n",
       "      <td>0985197</td>\n",
       "      <td>001</td>\n",
       "    </tr>\n",
       "    <tr>\n",
       "      <th>2</th>\n",
       "      <td>0985197001</td>\n",
       "      <td>Cotton 98%, Spandex 2%</td>\n",
       "      <td>Slim fit</td>\n",
       "      <td>NaN</td>\n",
       "      <td>The model is 189cm/6'2\" and wears a size 32/32</td>\n",
       "      <td>0985197</td>\n",
       "      <td>001</td>\n",
       "    </tr>\n",
       "  </tbody>\n",
       "</table>\n",
       "</div>"
      ],
      "text/plain": [
       "  product_code             composition       fit  sustainable_materials  \\\n",
       "1   0985197001             Cotton 100%  Slim fit                    NaN   \n",
       "2   0985197001  Cotton 98%, Spandex 2%  Slim fit                    NaN   \n",
       "\n",
       "                                             size style_id color_id  \n",
       "1  The model is 189cm/6'2\" and wears a size 32/32  0985197      001  \n",
       "2  The model is 189cm/6'2\" and wears a size 32/32  0985197      001  "
      ]
     },
     "execution_count": 37,
     "metadata": {},
     "output_type": "execute_result"
    }
   ],
   "source": [
    "df_composition"
   ]
  },
  {
   "cell_type": "code",
   "execution_count": 38,
   "id": "f0072929",
   "metadata": {
    "ExecuteTime": {
     "end_time": "2021-11-23T14:45:05.088155Z",
     "start_time": "2021-11-23T14:45:05.083192Z"
    }
   },
   "outputs": [
    {
     "data": {
      "text/html": [
       "<div>\n",
       "<style scoped>\n",
       "    .dataframe tbody tr th:only-of-type {\n",
       "        vertical-align: middle;\n",
       "    }\n",
       "\n",
       "    .dataframe tbody tr th {\n",
       "        vertical-align: top;\n",
       "    }\n",
       "\n",
       "    .dataframe thead th {\n",
       "        text-align: right;\n",
       "    }\n",
       "</style>\n",
       "<table border=\"1\" class=\"dataframe\">\n",
       "  <thead>\n",
       "    <tr style=\"text-align: right;\">\n",
       "      <th></th>\n",
       "      <th>product_code</th>\n",
       "      <th>product_color</th>\n",
       "      <th>color_id</th>\n",
       "      <th>style_id</th>\n",
       "    </tr>\n",
       "  </thead>\n",
       "  <tbody>\n",
       "    <tr>\n",
       "      <th>0</th>\n",
       "      <td>0985197002</td>\n",
       "      <td>Midnight blue</td>\n",
       "      <td>002</td>\n",
       "      <td>0985197</td>\n",
       "    </tr>\n",
       "    <tr>\n",
       "      <th>1</th>\n",
       "      <td>0985197003</td>\n",
       "      <td>Denim blue</td>\n",
       "      <td>003</td>\n",
       "      <td>0985197</td>\n",
       "    </tr>\n",
       "    <tr>\n",
       "      <th>2</th>\n",
       "      <td>0985197004</td>\n",
       "      <td>Dark denim blue</td>\n",
       "      <td>004</td>\n",
       "      <td>0985197</td>\n",
       "    </tr>\n",
       "    <tr>\n",
       "      <th>3</th>\n",
       "      <td>0985197005</td>\n",
       "      <td>Dark denim blue</td>\n",
       "      <td>005</td>\n",
       "      <td>0985197</td>\n",
       "    </tr>\n",
       "    <tr>\n",
       "      <th>4</th>\n",
       "      <td>0985197006</td>\n",
       "      <td>Light denim blue</td>\n",
       "      <td>006</td>\n",
       "      <td>0985197</td>\n",
       "    </tr>\n",
       "    <tr>\n",
       "      <th>5</th>\n",
       "      <td>0985197007</td>\n",
       "      <td>Dark gray</td>\n",
       "      <td>007</td>\n",
       "      <td>0985197</td>\n",
       "    </tr>\n",
       "    <tr>\n",
       "      <th>6</th>\n",
       "      <td>0985197001</td>\n",
       "      <td>Black</td>\n",
       "      <td>001</td>\n",
       "      <td>0985197</td>\n",
       "    </tr>\n",
       "  </tbody>\n",
       "</table>\n",
       "</div>"
      ],
      "text/plain": [
       "  product_code     product_color color_id style_id\n",
       "0   0985197002     Midnight blue      002  0985197\n",
       "1   0985197003        Denim blue      003  0985197\n",
       "2   0985197004   Dark denim blue      004  0985197\n",
       "3   0985197005   Dark denim blue      005  0985197\n",
       "4   0985197006  Light denim blue      006  0985197\n",
       "5   0985197007         Dark gray      007  0985197\n",
       "6   0985197001             Black      001  0985197"
      ]
     },
     "execution_count": 38,
     "metadata": {},
     "output_type": "execute_result"
    }
   ],
   "source": [
    "df_color"
   ]
  },
  {
   "cell_type": "markdown",
   "id": "ae325f18",
   "metadata": {},
   "source": [
    "## Cleaning"
   ]
  },
  {
   "cell_type": "code",
   "execution_count": 4,
   "id": "098c9443",
   "metadata": {
    "ExecuteTime": {
     "end_time": "2021-11-23T13:46:25.227375Z",
     "start_time": "2021-11-23T13:46:25.223865Z"
    }
   },
   "outputs": [],
   "source": [
    "data = data_raw[['product_id', 'name', 'category', 'price',\n",
    "       'style_id', 'color_id', 'product_color', 'fit', 'composition', 'size',\n",
    "       'sustainable_materials', 'scrapy_datetime']]"
   ]
  },
  {
   "cell_type": "code",
   "execution_count": 5,
   "id": "df8bc7fc",
   "metadata": {
    "ExecuteTime": {
     "end_time": "2021-11-23T13:46:27.689799Z",
     "start_time": "2021-11-23T13:46:27.635222Z"
    }
   },
   "outputs": [
    {
     "ename": "AttributeError",
     "evalue": "'float' object has no attribute 'replace'",
     "output_type": "error",
     "traceback": [
      "\u001b[0;31m---------------------------------------------------------------------------\u001b[0m",
      "\u001b[0;31mAttributeError\u001b[0m                            Traceback (most recent call last)",
      "\u001b[0;32m/tmp/ipykernel_15270/2972674010.py\u001b[0m in \u001b[0;36m<module>\u001b[0;34m\u001b[0m\n\u001b[0;32m----> 1\u001b[0;31m \u001b[0mdata\u001b[0m\u001b[0;34m[\u001b[0m\u001b[0;34m'product_color'\u001b[0m\u001b[0;34m]\u001b[0m\u001b[0;34m.\u001b[0m\u001b[0mapply\u001b[0m\u001b[0;34m(\u001b[0m\u001b[0;32mlambda\u001b[0m \u001b[0mx\u001b[0m\u001b[0;34m:\u001b[0m \u001b[0mx\u001b[0m\u001b[0;34m.\u001b[0m\u001b[0mreplace\u001b[0m\u001b[0;34m(\u001b[0m\u001b[0;34m' '\u001b[0m\u001b[0;34m,\u001b[0m \u001b[0;34m'_'\u001b[0m\u001b[0;34m)\u001b[0m\u001b[0;34m)\u001b[0m\u001b[0;34m\u001b[0m\u001b[0;34m\u001b[0m\u001b[0m\n\u001b[0m",
      "\u001b[0;32m~/Documents/ds_ao_dev/env_ds_ao_dev/lib/python3.8/site-packages/pandas/core/series.py\u001b[0m in \u001b[0;36mapply\u001b[0;34m(self, func, convert_dtype, args, **kwargs)\u001b[0m\n\u001b[1;32m   4355\u001b[0m         \u001b[0mdtype\u001b[0m\u001b[0;34m:\u001b[0m \u001b[0mfloat64\u001b[0m\u001b[0;34m\u001b[0m\u001b[0;34m\u001b[0m\u001b[0m\n\u001b[1;32m   4356\u001b[0m         \"\"\"\n\u001b[0;32m-> 4357\u001b[0;31m         \u001b[0;32mreturn\u001b[0m \u001b[0mSeriesApply\u001b[0m\u001b[0;34m(\u001b[0m\u001b[0mself\u001b[0m\u001b[0;34m,\u001b[0m \u001b[0mfunc\u001b[0m\u001b[0;34m,\u001b[0m \u001b[0mconvert_dtype\u001b[0m\u001b[0;34m,\u001b[0m \u001b[0margs\u001b[0m\u001b[0;34m,\u001b[0m \u001b[0mkwargs\u001b[0m\u001b[0;34m)\u001b[0m\u001b[0;34m.\u001b[0m\u001b[0mapply\u001b[0m\u001b[0;34m(\u001b[0m\u001b[0;34m)\u001b[0m\u001b[0;34m\u001b[0m\u001b[0;34m\u001b[0m\u001b[0m\n\u001b[0m\u001b[1;32m   4358\u001b[0m \u001b[0;34m\u001b[0m\u001b[0m\n\u001b[1;32m   4359\u001b[0m     def _reduce(\n",
      "\u001b[0;32m~/Documents/ds_ao_dev/env_ds_ao_dev/lib/python3.8/site-packages/pandas/core/apply.py\u001b[0m in \u001b[0;36mapply\u001b[0;34m(self)\u001b[0m\n\u001b[1;32m   1041\u001b[0m             \u001b[0;32mreturn\u001b[0m \u001b[0mself\u001b[0m\u001b[0;34m.\u001b[0m\u001b[0mapply_str\u001b[0m\u001b[0;34m(\u001b[0m\u001b[0;34m)\u001b[0m\u001b[0;34m\u001b[0m\u001b[0;34m\u001b[0m\u001b[0m\n\u001b[1;32m   1042\u001b[0m \u001b[0;34m\u001b[0m\u001b[0m\n\u001b[0;32m-> 1043\u001b[0;31m         \u001b[0;32mreturn\u001b[0m \u001b[0mself\u001b[0m\u001b[0;34m.\u001b[0m\u001b[0mapply_standard\u001b[0m\u001b[0;34m(\u001b[0m\u001b[0;34m)\u001b[0m\u001b[0;34m\u001b[0m\u001b[0;34m\u001b[0m\u001b[0m\n\u001b[0m\u001b[1;32m   1044\u001b[0m \u001b[0;34m\u001b[0m\u001b[0m\n\u001b[1;32m   1045\u001b[0m     \u001b[0;32mdef\u001b[0m \u001b[0magg\u001b[0m\u001b[0;34m(\u001b[0m\u001b[0mself\u001b[0m\u001b[0;34m)\u001b[0m\u001b[0;34m:\u001b[0m\u001b[0;34m\u001b[0m\u001b[0;34m\u001b[0m\u001b[0m\n",
      "\u001b[0;32m~/Documents/ds_ao_dev/env_ds_ao_dev/lib/python3.8/site-packages/pandas/core/apply.py\u001b[0m in \u001b[0;36mapply_standard\u001b[0;34m(self)\u001b[0m\n\u001b[1;32m   1097\u001b[0m                 \u001b[0;31m# List[Union[Callable[..., Any], str]]]]]\"; expected\u001b[0m\u001b[0;34m\u001b[0m\u001b[0;34m\u001b[0m\u001b[0;34m\u001b[0m\u001b[0m\n\u001b[1;32m   1098\u001b[0m                 \u001b[0;31m# \"Callable[[Any], Any]\"\u001b[0m\u001b[0;34m\u001b[0m\u001b[0;34m\u001b[0m\u001b[0;34m\u001b[0m\u001b[0m\n\u001b[0;32m-> 1099\u001b[0;31m                 mapped = lib.map_infer(\n\u001b[0m\u001b[1;32m   1100\u001b[0m                     \u001b[0mvalues\u001b[0m\u001b[0;34m,\u001b[0m\u001b[0;34m\u001b[0m\u001b[0;34m\u001b[0m\u001b[0m\n\u001b[1;32m   1101\u001b[0m                     \u001b[0mf\u001b[0m\u001b[0;34m,\u001b[0m  \u001b[0;31m# type: ignore[arg-type]\u001b[0m\u001b[0;34m\u001b[0m\u001b[0;34m\u001b[0m\u001b[0m\n",
      "\u001b[0;32m~/Documents/ds_ao_dev/env_ds_ao_dev/lib/python3.8/site-packages/pandas/_libs/lib.pyx\u001b[0m in \u001b[0;36mpandas._libs.lib.map_infer\u001b[0;34m()\u001b[0m\n",
      "\u001b[0;32m/tmp/ipykernel_15270/2972674010.py\u001b[0m in \u001b[0;36m<lambda>\u001b[0;34m(x)\u001b[0m\n\u001b[0;32m----> 1\u001b[0;31m \u001b[0mdata\u001b[0m\u001b[0;34m[\u001b[0m\u001b[0;34m'product_color'\u001b[0m\u001b[0;34m]\u001b[0m\u001b[0;34m.\u001b[0m\u001b[0mapply\u001b[0m\u001b[0;34m(\u001b[0m\u001b[0;32mlambda\u001b[0m \u001b[0mx\u001b[0m\u001b[0;34m:\u001b[0m \u001b[0mx\u001b[0m\u001b[0;34m.\u001b[0m\u001b[0mreplace\u001b[0m\u001b[0;34m(\u001b[0m\u001b[0;34m' '\u001b[0m\u001b[0;34m,\u001b[0m \u001b[0;34m'_'\u001b[0m\u001b[0;34m)\u001b[0m\u001b[0;34m)\u001b[0m\u001b[0;34m\u001b[0m\u001b[0;34m\u001b[0m\u001b[0m\n\u001b[0m",
      "\u001b[0;31mAttributeError\u001b[0m: 'float' object has no attribute 'replace'"
     ]
    }
   ],
   "source": [
    "data['product_color'].apply(lambda x: x.replace(' ', '_'))"
   ]
  },
  {
   "cell_type": "code",
   "execution_count": 36,
   "id": "ea432fab",
   "metadata": {
    "ExecuteTime": {
     "end_time": "2021-11-23T13:44:16.979624Z",
     "start_time": "2021-11-23T13:44:16.974300Z"
    }
   },
   "outputs": [
    {
     "data": {
      "text/plain": [
       "0          midnight_blue\n",
       "1          midnight_blue\n",
       "2             denim_blue\n",
       "3             denim_blue\n",
       "4        dark_denim_blue\n",
       "              ...       \n",
       "1604    black_washed_out\n",
       "1605          denim_blue\n",
       "1606                blue\n",
       "1607          denim_blue\n",
       "1608       graphite_gray\n",
       "Name: product_color, Length: 1609, dtype: object"
      ]
     },
     "execution_count": 36,
     "metadata": {},
     "output_type": "execute_result"
    }
   ],
   "source": [
    "data['product_color'].str.replace(' ', '_').str.replace('/', '_').str.lower()"
   ]
  },
  {
   "cell_type": "code",
   "execution_count": 9,
   "id": "b6d6840d",
   "metadata": {
    "ExecuteTime": {
     "end_time": "2021-11-23T13:50:04.280892Z",
     "start_time": "2021-11-23T13:50:04.255952Z"
    }
   },
   "outputs": [
    {
     "ename": "KeyError",
     "evalue": "'size'",
     "output_type": "error",
     "traceback": [
      "\u001b[0;31m---------------------------------------------------------------------------\u001b[0m",
      "\u001b[0;31mKeyError\u001b[0m                                  Traceback (most recent call last)",
      "\u001b[0;32m~/Documents/ds_ao_dev/env_ds_ao_dev/lib/python3.8/site-packages/pandas/core/indexes/base.py\u001b[0m in \u001b[0;36mget_loc\u001b[0;34m(self, key, method, tolerance)\u001b[0m\n\u001b[1;32m   3360\u001b[0m             \u001b[0;32mtry\u001b[0m\u001b[0;34m:\u001b[0m\u001b[0;34m\u001b[0m\u001b[0;34m\u001b[0m\u001b[0m\n\u001b[0;32m-> 3361\u001b[0;31m                 \u001b[0;32mreturn\u001b[0m \u001b[0mself\u001b[0m\u001b[0;34m.\u001b[0m\u001b[0m_engine\u001b[0m\u001b[0;34m.\u001b[0m\u001b[0mget_loc\u001b[0m\u001b[0;34m(\u001b[0m\u001b[0mcasted_key\u001b[0m\u001b[0;34m)\u001b[0m\u001b[0;34m\u001b[0m\u001b[0;34m\u001b[0m\u001b[0m\n\u001b[0m\u001b[1;32m   3362\u001b[0m             \u001b[0;32mexcept\u001b[0m \u001b[0mKeyError\u001b[0m \u001b[0;32mas\u001b[0m \u001b[0merr\u001b[0m\u001b[0;34m:\u001b[0m\u001b[0;34m\u001b[0m\u001b[0;34m\u001b[0m\u001b[0m\n",
      "\u001b[0;32m~/Documents/ds_ao_dev/env_ds_ao_dev/lib/python3.8/site-packages/pandas/_libs/index.pyx\u001b[0m in \u001b[0;36mpandas._libs.index.IndexEngine.get_loc\u001b[0;34m()\u001b[0m\n",
      "\u001b[0;32m~/Documents/ds_ao_dev/env_ds_ao_dev/lib/python3.8/site-packages/pandas/_libs/index.pyx\u001b[0m in \u001b[0;36mpandas._libs.index.IndexEngine.get_loc\u001b[0;34m()\u001b[0m\n",
      "\u001b[0;32mpandas/_libs/hashtable_class_helper.pxi\u001b[0m in \u001b[0;36mpandas._libs.hashtable.PyObjectHashTable.get_item\u001b[0;34m()\u001b[0m\n",
      "\u001b[0;32mpandas/_libs/hashtable_class_helper.pxi\u001b[0m in \u001b[0;36mpandas._libs.hashtable.PyObjectHashTable.get_item\u001b[0;34m()\u001b[0m\n",
      "\u001b[0;31mKeyError\u001b[0m: 'size'",
      "\nThe above exception was the direct cause of the following exception:\n",
      "\u001b[0;31mKeyError\u001b[0m                                  Traceback (most recent call last)",
      "\u001b[0;32m/tmp/ipykernel_15270/2539218610.py\u001b[0m in \u001b[0;36m<module>\u001b[0;34m\u001b[0m\n\u001b[1;32m     16\u001b[0m \u001b[0;34m\u001b[0m\u001b[0m\n\u001b[1;32m     17\u001b[0m \u001b[0;31m# size number\u001b[0m\u001b[0;34m\u001b[0m\u001b[0;34m\u001b[0m\u001b[0;34m\u001b[0m\u001b[0m\n\u001b[0;32m---> 18\u001b[0;31m \u001b[0mdata\u001b[0m\u001b[0;34m[\u001b[0m\u001b[0;34m'size_number'\u001b[0m\u001b[0;34m]\u001b[0m \u001b[0;34m=\u001b[0m \u001b[0mdata\u001b[0m\u001b[0;34m[\u001b[0m\u001b[0;34m'size'\u001b[0m\u001b[0;34m]\u001b[0m\u001b[0;34m.\u001b[0m\u001b[0mapply\u001b[0m\u001b[0;34m(\u001b[0m\u001b[0;32mlambda\u001b[0m \u001b[0mx\u001b[0m\u001b[0;34m:\u001b[0m \u001b[0mre\u001b[0m\u001b[0;34m.\u001b[0m\u001b[0msearch\u001b[0m\u001b[0;34m(\u001b[0m\u001b[0;34m'(\\d{3})cm'\u001b[0m\u001b[0;34m,\u001b[0m \u001b[0mx\u001b[0m\u001b[0;34m)\u001b[0m\u001b[0;34m.\u001b[0m\u001b[0mgroup\u001b[0m\u001b[0;34m(\u001b[0m\u001b[0;36m1\u001b[0m\u001b[0;34m)\u001b[0m \u001b[0;32mif\u001b[0m \u001b[0mpd\u001b[0m\u001b[0;34m.\u001b[0m\u001b[0mnotnull\u001b[0m\u001b[0;34m(\u001b[0m\u001b[0mx\u001b[0m\u001b[0;34m)\u001b[0m \u001b[0;32melse\u001b[0m \u001b[0mx\u001b[0m\u001b[0;34m)\u001b[0m\u001b[0;34m\u001b[0m\u001b[0;34m\u001b[0m\u001b[0m\n\u001b[0m\u001b[1;32m     19\u001b[0m \u001b[0;34m\u001b[0m\u001b[0m\n\u001b[1;32m     20\u001b[0m \u001b[0;31m# size model\u001b[0m\u001b[0;34m\u001b[0m\u001b[0;34m\u001b[0m\u001b[0;34m\u001b[0m\u001b[0m\n",
      "\u001b[0;32m~/Documents/ds_ao_dev/env_ds_ao_dev/lib/python3.8/site-packages/pandas/core/frame.py\u001b[0m in \u001b[0;36m__getitem__\u001b[0;34m(self, key)\u001b[0m\n\u001b[1;32m   3456\u001b[0m             \u001b[0;32mif\u001b[0m \u001b[0mself\u001b[0m\u001b[0;34m.\u001b[0m\u001b[0mcolumns\u001b[0m\u001b[0;34m.\u001b[0m\u001b[0mnlevels\u001b[0m \u001b[0;34m>\u001b[0m \u001b[0;36m1\u001b[0m\u001b[0;34m:\u001b[0m\u001b[0;34m\u001b[0m\u001b[0;34m\u001b[0m\u001b[0m\n\u001b[1;32m   3457\u001b[0m                 \u001b[0;32mreturn\u001b[0m \u001b[0mself\u001b[0m\u001b[0;34m.\u001b[0m\u001b[0m_getitem_multilevel\u001b[0m\u001b[0;34m(\u001b[0m\u001b[0mkey\u001b[0m\u001b[0;34m)\u001b[0m\u001b[0;34m\u001b[0m\u001b[0;34m\u001b[0m\u001b[0m\n\u001b[0;32m-> 3458\u001b[0;31m             \u001b[0mindexer\u001b[0m \u001b[0;34m=\u001b[0m \u001b[0mself\u001b[0m\u001b[0;34m.\u001b[0m\u001b[0mcolumns\u001b[0m\u001b[0;34m.\u001b[0m\u001b[0mget_loc\u001b[0m\u001b[0;34m(\u001b[0m\u001b[0mkey\u001b[0m\u001b[0;34m)\u001b[0m\u001b[0;34m\u001b[0m\u001b[0;34m\u001b[0m\u001b[0m\n\u001b[0m\u001b[1;32m   3459\u001b[0m             \u001b[0;32mif\u001b[0m \u001b[0mis_integer\u001b[0m\u001b[0;34m(\u001b[0m\u001b[0mindexer\u001b[0m\u001b[0;34m)\u001b[0m\u001b[0;34m:\u001b[0m\u001b[0;34m\u001b[0m\u001b[0;34m\u001b[0m\u001b[0m\n\u001b[1;32m   3460\u001b[0m                 \u001b[0mindexer\u001b[0m \u001b[0;34m=\u001b[0m \u001b[0;34m[\u001b[0m\u001b[0mindexer\u001b[0m\u001b[0;34m]\u001b[0m\u001b[0;34m\u001b[0m\u001b[0;34m\u001b[0m\u001b[0m\n",
      "\u001b[0;32m~/Documents/ds_ao_dev/env_ds_ao_dev/lib/python3.8/site-packages/pandas/core/indexes/base.py\u001b[0m in \u001b[0;36mget_loc\u001b[0;34m(self, key, method, tolerance)\u001b[0m\n\u001b[1;32m   3361\u001b[0m                 \u001b[0;32mreturn\u001b[0m \u001b[0mself\u001b[0m\u001b[0;34m.\u001b[0m\u001b[0m_engine\u001b[0m\u001b[0;34m.\u001b[0m\u001b[0mget_loc\u001b[0m\u001b[0;34m(\u001b[0m\u001b[0mcasted_key\u001b[0m\u001b[0;34m)\u001b[0m\u001b[0;34m\u001b[0m\u001b[0;34m\u001b[0m\u001b[0m\n\u001b[1;32m   3362\u001b[0m             \u001b[0;32mexcept\u001b[0m \u001b[0mKeyError\u001b[0m \u001b[0;32mas\u001b[0m \u001b[0merr\u001b[0m\u001b[0;34m:\u001b[0m\u001b[0;34m\u001b[0m\u001b[0;34m\u001b[0m\u001b[0m\n\u001b[0;32m-> 3363\u001b[0;31m                 \u001b[0;32mraise\u001b[0m \u001b[0mKeyError\u001b[0m\u001b[0;34m(\u001b[0m\u001b[0mkey\u001b[0m\u001b[0;34m)\u001b[0m \u001b[0;32mfrom\u001b[0m \u001b[0merr\u001b[0m\u001b[0;34m\u001b[0m\u001b[0;34m\u001b[0m\u001b[0m\n\u001b[0m\u001b[1;32m   3364\u001b[0m \u001b[0;34m\u001b[0m\u001b[0m\n\u001b[1;32m   3365\u001b[0m         \u001b[0;32mif\u001b[0m \u001b[0mis_scalar\u001b[0m\u001b[0;34m(\u001b[0m\u001b[0mkey\u001b[0m\u001b[0;34m)\u001b[0m \u001b[0;32mand\u001b[0m \u001b[0misna\u001b[0m\u001b[0;34m(\u001b[0m\u001b[0mkey\u001b[0m\u001b[0;34m)\u001b[0m \u001b[0;32mand\u001b[0m \u001b[0;32mnot\u001b[0m \u001b[0mself\u001b[0m\u001b[0;34m.\u001b[0m\u001b[0mhasnans\u001b[0m\u001b[0;34m:\u001b[0m\u001b[0;34m\u001b[0m\u001b[0;34m\u001b[0m\u001b[0m\n",
      "\u001b[0;31mKeyError\u001b[0m: 'size'"
     ]
    }
   ],
   "source": [
    "# name\n",
    "data['name'] = data['name'].str.lower().str.replace(' ', '_')\n",
    "\n",
    "# price\n",
    "data['price'] = data['price'].apply(lambda x: float(x.replace('$ ', '')))\n",
    "\n",
    "# scrapy_datetime\n",
    "data['scrapy_datetime'] = pd.to_datetime(data['scrapy_datetime'], format='%Y-%m-%d %H-%M-%S')\n",
    "\n",
    "# fit\n",
    "data['fit'] = data['fit'].str.lower().str.replace(' ', '_')\n",
    "\n",
    "# product color\n",
    "#data['product_color'] = data['product_color'].apply(lambda x: x.replace(' ', '_').replace('/', '_').lower())\n",
    "data['product_color'] = data['product_color'].str.replace(' ', '_').str.replace('/', '_').str.lower()\n",
    "\n",
    "# size number\n",
    "data['size_number'] = data['size'].apply(lambda x: re.search('(\\d{3})cm', x).group(1) if pd.notnull(x) else x)\n",
    "\n",
    "# size model\n",
    "data['size_model'] = data['size'].apply(lambda x: re.search('\\d{2}/\\d{2}', x).group(0) if pd.notnull(x) else x)\n",
    "\n",
    "# drop columns\n",
    "data.drop(columns=['size', 'sustainable_materials'], inplace=True)\n",
    "\n",
    "# Ignore composition equal to Pocket lining, Shell and Pocket\n",
    "data = data[~data['composition'].str.contains('Pocket lining', na=False)]\n",
    "data = data[~data['composition'].str.contains('Shell', na=False)]\n",
    "data = data[~data['composition'].str.contains('Pocket', na=False)]\n",
    "data = data[~data['composition'].str.contains('Lining', na=False)]\n",
    "\n",
    "# drop duplicates\n",
    "data.drop_duplicates(inplace=True)\n",
    "\n",
    "# Reset index\n",
    "data.reset_index(drop=True, inplace=True)"
   ]
  },
  {
   "cell_type": "code",
   "execution_count": 10,
   "id": "9c128aa0",
   "metadata": {
    "ExecuteTime": {
     "end_time": "2021-11-23T13:50:05.444923Z",
     "start_time": "2021-11-23T13:50:05.425707Z"
    }
   },
   "outputs": [
    {
     "ename": "KeyError",
     "evalue": "'composition'",
     "output_type": "error",
     "traceback": [
      "\u001b[0;31m---------------------------------------------------------------------------\u001b[0m",
      "\u001b[0;31mKeyError\u001b[0m                                  Traceback (most recent call last)",
      "\u001b[0;32m~/Documents/ds_ao_dev/env_ds_ao_dev/lib/python3.8/site-packages/pandas/core/indexes/base.py\u001b[0m in \u001b[0;36mget_loc\u001b[0;34m(self, key, method, tolerance)\u001b[0m\n\u001b[1;32m   3360\u001b[0m             \u001b[0;32mtry\u001b[0m\u001b[0;34m:\u001b[0m\u001b[0;34m\u001b[0m\u001b[0;34m\u001b[0m\u001b[0m\n\u001b[0;32m-> 3361\u001b[0;31m                 \u001b[0;32mreturn\u001b[0m \u001b[0mself\u001b[0m\u001b[0;34m.\u001b[0m\u001b[0m_engine\u001b[0m\u001b[0;34m.\u001b[0m\u001b[0mget_loc\u001b[0m\u001b[0;34m(\u001b[0m\u001b[0mcasted_key\u001b[0m\u001b[0;34m)\u001b[0m\u001b[0;34m\u001b[0m\u001b[0;34m\u001b[0m\u001b[0m\n\u001b[0m\u001b[1;32m   3362\u001b[0m             \u001b[0;32mexcept\u001b[0m \u001b[0mKeyError\u001b[0m \u001b[0;32mas\u001b[0m \u001b[0merr\u001b[0m\u001b[0;34m:\u001b[0m\u001b[0;34m\u001b[0m\u001b[0;34m\u001b[0m\u001b[0m\n",
      "\u001b[0;32m~/Documents/ds_ao_dev/env_ds_ao_dev/lib/python3.8/site-packages/pandas/_libs/index.pyx\u001b[0m in \u001b[0;36mpandas._libs.index.IndexEngine.get_loc\u001b[0;34m()\u001b[0m\n",
      "\u001b[0;32m~/Documents/ds_ao_dev/env_ds_ao_dev/lib/python3.8/site-packages/pandas/_libs/index.pyx\u001b[0m in \u001b[0;36mpandas._libs.index.IndexEngine.get_loc\u001b[0;34m()\u001b[0m\n",
      "\u001b[0;32mpandas/_libs/hashtable_class_helper.pxi\u001b[0m in \u001b[0;36mpandas._libs.hashtable.PyObjectHashTable.get_item\u001b[0;34m()\u001b[0m\n",
      "\u001b[0;32mpandas/_libs/hashtable_class_helper.pxi\u001b[0m in \u001b[0;36mpandas._libs.hashtable.PyObjectHashTable.get_item\u001b[0;34m()\u001b[0m\n",
      "\u001b[0;31mKeyError\u001b[0m: 'composition'",
      "\nThe above exception was the direct cause of the following exception:\n",
      "\u001b[0;31mKeyError\u001b[0m                                  Traceback (most recent call last)",
      "\u001b[0;32m/tmp/ipykernel_15270/2799686454.py\u001b[0m in \u001b[0;36m<module>\u001b[0;34m\u001b[0m\n\u001b[1;32m      2\u001b[0m \u001b[0mdf_ref\u001b[0m \u001b[0;34m=\u001b[0m \u001b[0mpd\u001b[0m\u001b[0;34m.\u001b[0m\u001b[0mDataFrame\u001b[0m\u001b[0;34m(\u001b[0m\u001b[0mindex\u001b[0m\u001b[0;34m=\u001b[0m\u001b[0mnp\u001b[0m\u001b[0;34m.\u001b[0m\u001b[0marange\u001b[0m\u001b[0;34m(\u001b[0m\u001b[0mlen\u001b[0m\u001b[0;34m(\u001b[0m\u001b[0mdata\u001b[0m\u001b[0;34m)\u001b[0m\u001b[0;34m)\u001b[0m\u001b[0;34m,\u001b[0m \u001b[0mcolumns\u001b[0m\u001b[0;34m=\u001b[0m\u001b[0;34m[\u001b[0m\u001b[0;34m'cotton'\u001b[0m\u001b[0;34m]\u001b[0m\u001b[0;34m)\u001b[0m\u001b[0;34m\u001b[0m\u001b[0;34m\u001b[0m\u001b[0m\n\u001b[1;32m      3\u001b[0m \u001b[0;34m\u001b[0m\u001b[0m\n\u001b[0;32m----> 4\u001b[0;31m \u001b[0mdf_composition\u001b[0m \u001b[0;34m=\u001b[0m \u001b[0mdata\u001b[0m\u001b[0;34m[\u001b[0m\u001b[0;34m'composition'\u001b[0m\u001b[0;34m]\u001b[0m\u001b[0;34m.\u001b[0m\u001b[0mstr\u001b[0m\u001b[0;34m.\u001b[0m\u001b[0msplit\u001b[0m\u001b[0;34m(\u001b[0m\u001b[0;34m','\u001b[0m\u001b[0;34m,\u001b[0m \u001b[0mexpand\u001b[0m\u001b[0;34m=\u001b[0m\u001b[0;32mTrue\u001b[0m\u001b[0;34m)\u001b[0m\u001b[0;34m.\u001b[0m\u001b[0mreset_index\u001b[0m\u001b[0;34m(\u001b[0m\u001b[0mdrop\u001b[0m\u001b[0;34m=\u001b[0m\u001b[0;32mTrue\u001b[0m\u001b[0;34m)\u001b[0m\u001b[0;34m\u001b[0m\u001b[0;34m\u001b[0m\u001b[0m\n\u001b[0m\u001b[1;32m      5\u001b[0m \u001b[0mdf_composition\u001b[0m \u001b[0;34m=\u001b[0m \u001b[0mdf_composition\u001b[0m\u001b[0;34m.\u001b[0m\u001b[0mapply\u001b[0m\u001b[0;34m(\u001b[0m\u001b[0;32mlambda\u001b[0m \u001b[0mx\u001b[0m\u001b[0;34m:\u001b[0m \u001b[0mx\u001b[0m\u001b[0;34m.\u001b[0m\u001b[0mstr\u001b[0m\u001b[0;34m.\u001b[0m\u001b[0mstrip\u001b[0m\u001b[0;34m(\u001b[0m\u001b[0;34m)\u001b[0m\u001b[0;34m)\u001b[0m\u001b[0;34m\u001b[0m\u001b[0;34m\u001b[0m\u001b[0m\n\u001b[1;32m      6\u001b[0m \u001b[0;34m\u001b[0m\u001b[0m\n",
      "\u001b[0;32m~/Documents/ds_ao_dev/env_ds_ao_dev/lib/python3.8/site-packages/pandas/core/frame.py\u001b[0m in \u001b[0;36m__getitem__\u001b[0;34m(self, key)\u001b[0m\n\u001b[1;32m   3456\u001b[0m             \u001b[0;32mif\u001b[0m \u001b[0mself\u001b[0m\u001b[0;34m.\u001b[0m\u001b[0mcolumns\u001b[0m\u001b[0;34m.\u001b[0m\u001b[0mnlevels\u001b[0m \u001b[0;34m>\u001b[0m \u001b[0;36m1\u001b[0m\u001b[0;34m:\u001b[0m\u001b[0;34m\u001b[0m\u001b[0;34m\u001b[0m\u001b[0m\n\u001b[1;32m   3457\u001b[0m                 \u001b[0;32mreturn\u001b[0m \u001b[0mself\u001b[0m\u001b[0;34m.\u001b[0m\u001b[0m_getitem_multilevel\u001b[0m\u001b[0;34m(\u001b[0m\u001b[0mkey\u001b[0m\u001b[0;34m)\u001b[0m\u001b[0;34m\u001b[0m\u001b[0;34m\u001b[0m\u001b[0m\n\u001b[0;32m-> 3458\u001b[0;31m             \u001b[0mindexer\u001b[0m \u001b[0;34m=\u001b[0m \u001b[0mself\u001b[0m\u001b[0;34m.\u001b[0m\u001b[0mcolumns\u001b[0m\u001b[0;34m.\u001b[0m\u001b[0mget_loc\u001b[0m\u001b[0;34m(\u001b[0m\u001b[0mkey\u001b[0m\u001b[0;34m)\u001b[0m\u001b[0;34m\u001b[0m\u001b[0;34m\u001b[0m\u001b[0m\n\u001b[0m\u001b[1;32m   3459\u001b[0m             \u001b[0;32mif\u001b[0m \u001b[0mis_integer\u001b[0m\u001b[0;34m(\u001b[0m\u001b[0mindexer\u001b[0m\u001b[0;34m)\u001b[0m\u001b[0;34m:\u001b[0m\u001b[0;34m\u001b[0m\u001b[0;34m\u001b[0m\u001b[0m\n\u001b[1;32m   3460\u001b[0m                 \u001b[0mindexer\u001b[0m \u001b[0;34m=\u001b[0m \u001b[0;34m[\u001b[0m\u001b[0mindexer\u001b[0m\u001b[0;34m]\u001b[0m\u001b[0;34m\u001b[0m\u001b[0;34m\u001b[0m\u001b[0m\n",
      "\u001b[0;32m~/Documents/ds_ao_dev/env_ds_ao_dev/lib/python3.8/site-packages/pandas/core/indexes/base.py\u001b[0m in \u001b[0;36mget_loc\u001b[0;34m(self, key, method, tolerance)\u001b[0m\n\u001b[1;32m   3361\u001b[0m                 \u001b[0;32mreturn\u001b[0m \u001b[0mself\u001b[0m\u001b[0;34m.\u001b[0m\u001b[0m_engine\u001b[0m\u001b[0;34m.\u001b[0m\u001b[0mget_loc\u001b[0m\u001b[0;34m(\u001b[0m\u001b[0mcasted_key\u001b[0m\u001b[0;34m)\u001b[0m\u001b[0;34m\u001b[0m\u001b[0;34m\u001b[0m\u001b[0m\n\u001b[1;32m   3362\u001b[0m             \u001b[0;32mexcept\u001b[0m \u001b[0mKeyError\u001b[0m \u001b[0;32mas\u001b[0m \u001b[0merr\u001b[0m\u001b[0;34m:\u001b[0m\u001b[0;34m\u001b[0m\u001b[0;34m\u001b[0m\u001b[0m\n\u001b[0;32m-> 3363\u001b[0;31m                 \u001b[0;32mraise\u001b[0m \u001b[0mKeyError\u001b[0m\u001b[0;34m(\u001b[0m\u001b[0mkey\u001b[0m\u001b[0;34m)\u001b[0m \u001b[0;32mfrom\u001b[0m \u001b[0merr\u001b[0m\u001b[0;34m\u001b[0m\u001b[0;34m\u001b[0m\u001b[0m\n\u001b[0m\u001b[1;32m   3364\u001b[0m \u001b[0;34m\u001b[0m\u001b[0m\n\u001b[1;32m   3365\u001b[0m         \u001b[0;32mif\u001b[0m \u001b[0mis_scalar\u001b[0m\u001b[0;34m(\u001b[0m\u001b[0mkey\u001b[0m\u001b[0;34m)\u001b[0m \u001b[0;32mand\u001b[0m \u001b[0misna\u001b[0m\u001b[0;34m(\u001b[0m\u001b[0mkey\u001b[0m\u001b[0;34m)\u001b[0m \u001b[0;32mand\u001b[0m \u001b[0;32mnot\u001b[0m \u001b[0mself\u001b[0m\u001b[0;34m.\u001b[0m\u001b[0mhasnans\u001b[0m\u001b[0;34m:\u001b[0m\u001b[0;34m\u001b[0m\u001b[0;34m\u001b[0m\u001b[0m\n",
      "\u001b[0;31mKeyError\u001b[0m: 'composition'"
     ]
    }
   ],
   "source": [
    "# Decomposing the column composition\n",
    "df_ref = pd.DataFrame(index=np.arange(len(data)), columns=['cotton'])\n",
    "\n",
    "df_composition = data['composition'].str.split(',', expand=True).reset_index(drop=True)\n",
    "df_composition = df_composition.apply(lambda x: x.str.strip())\n",
    "\n",
    "# cotton\n",
    "df_ref['cotton'] = df_composition[0]\n",
    "\n",
    "# # spandex\n",
    "df_ref['spandex'] = pd.Series(df_composition[df_composition[1].str.contains('Spandex', na=True)][1], name='spandex')\n",
    "spandex_2 = pd.Series(df_composition[df_composition[2].str.contains('Spandex', na=True)][2], name='spandex_2')\n",
    "\n",
    "# Assign spandex_2 with combine first\n",
    "df_ref['spandex'] = df_ref['spandex'].combine_first(spandex_2)\n",
    "# assigning values of spandex_2 in spandex\n",
    "#for i in range(len(df_ref)):\n",
    "#    if pd.isnull(df_ref['spandex'][i]) and pd.notnull(df_ref['spandex_2'][i]):\n",
    "#        df_ref['spandex'][i] = df_ref['spandex_2'][i]\n",
    "\n",
    "#elasterell-p\n",
    "df_elasterell = pd.Series(df_composition[df_composition[1].str.contains('Elasterell-P', na=True)][1], name='elasterell-p')\n",
    "df_ref = pd.concat([df_ref, df_elasterell], axis=1)\n",
    "\n",
    "#polyester\n",
    "df_polyester = pd.Series(df_composition[df_composition[1].str.contains('Polyester', na=True)][1], name='polyester')\n",
    "df_ref = pd.concat([df_ref, df_polyester], axis=1)\n",
    "\n",
    "#Join with new composition columns\n",
    "data.reset_index(drop=True, inplace=True)\n",
    "data = pd.concat([data, df_ref], axis=1)\n",
    "\n",
    "#Composition with only numbers\n",
    "data['cotton'] = data['cotton'].apply(lambda x: float(re.search('\\d+', x).group(0)) / 100 if pd.notnull(x) else x)\n",
    "data['spandex'] = data['spandex'].apply(lambda x: float(re.search('\\d+', x).group(0)) / 100 if pd.notnull(x) else x)\n",
    "data['elasterell-p'] = data['elasterell-p'].apply(lambda x: float(re.search('\\d+', x).group(0)) / 100 if pd.notnull(x) else x)\n",
    "data['polyester'] = data['polyester'].apply(lambda x: float(re.search('\\d+', x).group(0)) / 100 if pd.notnull(x) else x)\n",
    "\n",
    "#Drop original composition column\n",
    "data.drop(columns='composition', inplace=True)\n",
    "\n",
    "# Drop duplicates\n",
    "data.drop_duplicates(inplace=True)"
   ]
  },
  {
   "cell_type": "code",
   "execution_count": 11,
   "id": "019b1410",
   "metadata": {
    "ExecuteTime": {
     "end_time": "2021-11-23T13:50:09.936968Z",
     "start_time": "2021-11-23T13:50:09.927732Z"
    }
   },
   "outputs": [
    {
     "data": {
      "text/html": [
       "<div>\n",
       "<style scoped>\n",
       "    .dataframe tbody tr th:only-of-type {\n",
       "        vertical-align: middle;\n",
       "    }\n",
       "\n",
       "    .dataframe tbody tr th {\n",
       "        vertical-align: top;\n",
       "    }\n",
       "\n",
       "    .dataframe thead th {\n",
       "        text-align: right;\n",
       "    }\n",
       "</style>\n",
       "<table border=\"1\" class=\"dataframe\">\n",
       "  <thead>\n",
       "    <tr style=\"text-align: right;\">\n",
       "      <th></th>\n",
       "      <th>product_id</th>\n",
       "      <th>name</th>\n",
       "      <th>category</th>\n",
       "      <th>price</th>\n",
       "      <th>style_id</th>\n",
       "      <th>color_id</th>\n",
       "      <th>product_color</th>\n",
       "      <th>fit</th>\n",
       "      <th>scrapy_datetime</th>\n",
       "      <th>size_number</th>\n",
       "      <th>size_model</th>\n",
       "      <th>cotton</th>\n",
       "      <th>spandex</th>\n",
       "      <th>elasterell-p</th>\n",
       "      <th>polyester</th>\n",
       "    </tr>\n",
       "  </thead>\n",
       "  <tbody>\n",
       "    <tr>\n",
       "      <th>0</th>\n",
       "      <td>0690449036</td>\n",
       "      <td>skinny_jeans</td>\n",
       "      <td>men_jeans_ripped</td>\n",
       "      <td>39.99</td>\n",
       "      <td>0690449</td>\n",
       "      <td>036</td>\n",
       "      <td>light_denim_blue_trashed</td>\n",
       "      <td>skinny_fit</td>\n",
       "      <td>2021-11-23 10:45:50</td>\n",
       "      <td>188</td>\n",
       "      <td>31/30</td>\n",
       "      <td>0.98</td>\n",
       "      <td>0.02</td>\n",
       "      <td>NaN</td>\n",
       "      <td>NaN</td>\n",
       "    </tr>\n",
       "    <tr>\n",
       "      <th>1</th>\n",
       "      <td>0690449036</td>\n",
       "      <td>skinny_jeans</td>\n",
       "      <td>men_jeans_ripped</td>\n",
       "      <td>39.99</td>\n",
       "      <td>0690449</td>\n",
       "      <td>036</td>\n",
       "      <td>denim_blue</td>\n",
       "      <td>skinny_fit</td>\n",
       "      <td>2021-11-23 10:45:50</td>\n",
       "      <td>188</td>\n",
       "      <td>31/30</td>\n",
       "      <td>0.98</td>\n",
       "      <td>0.02</td>\n",
       "      <td>NaN</td>\n",
       "      <td>NaN</td>\n",
       "    </tr>\n",
       "    <tr>\n",
       "      <th>2</th>\n",
       "      <td>0690449036</td>\n",
       "      <td>skinny_jeans</td>\n",
       "      <td>men_jeans_ripped</td>\n",
       "      <td>39.99</td>\n",
       "      <td>0690449</td>\n",
       "      <td>036</td>\n",
       "      <td>black_washed</td>\n",
       "      <td>skinny_fit</td>\n",
       "      <td>2021-11-23 10:45:50</td>\n",
       "      <td>188</td>\n",
       "      <td>31/30</td>\n",
       "      <td>0.98</td>\n",
       "      <td>0.02</td>\n",
       "      <td>NaN</td>\n",
       "      <td>NaN</td>\n",
       "    </tr>\n",
       "    <tr>\n",
       "      <th>3</th>\n",
       "      <td>0690449036</td>\n",
       "      <td>skinny_jeans</td>\n",
       "      <td>men_jeans_ripped</td>\n",
       "      <td>39.99</td>\n",
       "      <td>0690449</td>\n",
       "      <td>036</td>\n",
       "      <td>light_denim_blue</td>\n",
       "      <td>skinny_fit</td>\n",
       "      <td>2021-11-23 10:45:50</td>\n",
       "      <td>188</td>\n",
       "      <td>31/30</td>\n",
       "      <td>0.98</td>\n",
       "      <td>0.02</td>\n",
       "      <td>NaN</td>\n",
       "      <td>NaN</td>\n",
       "    </tr>\n",
       "    <tr>\n",
       "      <th>4</th>\n",
       "      <td>0690449036</td>\n",
       "      <td>skinny_jeans</td>\n",
       "      <td>men_jeans_ripped</td>\n",
       "      <td>39.99</td>\n",
       "      <td>0690449</td>\n",
       "      <td>036</td>\n",
       "      <td>black_washed_out</td>\n",
       "      <td>skinny_fit</td>\n",
       "      <td>2021-11-23 10:45:50</td>\n",
       "      <td>188</td>\n",
       "      <td>31/30</td>\n",
       "      <td>0.98</td>\n",
       "      <td>0.02</td>\n",
       "      <td>NaN</td>\n",
       "      <td>NaN</td>\n",
       "    </tr>\n",
       "  </tbody>\n",
       "</table>\n",
       "</div>"
      ],
      "text/plain": [
       "   product_id          name          category  price style_id color_id  \\\n",
       "0  0690449036  skinny_jeans  men_jeans_ripped  39.99  0690449      036   \n",
       "1  0690449036  skinny_jeans  men_jeans_ripped  39.99  0690449      036   \n",
       "2  0690449036  skinny_jeans  men_jeans_ripped  39.99  0690449      036   \n",
       "3  0690449036  skinny_jeans  men_jeans_ripped  39.99  0690449      036   \n",
       "4  0690449036  skinny_jeans  men_jeans_ripped  39.99  0690449      036   \n",
       "\n",
       "              product_color         fit     scrapy_datetime size_number  \\\n",
       "0  light_denim_blue_trashed  skinny_fit 2021-11-23 10:45:50         188   \n",
       "1                denim_blue  skinny_fit 2021-11-23 10:45:50         188   \n",
       "2              black_washed  skinny_fit 2021-11-23 10:45:50         188   \n",
       "3          light_denim_blue  skinny_fit 2021-11-23 10:45:50         188   \n",
       "4          black_washed_out  skinny_fit 2021-11-23 10:45:50         188   \n",
       "\n",
       "  size_model  cotton  spandex  elasterell-p  polyester  \n",
       "0      31/30    0.98     0.02           NaN        NaN  \n",
       "1      31/30    0.98     0.02           NaN        NaN  \n",
       "2      31/30    0.98     0.02           NaN        NaN  \n",
       "3      31/30    0.98     0.02           NaN        NaN  \n",
       "4      31/30    0.98     0.02           NaN        NaN  "
      ]
     },
     "execution_count": 11,
     "metadata": {},
     "output_type": "execute_result"
    }
   ],
   "source": [
    "data.head()"
   ]
  }
 ],
 "metadata": {
  "hide_input": false,
  "kernelspec": {
   "display_name": "env_ds_ao_dev",
   "language": "python",
   "name": "env_ds_ao_dev"
  },
  "language_info": {
   "codemirror_mode": {
    "name": "ipython",
    "version": 3
   },
   "file_extension": ".py",
   "mimetype": "text/x-python",
   "name": "python",
   "nbconvert_exporter": "python",
   "pygments_lexer": "ipython3",
   "version": "3.8.10"
  },
  "toc": {
   "base_numbering": 1,
   "nav_menu": {},
   "number_sections": true,
   "sideBar": true,
   "skip_h1_title": false,
   "title_cell": "Table of Contents",
   "title_sidebar": "Contents",
   "toc_cell": false,
   "toc_position": {
    "height": "578.4px",
    "left": "22px",
    "top": "73.8px",
    "width": "352.2px"
   },
   "toc_section_display": true,
   "toc_window_display": true
  }
 },
 "nbformat": 4,
 "nbformat_minor": 5
}

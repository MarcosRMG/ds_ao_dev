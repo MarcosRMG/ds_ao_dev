{
 "cells": [
  {
   "cell_type": "markdown",
   "id": "04cbacae",
   "metadata": {},
   "source": [
    "# Enviroment"
   ]
  },
  {
   "cell_type": "markdown",
   "id": "ad18336f",
   "metadata": {
    "ExecuteTime": {
     "end_time": "2021-10-11T14:55:37.977044Z",
     "start_time": "2021-10-11T14:55:37.975198Z"
    },
    "heading_collapsed": true
   },
   "source": [
    "## Installations"
   ]
  },
  {
   "cell_type": "code",
   "execution_count": 2,
   "id": "ab8664a5",
   "metadata": {
    "ExecuteTime": {
     "end_time": "2021-10-12T12:26:19.741582Z",
     "start_time": "2021-10-12T12:26:18.986262Z"
    },
    "hidden": true
   },
   "outputs": [
    {
     "name": "stdout",
     "output_type": "stream",
     "text": [
      "Requirement already satisfied: pandas in /home/marcos/Documents/ds_ao_dev/env_ds_dev/lib/python3.8/site-packages (1.3.3)\n",
      "Requirement already satisfied: pytz>=2017.3 in /home/marcos/Documents/ds_ao_dev/env_ds_dev/lib/python3.8/site-packages (from pandas) (2021.3)\n",
      "Requirement already satisfied: python-dateutil>=2.7.3 in /home/marcos/Documents/ds_ao_dev/env_ds_dev/lib/python3.8/site-packages (from pandas) (2.8.2)\n",
      "Requirement already satisfied: numpy>=1.17.3 in /home/marcos/Documents/ds_ao_dev/env_ds_dev/lib/python3.8/site-packages (from pandas) (1.21.2)\n",
      "Requirement already satisfied: six>=1.5 in /home/marcos/Documents/ds_ao_dev/env_ds_dev/lib/python3.8/site-packages (from python-dateutil>=2.7.3->pandas) (1.16.0)\n"
     ]
    }
   ],
   "source": [
    "#pip install beautifulsoup4\n",
    "#!pip install pandas"
   ]
  },
  {
   "cell_type": "markdown",
   "id": "85d84659",
   "metadata": {
    "ExecuteTime": {
     "end_time": "2021-10-11T14:51:30.814886Z",
     "start_time": "2021-10-11T14:51:30.812663Z"
    }
   },
   "source": [
    "## Imports"
   ]
  },
  {
   "cell_type": "code",
   "execution_count": 42,
   "id": "40a9663d",
   "metadata": {
    "ExecuteTime": {
     "end_time": "2021-10-12T13:49:57.607788Z",
     "start_time": "2021-10-12T13:49:57.605393Z"
    }
   },
   "outputs": [],
   "source": [
    "from bs4 import BeautifulSoup\n",
    "import requests\n",
    "import pandas as pd\n",
    "from datetime import datetime\n",
    "import numpy as np"
   ]
  },
  {
   "cell_type": "markdown",
   "id": "10c7d93d",
   "metadata": {},
   "source": [
    "# Web Scraping"
   ]
  },
  {
   "cell_type": "markdown",
   "id": "25e60342",
   "metadata": {},
   "source": [
    "## Beautifull Soup"
   ]
  },
  {
   "cell_type": "markdown",
   "id": "33ccc28e",
   "metadata": {},
   "source": [
    "### Step 1"
   ]
  },
  {
   "cell_type": "code",
   "execution_count": 4,
   "id": "bbc08423",
   "metadata": {
    "ExecuteTime": {
     "end_time": "2021-10-12T12:49:43.334339Z",
     "start_time": "2021-10-12T12:49:41.704680Z"
    }
   },
   "outputs": [],
   "source": [
    "# Request informations\n",
    "url = 'https://www2.hm.com/en_us/men/products/jeans.html'\n",
    "\n",
    "headers = {'User-Agent': 'Mozilla/5.0 (X11; Linux x86_64) AppleWebKit/537.36 (KHTML, like Gecko) Chrome/94.0.4606.81 Safari/537.36'}\n",
    "page = requests.get(url, headers=headers)\n",
    "\n",
    "# BeautifulSoup html page\n",
    "soup = BeautifulSoup(page.text, 'html.parser')\n",
    "\n",
    "# BeautifulSoup html products content\n",
    "products = soup.find('ul', class_=\"products-listing small\")\n",
    "product_list = products.find_all('article', class_='hm-product-item')\n",
    "\n",
    "# product id\n",
    "product_id = [p.get('data-articlecode') for p in product_list]\n",
    "\n",
    "# product category\n",
    "product_category = [p.get('data-category') for p in product_list]\n",
    "\n",
    "# product names\n",
    "products_names = products.find_all('a', class_ = 'link')\n",
    "products_names = [p.get_text() for p in products_names]\n",
    "\n",
    "# product price\n",
    "product_price = products.find_all('span', class_ = 'price regular')\n",
    "product_price = [p.get_text() for p in product_price]\n",
    "\n",
    "# DataFrame with scrapy data\n",
    "data = pd.DataFrame([product_id, products_names, product_category, product_price]).T\n",
    "data.columns = ['product_id', 'name', 'category', 'price']\n",
    "data['scrapy_datetime'] = datetime.now().strftime('%Y-%m-%d %H-%M-%S')"
   ]
  },
  {
   "cell_type": "code",
   "execution_count": 11,
   "id": "46422562",
   "metadata": {
    "ExecuteTime": {
     "end_time": "2021-10-12T12:51:50.725408Z",
     "start_time": "2021-10-12T12:51:50.723030Z"
    }
   },
   "outputs": [],
   "source": [
    "# product color"
   ]
  },
  {
   "cell_type": "code",
   "execution_count": 12,
   "id": "6dc5c534",
   "metadata": {
    "ExecuteTime": {
     "end_time": "2021-10-12T12:51:56.281588Z",
     "start_time": "2021-10-12T12:51:56.279641Z"
    }
   },
   "outputs": [],
   "source": [
    "# product composition"
   ]
  },
  {
   "cell_type": "markdown",
   "id": "82abdcf8",
   "metadata": {
    "ExecuteTime": {
     "end_time": "2021-10-12T13:04:49.696814Z",
     "start_time": "2021-10-12T13:04:49.690981Z"
    }
   },
   "source": [
    "### Step 2"
   ]
  },
  {
   "cell_type": "code",
   "execution_count": 31,
   "id": "32424837",
   "metadata": {
    "ExecuteTime": {
     "end_time": "2021-10-12T13:42:49.043337Z",
     "start_time": "2021-10-12T13:42:48.765773Z"
    }
   },
   "outputs": [],
   "source": [
    "# Request informations\n",
    "url = 'https://www2.hm.com/en_us/men/products/jeans.html'\n",
    "\n",
    "headers = {'User-Agent': 'Mozilla/5.0 (X11; Linux x86_64) AppleWebKit/537.36 (KHTML, like Gecko) Chrome/94.0.4606.81 Safari/537.36'}\n",
    "page = requests.get(url, headers=headers)\n",
    "\n",
    "# BeautifulSoup html page\n",
    "soup = BeautifulSoup(page.text, 'html.parser')"
   ]
  },
  {
   "cell_type": "code",
   "execution_count": 38,
   "id": "bb204a24",
   "metadata": {
    "ExecuteTime": {
     "end_time": "2021-10-12T13:46:14.289737Z",
     "start_time": "2021-10-12T13:46:14.283404Z"
    }
   },
   "outputs": [
    {
     "data": {
      "text/plain": [
       "84"
      ]
     },
     "execution_count": 38,
     "metadata": {},
     "output_type": "execute_result"
    }
   ],
   "source": [
    "total_items = int(soup.find('h2', class_ = 'load-more-heading').get('data-total'))\n",
    "total_items"
   ]
  },
  {
   "cell_type": "code",
   "execution_count": 40,
   "id": "988a6bde",
   "metadata": {
    "ExecuteTime": {
     "end_time": "2021-10-12T13:46:51.154453Z",
     "start_time": "2021-10-12T13:46:51.151896Z"
    }
   },
   "outputs": [
    {
     "data": {
      "text/plain": [
       "2"
      ]
     },
     "execution_count": 40,
     "metadata": {},
     "output_type": "execute_result"
    }
   ],
   "source": [
    "# How to round to upper number\n",
    "page_number = round(total_items / 36)\n",
    "page_number"
   ]
  },
  {
   "cell_type": "code",
   "execution_count": 43,
   "id": "9df03c8b",
   "metadata": {
    "ExecuteTime": {
     "end_time": "2021-10-12T13:50:08.202853Z",
     "start_time": "2021-10-12T13:50:08.197153Z"
    }
   },
   "outputs": [
    {
     "ename": "TypeError",
     "evalue": "_around_dispatcher() missing 1 required positional argument: 'a'",
     "output_type": "error",
     "traceback": [
      "\u001b[0;31m---------------------------------------------------------------------------\u001b[0m",
      "\u001b[0;31mTypeError\u001b[0m                                 Traceback (most recent call last)",
      "\u001b[0;32m/tmp/ipykernel_7988/3481669402.py\u001b[0m in \u001b[0;36m<module>\u001b[0;34m\u001b[0m\n\u001b[0;32m----> 1\u001b[0;31m \u001b[0mhelp\u001b[0m\u001b[0;34m(\u001b[0m\u001b[0mnp\u001b[0m\u001b[0;34m.\u001b[0m\u001b[0mround\u001b[0m\u001b[0;34m(\u001b[0m\u001b[0;34m)\u001b[0m\u001b[0;34m)\u001b[0m\u001b[0;34m\u001b[0m\u001b[0;34m\u001b[0m\u001b[0m\n\u001b[0m",
      "\u001b[0;32m<__array_function__ internals>\u001b[0m in \u001b[0;36mround_\u001b[0;34m(*args, **kwargs)\u001b[0m\n",
      "\u001b[0;31mTypeError\u001b[0m: _around_dispatcher() missing 1 required positional argument: 'a'"
     ]
    }
   ],
   "source": [
    "help(np.round())"
   ]
  }
 ],
 "metadata": {
  "kernelspec": {
   "display_name": "Python 3 (ipykernel)",
   "language": "python",
   "name": "python3"
  },
  "language_info": {
   "codemirror_mode": {
    "name": "ipython",
    "version": 3
   },
   "file_extension": ".py",
   "mimetype": "text/x-python",
   "name": "python",
   "nbconvert_exporter": "python",
   "pygments_lexer": "ipython3",
   "version": "3.8.10"
  },
  "toc": {
   "base_numbering": 1,
   "nav_menu": {},
   "number_sections": true,
   "sideBar": true,
   "skip_h1_title": false,
   "title_cell": "Table of Contents",
   "title_sidebar": "Contents",
   "toc_cell": false,
   "toc_position": {
    "height": "578.4px",
    "left": "34px",
    "top": "69.8px",
    "width": "307.2px"
   },
   "toc_section_display": true,
   "toc_window_display": true
  }
 },
 "nbformat": 4,
 "nbformat_minor": 5
}
